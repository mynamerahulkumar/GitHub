{
 "cells": [
  {
   "cell_type": "code",
   "execution_count": 3,
   "metadata": {},
   "outputs": [],
   "source": [
    "from boilerpy3 import extractors\n"
   ]
  },
  {
   "cell_type": "code",
   "execution_count": 5,
   "metadata": {},
   "outputs": [],
   "source": [
    "#get content from URL\n",
    "extractor=extractors.ArticleExtractor()\n",
    "content = extractor.get_content_from_url('https://www.abc.net.au/news/2020-03-13/important-health-information-about-coronavirus/12053410')\n"
   ]
  },
  {
   "cell_type": "code",
   "execution_count": 9,
   "metadata": {},
   "outputs": [
    {
     "data": {
      "text/plain": [
       "\"Important coronavirus information from the Department of Health\\nUpdated March 31, 2020 14:57:52\\nThe ABC will provide the latest news about the virus, updates from medical experts and leading public health advisors.\\nThe best advice is to follow these steps to help slow the spread of the virus and to reduce the risk of infection:\\nWash your hands with soap and water regularly and thoroughly; this means for at least 20 seconds\\nCough or sneeze into your elbow or into a clean tissue, then throw the tissue in the bin\\nStay 1.5 metres away from others. If you are sick, stay home\\nIf you're feeling sick or showing symptoms of coronavirus , you should call your GP for advice — they will tell you if you need to get tested\\nFor more information and tips to help improve your safety and wellbeing, visit the Federal Government's official advice website\\nYou can also get up-to-date information on the Federal Government's Coronavirus Australia app, available on the App Store , Google Play and the Government's WhatsApp channel\\nYour questions on coronavirus answered:\\n\""
      ]
     },
     "execution_count": 9,
     "metadata": {},
     "output_type": "execute_result"
    }
   ],
   "source": [
    "content"
   ]
  },
  {
   "cell_type": "code",
   "execution_count": null,
   "metadata": {},
   "outputs": [],
   "source": []
  }
 ],
 "metadata": {
  "kernelspec": {
   "display_name": "Python 3",
   "language": "python",
   "name": "python3"
  },
  "language_info": {
   "codemirror_mode": {
    "name": "ipython",
    "version": 3
   },
   "file_extension": ".py",
   "mimetype": "text/x-python",
   "name": "python",
   "nbconvert_exporter": "python",
   "pygments_lexer": "ipython3",
   "version": "3.7.6"
  }
 },
 "nbformat": 4,
 "nbformat_minor": 4
}
