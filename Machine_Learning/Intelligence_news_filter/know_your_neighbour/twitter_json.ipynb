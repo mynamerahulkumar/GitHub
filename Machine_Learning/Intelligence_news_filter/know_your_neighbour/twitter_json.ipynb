{
 "cells": [
  {
   "cell_type": "code",
   "execution_count": 5,
   "metadata": {
    "scrolled": true
   },
   "outputs": [],
   "source": [
    "key_file='/Users/rahul/Documents/twitter/private_keys_developer/twitter_keys.txt'\n",
    "try:\n",
    "    file= open(key_file,'r')\n",
    "    key_dic={}\n",
    "    for f in file.readlines():\n",
    "        if f!='\\n':\n",
    "            f=f.replace('\\n','')\n",
    "            key_value=f.split(':')\n",
    "            key_dic[key_value[0]]=key_value[1]\n",
    "except IOError as e:\n",
    "    print('File reading error',e)\n",
    "        "
   ]
  },
  {
   "cell_type": "code",
   "execution_count": 6,
   "metadata": {},
   "outputs": [],
   "source": [
    "try:\n",
    "    tweets_data_path = \"twitter_data.txt\"  \n",
    "    tweets_file=open(tweets_data_path,'w')\n",
    "except IOError as e:\n",
    "    print(e)"
   ]
  },
  {
   "cell_type": "code",
   "execution_count": 7,
   "metadata": {},
   "outputs": [
    {
     "name": "stdout",
     "output_type": "stream",
     "text": [
      "{\"created_at\":\"Wed Apr 08 21:58:01 +0000 2020\",\"id\":1248007212720484352,\"id_str\":\"1248007212720484352\",\"text\":\"RT @LiveLawIndia: In a significant order, the Supreme Court on Wednesday directed the Union Ministry of Health and Family Welfare to ensure\\u2026\",\"source\":\"\\u003ca href=\\\"http:\\/\\/twitter.com\\/download\\/android\\\" rel=\\\"nofollow\\\"\\u003eTwitter for Android\\u003c\\/a\\u003e\",\"truncated\":false,\"in_reply_to_status_id\":null,\"in_reply_to_status_id_str\":null,\"in_reply_to_user_id\":null,\"in_reply_to_user_id_str\":null,\"in_reply_to_screen_name\":null,\"user\":{\"id\":1313092405,\"id_str\":\"1313092405\",\"name\":\"sumukh\",\"screen_name\":\"gangansumukh198\",\"location\":\"india,mumbai \",\"url\":null,\"description\":\"whts #your# looking# at# just# follow$$$\",\"translator_type\":\"none\",\"protected\":false,\"verified\":false,\"followers_count\":57,\"friends_count\":1209,\"listed_count\":0,\"favourites_count\":698,\"statuses_count\":256,\"created_at\":\"Fri Mar 29 08:37:39 +0000 2013\",\"utc_offset\":null,\"time_zone\":null,\"geo_enabled\":false,\"lang\":null,\"contributors_enabled\":false,\"is_translator\":false,\"profile_background_color\":\"C0DEED\",\"profile_background_image_url\":\"http:\\/\\/abs.twimg.com\\/images\\/themes\\/theme1\\/bg.png\",\"profile_background_image_url_https\":\"https:\\/\\/abs.twimg.com\\/images\\/themes\\/theme1\\/bg.png\",\"profile_background_tile\":false,\"profile_link_color\":\"6200B3\",\"profile_sidebar_border_color\":\"C0DEED\",\"profile_sidebar_fill_color\":\"DDEEF6\",\"profile_text_color\":\"333333\",\"profile_use_background_image\":true,\"profile_image_url\":\"http:\\/\\/pbs.twimg.com\\/profile_images\\/1005856706864312322\\/d6UMnv_x_normal.jpg\",\"profile_image_url_https\":\"https:\\/\\/pbs.twimg.com\\/profile_images\\/1005856706864312322\\/d6UMnv_x_normal.jpg\",\"profile_banner_url\":\"https:\\/\\/pbs.twimg.com\\/profile_banners\\/1313092405\\/1520577454\",\"default_profile\":false,\"default_profile_image\":false,\"following\":null,\"follow_request_sent\":null,\"notifications\":null},\"geo\":null,\"coordinates\":null,\"place\":null,\"contributors\":null,\"retweeted_status\":{\"created_at\":\"Wed Apr 08 15:53:01 +0000 2020\",\"id\":1247915357836279810,\"id_str\":\"1247915357836279810\",\"text\":\"In a significant order, the Supreme Court on Wednesday directed the Union Ministry of Health and Family Welfare to\\u2026 https:\\/\\/t.co\\/3zVbE8EEBZ\",\"display_text_range\":[0,140],\"source\":\"\\u003ca href=\\\"https:\\/\\/mobile.twitter.com\\\" rel=\\\"nofollow\\\"\\u003eTwitter Web App\\u003c\\/a\\u003e\",\"truncated\":true,\"in_reply_to_status_id\":null,\"in_reply_to_status_id_str\":null,\"in_reply_to_user_id\":null,\"in_reply_to_user_id_str\":null,\"in_reply_to_screen_name\":null,\"user\":{\"id\":1255161552,\"id_str\":\"1255161552\",\"name\":\"Live Law\",\"screen_name\":\"LiveLawIndia\",\"location\":\"India\",\"url\":\"http:\\/\\/www.livelaw.in\",\"description\":\"World's No.1 Legal News Website In Terms Of Traffic And Content. \\nSupport Us here http:\\/\\/livelaw.in\\/subscription\\nVisit Our Channel: https:\\/\\/bit.ly\\/2XrjUHw\",\"translator_type\":\"none\",\"protected\":false,\"verified\":false,\"followers_count\":124977,\"friends_count\":1154,\"listed_count\":571,\"favourites_count\":4008,\"statuses_count\":106343,\"created_at\":\"Sat Mar 09 19:22:30 +0000 2013\",\"utc_offset\":null,\"time_zone\":null,\"geo_enabled\":false,\"lang\":null,\"contributors_enabled\":false,\"is_translator\":false,\"profile_background_color\":\"000000\",\"profile_background_image_url\":\"http:\\/\\/abs.twimg.com\\/images\\/themes\\/theme1\\/bg.png\",\"profile_background_image_url_https\":\"https:\\/\\/abs.twimg.com\\/images\\/themes\\/theme1\\/bg.png\",\"profile_background_tile\":false,\"profile_link_color\":\"A30000\",\"profile_sidebar_border_color\":\"000000\",\"profile_sidebar_fill_color\":\"000000\",\"profile_text_color\":\"000000\",\"profile_use_background_image\":false,\"profile_image_url\":\"http:\\/\\/pbs.twimg.com\\/profile_images\\/897707258334916608\\/nMQWwGlo_normal.jpg\",\"profile_image_url_https\":\"https:\\/\\/pbs.twimg.com\\/profile_images\\/897707258334916608\\/nMQWwGlo_normal.jpg\",\"profile_banner_url\":\"https:\\/\\/pbs.twimg.com\\/profile_banners\\/1255161552\\/1575378079\",\"default_profile\":false,\"default_profile_image\":false,\"following\":null,\"follow_request_sent\":null,\"notifications\":null},\"geo\":null,\"coordinates\":null,\"place\":null,\"contributors\":null,\"is_quote_status\":false,\"extended_tweet\":{\"full_text\":\"In a significant order, the Supreme Court on Wednesday directed the Union Ministry of Health and Family Welfare to ensure the availability of appropriate Personal Protective Equipments to health workers treating #COVID19 patients...\\nRead Order: https:\\/\\/t.co\\/tTJ3MQGS0h\\n#COVID https:\\/\\/t.co\\/OyojrZHroZ\",\"display_text_range\":[0,275],\"entities\":{\"hashtags\":[{\"text\":\"COVID19\",\"indices\":[212,220]},{\"text\":\"COVID\",\"indices\":[269,275]}],\"urls\":[{\"url\":\"https:\\/\\/t.co\\/tTJ3MQGS0h\",\"expanded_url\":\"https:\\/\\/bit.ly\\/2UTRgiQ\",\"display_url\":\"bit.ly\\/2UTRgiQ\",\"indices\":[245,268]}],\"user_mentions\":[],\"symbols\":[],\"media\":[{\"id\":1247914652316696578,\"id_str\":\"1247914652316696578\",\"indices\":[276,299],\"media_url\":\"http:\\/\\/pbs.twimg.com\\/media\\/EVF7w7lXgAIU85t.jpg\",\"media_url_https\":\"https:\\/\\/pbs.twimg.com\\/media\\/EVF7w7lXgAIU85t.jpg\",\"url\":\"https:\\/\\/t.co\\/OyojrZHroZ\",\"display_url\":\"pic.twitter.com\\/OyojrZHroZ\",\"expanded_url\":\"https:\\/\\/twitter.com\\/LiveLawIndia\\/status\\/1247915357836279810\\/photo\\/1\",\"type\":\"photo\",\"sizes\":{\"thumb\":{\"w\":150,\"h\":150,\"resize\":\"crop\"},\"large\":{\"w\":750,\"h\":375,\"resize\":\"fit\"},\"medium\":{\"w\":750,\"h\":375,\"resize\":\"fit\"},\"small\":{\"w\":680,\"h\":340,\"resize\":\"fit\"}}}]},\"extended_entities\":{\"media\":[{\"id\":1247914652316696578,\"id_str\":\"1247914652316696578\",\"indices\":[276,299],\"media_url\":\"http:\\/\\/pbs.twimg.com\\/media\\/EVF7w7lXgAIU85t.jpg\",\"media_url_https\":\"https:\\/\\/pbs.twimg.com\\/media\\/EVF7w7lXgAIU85t.jpg\",\"url\":\"https:\\/\\/t.co\\/OyojrZHroZ\",\"display_url\":\"pic.twitter.com\\/OyojrZHroZ\",\"expanded_url\":\"https:\\/\\/twitter.com\\/LiveLawIndia\\/status\\/1247915357836279810\\/photo\\/1\",\"type\":\"photo\",\"sizes\":{\"thumb\":{\"w\":150,\"h\":150,\"resize\":\"crop\"},\"large\":{\"w\":750,\"h\":375,\"resize\":\"fit\"},\"medium\":{\"w\":750,\"h\":375,\"resize\":\"fit\"},\"small\":{\"w\":680,\"h\":340,\"resize\":\"fit\"}}}]}},\"quote_count\":1,\"reply_count\":0,\"retweet_count\":13,\"favorite_count\":28,\"entities\":{\"hashtags\":[],\"urls\":[{\"url\":\"https:\\/\\/t.co\\/3zVbE8EEBZ\",\"expanded_url\":\"https:\\/\\/twitter.com\\/i\\/web\\/status\\/1247915357836279810\",\"display_url\":\"twitter.com\\/i\\/web\\/status\\/1\\u2026\",\"indices\":[116,139]}],\"user_mentions\":[],\"symbols\":[]},\"favorited\":false,\"retweeted\":false,\"possibly_sensitive\":false,\"filter_level\":\"low\",\"lang\":\"en\"},\"is_quote_status\":false,\"quote_count\":0,\"reply_count\":0,\"retweet_count\":0,\"favorite_count\":0,\"entities\":{\"hashtags\":[],\"urls\":[],\"user_mentions\":[{\"screen_name\":\"LiveLawIndia\",\"name\":\"Live Law\",\"id\":1255161552,\"id_str\":\"1255161552\",\"indices\":[3,16]}],\"symbols\":[]},\"favorited\":false,\"retweeted\":false,\"filter_level\":\"low\",\"lang\":\"en\",\"timestamp_ms\":\"1586383081022\"}\r\n",
      "\n",
      "{\"created_at\":\"Wed Apr 08 21:58:01 +0000 2020\",\"id\":1248007212670185472,\"id_str\":\"1248007212670185472\",\"text\":\"RT @jo_aale: @jbd2dms @JulietteEtVous @gouvernementFR https:\\/\\/t.co\\/wjYK8kcz4s\",\"source\":\"\\u003ca href=\\\"https:\\/\\/mobile.twitter.com\\\" rel=\\\"nofollow\\\"\\u003eTwitter Web App\\u003c\\/a\\u003e\",\"truncated\":false,\"in_reply_to_status_id\":null,\"in_reply_to_status_id_str\":null,\"in_reply_to_user_id\":null,\"in_reply_to_user_id_str\":null,\"in_reply_to_screen_name\":null,\"user\":{\"id\":540833086,\"id_str\":\"540833086\",\"name\":\"TARCO MARCELINE\",\"screen_name\":\"tumegonfle\",\"location\":\"RHONE ALPES\",\"url\":null,\"description\":null,\"translator_type\":\"none\",\"protected\":false,\"verified\":false,\"followers_count\":108,\"friends_count\":636,\"listed_count\":1,\"favourites_count\":2709,\"statuses_count\":3354,\"created_at\":\"Fri Mar 30 13:49:44 +0000 2012\",\"utc_offset\":null,\"time_zone\":null,\"geo_enabled\":true,\"lang\":null,\"contributors_enabled\":false,\"is_translator\":false,\"profile_background_color\":\"642D8B\",\"profile_background_image_url\":\"http:\\/\\/abs.twimg.com\\/images\\/themes\\/theme10\\/bg.gif\",\"profile_background_image_url_https\":\"https:\\/\\/abs.twimg.com\\/images\\/themes\\/theme10\\/bg.gif\",\"profile_background_tile\":true,\"profile_link_color\":\"FF0000\",\"profile_sidebar_border_color\":\"65B0DA\",\"profile_sidebar_fill_color\":\"7AC3EE\",\"profile_text_color\":\"3D1957\",\"profile_use_background_image\":true,\"profile_image_url\":\"http:\\/\\/abs.twimg.com\\/sticky\\/default_profile_images\\/default_profile_normal.png\",\"profile_image_url_https\":\"https:\\/\\/abs.twimg.com\\/sticky\\/default_profile_images\\/default_profile_normal.png\",\"default_profile\":false,\"default_profile_image\":false,\"following\":null,\"follow_request_sent\":null,\"notifications\":null},\"geo\":null,\"coordinates\":null,\"place\":null,\"contributors\":null,\"retweeted_status\":{\"created_at\":\"Wed Apr 08 14:12:22 +0000 2020\",\"id\":1247890030795739136,\"id_str\":\"1247890030795739136\",\"text\":\"@jbd2dms @JulietteEtVous @gouvernementFR https:\\/\\/t.co\\/wjYK8kcz4s\",\"display_text_range\":[41,64],\"source\":\"\\u003ca href=\\\"http:\\/\\/twitter.com\\/download\\/iphone\\\" rel=\\\"nofollow\\\"\\u003eTwitter for iPhone\\u003c\\/a\\u003e\",\"truncated\":false,\"in_reply_to_status_id\":1247861306419445761,\"in_reply_to_status_id_str\":\"1247861306419445761\",\"in_reply_to_user_id\":1339835282,\"in_reply_to_user_id_str\":\"1339835282\",\"in_reply_to_screen_name\":\"jbd2dms\",\"user\":{\"id\":2950961477,\"id_str\":\"2950961477\",\"name\":\"jo\",\"screen_name\":\"jo_aale\",\"location\":null,\"url\":null,\"description\":null,\"translator_type\":\"none\",\"protected\":false,\"verified\":false,\"followers_count\":110,\"friends_count\":269,\"listed_count\":0,\"favourites_count\":16213,\"statuses_count\":15650,\"created_at\":\"Tue Dec 30 11:01:25 +0000 2014\",\"utc_offset\":null,\"time_zone\":null,\"geo_enabled\":false,\"lang\":null,\"contributors_enabled\":false,\"is_translator\":false,\"profile_background_color\":\"C0DEED\",\"profile_background_image_url\":\"http:\\/\\/abs.twimg.com\\/images\\/themes\\/theme1\\/bg.png\",\"profile_background_image_url_https\":\"https:\\/\\/abs.twimg.com\\/images\\/themes\\/theme1\\/bg.png\",\"profile_background_tile\":false,\"profile_link_color\":\"1DA1F2\",\"profile_sidebar_border_color\":\"C0DEED\",\"profile_sidebar_fill_color\":\"DDEEF6\",\"profile_text_color\":\"333333\",\"profile_use_background_image\":true,\"profile_image_url\":\"http:\\/\\/abs.twimg.com\\/sticky\\/default_profile_images\\/default_profile_normal.png\",\"profile_image_url_https\":\"https:\\/\\/abs.twimg.com\\/sticky\\/default_profile_images\\/default_profile_normal.png\",\"default_profile\":true,\"default_profile_image\":false,\"following\":null,\"follow_request_sent\":null,\"notifications\":null},\"geo\":null,\"coordinates\":null,\"place\":null,\"contributors\":null,\"quoted_status_id\":1247859411059716096,\"quoted_status_id_str\":\"1247859411059716096\",\"quoted_status\":{\"created_at\":\"Wed Apr 08 12:10:42 +0000 2020\",\"id\":1247859411059716096,\"id_str\":\"1247859411059716096\",\"text\":\"@JulietteEtVous @gouvernementFR Les premiers cas remonteraient \\u00e0 d\\u00e9cembre en Alsace... \\nhttps:\\/\\/t.co\\/gmVC3lNGTK #Covid19\",\"display_text_range\":[32,120],\"source\":\"\\u003ca href=\\\"https:\\/\\/mobile.twitter.com\\\" rel=\\\"nofollow\\\"\\u003eTwitter Web App\\u003c\\/a\\u003e\",\"truncated\":false,\"in_reply_to_status_id\":1247846546428887040,\"in_reply_to_status_id_str\":\"1247846546428887040\",\"in_reply_to_user_id\":787717408664522752,\"in_reply_to_user_id_str\":\"787717408664522752\",\"in_reply_to_screen_name\":\"JulietteEtVous\",\"user\":{\"id\":402100590,\"id_str\":\"402100590\",\"name\":\"Gryphe  \\u0646 \\ud83c\\udf3f\\ud83d\\ude82\",\"screen_name\":\"_Gryphe_\",\"location\":null,\"url\":null,\"description\":\"\\u00c9ducation nationale - \\u00c9l\\u00e8ves - Syst\\u00e8me \\u00e9ducatif - Coll\\u00e8ge - Droit de l'\\u00e9cole - Fonction publique - Syndicalisme - Fait religieux - \\u00c9cologie. Compte personnel.\",\"translator_type\":\"none\",\"protected\":false,\"verified\":false,\"followers_count\":1211,\"friends_count\":920,\"listed_count\":97,\"favourites_count\":41948,\"statuses_count\":33998,\"created_at\":\"Mon Oct 31 15:08:54 +0000 2011\",\"utc_offset\":null,\"time_zone\":null,\"geo_enabled\":false,\"lang\":null,\"contributors_enabled\":false,\"is_translator\":false,\"profile_background_color\":\"000000\",\"profile_background_image_url\":\"http:\\/\\/abs.twimg.com\\/images\\/themes\\/theme13\\/bg.gif\",\"profile_background_image_url_https\":\"https:\\/\\/abs.twimg.com\\/images\\/themes\\/theme13\\/bg.gif\",\"profile_background_tile\":false,\"profile_link_color\":\"1B95E0\",\"profile_sidebar_border_color\":\"000000\",\"profile_sidebar_fill_color\":\"000000\",\"profile_text_color\":\"000000\",\"profile_use_background_image\":false,\"profile_image_url\":\"http:\\/\\/pbs.twimg.com\\/profile_images\\/1231202691529003008\\/OpAcnEZY_normal.jpg\",\"profile_image_url_https\":\"https:\\/\\/pbs.twimg.com\\/profile_images\\/1231202691529003008\\/OpAcnEZY_normal.jpg\",\"default_profile\":false,\"default_profile_image\":false,\"following\":null,\"follow_request_sent\":null,\"notifications\":null},\"geo\":null,\"coordinates\":null,\"place\":null,\"contributors\":null,\"is_quote_status\":false,\"quote_count\":2,\"reply_count\":1,\"retweet_count\":4,\"favorite_count\":3,\"entities\":{\"hashtags\":[{\"text\":\"Covid19\",\"indices\":[112,120]}],\"urls\":[{\"url\":\"https:\\/\\/t.co\\/gmVC3lNGTK\",\"expanded_url\":\"https:\\/\\/lilianeheldkhawam.com\\/2020\\/03\\/28\\/un-habitant-de-colmar-teste-positif-au-covid-19-en-decembre-2019-temoignage-audio\\/\",\"display_url\":\"lilianeheldkhawam.com\\/2020\\/03\\/28\\/un-\\u2026\",\"indices\":[88,111]}],\"user_mentions\":[{\"screen_name\":\"JulietteEtVous\",\"name\":\"Juliette\",\"id\":787717408664522752,\"id_str\":\"787717408664522752\",\"indices\":[0,15]},{\"screen_name\":\"gouvernementFR\",\"name\":\"Gouvernement\",\"id\":951480480,\"id_str\":\"951480480\",\"indices\":[16,31]}],\"symbols\":[]},\"favorited\":false,\"retweeted\":false,\"possibly_sensitive\":false,\"filter_level\":\"low\",\"lang\":\"fr\"},\"quoted_status_permalink\":{\"url\":\"https:\\/\\/t.co\\/wjYK8kcz4s\",\"expanded\":\"https:\\/\\/twitter.com\\/_gryphe_\\/status\\/1247859411059716096?s=21\",\"display\":\"twitter.com\\/_gryphe_\\/statu\\u2026\"},\"is_quote_status\":true,\"quote_count\":0,\"reply_count\":0,\"retweet_count\":1,\"favorite_count\":0,\"entities\":{\"hashtags\":[],\"urls\":[{\"url\":\"https:\\/\\/t.co\\/wjYK8kcz4s\",\"expanded_url\":\"https:\\/\\/twitter.com\\/_gryphe_\\/status\\/1247859411059716096?s=21\",\"display_url\":\"twitter.com\\/_gryphe_\\/statu\\u2026\",\"indices\":[41,64]}],\"user_mentions\":[{\"screen_name\":\"jbd2dms\",\"name\":\"JB # 6458, survivant canicules 1976 \\u00e0 2019 inclus\",\"id\":1339835282,\"id_str\":\"1339835282\",\"indices\":[0,8]},{\"screen_name\":\"JulietteEtVous\",\"name\":\"Juliette\",\"id\":787717408664522752,\"id_str\":\"787717408664522752\",\"indices\":[9,24]},{\"screen_name\":\"gouvernementFR\",\"name\":\"Gouvernement\",\"id\":951480480,\"id_str\":\"951480480\",\"indices\":[25,40]}],\"symbols\":[]},\"favorited\":false,\"retweeted\":false,\"possibly_sensitive\":false,\"filter_level\":\"low\",\"lang\":\"und\"},\"quoted_status_id\":1247859411059716096,\"quoted_status_id_str\":\"1247859411059716096\",\"quoted_status\":{\"created_at\":\"Wed Apr 08 12:10:42 +0000 2020\",\"id\":1247859411059716096,\"id_str\":\"1247859411059716096\",\"text\":\"@JulietteEtVous @gouvernementFR Les premiers cas remonteraient \\u00e0 d\\u00e9cembre en Alsace... \\nhttps:\\/\\/t.co\\/gmVC3lNGTK #Covid19\",\"display_text_range\":[32,120],\"source\":\"\\u003ca href=\\\"https:\\/\\/mobile.twitter.com\\\" rel=\\\"nofollow\\\"\\u003eTwitter Web App\\u003c\\/a\\u003e\",\"truncated\":false,\"in_reply_to_status_id\":1247846546428887040,\"in_reply_to_status_id_str\":\"1247846546428887040\",\"in_reply_to_user_id\":787717408664522752,\"in_reply_to_user_id_str\":\"787717408664522752\",\"in_reply_to_screen_name\":\"JulietteEtVous\",\"user\":{\"id\":402100590,\"id_str\":\"402100590\",\"name\":\"Gryphe  \\u0646 \\ud83c\\udf3f\\ud83d\\ude82\",\"screen_name\":\"_Gryphe_\",\"location\":null,\"url\":null,\"description\":\"\\u00c9ducation nationale - \\u00c9l\\u00e8ves - Syst\\u00e8me \\u00e9ducatif - Coll\\u00e8ge - Droit de l'\\u00e9cole - Fonction publique - Syndicalisme - Fait religieux - \\u00c9cologie. Compte personnel.\",\"translator_type\":\"none\",\"protected\":false,\"verified\":false,\"followers_count\":1211,\"friends_count\":920,\"listed_count\":97,\"favourites_count\":41948,\"statuses_count\":33998,\"created_at\":\"Mon Oct 31 15:08:54 +0000 2011\",\"utc_offset\":null,\"time_zone\":null,\"geo_enabled\":false,\"lang\":null,\"contributors_enabled\":false,\"is_translator\":false,\"profile_background_color\":\"000000\",\"profile_background_image_url\":\"http:\\/\\/abs.twimg.com\\/images\\/themes\\/theme13\\/bg.gif\",\"profile_background_image_url_https\":\"https:\\/\\/abs.twimg.com\\/images\\/themes\\/theme13\\/bg.gif\",\"profile_background_tile\":false,\"profile_link_color\":\"1B95E0\",\"profile_sidebar_border_color\":\"000000\",\"profile_sidebar_fill_color\":\"000000\",\"profile_text_color\":\"000000\",\"profile_use_background_image\":false,\"profile_image_url\":\"http:\\/\\/pbs.twimg.com\\/profile_images\\/1231202691529003008\\/OpAcnEZY_normal.jpg\",\"profile_image_url_https\":\"https:\\/\\/pbs.twimg.com\\/profile_images\\/1231202691529003008\\/OpAcnEZY_normal.jpg\",\"default_profile\":false,\"default_profile_image\":false,\"following\":null,\"follow_request_sent\":null,\"notifications\":null},\"geo\":null,\"coordinates\":null,\"place\":null,\"contributors\":null,\"is_quote_status\":false,\"quote_count\":2,\"reply_count\":1,\"retweet_count\":4,\"favorite_count\":3,\"entities\":{\"hashtags\":[{\"text\":\"Covid19\",\"indices\":[112,120]}],\"urls\":[{\"url\":\"https:\\/\\/t.co\\/gmVC3lNGTK\",\"expanded_url\":\"https:\\/\\/lilianeheldkhawam.com\\/2020\\/03\\/28\\/un-habitant-de-colmar-teste-positif-au-covid-19-en-decembre-2019-temoignage-audio\\/\",\"display_url\":\"lilianeheldkhawam.com\\/2020\\/03\\/28\\/un-\\u2026\",\"indices\":[88,111]}],\"user_mentions\":[{\"screen_name\":\"JulietteEtVous\",\"name\":\"Juliette\",\"id\":787717408664522752,\"id_str\":\"787717408664522752\",\"indices\":[0,15]},{\"screen_name\":\"gouvernementFR\",\"name\":\"Gouvernement\",\"id\":951480480,\"id_str\":\"951480480\",\"indices\":[16,31]}],\"symbols\":[]},\"favorited\":false,\"retweeted\":false,\"possibly_sensitive\":false,\"filter_level\":\"low\",\"lang\":\"fr\"},\"quoted_status_permalink\":{\"url\":\"https:\\/\\/t.co\\/wjYK8kcz4s\",\"expanded\":\"https:\\/\\/twitter.com\\/_gryphe_\\/status\\/1247859411059716096?s=21\",\"display\":\"twitter.com\\/_gryphe_\\/statu\\u2026\"},\"is_quote_status\":true,\"quote_count\":0,\"reply_count\":0,\"retweet_count\":0,\"favorite_count\":0,\"entities\":{\"hashtags\":[],\"urls\":[{\"url\":\"https:\\/\\/t.co\\/wjYK8kcz4s\",\"expanded_url\":\"https:\\/\\/twitter.com\\/_gryphe_\\/status\\/1247859411059716096?s=21\",\"display_url\":\"twitter.com\\/_gryphe_\\/statu\\u2026\",\"indices\":[54,77]}],\"user_mentions\":[{\"screen_name\":\"jo_aale\",\"name\":\"jo\",\"id\":2950961477,\"id_str\":\"2950961477\",\"indices\":[3,11]},{\"screen_name\":\"jbd2dms\",\"name\":\"JB # 6458, survivant canicules 1976 \\u00e0 2019 inclus\",\"id\":1339835282,\"id_str\":\"1339835282\",\"indices\":[13,21]},{\"screen_name\":\"JulietteEtVous\",\"name\":\"Juliette\",\"id\":787717408664522752,\"id_str\":\"787717408664522752\",\"indices\":[22,37]},{\"screen_name\":\"gouvernementFR\",\"name\":\"Gouvernement\",\"id\":951480480,\"id_str\":\"951480480\",\"indices\":[38,53]}],\"symbols\":[]},\"favorited\":false,\"retweeted\":false,\"possibly_sensitive\":false,\"filter_level\":\"low\",\"lang\":\"und\",\"timestamp_ms\":\"1586383081010\"}\r\n",
      "\n",
      "{\"created_at\":\"Wed Apr 08 21:57:56 +0000 2020\",\"id\":1248007194362044417,\"id_str\":\"1248007194362044417\",\"text\":\"RT @AgForestryVA: We appreciate all our farmers &amp; Farmers\\u2019 Markets are doing to provide healthy, nutritious food to families across VA!\",\"source\":\"\\u003ca href=\\\"http:\\/\\/twitter.com\\/download\\/android\\\" rel=\\\"nofollow\\\"\\u003eTwitter for Android\\u003c\\/a\\u003e\",\"truncated\":false,\"in_reply_to_status_id\":null,\"in_reply_to_status_id_str\":null,\"in_reply_to_user_id\":null,\"in_reply_to_user_id_str\":null,\"in_reply_to_screen_name\":null,\"user\":{\"id\":550189825,\"id_str\":\"550189825\",\"name\":\"RRRC (PD9)\",\"screen_name\":\"RRRegion\",\"location\":\"Culpeper, VA\",\"url\":\"http:\\/\\/www.rrregion.org\",\"description\":\"Rappahannock-Rapidan Regional Commission. Providing collaborative planning and technical support to our 13 member jurisdictions since 1973.\",\"translator_type\":\"none\",\"protected\":false,\"verified\":false,\"followers_count\":99,\"friends_count\":178,\"listed_count\":3,\"favourites_count\":347,\"statuses_count\":305,\"created_at\":\"Tue Apr 10 15:12:41 +0000 2012\",\"utc_offset\":null,\"time_zone\":null,\"geo_enabled\":false,\"lang\":null,\"contributors_enabled\":false,\"is_translator\":false,\"profile_background_color\":\"C0DEED\",\"profile_background_image_url\":\"http:\\/\\/abs.twimg.com\\/images\\/themes\\/theme1\\/bg.png\",\"profile_background_image_url_https\":\"https:\\/\\/abs.twimg.com\\/images\\/themes\\/theme1\\/bg.png\",\"profile_background_tile\":false,\"profile_link_color\":\"1DA1F2\",\"profile_sidebar_border_color\":\"C0DEED\",\"profile_sidebar_fill_color\":\"DDEEF6\",\"profile_text_color\":\"333333\",\"profile_use_background_image\":true,\"profile_image_url\":\"http:\\/\\/pbs.twimg.com\\/profile_images\\/2085845844\\/RRRC_Logo_normal.png\",\"profile_image_url_https\":\"https:\\/\\/pbs.twimg.com\\/profile_images\\/2085845844\\/RRRC_Logo_normal.png\",\"profile_banner_url\":\"https:\\/\\/pbs.twimg.com\\/profile_banners\\/550189825\\/1491568038\",\"default_profile\":true,\"default_profile_image\":false,\"following\":null,\"follow_request_sent\":null,\"notifications\":null},\"geo\":null,\"coordinates\":null,\"place\":null,\"contributors\":null,\"retweeted_status\":{\"created_at\":\"Wed Apr 08 21:27:38 +0000 2020\",\"id\":1247999567531933696,\"id_str\":\"1247999567531933696\",\"text\":\"We appreciate all our farmers &amp; Farmers\\u2019 Markets are doing to provide healthy, nutritious food to families across V\\u2026 https:\\/\\/t.co\\/09npNUIv5T\",\"source\":\"\\u003ca href=\\\"http:\\/\\/twitter.com\\/download\\/iphone\\\" rel=\\\"nofollow\\\"\\u003eTwitter for iPhone\\u003c\\/a\\u003e\",\"truncated\":true,\"in_reply_to_status_id\":null,\"in_reply_to_status_id_str\":null,\"in_reply_to_user_id\":null,\"in_reply_to_user_id_str\":null,\"in_reply_to_screen_name\":null,\"user\":{\"id\":773525555367014400,\"id_str\":\"773525555367014400\",\"name\":\"Bettina Ring\",\"screen_name\":\"AgForestryVA\",\"location\":\"Richmond, VA\",\"url\":\"http:\\/\\/ag-forestry.virginia.gov\",\"description\":\"4th Virginia Secretary of Agriculture and Forestry - advocating for two of Virginia's largest industries with @GovernorVA\",\"translator_type\":\"none\",\"protected\":false,\"verified\":false,\"followers_count\":1943,\"friends_count\":906,\"listed_count\":22,\"favourites_count\":1508,\"statuses_count\":729,\"created_at\":\"Wed Sep 07 14:17:18 +0000 2016\",\"utc_offset\":null,\"time_zone\":null,\"geo_enabled\":true,\"lang\":null,\"contributors_enabled\":false,\"is_translator\":false,\"profile_background_color\":\"000000\",\"profile_background_image_url\":\"http:\\/\\/abs.twimg.com\\/images\\/themes\\/theme1\\/bg.png\",\"profile_background_image_url_https\":\"https:\\/\\/abs.twimg.com\\/images\\/themes\\/theme1\\/bg.png\",\"profile_background_tile\":false,\"profile_link_color\":\"19CF86\",\"profile_sidebar_border_color\":\"000000\",\"profile_sidebar_fill_color\":\"000000\",\"profile_text_color\":\"000000\",\"profile_use_background_image\":false,\"profile_image_url\":\"http:\\/\\/pbs.twimg.com\\/profile_images\\/963825069461065728\\/5uw_XoXI_normal.jpg\",\"profile_image_url_https\":\"https:\\/\\/pbs.twimg.com\\/profile_images\\/963825069461065728\\/5uw_XoXI_normal.jpg\",\"profile_banner_url\":\"https:\\/\\/pbs.twimg.com\\/profile_banners\\/773525555367014400\\/1517351527\",\"default_profile\":false,\"default_profile_image\":false,\"following\":null,\"follow_request_sent\":null,\"notifications\":null},\"geo\":null,\"coordinates\":null,\"place\":null,\"contributors\":null,\"quoted_status_id\":1247994228203876353,\"quoted_status_id_str\":\"1247994228203876353\",\"quoted_status\":{\"created_at\":\"Wed Apr 08 21:06:25 +0000 2020\",\"id\":1247994228203876353,\"id_str\":\"1247994228203876353\",\"text\":\"Are farmers' markets allowed to operate during the #COVID19 outbreak? We answered this and other questions in the n\\u2026 https:\\/\\/t.co\\/x7SgKxjtTH\",\"display_text_range\":[0,140],\"source\":\"\\u003ca href=\\\"https:\\/\\/www.hootsuite.com\\\" rel=\\\"nofollow\\\"\\u003eHootsuite Inc.\\u003c\\/a\\u003e\",\"truncated\":true,\"in_reply_to_status_id\":null,\"in_reply_to_status_id_str\":null,\"in_reply_to_user_id\":null,\"in_reply_to_user_id_str\":null,\"in_reply_to_screen_name\":null,\"user\":{\"id\":112710287,\"id_str\":\"112710287\",\"name\":\"VDACS\",\"screen_name\":\"VaAgriculture\",\"location\":\"Richmond, VA\",\"url\":\"http:\\/\\/www.vdacs.virginia.gov\",\"description\":\"Bringing you news and info from the Virginia Department of Agriculture and Consumer Services.\",\"translator_type\":\"none\",\"protected\":false,\"verified\":true,\"followers_count\":8570,\"friends_count\":714,\"listed_count\":126,\"favourites_count\":3265,\"statuses_count\":6007,\"created_at\":\"Tue Feb 09 13:05:12 +0000 2010\",\"utc_offset\":null,\"time_zone\":null,\"geo_enabled\":true,\"lang\":null,\"contributors_enabled\":false,\"is_translator\":false,\"profile_background_color\":\"6A7070\",\"profile_background_image_url\":\"http:\\/\\/abs.twimg.com\\/images\\/themes\\/theme1\\/bg.png\",\"profile_background_image_url_https\":\"https:\\/\\/abs.twimg.com\\/images\\/themes\\/theme1\\/bg.png\",\"profile_background_tile\":false,\"profile_link_color\":\"72A89A\",\"profile_sidebar_border_color\":\"FFFFFF\",\"profile_sidebar_fill_color\":\"DED1B6\",\"profile_text_color\":\"6CA19E\",\"profile_use_background_image\":false,\"profile_image_url\":\"http:\\/\\/pbs.twimg.com\\/profile_images\\/460847383845163008\\/ed7IC3l0_normal.jpeg\",\"profile_image_url_https\":\"https:\\/\\/pbs.twimg.com\\/profile_images\\/460847383845163008\\/ed7IC3l0_normal.jpeg\",\"profile_banner_url\":\"https:\\/\\/pbs.twimg.com\\/profile_banners\\/112710287\\/1455653179\",\"default_profile\":false,\"default_profile_image\":false,\"following\":null,\"follow_request_sent\":null,\"notifications\":null},\"geo\":null,\"coordinates\":null,\"place\":null,\"contributors\":null,\"is_quote_status\":false,\"extended_tweet\":{\"full_text\":\"Are farmers' markets allowed to operate during the #COVID19 outbreak? We answered this and other questions in the new Farmers' Market FAQs https:\\/\\/t.co\\/yAshyf3C7l #Virginiagrown https:\\/\\/t.co\\/SIvYuxtbxc\",\"display_text_range\":[0,177],\"entities\":{\"hashtags\":[{\"text\":\"COVID19\",\"indices\":[51,59]},{\"text\":\"Virginiagrown\",\"indices\":[163,177]}],\"urls\":[{\"url\":\"https:\\/\\/t.co\\/yAshyf3C7l\",\"expanded_url\":\"http:\\/\\/ow.ly\\/A4H450z9jhG\",\"display_url\":\"ow.ly\\/A4H450z9jhG\",\"indices\":[139,162]}],\"user_mentions\":[],\"symbols\":[],\"media\":[{\"id\":1247994226731675648,\"id_str\":\"1247994226731675648\",\"indices\":[178,201],\"media_url\":\"http:\\/\\/pbs.twimg.com\\/media\\/EVHEIxYUcAAOfo1.jpg\",\"media_url_https\":\"https:\\/\\/pbs.twimg.com\\/media\\/EVHEIxYUcAAOfo1.jpg\",\"url\":\"https:\\/\\/t.co\\/SIvYuxtbxc\",\"display_url\":\"pic.twitter.com\\/SIvYuxtbxc\",\"expanded_url\":\"https:\\/\\/twitter.com\\/VaAgriculture\\/status\\/1247994228203876353\\/photo\\/1\",\"type\":\"photo\",\"sizes\":{\"medium\":{\"w\":1024,\"h\":512,\"resize\":\"fit\"},\"thumb\":{\"w\":150,\"h\":150,\"resize\":\"crop\"},\"large\":{\"w\":1024,\"h\":512,\"resize\":\"fit\"},\"small\":{\"w\":680,\"h\":340,\"resize\":\"fit\"}}}]},\"extended_entities\":{\"media\":[{\"id\":1247994226731675648,\"id_str\":\"1247994226731675648\",\"indices\":[178,201],\"media_url\":\"http:\\/\\/pbs.twimg.com\\/media\\/EVHEIxYUcAAOfo1.jpg\",\"media_url_https\":\"https:\\/\\/pbs.twimg.com\\/media\\/EVHEIxYUcAAOfo1.jpg\",\"url\":\"https:\\/\\/t.co\\/SIvYuxtbxc\",\"display_url\":\"pic.twitter.com\\/SIvYuxtbxc\",\"expanded_url\":\"https:\\/\\/twitter.com\\/VaAgriculture\\/status\\/1247994228203876353\\/photo\\/1\",\"type\":\"photo\",\"sizes\":{\"medium\":{\"w\":1024,\"h\":512,\"resize\":\"fit\"},\"thumb\":{\"w\":150,\"h\":150,\"resize\":\"crop\"},\"large\":{\"w\":1024,\"h\":512,\"resize\":\"fit\"},\"small\":{\"w\":680,\"h\":340,\"resize\":\"fit\"}}}]}},\"quote_count\":1,\"reply_count\":0,\"retweet_count\":0,\"favorite_count\":0,\"entities\":{\"hashtags\":[{\"text\":\"COVID19\",\"indices\":[51,59]}],\"urls\":[{\"url\":\"https:\\/\\/t.co\\/x7SgKxjtTH\",\"expanded_url\":\"https:\\/\\/twitter.com\\/i\\/web\\/status\\/1247994228203876353\",\"display_url\":\"twitter.com\\/i\\/web\\/status\\/1\\u2026\",\"indices\":[117,140]}],\"user_mentions\":[],\"symbols\":[]},\"favorited\":false,\"retweeted\":false,\"possibly_sensitive\":false,\"filter_level\":\"low\",\"lang\":\"en\"},\"quoted_status_permalink\":{\"url\":\"https:\\/\\/t.co\\/2uhEdYAb1u\",\"expanded\":\"https:\\/\\/twitter.com\\/vaagriculture\\/status\\/1247994228203876353\",\"display\":\"twitter.com\\/vaagriculture\\/\\u2026\"},\"is_quote_status\":true,\"extended_tweet\":{\"full_text\":\"We appreciate all our farmers &amp; Farmers\\u2019 Markets are doing to provide healthy, nutritious food to families across VA!\",\"display_text_range\":[0,121],\"entities\":{\"hashtags\":[],\"urls\":[],\"user_mentions\":[],\"symbols\":[]}},\"quote_count\":0,\"reply_count\":0,\"retweet_count\":1,\"favorite_count\":4,\"entities\":{\"hashtags\":[],\"urls\":[{\"url\":\"https:\\/\\/t.co\\/09npNUIv5T\",\"expanded_url\":\"https:\\/\\/twitter.com\\/i\\/web\\/status\\/1247999567531933696\",\"display_url\":\"twitter.com\\/i\\/web\\/status\\/1\\u2026\",\"indices\":[121,144]}],\"user_mentions\":[],\"symbols\":[]},\"favorited\":false,\"retweeted\":false,\"filter_level\":\"low\",\"lang\":\"en\"},\"quoted_status_id\":1247994228203876353,\"quoted_status_id_str\":\"1247994228203876353\",\"quoted_status\":{\"created_at\":\"Wed Apr 08 21:06:25 +0000 2020\",\"id\":1247994228203876353,\"id_str\":\"1247994228203876353\",\"text\":\"Are farmers' markets allowed to operate during the #COVID19 outbreak? We answered this and other questions in the n\\u2026 https:\\/\\/t.co\\/x7SgKxjtTH\",\"display_text_range\":[0,140],\"source\":\"\\u003ca href=\\\"https:\\/\\/www.hootsuite.com\\\" rel=\\\"nofollow\\\"\\u003eHootsuite Inc.\\u003c\\/a\\u003e\",\"truncated\":true,\"in_reply_to_status_id\":null,\"in_reply_to_status_id_str\":null,\"in_reply_to_user_id\":null,\"in_reply_to_user_id_str\":null,\"in_reply_to_screen_name\":null,\"user\":{\"id\":112710287,\"id_str\":\"112710287\",\"name\":\"VDACS\",\"screen_name\":\"VaAgriculture\",\"location\":\"Richmond, VA\",\"url\":\"http:\\/\\/www.vdacs.virginia.gov\",\"description\":\"Bringing you news and info from the Virginia Department of Agriculture and Consumer Services.\",\"translator_type\":\"none\",\"protected\":false,\"verified\":true,\"followers_count\":8570,\"friends_count\":714,\"listed_count\":126,\"favourites_count\":3265,\"statuses_count\":6007,\"created_at\":\"Tue Feb 09 13:05:12 +0000 2010\",\"utc_offset\":null,\"time_zone\":null,\"geo_enabled\":true,\"lang\":null,\"contributors_enabled\":false,\"is_translator\":false,\"profile_background_color\":\"6A7070\",\"profile_background_image_url\":\"http:\\/\\/abs.twimg.com\\/images\\/themes\\/theme1\\/bg.png\",\"profile_background_image_url_https\":\"https:\\/\\/abs.twimg.com\\/images\\/themes\\/theme1\\/bg.png\",\"profile_background_tile\":false,\"profile_link_color\":\"72A89A\",\"profile_sidebar_border_color\":\"FFFFFF\",\"profile_sidebar_fill_color\":\"DED1B6\",\"profile_text_color\":\"6CA19E\",\"profile_use_background_image\":false,\"profile_image_url\":\"http:\\/\\/pbs.twimg.com\\/profile_images\\/460847383845163008\\/ed7IC3l0_normal.jpeg\",\"profile_image_url_https\":\"https:\\/\\/pbs.twimg.com\\/profile_images\\/460847383845163008\\/ed7IC3l0_normal.jpeg\",\"profile_banner_url\":\"https:\\/\\/pbs.twimg.com\\/profile_banners\\/112710287\\/1455653179\",\"default_profile\":false,\"default_profile_image\":false,\"following\":null,\"follow_request_sent\":null,\"notifications\":null},\"geo\":null,\"coordinates\":null,\"place\":null,\"contributors\":null,\"is_quote_status\":false,\"extended_tweet\":{\"full_text\":\"Are farmers' markets allowed to operate during the #COVID19 outbreak? We answered this and other questions in the new Farmers' Market FAQs https:\\/\\/t.co\\/yAshyf3C7l #Virginiagrown https:\\/\\/t.co\\/SIvYuxtbxc\",\"display_text_range\":[0,177],\"entities\":{\"hashtags\":[{\"text\":\"COVID19\",\"indices\":[51,59]},{\"text\":\"Virginiagrown\",\"indices\":[163,177]}],\"urls\":[{\"url\":\"https:\\/\\/t.co\\/yAshyf3C7l\",\"expanded_url\":\"http:\\/\\/ow.ly\\/A4H450z9jhG\",\"display_url\":\"ow.ly\\/A4H450z9jhG\",\"indices\":[139,162]}],\"user_mentions\":[],\"symbols\":[],\"media\":[{\"id\":1247994226731675648,\"id_str\":\"1247994226731675648\",\"indices\":[178,201],\"media_url\":\"http:\\/\\/pbs.twimg.com\\/media\\/EVHEIxYUcAAOfo1.jpg\",\"media_url_https\":\"https:\\/\\/pbs.twimg.com\\/media\\/EVHEIxYUcAAOfo1.jpg\",\"url\":\"https:\\/\\/t.co\\/SIvYuxtbxc\",\"display_url\":\"pic.twitter.com\\/SIvYuxtbxc\",\"expanded_url\":\"https:\\/\\/twitter.com\\/VaAgriculture\\/status\\/1247994228203876353\\/photo\\/1\",\"type\":\"photo\",\"sizes\":{\"medium\":{\"w\":1024,\"h\":512,\"resize\":\"fit\"},\"thumb\":{\"w\":150,\"h\":150,\"resize\":\"crop\"},\"large\":{\"w\":1024,\"h\":512,\"resize\":\"fit\"},\"small\":{\"w\":680,\"h\":340,\"resize\":\"fit\"}}}]},\"extended_entities\":{\"media\":[{\"id\":1247994226731675648,\"id_str\":\"1247994226731675648\",\"indices\":[178,201],\"media_url\":\"http:\\/\\/pbs.twimg.com\\/media\\/EVHEIxYUcAAOfo1.jpg\",\"media_url_https\":\"https:\\/\\/pbs.twimg.com\\/media\\/EVHEIxYUcAAOfo1.jpg\",\"url\":\"https:\\/\\/t.co\\/SIvYuxtbxc\",\"display_url\":\"pic.twitter.com\\/SIvYuxtbxc\",\"expanded_url\":\"https:\\/\\/twitter.com\\/VaAgriculture\\/status\\/1247994228203876353\\/photo\\/1\",\"type\":\"photo\",\"sizes\":{\"medium\":{\"w\":1024,\"h\":512,\"resize\":\"fit\"},\"thumb\":{\"w\":150,\"h\":150,\"resize\":\"crop\"},\"large\":{\"w\":1024,\"h\":512,\"resize\":\"fit\"},\"small\":{\"w\":680,\"h\":340,\"resize\":\"fit\"}}}]}},\"quote_count\":1,\"reply_count\":0,\"retweet_count\":0,\"favorite_count\":0,\"entities\":{\"hashtags\":[{\"text\":\"COVID19\",\"indices\":[51,59]}],\"urls\":[{\"url\":\"https:\\/\\/t.co\\/x7SgKxjtTH\",\"expanded_url\":\"https:\\/\\/twitter.com\\/i\\/web\\/status\\/1247994228203876353\",\"display_url\":\"twitter.com\\/i\\/web\\/status\\/1\\u2026\",\"indices\":[117,140]}],\"user_mentions\":[],\"symbols\":[]},\"favorited\":false,\"retweeted\":false,\"possibly_sensitive\":false,\"filter_level\":\"low\",\"lang\":\"en\"},\"quoted_status_permalink\":{\"url\":\"https:\\/\\/t.co\\/2uhEdYAb1u\",\"expanded\":\"https:\\/\\/twitter.com\\/vaagriculture\\/status\\/1247994228203876353\",\"display\":\"twitter.com\\/vaagriculture\\/\\u2026\"},\"is_quote_status\":true,\"quote_count\":0,\"reply_count\":0,\"retweet_count\":0,\"favorite_count\":0,\"entities\":{\"hashtags\":[],\"urls\":[],\"user_mentions\":[{\"screen_name\":\"AgForestryVA\",\"name\":\"Bettina Ring\",\"id\":773525555367014400,\"id_str\":\"773525555367014400\",\"indices\":[3,16]}],\"symbols\":[]},\"favorited\":false,\"retweeted\":false,\"filter_level\":\"low\",\"lang\":\"en\",\"timestamp_ms\":\"1586383076645\"}\r\n",
      "\n"
     ]
    }
   ],
   "source": [
    "#Import the necessary methods from tweepy library\n",
    "from tweepy.streaming import StreamListener\n",
    "from tweepy import OAuthHandler\n",
    "from tweepy import Stream\n",
    "import re\n",
    "\n",
    "# Enter Twitter API Keys\n",
    "access_token = key_dic['Access_token']\n",
    "access_token_secret = key_dic['Access_token_secret']\n",
    "consumer_key = key_dic['Api_Key']\n",
    "consumer_secret = key_dic['Api_secret_key']\n",
    "\n",
    "# Create tracklist with the words that will be searched for\n",
    "tracklist = ['#covid19', '#lockdown', '#socialdistancing']\n",
    "# Initialize Global variable\n",
    "tweet_count = 0\n",
    "# Input number of tweets to be downloaded\n",
    "n_tweets = 10\n",
    "\n",
    "\n",
    "\n",
    "# Create the class that will handle the tweet stream\n",
    "class StdOutListener(StreamListener):\n",
    "      \n",
    "    def on_data(self, data):\n",
    "        global tweet_count\n",
    "        global n_tweets\n",
    "        global stream\n",
    "        if tweet_count < n_tweets:\n",
    "            if tweet_count<=2:\n",
    "                print(data)\n",
    "            tweets_file.writelines(data)\n",
    "            tweet_count += 1\n",
    "            return True\n",
    "        else:\n",
    "            stream.disconnect()\n",
    "\n",
    "    def on_error(self, status):\n",
    "        print(status)\n",
    "\n",
    "\n",
    "\n",
    "# Handles Twitter authetification and the connection to Twitter Streaming API\n",
    "l = StdOutListener()\n",
    "auth = OAuthHandler(consumer_key, consumer_secret)\n",
    "auth.set_access_token(access_token, access_token_secret)\n",
    "stream = Stream(auth, l)\n",
    "stream.filter(track=tracklist)\n",
    "tweets_file.close()"
   ]
  },
  {
   "cell_type": "code",
   "execution_count": 12,
   "metadata": {},
   "outputs": [],
   "source": []
  },
  {
   "cell_type": "code",
   "execution_count": 17,
   "metadata": {},
   "outputs": [
    {
     "data": {
      "text/html": [
       "<div>\n",
       "<style scoped>\n",
       "    .dataframe tbody tr th:only-of-type {\n",
       "        vertical-align: middle;\n",
       "    }\n",
       "\n",
       "    .dataframe tbody tr th {\n",
       "        vertical-align: top;\n",
       "    }\n",
       "\n",
       "    .dataframe thead th {\n",
       "        text-align: right;\n",
       "    }\n",
       "</style>\n",
       "<table border=\"1\" class=\"dataframe\">\n",
       "  <thead>\n",
       "    <tr style=\"text-align: right;\">\n",
       "      <th></th>\n",
       "      <th>text</th>\n",
       "      <th>Username</th>\n",
       "      <th>Timestamp</th>\n",
       "    </tr>\n",
       "  </thead>\n",
       "  <tbody>\n",
       "    <tr>\n",
       "      <th>0</th>\n",
       "      <td>RT @hqma_0421: From top right, counterclockwis...</td>\n",
       "      <td>ChenQuanguoStan</td>\n",
       "      <td>Wed Apr 08 21:17:13 +0000 2020</td>\n",
       "    </tr>\n",
       "    <tr>\n",
       "      <th>1</th>\n",
       "      <td>You said they deserve it , now it’s affecting ...</td>\n",
       "      <td>chimurenga18</td>\n",
       "      <td>Wed Apr 08 21:17:13 +0000 2020</td>\n",
       "    </tr>\n",
       "    <tr>\n",
       "      <th>2</th>\n",
       "      <td>RT @foldingathome: The goal of the project is ...</td>\n",
       "      <td>DJMartinRomero</td>\n",
       "      <td>Wed Apr 08 21:17:13 +0000 2020</td>\n",
       "    </tr>\n",
       "    <tr>\n",
       "      <th>3</th>\n",
       "      <td>RT @Ahmedshabbir20: This can only happen in #T...</td>\n",
       "      <td>Freeindian14</td>\n",
       "      <td>Wed Apr 08 21:17:13 +0000 2020</td>\n",
       "    </tr>\n",
       "    <tr>\n",
       "      <th>4</th>\n",
       "      <td>Ya está disponible la actualización del Inform...</td>\n",
       "      <td>_SESCS_</td>\n",
       "      <td>Wed Apr 08 21:17:13 +0000 2020</td>\n",
       "    </tr>\n",
       "  </tbody>\n",
       "</table>\n",
       "</div>"
      ],
      "text/plain": [
       "                                                text         Username  \\\n",
       "0  RT @hqma_0421: From top right, counterclockwis...  ChenQuanguoStan   \n",
       "1  You said they deserve it , now it’s affecting ...     chimurenga18   \n",
       "2  RT @foldingathome: The goal of the project is ...   DJMartinRomero   \n",
       "3  RT @Ahmedshabbir20: This can only happen in #T...     Freeindian14   \n",
       "4  Ya está disponible la actualización del Inform...          _SESCS_   \n",
       "\n",
       "                        Timestamp  \n",
       "0  Wed Apr 08 21:17:13 +0000 2020  \n",
       "1  Wed Apr 08 21:17:13 +0000 2020  \n",
       "2  Wed Apr 08 21:17:13 +0000 2020  \n",
       "3  Wed Apr 08 21:17:13 +0000 2020  \n",
       "4  Wed Apr 08 21:17:13 +0000 2020  "
      ]
     },
     "execution_count": 17,
     "metadata": {},
     "output_type": "execute_result"
    }
   ],
   "source": [
    "import json\n",
    "import pandas as pd\n",
    "tweets_data_path = \"twitter_data.txt\"  \n",
    "tweets_data = []  \n",
    "tweets_file = open(tweets_data_path, \"r\")  \n",
    "for line in tweets_file:  \n",
    "    try:  \n",
    "        tweet = json.loads(line)  \n",
    "        tweets_data.append(tweet)  \n",
    "    except:  \n",
    "        continue\n",
    "tweets = pd.DataFrame()\n",
    "tweets['text'] = list(map(lambda tweet: tweet['text'], tweets_data))\n",
    "tweets['Username'] = list(map(lambda tweet: tweet['user']['screen_name'], tweets_data))\n",
    "tweets['Timestamp'] = list(map(lambda tweet: tweet['created_at'], tweets_data))\n",
    "tweets.head()"
   ]
  },
  {
   "cell_type": "code",
   "execution_count": null,
   "metadata": {},
   "outputs": [],
   "source": []
  }
 ],
 "metadata": {
  "kernelspec": {
   "display_name": "Python 3",
   "language": "python",
   "name": "python3"
  },
  "language_info": {
   "codemirror_mode": {
    "name": "ipython",
    "version": 3
   },
   "file_extension": ".py",
   "mimetype": "text/x-python",
   "name": "python",
   "nbconvert_exporter": "python",
   "pygments_lexer": "ipython3",
   "version": "3.7.6"
  }
 },
 "nbformat": 4,
 "nbformat_minor": 4
}
