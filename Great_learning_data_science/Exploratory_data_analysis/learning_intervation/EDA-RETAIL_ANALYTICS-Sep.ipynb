<!DOCTYPE html>
<html>
<head>
  <title>Olympus - Great Learning</title>




  <meta name="viewport" content="width=device-width, initial-scale=1">
  <link href="https://dq0un14k3iie7.cloudfront.net/assets/olympus_favicon-fe044746542fcd61c2bafbeb009aa0a182c058e54d0eb8f80e6ff0026bc10e00.png" rel="shortcut icon" type="image/vnd.microsoft.icon" />
  <link data-turbolinks-track="true" href="https://dq0un14k3iie7.cloudfront.net/assets/application-83e52b00ae72e5a321047fef7b76788a02a06efde66374b5f0b532b6acafaa0d.css" media="all" rel="stylesheet" />
      <link data-turbolinks-track="true" href="https://dq0un14k3iie7.cloudfront.net/assets/payment_transactions-ee0c49976c47ac58c2a5a74d50643b6db6f903556beec2e6b57c942c3b3cda29.css" media="all" rel="stylesheet" />

  <script data-turbolinks-track="true" src="https://dq0un14k3iie7.cloudfront.net/assets/application-2588ad11c272f79c85b57d7513fafb0a0330fa9b94b432242e44666efb13f52f.js"></script>

      <script data-turbolinks-track="true" src="https://dq0un14k3iie7.cloudfront.net/assets/payment_transactions-65254fcf06cd979ba987c407997da31e0f0a0594a39a2465634d087eea7f77fb.js"></script>



  <meta content="authenticity_token" name="csrf-param" />
<meta content="SNiU8XWW1sabo0K33GDUNntG8ReC23fWXEt0v3ZQd1w=" name="csrf-token" />
  


  <!-- start Mixpanel -->
  <script type="text/javascript">(function(e,a){if(!a.__SV){var b=window;try{var c,l,i,j=b.location,g=j.hash;c=function(a,b){return(l=a.match(RegExp(b+"=([^&]*)")))?l[1]:null};g&&c(g,"state")&&(i=JSON.parse(decodeURIComponent(c(g,"state"))),"mpeditor"===i.action&&(b.sessionStorage.setItem("_mpcehash",g),history.replaceState(i.desiredHash||"",e.title,j.pathname+j.search)))}catch(m){}var k,h;window.mixpanel=a;a._i=[];a.init=function(b,c,f){function e(b,a){var c=a.split(".");2==c.length&&(b=b[c[0]],a=c[1]);b[a]=function(){b.push([a].concat(Array.prototype.slice.call(arguments,
    0)))}}var d=a;"undefined"!==typeof f?d=a[f]=[]:f="mixpanel";d.people=d.people||[];d.toString=function(b){var a="mixpanel";"mixpanel"!==f&&(a+="."+f);b||(a+=" (stub)");return a};d.people.toString=function(){return d.toString(1)+".people (stub)"};k="disable time_event track track_pageview track_links track_forms register register_once alias unregister identify name_tag set_config reset people.set people.set_once people.increment people.append people.union people.track_charge people.clear_charges people.delete_user".split(" ");
    for(h=0;h<k.length;h++)e(d,k[h]);a._i.push([b,c,f])};a.__SV=1.2;b=e.createElement("script");b.type="text/javascript";b.async=!0;b.src="undefined"!==typeof MIXPANEL_CUSTOM_LIB_URL?MIXPANEL_CUSTOM_LIB_URL:"file:"===e.location.protocol&&"//cdn.mxpnl.com/libs/mixpanel-2-latest.min.js".match(/^\/\//)?"https://cdn.mxpnl.com/libs/mixpanel-2-latest.min.js":"//cdn.mxpnl.com/libs/mixpanel-2-latest.min.js";c=e.getElementsByTagName("script")[0];c.parentNode.insertBefore(b,c)}})(document,window.mixpanel||[]);
  mixpanel.init("be636828dad51bd56fbfb1e20bbddc37");</script>
  <!-- end Mixpanel -->




</head>
<body>


<div class="container-fluid">

  <input type='hidden' id='_lms_analytics_title' value='PaymentTransactions/new'>
  <input type='hidden' id='_lms_analytics_params_json' value='{&quot;program_group_id&quot;:&quot;420&quot;,&quot;user_id&quot;:&quot;173057&quot;,&quot;action&quot;:&quot;new&quot;,&quot;controller&quot;:&quot;payment_transactions&quot;,&quot;custom_program_group_name&quot;:[]}'>
  <input type='hidden' id='_lms_user_id' value=''>
  <input type='hidden' id='_lms_user_email' value=''>
  <input type='hidden' id='_lms_user_name' value=''>


  

  <input type="hidden" id="collecting_payment" value="true">

  <nav class="navbar navbar-default navbar-fixed-top hide-nav-mobile">
  <div class="container-fluid">
    <!-- Brand and toggle get grouped for better mobile display -->
    <div class="navbar-header">
      <a class="navbar-brand" href="#">
        <img src="https://dq0un14k3iie7.cloudfront.net/assets/Greatlearning_learning_for_life-7a677d3a100039e10063cc28d534b6e02e6dd6b6646423c34b3b8381239329aa.png" alt='Greatlearning'>
      </a>
    </div>

    <div class="page-title hidden-xs">
      <h4 class="m-0 p-0">Payments</h4>
    </div>

    <div class="collapse navbar-collapse" id="career-support-navbar-collapse">
      <ul class="nav navbar-nav navbar-right">
        <li id="jobs_tab" class="active"></li>
      </ul>
    </div>
  </div>
</nav>



<section class="page-container nav-space fee-margin-bottom">
  <div class="container">
    <div id="internal-error-msg" class="hidden">
      <p>Seems like the link is not valid or there is some internal issue.</p>
      <p>
        Kindly contact us at
        <span class="gl-phone">
            +91 7428764065 / +91 9560506152 (Mon to Fri: 10 AM - 6 PM)
        </span>
        or
        <span class="gl-email">
            dse_support@greatlearning.in
        </span>
        to resolve this.
      </p>
    </div>

    <div id="email-verification-msg" class="hidden">
      <h3>Confirm Email Id</h3>
      <p>To continue to payment, please confirm if your email id is <span class="user-email">mynamerahulkumar13@gmail.com</span></p>
      <p class="text-right mt-20">
        <a href="#" class="btn btn-primary " onclick="ltiApp.emailConfirmed();">Yes, this is me</a>
        <a href="#" class="incorrect-email-link btn btn-link" onclick="ltiApp.emailIncorrect();" >Not me!</a>
      </p>
    </div>

    <div id="incorrect-email-msg" class="hidden payment-msg-container">
      <h3>Wrong payment link</h3>
       <p>Seems like you have got a wrong link to payment.</p>
       <p>
        Kindly contact us at
        <span class="gl-phone">
            +91 7428764065 / +91 9560506152 ( Mon to Fri: 10 AM - 6 PM )
        </span>
        or
        <span class="gl-email">
            dse_support@greatlearning.in
        </span>
        to get the right link.
      </p>
    </div>

    <div id="till-due-date-msg" class="hidden payment-msg-container">
      <h3>Upcoming fee payment</h3>
      <p>
        Payment of
        <span class="payment-due-amount">Rs
          91667.0
        </span> + GST (18.0%)
        for 2nd Installment
        is due on <span class="payment-due-date">21 November 2019</span>.
        Please make the payment for uninterrupted learning experience.
      </p>
      <p>In case of any queries, kindly reach out to us at
  <span class="gl-phone-color">
    +91 7428764065 / +91 9560506152 (Mon to Fri: 10 AM - 6 PM)
  </span> or
  <a href="mailto:admissions_support@greatlearning.in" target="_blank">
    dse_support@greatlearning.in
  </a>
</p>
      <p class="text-center margin-top-30px">
        <a href="#" class="btn btn-primary btn-lg" onclick="ltiApp.payNow(false);">Pay Now</a>
        <a href="https://olympus.greatlearning.in/dashboard" class="btn btn-link">Later</a>
      </p>
    </div>

    <div id="post-due-date-msg" class="hidden payment-msg-container">
      <h3>Access blocked</h3>
      <p>
        Payment of <span class="payment-due-amount">Rs 91667.0</span> + GST (18.0%)
        for 2nd Installment was due on <span class="payment-due-date">21 November 2019</span>.
        Please make the payment to resume learning.
      </p>
      <p>In case of any queries, kindly reach out to us at
  <span class="gl-phone-color">
    +91 7428764065 / +91 9560506152 (Mon to Fri: 10 AM - 6 PM)
  </span> or
  <a href="mailto:admissions_support@greatlearning.in" target="_blank">
    dse_support@greatlearning.in
  </a>
</p>
      <p class="text-center margin-top-30px">
        <a href="#" class="btn btn-primary" onclick="ltiApp.payNow(true);">Pay Now</a>
      </p>
    </div>

    <div id="payment-validation-errors" class="validation-errors hidden"></div>

    <div id="fee-payment-form" class="payment-form-container hidden">
      <div class="row">
        <h4 class="text-center">
          PGP-DSE Fees Payment
            <span> Bangalore</span>
        </h4>
      </div>

      <form accept-charset="UTF-8" action="/payment_transactions" class="form-horizontal" id="new_payment_transaction" method="post"><div style="display:none"><input name="utf8" type="hidden" value="&#x2713;" /><input name="authenticity_token" type="hidden" value="SNiU8XWW1sabo0K33GDUNntG8ReC23fWXEt0v3ZQd1w=" /></div>
        <div class="form-group row">
          <div class="col-md-12">
            <h5 class="section-header">Enter Personal Details</h5>
          </div>
        </div>

        <div class="form-group row">
          <div class="col-md-5 col-md-push-6 mt-sm-0">
            <input class="form-control" id="payment_transaction_email" name="payment_transaction[email]" placeholder="Enter a valid email address" type="text" value="mynamerahulkumar13@gmail.com" />
          </div>
          <div class="col-md-1"></div>
          <div class="col-md-5 col-md-pull-6 mt-sm-0">
            <input class="form-control" id="payment_transaction_name" name="payment_transaction[name]" placeholder="Enter your full name" type="text" value="RAHUL KUMAR" />
          </div>
        </div>

        <div class="form-group row">
          <div class="col-md-5 phone-col">
            <div class="input-group">
              <span class="input-group-addon">+91</span>
              <input class="form-control" id="payment_transaction_phone" name="payment_transaction[phone]" onkeypress="return event.charCode &gt;= 48 &amp;&amp; event.charCode &lt;= 57" placeholder="Enter 10 digit mobile number" type="text" />
            </div>
          </div>

          <div id="email-msg-id" class="col-md-5 email-msg hidden">
            <span>Payment receipt will be sent to the email id provided</span>
          </div>
        </div>

        <div class="form-group row">
          <div class="col-md-12">
            <h5 class="section-header">
                FEE DETAILS &nbsp;&nbsp;
                <span class="section-header-due-amount"> Amount Due: Rs 91667.0 + GST (18.0%)</span>
            </h5>
          </div>
        </div>
        <div class="row">

          <div class="col-md-11 one-col-fee">
            <div class="fee-section">
              <div class="most-popular-top-box">
                <div class="row">
                  <div class="col-xs-12"> <h3 class="payment-option-text payment-options-header">Pay in Installments</h3></div>
                </div>
              </div>
              <div class="p-20">
                <div id="fees-div" class="installment-div">
                  <div class="select-checkbox">Select installments</div>
                      <div class="row checkbox form-control-static ">
                        <label class="col-xs-8 installment-items" style="padding-left: 35px;">
                          <input type="checkbox" id="installment-checkbox-718" class="installment-checkbox"
                                 data-has-predefined-amount="true"
                                 onclick="ltiApp.updateAmount('installment-checkbox-718');">
                          <span class="installment-name">Admission Fee</span>
                        </label>
                        <div class="col-xs-4 installment-amount-row">
                            <span class="installment-currency">Rs.</span>
                            <span class="installment-amount" data-amount="25000.0">25000</span>
                        </div>
                      </div>
                      <div class="row checkbox form-control-static ">
                        <label class="col-xs-8 installment-items" style="padding-left: 35px;">
                          <input type="checkbox" id="installment-checkbox-719" class="installment-checkbox"
                                 data-has-predefined-amount="true"
                                 onclick="ltiApp.updateAmount('installment-checkbox-719');">
                          <span class="installment-name">2nd Admission Fee</span>
                        </label>
                        <div class="col-xs-4 installment-amount-row">
                            <span class="installment-currency">Rs.</span>
                            <span class="installment-amount" data-amount="25000.0">25000</span>
                        </div>
                      </div>
                      <div class="row checkbox form-control-static ">
                        <label class="col-xs-8 installment-items" style="padding-left: 35px;">
                          <input type="checkbox" id="installment-checkbox-720" class="installment-checkbox"
                                 data-has-predefined-amount="true"
                                 onclick="ltiApp.updateAmount('installment-checkbox-720');">
                          <span class="installment-name">1st Installment</span>
                        </label>
                        <div class="col-xs-4 installment-amount-row">
                            <span class="installment-currency">Rs.</span>
                            <span class="installment-amount" data-amount="91667.0">91667</span>
                        </div>
                      </div>
                      <div class="row checkbox form-control-static ">
                        <label class="col-xs-8 installment-items" style="padding-left: 35px;">
                          <input type="checkbox" id="installment-checkbox-721" class="installment-checkbox"
                                 data-has-predefined-amount="true"
                                 onclick="ltiApp.updateAmount('installment-checkbox-721');">
                          <span class="installment-name">2nd Installment</span>
                        </label>
                        <div class="col-xs-4 installment-amount-row">
                            <span class="installment-currency">Rs.</span>
                            <span class="installment-amount" data-amount="91667.0">91667</span>
                        </div>
                      </div>
                      <div class="row checkbox form-control-static ">
                        <label class="col-xs-8 installment-items" style="padding-left: 35px;">
                          <input type="checkbox" id="installment-checkbox-722" class="installment-checkbox"
                                 data-has-predefined-amount="true"
                                 onclick="ltiApp.updateAmount('installment-checkbox-722');">
                          <span class="installment-name">3rd Installment</span>
                        </label>
                        <div class="col-xs-4 installment-amount-row">
                            <span class="installment-currency">Rs.</span>
                            <span class="installment-amount" data-amount="91666.0">91666</span>
                        </div>
                      </div>
                      <div class="row checkbox form-control-static min-height-50px">
                        <label class="col-xs-8 installment-items" style="padding-left: 35px;">
                          <input type="checkbox" id="installment-checkbox-723" class="installment-checkbox"
                                 data-has-predefined-amount="false"
                                 onclick="ltiApp.updateAmount('installment-checkbox-723');">
                          <span class="installment-name">Others</span>
                        </label>
                        <div class="col-xs-4 installment-amount-row">
                            <input id="installment-input-723" class="installment-amount form-control"
                                   type="text" onkeyup="ltiApp.updateAmount();"
                                   onkeypress="return (event.charCode >= 48 && event.charCode <= 57) || event.charCode == 46">
                        </div>
                      </div>
                </div>

                <hr class="installment-separator">

                <div class="amount-info">
                  <div class="row">
                    <label class="col-xs-8 total-tax-label ">
                        <span class="tax-abbreviation">Goods and Services Tax (</span>GST<span class="tax-abbreviation">)</span>
                      <span class="glyphicon glyphicon-info-sign service-tax-tip"></span>
                    </label>
                    <div class="col-xs-4">
                      <span class="installment-currency">Rs.</span>
                      <p id="total-tax" class="form-control-static total-tax-amount">0</p>
                    </div>
                  </div>
                  <div class="row">
                    <label class="col-xs-8 total-amount-label ">
                      Total <span class="amount-in-total"> Amount</span>
                    </label>
                    <div class="col-xs-4">
                      <span class="installment-currency">Rs.</span>
                      <p id="total-amount" class="form-control-static total-amount">0</p>
                    </div>
                  </div>
                </div>
              </div>
            </div>
          </div>
        </div>

          <div class="form-group" style="margin-top: 25px;text-align: center">
            <div class="col-xs-12">
              <a class="btn btn-primary" href="#" id="paymentSaveBtn" onclick="ltiApp.savePayment();">Pay Now</a>
              <a id="pay-later-link" href="https://olympus.greatlearning.in/dashboard" class="pay-later-link hidden">Later</a>
            </div>
          </div>

        <input id="payment_transaction_program_fee_code" name="payment_transaction[program_fee_code]" type="hidden" value="pgpdse-ft-b-bangalore1" />
        <input id="payment_transaction_batch_code" name="payment_transaction[batch_code]" type="hidden" />
        <input id="payment_transaction_program_id" name="payment_transaction[program_id]" type="hidden" value="10" />
        <input id="payment_transaction_learning_center_id" name="payment_transaction[learning_center_id]" type="hidden" value="1" />
        <input id="payment_transaction_product_info" name="payment_transaction[product_info]" type="hidden" value="PGPDSE-FT@bangalore" />
        <input id="payment_transaction_service_tax" name="payment_transaction[service_tax]" type="hidden" />
        <input id="payment_transaction_swachh_bharat_tax" name="payment_transaction[swachh_bharat_tax]" type="hidden" />
        <input id="payment_transaction_krishi_kalyan_tax" name="payment_transaction[krishi_kalyan_tax]" type="hidden" />
        <input id="payment_transaction_service_tax_amount" name="payment_transaction[service_tax_amount]" type="hidden" />
        <input id="payment_transaction_swachh_bharat_tax_amount" name="payment_transaction[swachh_bharat_tax_amount]" type="hidden" />
        <input id="payment_transaction_krishi_kalyan_tax_amount" name="payment_transaction[krishi_kalyan_tax_amount]" type="hidden" />
        <input id="payment_transaction_amount" name="payment_transaction[amount]" type="hidden" />
        <input id="payment_transaction_installment_options" name="payment_transaction[installment_options]" type="hidden" />
        <input id="payment_transaction_program_group_id" name="payment_transaction[program_group_id]" type="hidden" value="420" />
        <input id="payment_transaction_lms_user_id" name="payment_transaction[lms_user_id]" type="hidden" value="173057" />
        <input id="payment_transaction_tax_type" name="payment_transaction[tax_type]" type="hidden" value="GST" />
        <input id="payment_transaction_central_goods_and_service_tax" name="payment_transaction[central_goods_and_service_tax]" type="hidden" value="9.0" />
        <input id="payment_transaction_central_goods_and_service_tax_amount" name="payment_transaction[central_goods_and_service_tax_amount]" type="hidden" />
        <input id="payment_transaction_state_goods_and_service_tax" name="payment_transaction[state_goods_and_service_tax]" type="hidden" value="9.0" />
        <input id="payment_transaction_state_goods_and_service_tax_amount" name="payment_transaction[state_goods_and_service_tax_amount]" type="hidden" />
        <input id="payment_transaction_integrated_goods_and_service_tax" name="payment_transaction[integrated_goods_and_service_tax]" type="hidden" />
        <input id="payment_transaction_integrated_goods_and_service_tax_amount" name="payment_transaction[integrated_goods_and_service_tax_amount]" type="hidden" />
        <input id="payment_transaction_program_fee_discount_id" name="payment_transaction[program_fee_discount_id]" type="hidden" />

        <input type="hidden" id="is_gst_live" value="true">
        <input type="hidden" id="collect_integrated_tax" value="false">
        <input type="hidden" id="internal-error" value="">
        <input type="hidden" id="verify-email" value="">
        <input type="hidden" id="from-lms" value="true">
        <input type="hidden" id="payment_due_or_pending" value="true">
        <input type="hidden" id="payment_due_date_crossed" value="false">
        <input type="hidden" id="payment_amount_due" value="91667.0">
        <input type="hidden" id="payment_due_date" value="2019-11-21">
        <input type="hidden" id="pending_installment_names" value="2nd Installment">
        <input type="submit" style="display: none" id="feePaymentSubmitBtn" value="Fee Payment">
</form>    </div>

    <form id="payubiz-payment-form" accept-charset="UTF-8" action="https://secure.payu.in/_payment.php" method="post">
      <input id="payubiz-key" name="key" type="hidden" value="" />
      <input id="payubiz-txnid" name="txnid" type="hidden" value="" />
      <input id="payubiz-firstname" name="firstname" type="hidden" value="" />
      <input id="payubiz-lastname" name="lastname" type="hidden" value="" />
      <input id="payubiz-email" name="email" type="hidden" value="" />
      <input id="payubiz-phone" name="phone" type="hidden" value="" />
      <input id="payubiz-productinfo" name="productinfo" type="hidden" value="" />
      <input id="payubiz-amount" name="amount" type="hidden" value="" />
      <input id="payubiz-surl" name="surl" type="hidden" value="" />
      <input id="payubiz-furl" name="furl" type="hidden" value="" />
      <input id="payubiz-curl" name="curl" type="hidden" value="" />
      <input id="payubiz-udf1" name="udf1" type="hidden" value="" />
      <input id="payubiz-udf2" name="udf2" type="hidden" value="" />
      <input id="payubiz-udf3" name="udf3" type="hidden" value="" />
      <input id="payubiz-udf4" name="udf4" type="hidden" value="" />
      <input id="payubiz-udf5" name="udf5" type="hidden" value="" />
      <input id="payubiz-hash" name="hash" type="hidden" value="" />
      <input type="submit" style="display: none" id="payubizSubmitBtn" value="PayUBiz Payment">
    </form>

  </div>
</section>

  <footer class="footer flex align-items-center">
    <div class="container">
      <div class="row">
        <div class="col-sm-12">
          <p class="text-center m-0">
            <small>&copy; 2019 Great Learning. All rights reserved.</small>
          </p>
        </div>
      </div>
    </div>
  </footer>


</div>


</body>
</html>
