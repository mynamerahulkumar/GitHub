{
 "cells": [
  {
   "cell_type": "code",
   "execution_count": 10,
   "metadata": {},
   "outputs": [
    {
     "data": {
      "text/plain": [
       "'/Users/rahul/Documents/GitHub/Great_learning_data_science/Exploratory_data_analysis/project'"
      ]
     },
     "execution_count": 10,
     "metadata": {},
     "output_type": "execute_result"
    }
   ],
   "source": [
    "import pandas as pd\n",
    "import matplotlib.pyplot as plt\n",
    "import numpy as np\n",
    "\n",
    "import os\n",
    "os.getcwd()"
   ]
  },
  {
   "cell_type": "code",
   "execution_count": 2,
   "metadata": {},
   "outputs": [
    {
     "data": {
      "text/html": [
       "<div>\n",
       "<style scoped>\n",
       "    .dataframe tbody tr th:only-of-type {\n",
       "        vertical-align: middle;\n",
       "    }\n",
       "\n",
       "    .dataframe tbody tr th {\n",
       "        vertical-align: top;\n",
       "    }\n",
       "\n",
       "    .dataframe thead th {\n",
       "        text-align: right;\n",
       "    }\n",
       "</style>\n",
       "<table border=\"1\" class=\"dataframe\">\n",
       "  <thead>\n",
       "    <tr style=\"text-align: right;\">\n",
       "      <th></th>\n",
       "      <th>Month</th>\n",
       "      <th>Enquiry Date</th>\n",
       "      <th>Enquiry Id</th>\n",
       "      <th>Allocation Status</th>\n",
       "      <th>Status</th>\n",
       "      <th>State</th>\n",
       "      <th>City</th>\n",
       "      <th>Pincode</th>\n",
       "      <th>Type of Project</th>\n",
       "      <th>No of Windows</th>\n",
       "      <th>...</th>\n",
       "      <th>Second Action-Call Status.1</th>\n",
       "      <th>Remarks</th>\n",
       "      <th>Price Per Sft</th>\n",
       "      <th>Benefits</th>\n",
       "      <th>Aesthetics</th>\n",
       "      <th>Reduce Street Noise</th>\n",
       "      <th>Low Maintenance</th>\n",
       "      <th>Monsoon Proof</th>\n",
       "      <th>Better Lighting</th>\n",
       "      <th>Reduce AC Energy Cost</th>\n",
       "    </tr>\n",
       "  </thead>\n",
       "  <tbody>\n",
       "    <tr>\n",
       "      <th>0</th>\n",
       "      <td>April'16</td>\n",
       "      <td>2-Apr-16</td>\n",
       "      <td>EC02041646800</td>\n",
       "      <td>Dealer</td>\n",
       "      <td>Won</td>\n",
       "      <td>TAMILNADU</td>\n",
       "      <td>CHENNAI</td>\n",
       "      <td>600008</td>\n",
       "      <td>Renovation</td>\n",
       "      <td>6 to 10</td>\n",
       "      <td>...</td>\n",
       "      <td>NaN</td>\n",
       "      <td>NaN</td>\n",
       "      <td>1105</td>\n",
       "      <td>Aesthetics &amp; Street Noise</td>\n",
       "      <td>1.0</td>\n",
       "      <td>1.0</td>\n",
       "      <td>0.0</td>\n",
       "      <td>0.0</td>\n",
       "      <td>0.0</td>\n",
       "      <td>0.0</td>\n",
       "    </tr>\n",
       "    <tr>\n",
       "      <th>1</th>\n",
       "      <td>April'16</td>\n",
       "      <td>8-Apr-16</td>\n",
       "      <td>EC08041647157</td>\n",
       "      <td>Dealer</td>\n",
       "      <td>Lost</td>\n",
       "      <td>TAMILNADU</td>\n",
       "      <td>CHENNAI</td>\n",
       "      <td>600042</td>\n",
       "      <td>New Construction</td>\n",
       "      <td>6 to 10</td>\n",
       "      <td>...</td>\n",
       "      <td>NaN</td>\n",
       "      <td>Price Issue</td>\n",
       "      <td>985</td>\n",
       "      <td>NaN</td>\n",
       "      <td>NaN</td>\n",
       "      <td>NaN</td>\n",
       "      <td>NaN</td>\n",
       "      <td>NaN</td>\n",
       "      <td>NaN</td>\n",
       "      <td>NaN</td>\n",
       "    </tr>\n",
       "    <tr>\n",
       "      <th>2</th>\n",
       "      <td>April'16</td>\n",
       "      <td>8-Apr-16</td>\n",
       "      <td>EC08041647130</td>\n",
       "      <td>Dealer</td>\n",
       "      <td>Lost</td>\n",
       "      <td>TAMILNADU</td>\n",
       "      <td>CHENNAI</td>\n",
       "      <td>600015</td>\n",
       "      <td>New Construction</td>\n",
       "      <td>1 to 5</td>\n",
       "      <td>...</td>\n",
       "      <td>NaN</td>\n",
       "      <td>Delivery Issue</td>\n",
       "      <td>918</td>\n",
       "      <td>NaN</td>\n",
       "      <td>NaN</td>\n",
       "      <td>NaN</td>\n",
       "      <td>NaN</td>\n",
       "      <td>NaN</td>\n",
       "      <td>NaN</td>\n",
       "      <td>NaN</td>\n",
       "    </tr>\n",
       "    <tr>\n",
       "      <th>3</th>\n",
       "      <td>April'16</td>\n",
       "      <td>9-Apr-16</td>\n",
       "      <td>EC09041647202</td>\n",
       "      <td>Direct</td>\n",
       "      <td>Lost</td>\n",
       "      <td>TAMILNADU</td>\n",
       "      <td>KANCHIPURAM</td>\n",
       "      <td>600075</td>\n",
       "      <td>New Construction</td>\n",
       "      <td>21 to 40</td>\n",
       "      <td>...</td>\n",
       "      <td>NaN</td>\n",
       "      <td>Price Issue</td>\n",
       "      <td>919</td>\n",
       "      <td>NaN</td>\n",
       "      <td>NaN</td>\n",
       "      <td>NaN</td>\n",
       "      <td>NaN</td>\n",
       "      <td>NaN</td>\n",
       "      <td>NaN</td>\n",
       "      <td>NaN</td>\n",
       "    </tr>\n",
       "    <tr>\n",
       "      <th>4</th>\n",
       "      <td>April'16</td>\n",
       "      <td>11-Apr-16</td>\n",
       "      <td>�EC11041647360</td>\n",
       "      <td>Direct</td>\n",
       "      <td>Won</td>\n",
       "      <td>TAMILNADU</td>\n",
       "      <td>CHENNAI</td>\n",
       "      <td>600041</td>\n",
       "      <td>Renovation</td>\n",
       "      <td>6 to 10</td>\n",
       "      <td>...</td>\n",
       "      <td>NaN</td>\n",
       "      <td>NaN</td>\n",
       "      <td>1350</td>\n",
       "      <td>Reduce AC Energy Cost</td>\n",
       "      <td>0.0</td>\n",
       "      <td>0.0</td>\n",
       "      <td>0.0</td>\n",
       "      <td>0.0</td>\n",
       "      <td>0.0</td>\n",
       "      <td>1.0</td>\n",
       "    </tr>\n",
       "  </tbody>\n",
       "</table>\n",
       "<p>5 rows × 40 columns</p>\n",
       "</div>"
      ],
      "text/plain": [
       "      Month Enquiry Date      Enquiry Id Allocation Status Status      State  \\\n",
       "0  April'16     2-Apr-16   EC02041646800            Dealer    Won  TAMILNADU   \n",
       "1  April'16     8-Apr-16   EC08041647157            Dealer   Lost  TAMILNADU   \n",
       "2  April'16     8-Apr-16   EC08041647130            Dealer   Lost  TAMILNADU   \n",
       "3  April'16     9-Apr-16   EC09041647202            Direct   Lost  TAMILNADU   \n",
       "4  April'16    11-Apr-16  �EC11041647360            Direct    Won  TAMILNADU   \n",
       "\n",
       "          City  Pincode   Type of Project No of Windows  ...  \\\n",
       "0      CHENNAI   600008        Renovation       6 to 10  ...   \n",
       "1      CHENNAI   600042  New Construction       6 to 10  ...   \n",
       "2      CHENNAI   600015  New Construction        1 to 5  ...   \n",
       "3  KANCHIPURAM   600075  New Construction      21 to 40  ...   \n",
       "4      CHENNAI   600041        Renovation       6 to 10  ...   \n",
       "\n",
       "  Second Action-Call Status.1         Remarks Price Per Sft  \\\n",
       "0                         NaN             NaN          1105   \n",
       "1                         NaN     Price Issue           985   \n",
       "2                         NaN  Delivery Issue           918   \n",
       "3                         NaN     Price Issue           919   \n",
       "4                         NaN             NaN          1350   \n",
       "\n",
       "                    Benefits Aesthetics Reduce Street Noise Low Maintenance  \\\n",
       "0  Aesthetics & Street Noise        1.0                 1.0             0.0   \n",
       "1                        NaN        NaN                 NaN             NaN   \n",
       "2                        NaN        NaN                 NaN             NaN   \n",
       "3                        NaN        NaN                 NaN             NaN   \n",
       "4      Reduce AC Energy Cost        0.0                 0.0             0.0   \n",
       "\n",
       "  Monsoon Proof Better Lighting Reduce AC Energy Cost  \n",
       "0           0.0             0.0                   0.0  \n",
       "1           NaN             NaN                   NaN  \n",
       "2           NaN             NaN                   NaN  \n",
       "3           NaN             NaN                   NaN  \n",
       "4           0.0             0.0                   1.0  \n",
       "\n",
       "[5 rows x 40 columns]"
      ]
     },
     "execution_count": 2,
     "metadata": {},
     "output_type": "execute_result"
    }
   ],
   "source": [
    "df=pd.read_csv('EDA-RETAIL_ANALYTICS-Sep19.csv')\n",
    "df.head()"
   ]
  },
  {
   "cell_type": "code",
   "execution_count": 4,
   "metadata": {},
   "outputs": [
    {
     "data": {
      "text/plain": [
       "Index([u'Month', u'Enquiry Date', u'Enquiry Id', u'Allocation Status',\n",
       "       u'Status', u'State', u'City', u'Pincode', u'Type of Project',\n",
       "       u'No of Windows', u'Source', u'Zone', u'Dealer Name',\n",
       "       u'First Action-Call made', u'Date DD/MM/YY',\n",
       "       u'First Action-Call Status', u'Date of Appointment (DD/MM/YY)',\n",
       "       u'Second Action-Customer Meeting', u'Date DD/MM/YY.1',\n",
       "       u'Second Action-Call Status', u'Third Action-Quote Given',\n",
       "       u'Date DD/MM/YY.2', u'Q Val. (Rs. Lac)', u'Quote QTY',\n",
       "       u' Order Recd\\Lost ', u'Date DD/MM/YY.3', u'Order Val. (Rs. Lac)',\n",
       "       u'Order QTY', u'Quote ID (as per match to CCC Records)',\n",
       "       u' Remarks-Brand and value if lost to UPVC ',\n",
       "       u'Second Action-Call Status.1', u'Remarks', u'Price Per Sft',\n",
       "       u'Benefits', u'Aesthetics', u'Reduce Street Noise', u'Low Maintenance',\n",
       "       u'Monsoon Proof', u'Better Lighting', u'Reduce AC Energy Cost'],\n",
       "      dtype='object')"
      ]
     },
     "execution_count": 4,
     "metadata": {},
     "output_type": "execute_result"
    }
   ],
   "source": [
    "df.columns"
   ]
  },
  {
   "cell_type": "code",
   "execution_count": 5,
   "metadata": {},
   "outputs": [
    {
     "data": {
      "text/html": [
       "<div>\n",
       "<style scoped>\n",
       "    .dataframe tbody tr th:only-of-type {\n",
       "        vertical-align: middle;\n",
       "    }\n",
       "\n",
       "    .dataframe tbody tr th {\n",
       "        vertical-align: top;\n",
       "    }\n",
       "\n",
       "    .dataframe thead th {\n",
       "        text-align: right;\n",
       "    }\n",
       "</style>\n",
       "<table border=\"1\" class=\"dataframe\">\n",
       "  <thead>\n",
       "    <tr style=\"text-align: right;\">\n",
       "      <th></th>\n",
       "      <th>Pincode</th>\n",
       "      <th>Q Val. (Rs. Lac)</th>\n",
       "      <th>Order Val. (Rs. Lac)</th>\n",
       "      <th>Order QTY</th>\n",
       "      <th>Second Action-Call Status.1</th>\n",
       "      <th>Price Per Sft</th>\n",
       "      <th>Aesthetics</th>\n",
       "      <th>Reduce Street Noise</th>\n",
       "      <th>Low Maintenance</th>\n",
       "      <th>Monsoon Proof</th>\n",
       "      <th>Better Lighting</th>\n",
       "      <th>Reduce AC Energy Cost</th>\n",
       "    </tr>\n",
       "  </thead>\n",
       "  <tbody>\n",
       "    <tr>\n",
       "      <th>count</th>\n",
       "      <td>229.000000</td>\n",
       "      <td>183.000000</td>\n",
       "      <td>48.000000</td>\n",
       "      <td>48.000000</td>\n",
       "      <td>0.0</td>\n",
       "      <td>229.000000</td>\n",
       "      <td>37.000000</td>\n",
       "      <td>37.000000</td>\n",
       "      <td>37.000000</td>\n",
       "      <td>37.000000</td>\n",
       "      <td>37.000000</td>\n",
       "      <td>37.000000</td>\n",
       "    </tr>\n",
       "    <tr>\n",
       "      <th>mean</th>\n",
       "      <td>601742.572052</td>\n",
       "      <td>1.842459</td>\n",
       "      <td>1.874375</td>\n",
       "      <td>10.229167</td>\n",
       "      <td>NaN</td>\n",
       "      <td>1045.323144</td>\n",
       "      <td>0.243243</td>\n",
       "      <td>0.648649</td>\n",
       "      <td>0.486486</td>\n",
       "      <td>0.081081</td>\n",
       "      <td>0.027027</td>\n",
       "      <td>0.162162</td>\n",
       "    </tr>\n",
       "    <tr>\n",
       "      <th>std</th>\n",
       "      <td>6573.378113</td>\n",
       "      <td>2.595590</td>\n",
       "      <td>2.313372</td>\n",
       "      <td>14.925688</td>\n",
       "      <td>NaN</td>\n",
       "      <td>220.032076</td>\n",
       "      <td>0.434959</td>\n",
       "      <td>0.483978</td>\n",
       "      <td>0.506712</td>\n",
       "      <td>0.276725</td>\n",
       "      <td>0.164399</td>\n",
       "      <td>0.373684</td>\n",
       "    </tr>\n",
       "    <tr>\n",
       "      <th>min</th>\n",
       "      <td>600001.000000</td>\n",
       "      <td>0.010000</td>\n",
       "      <td>0.070000</td>\n",
       "      <td>1.000000</td>\n",
       "      <td>NaN</td>\n",
       "      <td>650.000000</td>\n",
       "      <td>0.000000</td>\n",
       "      <td>0.000000</td>\n",
       "      <td>0.000000</td>\n",
       "      <td>0.000000</td>\n",
       "      <td>0.000000</td>\n",
       "      <td>0.000000</td>\n",
       "    </tr>\n",
       "    <tr>\n",
       "      <th>25%</th>\n",
       "      <td>600033.000000</td>\n",
       "      <td>0.550000</td>\n",
       "      <td>0.530000</td>\n",
       "      <td>2.000000</td>\n",
       "      <td>NaN</td>\n",
       "      <td>921.000000</td>\n",
       "      <td>0.000000</td>\n",
       "      <td>0.000000</td>\n",
       "      <td>0.000000</td>\n",
       "      <td>0.000000</td>\n",
       "      <td>0.000000</td>\n",
       "      <td>0.000000</td>\n",
       "    </tr>\n",
       "    <tr>\n",
       "      <th>50%</th>\n",
       "      <td>600059.000000</td>\n",
       "      <td>1.070000</td>\n",
       "      <td>1.150000</td>\n",
       "      <td>6.000000</td>\n",
       "      <td>NaN</td>\n",
       "      <td>1030.000000</td>\n",
       "      <td>0.000000</td>\n",
       "      <td>1.000000</td>\n",
       "      <td>0.000000</td>\n",
       "      <td>0.000000</td>\n",
       "      <td>0.000000</td>\n",
       "      <td>0.000000</td>\n",
       "    </tr>\n",
       "    <tr>\n",
       "      <th>75%</th>\n",
       "      <td>600099.000000</td>\n",
       "      <td>2.000000</td>\n",
       "      <td>1.622500</td>\n",
       "      <td>10.500000</td>\n",
       "      <td>NaN</td>\n",
       "      <td>1129.000000</td>\n",
       "      <td>0.000000</td>\n",
       "      <td>1.000000</td>\n",
       "      <td>1.000000</td>\n",
       "      <td>0.000000</td>\n",
       "      <td>0.000000</td>\n",
       "      <td>0.000000</td>\n",
       "    </tr>\n",
       "    <tr>\n",
       "      <th>max</th>\n",
       "      <td>635810.000000</td>\n",
       "      <td>25.000000</td>\n",
       "      <td>10.950000</td>\n",
       "      <td>73.000000</td>\n",
       "      <td>NaN</td>\n",
       "      <td>3121.000000</td>\n",
       "      <td>1.000000</td>\n",
       "      <td>1.000000</td>\n",
       "      <td>1.000000</td>\n",
       "      <td>1.000000</td>\n",
       "      <td>1.000000</td>\n",
       "      <td>1.000000</td>\n",
       "    </tr>\n",
       "  </tbody>\n",
       "</table>\n",
       "</div>"
      ],
      "text/plain": [
       "             Pincode  Q Val. (Rs. Lac)  Order Val. (Rs. Lac)  Order QTY  \\\n",
       "count     229.000000        183.000000             48.000000  48.000000   \n",
       "mean   601742.572052          1.842459              1.874375  10.229167   \n",
       "std      6573.378113          2.595590              2.313372  14.925688   \n",
       "min    600001.000000          0.010000              0.070000   1.000000   \n",
       "25%    600033.000000          0.550000              0.530000   2.000000   \n",
       "50%    600059.000000          1.070000              1.150000   6.000000   \n",
       "75%    600099.000000          2.000000              1.622500  10.500000   \n",
       "max    635810.000000         25.000000             10.950000  73.000000   \n",
       "\n",
       "       Second Action-Call Status.1  Price Per Sft  Aesthetics  \\\n",
       "count                          0.0     229.000000   37.000000   \n",
       "mean                           NaN    1045.323144    0.243243   \n",
       "std                            NaN     220.032076    0.434959   \n",
       "min                            NaN     650.000000    0.000000   \n",
       "25%                            NaN     921.000000    0.000000   \n",
       "50%                            NaN    1030.000000    0.000000   \n",
       "75%                            NaN    1129.000000    0.000000   \n",
       "max                            NaN    3121.000000    1.000000   \n",
       "\n",
       "       Reduce Street Noise  Low Maintenance  Monsoon Proof  Better Lighting  \\\n",
       "count            37.000000        37.000000      37.000000        37.000000   \n",
       "mean              0.648649         0.486486       0.081081         0.027027   \n",
       "std               0.483978         0.506712       0.276725         0.164399   \n",
       "min               0.000000         0.000000       0.000000         0.000000   \n",
       "25%               0.000000         0.000000       0.000000         0.000000   \n",
       "50%               1.000000         0.000000       0.000000         0.000000   \n",
       "75%               1.000000         1.000000       0.000000         0.000000   \n",
       "max               1.000000         1.000000       1.000000         1.000000   \n",
       "\n",
       "       Reduce AC Energy Cost  \n",
       "count              37.000000  \n",
       "mean                0.162162  \n",
       "std                 0.373684  \n",
       "min                 0.000000  \n",
       "25%                 0.000000  \n",
       "50%                 0.000000  \n",
       "75%                 0.000000  \n",
       "max                 1.000000  "
      ]
     },
     "execution_count": 5,
     "metadata": {},
     "output_type": "execute_result"
    }
   ],
   "source": [
    "df.describe(\n",
    ")"
   ]
  },
  {
   "cell_type": "code",
   "execution_count": 6,
   "metadata": {
    "scrolled": true
   },
   "outputs": [
    {
     "name": "stdout",
     "output_type": "stream",
     "text": [
      "<class 'pandas.core.frame.DataFrame'>\n",
      "RangeIndex: 229 entries, 0 to 228\n",
      "Data columns (total 40 columns):\n",
      "Month                                        229 non-null object\n",
      "Enquiry Date                                 229 non-null object\n",
      "Enquiry Id                                   229 non-null object\n",
      "Allocation Status                            229 non-null object\n",
      "Status                                       229 non-null object\n",
      "State                                        229 non-null object\n",
      "City                                         229 non-null object\n",
      "Pincode                                      229 non-null int64\n",
      "Type of Project                              229 non-null object\n",
      "No of Windows                                229 non-null object\n",
      "Source                                       229 non-null object\n",
      "Zone                                         229 non-null object\n",
      "Dealer Name                                  229 non-null object\n",
      "First Action-Call made                       229 non-null object\n",
      "Date DD/MM/YY                                229 non-null object\n",
      "First Action-Call Status                     229 non-null object\n",
      "Date of Appointment (DD/MM/YY)               192 non-null object\n",
      "Second Action-Customer Meeting               192 non-null object\n",
      "Date DD/MM/YY.1                              192 non-null object\n",
      "Second Action-Call Status                    191 non-null object\n",
      "Third Action-Quote Given                     189 non-null object\n",
      "Date DD/MM/YY.2                              188 non-null object\n",
      "Q Val. (Rs. Lac)                             183 non-null float64\n",
      "Quote QTY                                    183 non-null object\n",
      " Order Recd\\Lost                             229 non-null object\n",
      "Date DD/MM/YY.3                              48 non-null object\n",
      "Order Val. (Rs. Lac)                         48 non-null float64\n",
      "Order QTY                                    48 non-null float64\n",
      "Quote ID (as per match to CCC Records)       116 non-null object\n",
      " Remarks-Brand and value if lost to UPVC     123 non-null object\n",
      "Second Action-Call Status.1                  0 non-null float64\n",
      "Remarks                                      171 non-null object\n",
      "Price Per Sft                                229 non-null int64\n",
      "Benefits                                     53 non-null object\n",
      "Aesthetics                                   37 non-null float64\n",
      "Reduce Street Noise                          37 non-null float64\n",
      "Low Maintenance                              37 non-null float64\n",
      "Monsoon Proof                                37 non-null float64\n",
      "Better Lighting                              37 non-null float64\n",
      "Reduce AC Energy Cost                        37 non-null float64\n",
      "dtypes: float64(10), int64(2), object(28)\n",
      "memory usage: 71.6+ KB\n"
     ]
    }
   ],
   "source": [
    "df.info()"
   ]
  },
  {
   "cell_type": "code",
   "execution_count": 13,
   "metadata": {
    "scrolled": true
   },
   "outputs": [
    {
     "data": {
      "image/png": "[encoded data removed]",
      "text/plain": [
       "<Figure size 432x288 with 1 Axes>"
      ]
     },
     "metadata": {
      "needs_background": "light"
     },
     "output_type": "display_data"
    }
   ],
   "source": [
    "df.Month.value_counts().plot(kind='bar')\n",
    "plt.title('Enquiry Dates over the year 2016-2017')\n",
    "plt.ylabel('count')\n",
    "plt.xlabel('Date')\n",
    "plt.show()"
   ]
  },
  {
   "cell_type": "raw",
   "metadata": {},
   "source": [
    "1)july 2016 has most number of enquiry.\n",
    "2)Oct 2016 has least number of enquiry"
   ]
  },
  {
   "cell_type": "code",
   "execution_count": 31,
   "metadata": {
    "scrolled": false
   },
   "outputs": [
    {
     "data": {
      "image/png": "[encoded data removed]",
      "text/plain": [
       "<Figure size 432x288 with 1 Axes>"
      ]
     },
     "metadata": {},
     "output_type": "display_data"
    }
   ],
   "source": [
    "df['Allocation Status'].value_counts().plot(kind='pie',autopct='%1.1f',explode=(0,0.1))\n",
    "plt.title('Business type')\n",
    "plt.show()"
   ]
  },
  {
   "cell_type": "raw",
   "metadata": {},
   "source": []
  },
  {
   "cell_type": "code",
   "execution_count": 23,
   "metadata": {},
   "outputs": [
    {
     "data": {
      "image/png": "[encoded data removed]",
      "text/plain": [
       "<Figure size 432x288 with 1 Axes>"
      ]
     },
     "metadata": {
      "needs_background": "light"
     },
     "output_type": "display_data"
    }
   ],
   "source": [
    "df.Status.value_counts().plot(kind='bar')\n",
    "plt.title('Enquiries Status')\n",
    "plt.ylabel('Counts')\n",
    "plt.xlabel('Loss vs won')\n",
    "plt.show()"
   ]
  },
  {
   "cell_type": "code",
   "execution_count": 25,
   "metadata": {},
   "outputs": [
    {
     "data": {
      "image/png": "[encoded data removed]",
      "text/plain": [
       "<Figure size 432x288 with 1 Axes>"
      ]
     },
     "metadata": {
      "needs_background": "light"
     },
     "output_type": "display_data"
    }
   ],
   "source": [
    "df.City.value_counts().plot(kind='bar')\n",
    "plt.title('Cities deal by pVC')\n",
    "plt.ylabel('Counts')\n",
    "plt.xlabel('City')\n",
    "\n",
    "plt.show()"
   ]
  },
  {
   "cell_type": "code",
   "execution_count": 29,
   "metadata": {
    "scrolled": true
   },
   "outputs": [
    {
     "data": {
      "image/png": "[encoded data removed]",
      "text/plain": [
       "<Figure size 432x288 with 1 Axes>"
      ]
     },
     "metadata": {
      "needs_background": "light"
     },
     "output_type": "display_data"
    }
   ],
   "source": [
    "df['Type of Project'].value_counts().plot(kind='bar')\n",
    "plt.ylabel('counts')\n",
    "\n",
    "plt.show()"
   ]
  },
  {
   "cell_type": "code",
   "execution_count": 30,
   "metadata": {},
   "outputs": [
    {
     "data": {
      "image/png": "[encoded data removed]",
      "text/plain": [
       "<Figure size 432x288 with 1 Axes>"
      ]
     },
     "metadata": {
      "needs_background": "light"
     },
     "output_type": "display_data"
    }
   ],
   "source": [
    "df['Source'].value_counts().plot(kind='bar')\n",
    "plt.title('Source of enquiry')\n",
    "plt.ylabel('Count of enquiries')\n",
    "plt.xlabel('Source of enquiry')\n",
    "plt.show()"
   ]
  },
  {
   "cell_type": "code",
   "execution_count": 32,
   "metadata": {},
   "outputs": [
    {
     "data": {
      "image/png": "[encoded data removed]",
      "text/plain": [
       "<Figure size 432x288 with 1 Axes>"
      ]
     },
     "metadata": {
      "needs_background": "light"
     },
     "output_type": "display_data"
    }
   ],
   "source": [
    "df['Dealer Name'].value_counts().plot(kind='bar')\n",
    "plt.show()"
   ]
  },
  {
   "cell_type": "markdown",
   "metadata": {},
   "source": [
    "# Changing the dealer name 'pearlson'\n"
   ]
  },
  {
   "cell_type": "code",
   "execution_count": null,
   "metadata": {},
   "outputs": [],
   "source": []
  }
 ],
 "metadata": {
  "kernelspec": {
   "display_name": "Python 2",
   "language": "python",
   "name": "python2"
  },
  "language_info": {
   "codemirror_mode": {
    "name": "ipython",
    "version": 2
   },
   "file_extension": ".py",
   "mimetype": "text/x-python",
   "name": "python",
   "nbconvert_exporter": "python",
   "pygments_lexer": "ipython2",
   "version": "2.7.16"
  }
 },
 "nbformat": 4,
 "nbformat_minor": 2
}
