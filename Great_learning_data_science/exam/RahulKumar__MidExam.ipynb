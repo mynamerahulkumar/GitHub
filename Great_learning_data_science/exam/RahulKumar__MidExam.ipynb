{
 "cells": [
  {
   "cell_type": "markdown",
   "metadata": {},
   "source": [
    "<span style=\"font-family: Arial; font-weight:bold;font-size:1em;color:#f0f0f0;\">.......................................\n",
    "    <span style=\"font-family: Arial; font-weight:bold;font-size:3.2em;color:#0a7a78;\">NPV EXAM FOR 30 MARKS"
   ]
  },
  {
   "cell_type": "markdown",
   "metadata": {},
   "source": [
    "----------"
   ]
  },
  {
   "cell_type": "markdown",
   "metadata": {},
   "source": [
    "# 4 Questions X 2 Marks = 8 Marks"
   ]
  },
  {
   "cell_type": "markdown",
   "metadata": {},
   "source": [
    "-----"
   ]
  },
  {
   "cell_type": "markdown",
   "metadata": {},
   "source": [
    "<span style=\"font-family: Arial; font-weight:bold;font-size:1.5em;color:#0a7a78;\"> 1. Create a null vector of size 7 and replace the fifth value with '1'"
   ]
  },
  {
   "cell_type": "code",
   "execution_count": 36,
   "metadata": {},
   "outputs": [
    {
     "data": {
      "text/plain": [
       "array([[0., 0., 0., 0., 0., 0., 0.]])"
      ]
     },
     "execution_count": 36,
     "metadata": {},
     "output_type": "execute_result"
    }
   ],
   "source": [
    "import numpy as np\n",
    "import pandas as pd\n",
    "import matplotlib.pyplot as plt\n",
    "%matplotlib inline\n",
    "a=np.zeros(shape=(1,7))\n",
    "a"
   ]
  },
  {
   "cell_type": "markdown",
   "metadata": {},
   "source": [
    "<span style=\"font-family: Arial; font-weight:bold;font-size:1.5em;color:#0a7a78;\">2. Create a random vector of size 100 and find the mean value."
   ]
  },
  {
   "cell_type": "code",
   "execution_count": 37,
   "metadata": {},
   "outputs": [
    {
     "data": {
      "text/plain": [
       "0.5116204727260051"
      ]
     },
     "execution_count": 37,
     "metadata": {},
     "output_type": "execute_result"
    }
   ],
   "source": [
    "a=np.random.random(100)\n",
    "a.mean()"
   ]
  },
  {
   "cell_type": "markdown",
   "metadata": {},
   "source": [
    "<span style=\"font-family: Arial; font-weight:bold;font-size:1.5em;color:#0a7a78;\"> 3. Create a DataFrame df from this dictionary data which has the index labels.For example consider the following DataFrame:"
   ]
  },
  {
   "cell_type": "code",
   "execution_count": 38,
   "metadata": {},
   "outputs": [],
   "source": [
    "data = {'animal': ['cow', 'cat', 'cow', 'dog', 'dog', 'cat', 'cow', 'cat', 'dog', 'dog'],\n",
    "        'age': [2.5, 3, 0.5, np.nan, 5, 2, 4.5, np.nan, 7, 3],\n",
    "        'visits': [1, 3, 2, 3, 2, 3, 1, 1, 2, 1]}\n",
    "\n",
    "labels = ['a', 'b', 'c', 'd', 'e', 'f', 'g', 'h', 'i', 'j']"
   ]
  },
  {
   "cell_type": "code",
   "execution_count": 65,
   "metadata": {
    "scrolled": true
   },
   "outputs": [
    {
     "data": {
      "text/html": [
       "<div>\n",
       "<style scoped>\n",
       "    .dataframe tbody tr th:only-of-type {\n",
       "        vertical-align: middle;\n",
       "    }\n",
       "\n",
       "    .dataframe tbody tr th {\n",
       "        vertical-align: top;\n",
       "    }\n",
       "\n",
       "    .dataframe thead th {\n",
       "        text-align: right;\n",
       "    }\n",
       "</style>\n",
       "<table border=\"1\" class=\"dataframe\">\n",
       "  <thead>\n",
       "    <tr style=\"text-align: right;\">\n",
       "      <th></th>\n",
       "      <th>animal</th>\n",
       "      <th>age</th>\n",
       "      <th>visits</th>\n",
       "    </tr>\n",
       "  </thead>\n",
       "  <tbody>\n",
       "    <tr>\n",
       "      <td>a</td>\n",
       "      <td>cow</td>\n",
       "      <td>2.5</td>\n",
       "      <td>1</td>\n",
       "    </tr>\n",
       "    <tr>\n",
       "      <td>b</td>\n",
       "      <td>cat</td>\n",
       "      <td>3.0</td>\n",
       "      <td>3</td>\n",
       "    </tr>\n",
       "    <tr>\n",
       "      <td>c</td>\n",
       "      <td>cow</td>\n",
       "      <td>0.5</td>\n",
       "      <td>2</td>\n",
       "    </tr>\n",
       "    <tr>\n",
       "      <td>d</td>\n",
       "      <td>dog</td>\n",
       "      <td>NaN</td>\n",
       "      <td>3</td>\n",
       "    </tr>\n",
       "    <tr>\n",
       "      <td>e</td>\n",
       "      <td>dog</td>\n",
       "      <td>5.0</td>\n",
       "      <td>2</td>\n",
       "    </tr>\n",
       "  </tbody>\n",
       "</table>\n",
       "</div>"
      ],
      "text/plain": [
       "  animal  age  visits\n",
       "a    cow  2.5       1\n",
       "b    cat  3.0       3\n",
       "c    cow  0.5       2\n",
       "d    dog  NaN       3\n",
       "e    dog  5.0       2"
      ]
     },
     "execution_count": 65,
     "metadata": {},
     "output_type": "execute_result"
    }
   ],
   "source": [
    "df=pd.DataFrame(data,index=labels)\n",
    "df.head()\n"
   ]
  },
  {
   "cell_type": "markdown",
   "metadata": {},
   "source": [
    "<span style=\"font-family: Arial; font-weight:bold;font-size:1.5em;color:#0a7a78;\">4. Select the rows where the animal is a cat and the age is less than 3."
   ]
  },
  {
   "cell_type": "code",
   "execution_count": 64,
   "metadata": {
    "scrolled": true
   },
   "outputs": [
    {
     "data": {
      "text/html": [
       "<div>\n",
       "<style scoped>\n",
       "    .dataframe tbody tr th:only-of-type {\n",
       "        vertical-align: middle;\n",
       "    }\n",
       "\n",
       "    .dataframe tbody tr th {\n",
       "        vertical-align: top;\n",
       "    }\n",
       "\n",
       "    .dataframe thead th {\n",
       "        text-align: right;\n",
       "    }\n",
       "</style>\n",
       "<table border=\"1\" class=\"dataframe\">\n",
       "  <thead>\n",
       "    <tr style=\"text-align: right;\">\n",
       "      <th></th>\n",
       "      <th>animal</th>\n",
       "      <th>age</th>\n",
       "      <th>visits</th>\n",
       "    </tr>\n",
       "  </thead>\n",
       "  <tbody>\n",
       "    <tr>\n",
       "      <td>f</td>\n",
       "      <td>cat</td>\n",
       "      <td>2.0</td>\n",
       "      <td>3</td>\n",
       "    </tr>\n",
       "  </tbody>\n",
       "</table>\n",
       "</div>"
      ],
      "text/plain": [
       "  animal  age  visits\n",
       "f    cat  2.0       3"
      ]
     },
     "execution_count": 64,
     "metadata": {},
     "output_type": "execute_result"
    }
   ],
   "source": [
    "df1=df[(df['animal']=='cat') \n",
    "       & (df['age']<3.0)]\n",
    "df1\n"
   ]
  },
  {
   "cell_type": "markdown",
   "metadata": {},
   "source": [
    "--------"
   ]
  },
  {
   "cell_type": "raw",
   "metadata": {},
   "source": []
  },
  {
   "cell_type": "markdown",
   "metadata": {},
   "source": [
    "# 5 Questions X 3 Marks = 15 Marks"
   ]
  },
  {
   "cell_type": "markdown",
   "metadata": {},
   "source": [
    "-----"
   ]
  },
  {
   "cell_type": "markdown",
   "metadata": {},
   "source": [
    "<span style=\"font-family: Arial; font-weight:bold;font-size:1.5em;color:#0a7a78;\">1. What are some differences between Pandas, Numpy?"
   ]
  },
  {
   "cell_type": "markdown",
   "metadata": {},
   "source": [
    "**Pandas:**\n",
    "\n",
    "      "
   ]
  },
  {
   "cell_type": "raw",
   "metadata": {},
   "source": [
    "1)Pandas can be used for graphical representation.\n",
    "2)Pandas is good  for dealing with matrix\n",
    "3) date range generation and frequency\n",
    "    conversion.\n",
    "4)It is used to deals with file operation\n",
    "5)merging and joining data sets.\n",
    "6)Size mutability: columns can be inserted and deleted from DataFrame and\n",
    "    higher dimensional objects"
   ]
  },
  {
   "cell_type": "markdown",
   "metadata": {},
   "source": [
    "**Numpy:**\n",
    "\n",
    "    "
   ]
  },
  {
   "cell_type": "raw",
   "metadata": {},
   "source": [
    "1)Numpy is used to deal with numeric values.\n",
    "2)Numpy can't be used for graph drawing.\n",
    "3)Fast numerical operation.\n",
    "4)Mathematical formulae available like Linear Algebra, Fourier Transforms, Random Number Generation\n",
    "\n",
    "\n"
   ]
  },
  {
   "cell_type": "code",
   "execution_count": null,
   "metadata": {},
   "outputs": [],
   "source": []
  },
  {
   "cell_type": "markdown",
   "metadata": {},
   "source": [
    "<span style=\"font-family: Arial; font-weight:bold;font-size:1.5em;color:#0a7a78;\">2. Create 3 differents Series, each of length 100, as follows:\n",
    "    \n",
    " A) Create\n",
    "        \n",
    "        * The first - a random number from 1 to 4\n",
    "        * The second - a random number from 1 to 3\n",
    "        * The third - a random number from 10,000 to 30,000\n",
    "\n",
    " B). Create a DataFrame by joinning the Series by column"
   ]
  },
  {
   "cell_type": "markdown",
   "metadata": {},
   "source": [
    "<span style=\"font-family: Arial; font-weight:bold;font-size:1.5em;color:#0a7a78;\">A) Create\n",
    "    \n",
    "    * The first a random number from 1 to 4\n",
    "    * The second a random number from 1 to 3\n",
    "    * The third a random number from 10,000 to 30,000"
   ]
  },
  {
   "cell_type": "code",
   "execution_count": 42,
   "metadata": {
    "scrolled": true
   },
   "outputs": [
    {
     "name": "stderr",
     "output_type": "stream",
     "text": [
      "//anaconda3/lib/python3.7/site-packages/ipykernel_launcher.py:1: DeprecationWarning: This function is deprecated. Please call randint(1, 4 + 1) instead\n",
      "  \"\"\"Entry point for launching an IPython kernel.\n",
      "//anaconda3/lib/python3.7/site-packages/ipykernel_launcher.py:2: DeprecationWarning: This function is deprecated. Please call randint(1, 3 + 1) instead\n",
      "  \n",
      "//anaconda3/lib/python3.7/site-packages/ipykernel_launcher.py:3: DeprecationWarning: This function is deprecated. Please call randint(10000, 30000 + 1) instead\n",
      "  This is separate from the ipykernel package so we can avoid doing imports until\n"
     ]
    }
   ],
   "source": [
    "a=np.random.random_integers(1,4,100)\n",
    "b=np.random.random_integers(1,3,100)\n",
    "c=np.random.random_integers(10000,30000,100)\n"
   ]
  },
  {
   "cell_type": "markdown",
   "metadata": {},
   "source": [
    "<span style=\"font-family: Arial; font-weight:bold;font-size:1.5em;color:#0a7a78;\"> B).  Create a DataFrame by joinning the Series by column"
   ]
  },
  {
   "cell_type": "code",
   "execution_count": 43,
   "metadata": {},
   "outputs": [
    {
     "data": {
      "text/plain": [
       "array([[    2,     2, 15737],\n",
       "       [    4,     2, 10632],\n",
       "       [    1,     2, 18006],\n",
       "       [    4,     3, 27498],\n",
       "       [    4,     1, 26579],\n",
       "       [    2,     3, 29967],\n",
       "       [    3,     1, 27232],\n",
       "       [    3,     3, 15514],\n",
       "       [    4,     1, 24311],\n",
       "       [    3,     1, 25676],\n",
       "       [    1,     2, 27051],\n",
       "       [    2,     3, 26536],\n",
       "       [    1,     2, 25565],\n",
       "       [    1,     1, 16374],\n",
       "       [    2,     1, 24044],\n",
       "       [    4,     2, 23348],\n",
       "       [    3,     2, 20420],\n",
       "       [    4,     3, 25358],\n",
       "       [    1,     3, 16499],\n",
       "       [    4,     1, 24212],\n",
       "       [    1,     1, 22215],\n",
       "       [    4,     3, 21315],\n",
       "       [    4,     2, 29327],\n",
       "       [    2,     1, 17792],\n",
       "       [    2,     3, 14436],\n",
       "       [    4,     2, 27880],\n",
       "       [    4,     1, 21896],\n",
       "       [    2,     3, 26791],\n",
       "       [    4,     3, 23826],\n",
       "       [    1,     1, 29757],\n",
       "       [    2,     3, 28653],\n",
       "       [    4,     3, 27299],\n",
       "       [    1,     3, 17960],\n",
       "       [    3,     3, 11269],\n",
       "       [    1,     3, 13521],\n",
       "       [    3,     3, 14221],\n",
       "       [    1,     2, 26330],\n",
       "       [    3,     1, 17986],\n",
       "       [    1,     1, 15148],\n",
       "       [    1,     1, 18433],\n",
       "       [    3,     1, 24361],\n",
       "       [    3,     1, 25142],\n",
       "       [    2,     3, 26037],\n",
       "       [    4,     1, 28874],\n",
       "       [    3,     3, 17872],\n",
       "       [    4,     1, 22723],\n",
       "       [    4,     1, 16804],\n",
       "       [    1,     1, 16140],\n",
       "       [    3,     2, 17499],\n",
       "       [    2,     3, 29124],\n",
       "       [    3,     2, 18620],\n",
       "       [    1,     1, 29412],\n",
       "       [    2,     1, 10476],\n",
       "       [    3,     3, 20410],\n",
       "       [    3,     1, 28911],\n",
       "       [    1,     3, 24360],\n",
       "       [    3,     1, 16861],\n",
       "       [    4,     3, 15078],\n",
       "       [    2,     3, 22851],\n",
       "       [    3,     2, 13349],\n",
       "       [    1,     3, 14798],\n",
       "       [    4,     3, 26727],\n",
       "       [    4,     2, 23782],\n",
       "       [    3,     1, 24825],\n",
       "       [    2,     3, 28003],\n",
       "       [    4,     1, 14496],\n",
       "       [    2,     3, 21266],\n",
       "       [    4,     3, 15292],\n",
       "       [    2,     2, 14304],\n",
       "       [    2,     2, 26312],\n",
       "       [    1,     1, 25300],\n",
       "       [    2,     1, 24562],\n",
       "       [    2,     2, 21481],\n",
       "       [    4,     2, 20384],\n",
       "       [    1,     3, 24076],\n",
       "       [    3,     2, 15460],\n",
       "       [    4,     1, 13589],\n",
       "       [    1,     1, 16099],\n",
       "       [    2,     3, 17186],\n",
       "       [    2,     3, 15246],\n",
       "       [    3,     3, 23320],\n",
       "       [    1,     3, 27150],\n",
       "       [    1,     3, 22509],\n",
       "       [    2,     3, 19507],\n",
       "       [    3,     1, 13989],\n",
       "       [    2,     1, 26507],\n",
       "       [    2,     1, 15761],\n",
       "       [    2,     3, 18101],\n",
       "       [    3,     3, 21369],\n",
       "       [    1,     3, 28409],\n",
       "       [    2,     3, 16791],\n",
       "       [    2,     2, 21728],\n",
       "       [    2,     2, 15292],\n",
       "       [    1,     1, 25512],\n",
       "       [    4,     3, 21813],\n",
       "       [    2,     3, 16847],\n",
       "       [    3,     2, 10017],\n",
       "       [    3,     1, 13088],\n",
       "       [    4,     1, 21457],\n",
       "       [    1,     2, 24948]])"
      ]
     },
     "execution_count": 43,
     "metadata": {},
     "output_type": "execute_result"
    }
   ],
   "source": [
    "df=np.column_stack((a,b,c))\n",
    "df"
   ]
  },
  {
   "cell_type": "markdown",
   "metadata": {},
   "source": [
    "<span style=\"font-family: Arial; font-weight:bold;font-size:1.5em;color:#0a7a78;\"> 3. Given an array with strings - \n",
    "\n",
    "str_arr = np.array(['Python', 'Machine learning', 'Sql', 'Excel']).\n",
    "\n",
    "Use inbuilt numpy functions to print the array in upper and lower case."
   ]
  },
  {
   "cell_type": "code",
   "execution_count": 44,
   "metadata": {},
   "outputs": [
    {
     "name": "stdout",
     "output_type": "stream",
     "text": [
      "PYTHON\n",
      "MACHINE LEARNING\n",
      "SQL\n",
      "EXCEL\n",
      "python\n",
      "machine learning\n",
      "sql\n",
      "excel\n"
     ]
    }
   ],
   "source": [
    "str_arr = np.array(['Python', 'Machine learning', 'Sql', 'Excel'])\n",
    "for s in str_arr:\n",
    "    print(s.upper())\n",
    "for s in str_arr:\n",
    "    print(s.lower())"
   ]
  },
  {
   "cell_type": "markdown",
   "metadata": {},
   "source": [
    "<span style=\"font-family: Arial; font-weight:bold;font-size:1.5em;color:#0a7a78;\">4. Use NumPy to generate an array of 100 random numbers sampled from a standard normal distribution."
   ]
  },
  {
   "cell_type": "code",
   "execution_count": 45,
   "metadata": {},
   "outputs": [
    {
     "data": {
      "text/plain": [
       "array([[-9.90390457e-01, -9.59744312e-01, -2.40103652e-01,\n",
       "         2.78684637e-01,  2.80536304e-02, -4.57648558e-01,\n",
       "         1.88675010e+00, -4.64802727e-01, -8.28279253e-01,\n",
       "        -4.87828728e-01, -9.58346728e-02, -4.15360027e-01,\n",
       "        -6.50381790e-01, -5.70013954e-01, -1.06393389e-01,\n",
       "         1.16507592e+00,  6.46065911e-01, -3.45569924e-01,\n",
       "        -1.06707411e+00, -1.19567223e+00, -1.26719285e+00,\n",
       "        -1.86812407e-01, -2.24181016e-01, -5.31889662e-01,\n",
       "         7.13525552e-01, -4.92399324e-01, -1.58059303e-01,\n",
       "        -1.11672042e+00,  3.41013484e-02, -2.91254118e-02,\n",
       "         7.34155367e-01,  1.02963042e+00, -1.23090967e+00,\n",
       "        -3.30460638e-01, -2.94843063e-01,  1.21192524e+00,\n",
       "        -1.38714403e+00, -6.30955779e-01,  3.63345809e-01,\n",
       "         5.54192066e-02, -2.26780148e+00,  4.82973559e-01,\n",
       "         4.01864231e-01,  1.75810260e+00, -3.71985139e-01,\n",
       "         8.21904612e-01, -3.45221696e-02, -2.69741031e-01,\n",
       "        -1.71314684e-01,  2.67539859e-01,  8.46563804e-01,\n",
       "        -2.79390311e-02,  1.99029466e+00, -5.17879077e-01,\n",
       "        -1.43524534e-03,  3.51037605e-01, -1.62935631e+00,\n",
       "        -1.03911965e+00, -4.20456615e-01, -8.76985045e-01,\n",
       "         3.29750785e-01, -9.24001398e-04, -4.46523139e-01,\n",
       "        -6.58038983e-01,  9.59121310e-01,  1.64398859e+00,\n",
       "         1.97621253e-01,  1.08439401e+00,  5.12170332e-02,\n",
       "         1.84410424e-01,  1.93170994e+00, -4.96484661e-01,\n",
       "        -5.77097547e-01,  3.35466230e-01,  7.22537787e-02,\n",
       "        -2.23529275e+00,  5.53299765e-01,  2.21589031e-01,\n",
       "         2.54069280e+00, -6.47648600e-01,  7.74986696e-01,\n",
       "        -1.45266514e+00, -5.50107958e-01, -1.55420975e-01,\n",
       "        -1.87711161e+00,  1.16501518e+00,  7.50677270e-02,\n",
       "         1.01836539e+00,  1.93911796e+00, -1.05666104e+00,\n",
       "        -1.49169670e-01, -4.70273970e-01, -7.51313450e-02,\n",
       "         4.58312757e-01,  1.78927006e+00, -6.56360010e-01,\n",
       "         4.89262002e-01, -6.42804794e-01, -7.64198826e-01,\n",
       "         2.55038200e+00]])"
      ]
     },
     "execution_count": 45,
     "metadata": {},
     "output_type": "execute_result"
    }
   ],
   "source": [
    "a=np.random.randn(1,100)\n",
    "a"
   ]
  },
  {
   "cell_type": "markdown",
   "metadata": {},
   "source": [
    "<span style=\"font-family: Arial; font-weight:bold;font-size:1.5em;color:#0a7a78;\">5. Delete an element in Numpy Array = [4,5,6,7,8,9,10,11] with Index position 2."
   ]
  },
  {
   "cell_type": "code",
   "execution_count": 46,
   "metadata": {},
   "outputs": [
    {
     "data": {
      "text/plain": [
       "array([ 4,  6,  7,  8,  9, 10, 11])"
      ]
     },
     "execution_count": 46,
     "metadata": {},
     "output_type": "execute_result"
    }
   ],
   "source": [
    "a=np.array([4,5,6,7,8,9,10,11])\n",
    "a=np.delete(a,[1])\n",
    "a"
   ]
  },
  {
   "cell_type": "markdown",
   "metadata": {},
   "source": [
    "-----"
   ]
  },
  {
   "cell_type": "markdown",
   "metadata": {},
   "source": [
    "# 1 Questions X 7 Marks = 7 Marks"
   ]
  },
  {
   "cell_type": "markdown",
   "metadata": {},
   "source": [
    "----------"
   ]
  },
  {
   "cell_type": "markdown",
   "metadata": {},
   "source": [
    "**About Data-set:** The dataset contains 830 entries from mobile phone log spanning a total time of 5 months"
   ]
  },
  {
   "cell_type": "markdown",
   "metadata": {},
   "source": [
    "1. date: The date and time of the entry\n",
    "\n",
    "2. duration: The duration (in seconds) for each call, the amount of data (in MB) for each data entry, and the number of texts sent (usually 1) for each sms entry.\n",
    "\n",
    "3. item: A description of the event occurring – can be one of call, sms, or data.\n",
    "\n",
    "4. month: The billing month that each entry belongs to – of form ‘YYYY-MM’.\n",
    "\n",
    "5. network: The mobile network that was called/texted for each entry.\n",
    "\n",
    "6. network_type: Whether the number being called was a mobile, international (‘world’), voicemail, landline, or other (‘special’) number."
   ]
  },
  {
   "cell_type": "markdown",
   "metadata": {},
   "source": [
    "<span style=\"font-family: Arial; font-weight:bold;font-size:1.5em;color:#0a7a78;\">1. Read The data phone_data.csv and Answer the below questions\n",
    "    \n",
    "    1.A) How many rows and columns are there in the dataset (phone_data.csv)\n",
    "    1.B) What was the longest phone call / data entry?\n",
    "    1.C) How many seconds of phone calls are recorded in total?\n",
    "    1.D) Get the first entry for each month?\n",
    "    1.E) Get the sum of the durations per month?\n",
    "    1.F) What is the sum of durations of calls  to each network?\n",
    "    1.G) How many calls, sms, and data entries are there in each month?\n",
    "    "
   ]
  },
  {
   "cell_type": "markdown",
   "metadata": {},
   "source": [
    "<span style=\"font-family: Arial; font-weight:bold;font-size:1.5em;color:#0a7a78;\">1.A) How many rows and column in the dataset (phone_data.csv)(1 MARKS)?"
   ]
  },
  {
   "cell_type": "code",
   "execution_count": 55,
   "metadata": {
    "scrolled": true
   },
   "outputs": [
    {
     "data": {
      "text/plain": [
       "(830, 7)"
      ]
     },
     "execution_count": 55,
     "metadata": {},
     "output_type": "execute_result"
    }
   ],
   "source": [
    "phone=pd.read_csv('phone_data.csv')\n",
    "phone.shape"
   ]
  },
  {
   "cell_type": "code",
   "execution_count": null,
   "metadata": {
    "scrolled": false
   },
   "outputs": [],
   "source": []
  },
  {
   "cell_type": "markdown",
   "metadata": {},
   "source": [
    "<span style=\"font-family: Arial; font-weight:bold;font-size:1.5em;color:#0a7a78;\">1.B) What was the longest phone call / data entry(1 MARKS)?"
   ]
  },
  {
   "cell_type": "code",
   "execution_count": 56,
   "metadata": {},
   "outputs": [
    {
     "data": {
      "text/plain": [
       "10528.0"
      ]
     },
     "execution_count": 56,
     "metadata": {},
     "output_type": "execute_result"
    }
   ],
   "source": [
    "phone['duration'].max()"
   ]
  },
  {
   "cell_type": "markdown",
   "metadata": {},
   "source": [
    "<span style=\"font-family: Arial; font-weight:bold;font-size:1.5em;color:#0a7a78;\">1.C) How many seconds of phone calls are recorded in total(1 MARKS)?"
   ]
  },
  {
   "cell_type": "code",
   "execution_count": 57,
   "metadata": {},
   "outputs": [
    {
     "data": {
      "text/plain": [
       "97777.35000000002"
      ]
     },
     "execution_count": 57,
     "metadata": {},
     "output_type": "execute_result"
    }
   ],
   "source": [
    "phone['duration'].sum()"
   ]
  },
  {
   "cell_type": "markdown",
   "metadata": {},
   "source": [
    "<span style=\"font-family: Arial; font-weight:bold;font-size:1.5em;color:#0a7a78;\">1.D) Get the first entry for each month(1 MARKS)?"
   ]
  },
  {
   "cell_type": "code",
   "execution_count": 58,
   "metadata": {
    "scrolled": true
   },
   "outputs": [
    {
     "data": {
      "text/html": [
       "<div>\n",
       "<style scoped>\n",
       "    .dataframe tbody tr th:only-of-type {\n",
       "        vertical-align: middle;\n",
       "    }\n",
       "\n",
       "    .dataframe tbody tr th {\n",
       "        vertical-align: top;\n",
       "    }\n",
       "\n",
       "    .dataframe thead th {\n",
       "        text-align: right;\n",
       "    }\n",
       "</style>\n",
       "<table border=\"1\" class=\"dataframe\">\n",
       "  <thead>\n",
       "    <tr style=\"text-align: right;\">\n",
       "      <th></th>\n",
       "      <th>index</th>\n",
       "      <th>date</th>\n",
       "      <th>duration</th>\n",
       "      <th>item</th>\n",
       "      <th>month</th>\n",
       "      <th>network</th>\n",
       "      <th>network_type</th>\n",
       "    </tr>\n",
       "  </thead>\n",
       "  <tbody>\n",
       "    <tr>\n",
       "      <td>0</td>\n",
       "      <td>0</td>\n",
       "      <td>15/10/14 06:58</td>\n",
       "      <td>34.429</td>\n",
       "      <td>data</td>\n",
       "      <td>2014-11</td>\n",
       "      <td>data</td>\n",
       "      <td>data</td>\n",
       "    </tr>\n",
       "    <tr>\n",
       "      <td>228</td>\n",
       "      <td>228</td>\n",
       "      <td>13/11/14 06:58</td>\n",
       "      <td>34.429</td>\n",
       "      <td>data</td>\n",
       "      <td>2014-12</td>\n",
       "      <td>data</td>\n",
       "      <td>data</td>\n",
       "    </tr>\n",
       "    <tr>\n",
       "      <td>381</td>\n",
       "      <td>381</td>\n",
       "      <td>13/12/14 06:58</td>\n",
       "      <td>34.429</td>\n",
       "      <td>data</td>\n",
       "      <td>2015-01</td>\n",
       "      <td>data</td>\n",
       "      <td>data</td>\n",
       "    </tr>\n",
       "    <tr>\n",
       "      <td>577</td>\n",
       "      <td>577</td>\n",
       "      <td>13/01/15 06:58</td>\n",
       "      <td>34.429</td>\n",
       "      <td>data</td>\n",
       "      <td>2015-02</td>\n",
       "      <td>data</td>\n",
       "      <td>data</td>\n",
       "    </tr>\n",
       "    <tr>\n",
       "      <td>729</td>\n",
       "      <td>729</td>\n",
       "      <td>12/02/15 20:15</td>\n",
       "      <td>69.000</td>\n",
       "      <td>call</td>\n",
       "      <td>2015-03</td>\n",
       "      <td>landline</td>\n",
       "      <td>landline</td>\n",
       "    </tr>\n",
       "  </tbody>\n",
       "</table>\n",
       "</div>"
      ],
      "text/plain": [
       "     index            date  duration  item    month   network network_type\n",
       "0        0  15/10/14 06:58    34.429  data  2014-11      data         data\n",
       "228    228  13/11/14 06:58    34.429  data  2014-12      data         data\n",
       "381    381  13/12/14 06:58    34.429  data  2015-01      data         data\n",
       "577    577  13/01/15 06:58    34.429  data  2015-02      data         data\n",
       "729    729  12/02/15 20:15    69.000  call  2015-03  landline     landline"
      ]
     },
     "execution_count": 58,
     "metadata": {},
     "output_type": "execute_result"
    }
   ],
   "source": [
    "phone1=phone\n",
    "phone1.drop_duplicates(subset='month',keep='first')\n"
   ]
  },
  {
   "cell_type": "markdown",
   "metadata": {},
   "source": [
    "<span style=\"font-family: Arial; font-weight:bold;font-size:1.5em;color:#0a7a78;\">1.E) Get the sum of the durations per month(1 MARKS)?"
   ]
  },
  {
   "cell_type": "code",
   "execution_count": 59,
   "metadata": {},
   "outputs": [
    {
     "data": {
      "text/html": [
       "<div>\n",
       "<style scoped>\n",
       "    .dataframe tbody tr th:only-of-type {\n",
       "        vertical-align: middle;\n",
       "    }\n",
       "\n",
       "    .dataframe tbody tr th {\n",
       "        vertical-align: top;\n",
       "    }\n",
       "\n",
       "    .dataframe thead th {\n",
       "        text-align: right;\n",
       "    }\n",
       "</style>\n",
       "<table border=\"1\" class=\"dataframe\">\n",
       "  <thead>\n",
       "    <tr style=\"text-align: right;\">\n",
       "      <th></th>\n",
       "      <th>duration</th>\n",
       "    </tr>\n",
       "    <tr>\n",
       "      <th>month</th>\n",
       "      <th></th>\n",
       "    </tr>\n",
       "  </thead>\n",
       "  <tbody>\n",
       "    <tr>\n",
       "      <td>2014-11</td>\n",
       "      <td>26639.441</td>\n",
       "    </tr>\n",
       "    <tr>\n",
       "      <td>2014-12</td>\n",
       "      <td>14641.870</td>\n",
       "    </tr>\n",
       "    <tr>\n",
       "      <td>2015-01</td>\n",
       "      <td>18223.299</td>\n",
       "    </tr>\n",
       "    <tr>\n",
       "      <td>2015-02</td>\n",
       "      <td>15522.299</td>\n",
       "    </tr>\n",
       "    <tr>\n",
       "      <td>2015-03</td>\n",
       "      <td>22750.441</td>\n",
       "    </tr>\n",
       "  </tbody>\n",
       "</table>\n",
       "</div>"
      ],
      "text/plain": [
       "          duration\n",
       "month             \n",
       "2014-11  26639.441\n",
       "2014-12  14641.870\n",
       "2015-01  18223.299\n",
       "2015-02  15522.299\n",
       "2015-03  22750.441"
      ]
     },
     "execution_count": 59,
     "metadata": {},
     "output_type": "execute_result"
    }
   ],
   "source": [
    "phone1=phone\n",
    "phone1.groupby('month').agg({'duration':'sum'})\n",
    "\n"
   ]
  },
  {
   "cell_type": "markdown",
   "metadata": {},
   "source": [
    "<span style=\"font-family: Arial; font-weight:bold;font-size:1.5em;color:#0a7a78;\"> 1.F) What is the sum of durations, for calls only, to each network(1 MARKS)? Visualize using bar chart."
   ]
  },
  {
   "cell_type": "code",
   "execution_count": 60,
   "metadata": {
    "scrolled": true
   },
   "outputs": [
    {
     "data": {
      "text/plain": [
       "Text(0, 0.5, 'duration in second')"
      ]
     },
     "execution_count": 60,
     "metadata": {},
     "output_type": "execute_result"
    },
    {
     "data": {
      "image/png": "[encoded data removed]",
      "text/plain": [
       "<Figure size 432x288 with 1 Axes>"
      ]
     },
     "metadata": {
      "needs_background": "light"
     },
     "output_type": "display_data"
    }
   ],
   "source": [
    "phone1.groupby('network').agg({'duration':'sum'}).plot(kind='bar')\n",
    "plt.ylabel('duration in second')\n",
    "#plt.bar(a,height=30)"
   ]
  },
  {
   "cell_type": "markdown",
   "metadata": {},
   "source": [
    "<span style=\"font-family: Arial; font-weight:bold;font-size:1.5em;color:#0a7a78;\"> 1.G) How many calls, sms, and data entries are in each month(1 MARKS)? Visualize using pie chart."
   ]
  },
  {
   "cell_type": "code",
   "execution_count": 61,
   "metadata": {
    "scrolled": false
   },
   "outputs": [
    {
     "data": {
      "text/plain": [
       "Text(0.5, 1.0, 'calls, sms, and data entries are in each month')"
      ]
     },
     "execution_count": 61,
     "metadata": {},
     "output_type": "execute_result"
    },
    {
     "data": {
      "image/png": "[encoded data removed]",
      "text/plain": [
       "<Figure size 432x288 with 1 Axes>"
      ]
     },
     "metadata": {},
     "output_type": "display_data"
    }
   ],
   "source": [
    "a=phone['item'].value_counts()\n",
    "X=[]\n",
    "for i in a:\n",
    "    X.append(i)\n",
    "label=['call','sms','data']\n",
    "plt.pie(X,labels=label,autopct='%1.1f')\n",
    "plt.title('calls, sms, and data entries are in each month')"
   ]
  },
  {
   "cell_type": "code",
   "execution_count": 29,
   "metadata": {},
   "outputs": [],
   "source": [
    "#phone.groupby('month').value_counts('item')\n"
   ]
  },
  {
   "cell_type": "markdown",
   "metadata": {},
   "source": [
    "-----------"
   ]
  },
  {
   "cell_type": "markdown",
   "metadata": {},
   "source": [
    "<span style=\"font-family: Arial; font-weight:bold;font-size:1em;color:#f0f0f0;\">.............................................................................\n",
    "<span style=\"font-family: Arial; font-weight:bold;font-size:3.5em;color:#8db509;\">THE END"
   ]
  },
  {
   "cell_type": "markdown",
   "metadata": {},
   "source": [
    "------------"
   ]
  }
 ],
 "metadata": {
  "kernelspec": {
   "display_name": "Python 3",
   "language": "python",
   "name": "python3"
  },
  "language_info": {
   "codemirror_mode": {
    "name": "ipython",
    "version": 3
   },
   "file_extension": ".py",
   "mimetype": "text/x-python",
   "name": "python",
   "nbconvert_exporter": "python",
   "pygments_lexer": "ipython3",
   "version": "3.7.3"
  }
 },
 "nbformat": 4,
 "nbformat_minor": 2
}
