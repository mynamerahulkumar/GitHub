{
 "cells": [
  {
   "cell_type": "raw",
   "metadata": {},
   "source": [
    "Q1. Design an air traffic control unit. The runway should be either free or busy, Each plane should\n",
    "request for landing if the plane is given permission for landing the runway should be changed to busy\n",
    "and no plane should be given access to that runway. (5 marks)\n",
    "a. Make a list of free runways\n",
    "free_run_ways = [3,4,5]\n",
    "b. Make a list of busy runways.\n",
    "busy_run_ways = [1,2]\n",
    "c. when pilot requests for landing give him runway from free runway and\n",
    "remove it from free and add to busy.\n",
    "The runway has given: 4\n",
    "free_run_ways = [3,5]\n",
    "busy_run_ways = [1,2,4]\n",
    "d. If the busy runway is given raise warning.\n",
    "WARNING run way busy\n",
    "e. On landing remove runway from busy and add to free\n",
    "Landed: YES"
   ]
  },
  {
   "cell_type": "code",
   "execution_count": 12,
   "metadata": {},
   "outputs": [],
   "source": [
    "free_run_ways=[3,4,5]\n",
    "busy_run_ways=[1,2]"
   ]
  },
  {
   "cell_type": "code",
   "execution_count": 13,
   "metadata": {},
   "outputs": [],
   "source": [
    "def checkAirways(run_way):\n",
    "    if run_way  in free_run_ways:\n",
    "        print(\"Landed successfully\")\n",
    "        busy_run_ways.append(run_way)\n",
    "        free_run_ways.remove(run_way)\n",
    "        \n",
    "    elif run_way  in busy_run_ways:\n",
    "        print(\"Landing can't be done its busy\")\n",
    "        return \n",
    "    else:\n",
    "        print(\"Wrong run way selection\")"
   ]
  },
  {
   "cell_type": "code",
   "execution_count": 15,
   "metadata": {},
   "outputs": [
    {
     "name": "stdout",
     "output_type": "stream",
     "text": [
      "enter run_way4\n",
      "Landed successfully\n",
      "Free run_ways:  [5]\n",
      "Busy run_ways:  [1, 2, 3, 4]\n"
     ]
    }
   ],
   "source": [
    "inp=int(input(\"enter run_way\"))\n",
    "checkAirways(inp)\n",
    "print(\"Free run_ways: \",free_run_ways)\n",
    "print(\"Busy run_ways: \",busy_run_ways)"
   ]
  },
  {
   "cell_type": "raw",
   "metadata": {},
   "source": [
    "Q2. Create a dictionary with a single alphabet as the key and an integer as the corresponding value.\n",
    "Write a program to find out the highest 3 values in the dictionary. You are free to choose any number of\n",
    "key and value pairs. Innovative code gets more marks as an advantage (5 marks)\n",
    "SAMPLE INPUT: Initial Dictionary:\n",
    "{'A': 67, 'B': 23, 'C': 45, 'D': 56, 'E': 12, 'F': 69}\n",
    "SAMPLE OUTPUT: Dictionary with 3 highest values:\n",
    "Keys: Values\n",
    "F: 69\n",
    "A: 67\n",
    "D: 56"
   ]
  },
  {
   "cell_type": "code",
   "execution_count": 16,
   "metadata": {},
   "outputs": [],
   "source": [
    "dic={'A': 67, 'B': 23, 'C': 45, 'D': 56, 'E': 12, 'F': 69}\n"
   ]
  },
  {
   "cell_type": "code",
   "execution_count": 18,
   "metadata": {},
   "outputs": [
    {
     "name": "stdout",
     "output_type": "stream",
     "text": [
      "A 67\n",
      "B 23\n",
      "C 45\n",
      "D 56\n",
      "E 12\n",
      "F 69\n"
     ]
    }
   ],
   "source": [
    "for key,value in dic.items():\n",
    "    print(key,value)"
   ]
  },
  {
   "cell_type": "code",
   "execution_count": 23,
   "metadata": {},
   "outputs": [],
   "source": [
    "dic1={k:v for k,v in sorted(dic.items(),key =lambda item:item[1],reverse=True)}"
   ]
  },
  {
   "cell_type": "code",
   "execution_count": 24,
   "metadata": {},
   "outputs": [
    {
     "data": {
      "text/plain": [
       "{'F': 69, 'A': 67, 'D': 56, 'C': 45, 'B': 23, 'E': 12}"
      ]
     },
     "execution_count": 24,
     "metadata": {},
     "output_type": "execute_result"
    }
   ],
   "source": [
    "dic1"
   ]
  },
  {
   "cell_type": "code",
   "execution_count": 25,
   "metadata": {},
   "outputs": [
    {
     "name": "stdout",
     "output_type": "stream",
     "text": [
      "F 69\n",
      "A 67\n",
      "D 56\n"
     ]
    }
   ],
   "source": [
    "cnt=0\n",
    "for k,v in dic1.items():\n",
    "    print(k,v)\n",
    "    cnt+=1\n",
    "    if cnt==3:\n",
    "        break"
   ]
  },
  {
   "cell_type": "raw",
   "metadata": {},
   "source": [
    "Q3. Fibonacci Series is computed based on the following formula: (5 marks)\n",
    "f(n)=0 if n=0\n",
    "f(n)=1 if n=1\n",
    "f(n)=f(n-1)+f(n-2) if n>1\n",
    "Write a program using list comprehension to print the Fibonacci Sequence in the comma-separated form\n",
    "with a given n input by user input.\n",
    "\n",
    "INTRODUCTION TO PYTHON PROGRAMMING\n",
    "\n",
    "Sample input: 5\n",
    "Sample Output: 0,1,1,2,"
   ]
  },
  {
   "cell_type": "code",
   "execution_count": null,
   "metadata": {},
   "outputs": [],
   "source": []
  },
  {
   "cell_type": "code",
   "execution_count": 39,
   "metadata": {},
   "outputs": [],
   "source": [
    "def Fibonacci(n): \n",
    "    if n<0: \n",
    "        print(\"Incorrect input\") \n",
    "    # First Fibonacci number is 0 \n",
    "    elif n==1: \n",
    "        return 0\n",
    "    # Second Fibonacci number is 1 \n",
    "    elif n==2: \n",
    "        return 1\n",
    "    else: \n",
    "        return Fibonacci(n-1)+Fibonacci(n-2) "
   ]
  },
  {
   "cell_type": "code",
   "execution_count": 40,
   "metadata": {},
   "outputs": [
    {
     "name": "stdout",
     "output_type": "stream",
     "text": [
      "3\n"
     ]
    }
   ],
   "source": [
    "print(Fibonacci(5))"
   ]
  },
  {
   "cell_type": "raw",
   "metadata": {},
   "source": [
    "Q4. In a Flipkart sale, all the people who took the phone and also ordered phone cover, other people\n",
    "who took shoes also ordered socks and based on the people's choice recommend them the item they are\n",
    "most likely to order? (5 marks)\n",
    "a. This is a list of products and recommendations. items = [('mobile','cover'),('shoe','socks')]\n",
    "b. Take input from the customer\n",
    "c. Search for the product in items list and return the recommended product. if the input is mobile\n",
    "suggest mobile cover, if the input is shoe suggest socks\n",
    "d. Take input from user YES or NO, if he is interested. Do you want to buy cover: YES\n",
    "e. Return items in the shopping list like -\n",
    "If the mobile is bought, then it should also suggest cover."
   ]
  },
  {
   "cell_type": "code",
   "execution_count": 42,
   "metadata": {},
   "outputs": [],
   "source": [
    "recomend_list=[('mobile','cover'),('shoe','socks')]"
   ]
  },
  {
   "cell_type": "code",
   "execution_count": 50,
   "metadata": {},
   "outputs": [
    {
     "name": "stdout",
     "output_type": "stream",
     "text": [
      "('mobile', 'cover')\n"
     ]
    }
   ],
   "source": [
    "for p in recomend_list:\n",
    "    if 'mobile' in p:\n",
    "        print(p)"
   ]
  },
  {
   "cell_type": "code",
   "execution_count": 49,
   "metadata": {},
   "outputs": [],
   "source": [
    "if 'shoe' in recomend_list:\n",
    "    print('sg')"
   ]
  },
  {
   "cell_type": "code",
   "execution_count": null,
   "metadata": {},
   "outputs": [],
   "source": []
  }
 ],
 "metadata": {
  "kernelspec": {
   "display_name": "Python 3",
   "language": "python",
   "name": "python3"
  },
  "language_info": {
   "codemirror_mode": {
    "name": "ipython",
    "version": 3
   },
   "file_extension": ".py",
   "mimetype": "text/x-python",
   "name": "python",
   "nbconvert_exporter": "python",
   "pygments_lexer": "ipython3",
   "version": "3.7.4"
  }
 },
 "nbformat": 4,
 "nbformat_minor": 2
}
