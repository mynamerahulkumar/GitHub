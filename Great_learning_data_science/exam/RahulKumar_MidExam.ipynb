{
 "cells": [
  {
   "cell_type": "markdown",
   "metadata": {
    "colab_type": "text",
    "id": "7bFX4eN0o9Ma"
   },
   "source": [
    "<span style=\"font-family: Arial; font-weight:bold;font-size:1em;color:#f0f0f0;\">......................................\n",
    "    <span style=\"font-family: Arial; font-weight:bold;font-size:3.2em;color:#5d067d;\">ITP EXAM FOR 30 MARKS"
   ]
  },
  {
   "cell_type": "markdown",
   "metadata": {},
   "source": [
    "---------"
   ]
  },
  {
   "cell_type": "markdown",
   "metadata": {
    "colab_type": "text",
    "id": "hEaO0m08o9Mh"
   },
   "source": [
    "# 4 Questions X 2 Marks = 8 Marks"
   ]
  },
  {
   "cell_type": "markdown",
   "metadata": {},
   "source": [
    "------------\n"
   ]
  },
  {
   "cell_type": "markdown",
   "metadata": {},
   "source": [
    "<span style=\"font-family: Arial; font-weight:bold;font-size:1.5em;color:#5d067d;\">1. Write a Python Program for adding two binary numbers.\n",
    "    \n",
    "**Note:** input is binary equivalent of decimal value 5 and decimal value 21. sum of decimal value 26"
   ]
  },
  {
   "cell_type": "code",
   "execution_count": 80,
   "metadata": {
    "scrolled": true
   },
   "outputs": [
    {
     "data": {
      "text/plain": [
       "26"
      ]
     },
     "execution_count": 80,
     "metadata": {},
     "output_type": "execute_result"
    }
   ],
   "source": [
    "a=bin(5)\n",
    "b=bin(21)\n",
    "c=int(a,base=2)+int(b,base=2)\n",
    "c\n"
   ]
  },
  {
   "cell_type": "markdown",
   "metadata": {},
   "source": [
    "<span style=\"font-family: Arial; font-weight:bold;font-size:1.5em;color:#5d067d;\">2. Write a Python program to find the Factorial of a Number Using Recursion."
   ]
  },
  {
   "cell_type": "markdown",
   "metadata": {},
   "source": [
    "#### pseudocode:\n",
    "\n",
    "    "
   ]
  },
  {
   "cell_type": "raw",
   "metadata": {},
   "source": [
    "Step\n",
    "1.Define the function fact and pass the number a to function \n",
    "2.if a==1 return 1\n",
    "3.Else return fun(a-1)*a ,it will store the value of each call to stack and  during reverse tract it will multiply its value by poping out from stack\n",
    "4. Finally print the result"
   ]
  },
  {
   "cell_type": "markdown",
   "metadata": {},
   "source": [
    "#### Python Code:\n"
   ]
  },
  {
   "cell_type": "code",
   "execution_count": 90,
   "metadata": {},
   "outputs": [
    {
     "name": "stdout",
     "output_type": "stream",
     "text": [
      "120\n"
     ]
    }
   ],
   "source": [
    "def fact(a):\n",
    "    if(a==1):\n",
    "        return 1\n",
    "    else:\n",
    "        return fact(a-1)*a\n",
    "a=fact(5)\n",
    "print(a)\n",
    "    "
   ]
  },
  {
   "cell_type": "markdown",
   "metadata": {},
   "source": [
    "<span style=\"font-family: Arial; font-weight:bold;font-size:1.5em;color:#5d067d;\">3. \n",
    "    Write a Python Program which will find all numbers divisible by 3, between 4000 and 4200.\n",
    "    \n",
    "####  The numbers obtained should be printed in a comma-separated sequence on a single line."
   ]
  },
  {
   "cell_type": "code",
   "execution_count": 91,
   "metadata": {},
   "outputs": [
    {
     "name": "stdout",
     "output_type": "stream",
     "text": [
      "[4002, 4005, 4008, 4011, 4014, 4017, 4020, 4023, 4026, 4029, 4032, 4035, 4038, 4041, 4044, 4047, 4050, 4053, 4056, 4059, 4062, 4065, 4068, 4071, 4074, 4077, 4080, 4083, 4086, 4089, 4092, 4095, 4098, 4101, 4104, 4107, 4110, 4113, 4116, 4119, 4122, 4125, 4128, 4131, 4134, 4137, 4140, 4143, 4146, 4149, 4152, 4155, 4158, 4161, 4164, 4167, 4170, 4173, 4176, 4179, 4182, 4185, 4188, 4191, 4194, 4197]\n"
     ]
    }
   ],
   "source": [
    "lis=[]\n",
    "for a in range(4000,4200):\n",
    "    if(a%3==0):\n",
    "        lis.append(a)\n",
    "print(lis)"
   ]
  },
  {
   "cell_type": "markdown",
   "metadata": {},
   "source": [
    "<span style=\"font-family: Arial; font-weight:bold;font-size:1.5em;color:#5d067d;\">4. Write a Python program to get user input and the output is the factorial of a given number.\n",
    "    \n",
    "Input:6\n",
    "\n",
    "Output:720\n"
   ]
  },
  {
   "cell_type": "code",
   "execution_count": 92,
   "metadata": {},
   "outputs": [
    {
     "name": "stdout",
     "output_type": "stream",
     "text": [
      "Enter any integer value: 6\n",
      "Output: 720\n"
     ]
    }
   ],
   "source": [
    "inp=int(input(\"Enter any integer value: \"))\n",
    "res=fact(inp) # question number 2 factorial function used to save space \n",
    "print('Output:',res)"
   ]
  },
  {
   "cell_type": "markdown",
   "metadata": {},
   "source": [
    "--------"
   ]
  },
  {
   "cell_type": "markdown",
   "metadata": {},
   "source": [
    "# 5 Questions X 3 Marks = 15 Marks"
   ]
  },
  {
   "cell_type": "markdown",
   "metadata": {},
   "source": [
    "----------"
   ]
  },
  {
   "cell_type": "markdown",
   "metadata": {},
   "source": [
    "<span style=\"font-family: Arial; font-weight:bold;font-size:1.5em;color:#5d067d;\">1 . Write a program that calculates and prints the value according to the given formula:\n",
    "\n",
    "Q = Square root of [(3 * A * B)/C]\n",
    "\n",
    "**HINT:** Following are the fixed values of A and C:\n",
    "\n",
    "A is 50. C is 30.\n",
    "\n",
    "B is the variable whose values should be input to your program in a comma-separated sequence.\n",
    "\n",
    "Let us assume the following comma separated input sequence is given to the program:\n",
    "\n",
    "**INPUT:** 200,350,280\n",
    "\n",
    "**OUTPUT:** 18,22,24\n",
    "\n"
   ]
  },
  {
   "cell_type": "code",
   "execution_count": 93,
   "metadata": {},
   "outputs": [],
   "source": [
    "import math"
   ]
  },
  {
   "cell_type": "code",
   "execution_count": 95,
   "metadata": {},
   "outputs": [
    {
     "name": "stdout",
     "output_type": "stream",
     "text": [
      "Enter comma seperate value: 200,350,280\n",
      "31\n",
      "41\n",
      "37\n"
     ]
    }
   ],
   "source": [
    "A=50\n",
    "C=30\n",
    "inp=input(\"Enter comma seperate value: \")\n",
    "B=[]\n",
    "B=inp.split(sep=',')\n",
    "for b in B:\n",
    "    Q=int(math.sqrt((3 * A * int(b))/C))\n",
    "    print(Q)\n",
    "\n",
    "#Note above output mentioned in question is not correct"
   ]
  },
  {
   "cell_type": "markdown",
   "metadata": {},
   "source": [
    "<span style=\"font-family: Arial; font-weight:bold;font-size:1.5em;color:#5d067d;\">2 . Write a Python program that accepts a comma separated sequence of words as input and print it after sorting them alphabetically.\n",
    "\n",
    "**INPUT:**bag,food,eat,pen,with,water\n",
    "\n",
    "**OUTPUT:**bag,eat,food,pen,water,with\n",
    "\n",
    "\n"
   ]
  },
  {
   "cell_type": "code",
   "execution_count": 98,
   "metadata": {
    "scrolled": true
   },
   "outputs": [
    {
     "name": "stdout",
     "output_type": "stream",
     "text": [
      "Enter comma seperate valuebag,food,eat,pen,with,water\n",
      "OUTPUT:  bag,eat,food,pen,water,with\n"
     ]
    }
   ],
   "source": [
    "inp=input(\"Enter comma seperate value\")\n",
    "a=[]\n",
    "a=inp.split(sep=',')\n",
    "sort_list=sorted(a)\n",
    "st1=\"\"\n",
    "cnt=0\n",
    "for s in sort_list:\n",
    "    if(cnt==0): # do not put comma in first word\n",
    "        st1+=s\n",
    "        cnt=1\n",
    "    else:\n",
    "        st1+=','+s\n",
    "print('OUTPUT: ',st1)\n",
    "    \n",
    "    "
   ]
  },
  {
   "cell_type": "markdown",
   "metadata": {},
   "source": [
    "<span style=\"font-family: Arial; font-weight:bold;font-size:1.5em;color:#5d067d;\">3. Write a Python program that computes the value of X+XX+XXX+XXXX with a given digit as the value of x.\n",
    "\n",
    "\n",
    "\n",
    "**INPUT:**9\n",
    "\n",
    "\n",
    "**OUTPUT:**11106\n",
    "\n",
    "\n"
   ]
  },
  {
   "cell_type": "code",
   "execution_count": 99,
   "metadata": {
    "scrolled": true
   },
   "outputs": [
    {
     "name": "stdout",
     "output_type": "stream",
     "text": [
      "11106\n"
     ]
    }
   ],
   "source": [
    "inp=9\n",
    "\n",
    "#n1=int(\"n+n\")\n",
    "n=str(inp)\n",
    "n1=n+n\n",
    "n2=n+n+n\n",
    "n3=n+n+n+n\n",
    "#n2=int('%s%s%s%s',(n,n,n,n))\n",
    "res=int(n)+int(n1)+int(n2)+int(n3)\n",
    "print(res)\n",
    "#int()"
   ]
  },
  {
   "cell_type": "markdown",
   "metadata": {},
   "source": [
    "<span style=\"font-family: Arial; font-weight:bold;font-size:1.5em;color:#5d067d;\">4. Write a program to create a dictionary as follows.\n",
    "\n",
    "> Indented block\n",
    "\n",
    "\n",
    "  **OUTPUT:**  * {1: 1, 2: 4, 3: 9, 4: 16, 5: 25, 6: 36, 7: 49, 8: 64, 9: 81, 10: 100, 11: 121, 12: 144, 13: 169, 14: 196, 15: 225}"
   ]
  },
  {
   "cell_type": "code",
   "execution_count": 100,
   "metadata": {},
   "outputs": [
    {
     "name": "stdout",
     "output_type": "stream",
     "text": [
      "OUTPUT:  {1: 1, 2: 4, 3: 9, 4: 16, 5: 25, 6: 36, 7: 49, 8: 64, 9: 81, 10: 100, 11: 121, 12: 144, 13: 169, 14: 196, 15: 225}\n"
     ]
    }
   ],
   "source": [
    "dic={}\n",
    "for i in range(1,16):\n",
    "    dic[i]=i*i\n",
    "print('OUTPUT: ',dic)"
   ]
  },
  {
   "cell_type": "markdown",
   "metadata": {},
   "source": [
    "<span style=\"font-family: Arial; font-weight:bold;font-size:1.5em;color:#5d067d;\">5. Write a program that displays the letters which are in the First string but not in the Second string.\n"
   ]
  },
  {
   "cell_type": "code",
   "execution_count": 101,
   "metadata": {},
   "outputs": [
    {
     "name": "stdout",
     "output_type": "stream",
     "text": [
      "h\n",
      "e\n",
      "l\n",
      "l\n",
      "o\n"
     ]
    }
   ],
   "source": [
    "inp=\"hello world\"\n",
    "for s in inp:\n",
    "    if s==\" \":\n",
    "        break\n",
    "    else:\n",
    "        print(s)"
   ]
  },
  {
   "cell_type": "markdown",
   "metadata": {},
   "source": [
    "-------"
   ]
  },
  {
   "cell_type": "markdown",
   "metadata": {},
   "source": [
    "## 1 Questions X 7 Marks = 7 Marks"
   ]
  },
  {
   "cell_type": "markdown",
   "metadata": {},
   "source": [
    "---------"
   ]
  },
  {
   "cell_type": "markdown",
   "metadata": {},
   "source": [
    "<span style=\"font-family: Arial; font-weight:bold;font-size:1.5em;color:#5d067d;\"> 1.A Create User input and check the year is leap year or not."
   ]
  },
  {
   "cell_type": "code",
   "execution_count": 61,
   "metadata": {
    "scrolled": true
   },
   "outputs": [
    {
     "name": "stdout",
     "output_type": "stream",
     "text": [
      "Input the year2016\n",
      "2016  is a leap year\n"
     ]
    }
   ],
   "source": [
    "# if year is divided by 4 or year is divided by 100 its leap year\n",
    "inp=int(input('Input the year'))\n",
    "if inp%4==0 or inp%4==100:\n",
    "    print(inp,\" is a leap year\")\n",
    "else:\n",
    "     print(inp,\" is a not leap year\")"
   ]
  },
  {
   "cell_type": "markdown",
   "metadata": {},
   "source": [
    "<span style=\"font-family: Arial; font-weight:bold;font-size:1.5em;color:#5d067d;\">1.B) Program to Accept Three Digits and Print all Possible Combinations from the Digits using for and if."
   ]
  },
  {
   "cell_type": "code",
   "execution_count": 67,
   "metadata": {
    "scrolled": true
   },
   "outputs": [
    {
     "name": "stdout",
     "output_type": "stream",
     "text": [
      "Enter first digit: 2\n",
      "Enter second digit: 3\n",
      "Enter third digit: 4\n",
      "2 3 4\n",
      "2 4 3\n",
      "3 2 4\n",
      "3 4 2\n",
      "4 3 2\n",
      "4 2 3\n"
     ]
    }
   ],
   "source": [
    "a=int(input(\"Enter first digit: \"))\n",
    "b=int(input(\"Enter second digit: \"))\n",
    "c=int(input(\"Enter third digit: \"))\n",
    "lis=[a,b,c]\n",
    "for i in range(3):\n",
    "        if i==0:\n",
    "                   print(lis[i],lis[i+1],lis[i+2])\n",
    "                   print(lis[i],lis[i+2],lis[i+1])\n",
    "        elif i==1:\n",
    "                   print(lis[i],lis[i-1],lis[i+1])\n",
    "                   print(lis[i],lis[i+1],lis[i-1])\n",
    "        elif i==2:\n",
    "                   print(lis[i],lis[i-1],lis[i-2])\n",
    "                   print(lis[i],lis[i-2],lis[i-1])\n",
    "\n",
    "               \n",
    "    "
   ]
  },
  {
   "cell_type": "markdown",
   "metadata": {},
   "source": [
    "<span style=\"font-family: Arial; font-weight:bold;font-size:1.5em;color:#5d067d;\">1.C) Write a program to Check if a given number is a Palindrome or not."
   ]
  },
  {
   "cell_type": "code",
   "execution_count": 74,
   "metadata": {},
   "outputs": [
    {
     "name": "stdout",
     "output_type": "stream",
     "text": [
      "Enter any number: 95659\n",
      "Its a palindrom number\n"
     ]
    }
   ],
   "source": [
    "n=int(input('Enter any number: '))\n",
    "st=str(n)\n",
    "if(st==st[::-1]):\n",
    "    print(\"Its a palindrom number\")\n",
    "else:\n",
    "    print(\"Its not a palindrom number\")"
   ]
  },
  {
   "cell_type": "markdown",
   "metadata": {},
   "source": [
    "-----------"
   ]
  },
  {
   "cell_type": "markdown",
   "metadata": {},
   "source": [
    "<span style=\"font-family: Arial; font-weight:bold;font-size:3em;color:#95b80b;\"> THE END"
   ]
  },
  {
   "cell_type": "markdown",
   "metadata": {},
   "source": [
    "--------"
   ]
  }
 ],
 "metadata": {
  "colab": {
   "name": "IPT-Exam-Sampleset-New (1).ipynb",
   "provenance": [],
   "version": "0.3.2"
  },
  "kernelspec": {
   "display_name": "Python 3",
   "language": "python",
   "name": "python3"
  },
  "language_info": {
   "codemirror_mode": {
    "name": "ipython",
    "version": 3
   },
   "file_extension": ".py",
   "mimetype": "text/x-python",
   "name": "python",
   "nbconvert_exporter": "python",
   "pygments_lexer": "ipython3",
   "version": "3.7.3"
  }
 },
 "nbformat": 4,
 "nbformat_minor": 1
}
