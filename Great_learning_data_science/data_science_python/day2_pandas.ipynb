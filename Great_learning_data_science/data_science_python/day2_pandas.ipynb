{
 "cells": [
  {
   "cell_type": "code",
   "execution_count": 1,
   "metadata": {},
   "outputs": [],
   "source": [
    "import pandas as pd"
   ]
  },
  {
   "cell_type": "code",
   "execution_count": 2,
   "metadata": {},
   "outputs": [
    {
     "data": {
      "text/plain": [
       "'0.25.1'"
      ]
     },
     "execution_count": 2,
     "metadata": {},
     "output_type": "execute_result"
    }
   ],
   "source": [
    "pd.__version__\n"
   ]
  },
  {
   "cell_type": "code",
   "execution_count": 3,
   "metadata": {},
   "outputs": [],
   "source": [
    "#Pandas Series (1 Dimension data)\n",
    "#Pandas Dataframe(2 Dimension data)"
   ]
  },
  {
   "cell_type": "markdown",
   "metadata": {},
   "source": [
    "# Pandas Series"
   ]
  },
  {
   "cell_type": "code",
   "execution_count": 4,
   "metadata": {},
   "outputs": [
    {
     "data": {
      "text/plain": [
       "dict"
      ]
     },
     "execution_count": 4,
     "metadata": {},
     "output_type": "execute_result"
    }
   ],
   "source": [
    "city={'bangalore':25,'chennai':30,'pune':32}\n",
    "type(city)"
   ]
  },
  {
   "cell_type": "code",
   "execution_count": 5,
   "metadata": {},
   "outputs": [
    {
     "data": {
      "text/plain": [
       "pandas.core.series.Series"
      ]
     },
     "execution_count": 5,
     "metadata": {},
     "output_type": "execute_result"
    }
   ],
   "source": [
    "city_series=pd.Series(city)\n",
    "type(city_series)"
   ]
  },
  {
   "cell_type": "code",
   "execution_count": 6,
   "metadata": {},
   "outputs": [
    {
     "data": {
      "text/plain": [
       "bangalore    25\n",
       "chennai      30\n",
       "pune         32\n",
       "dtype: int64"
      ]
     },
     "execution_count": 6,
     "metadata": {},
     "output_type": "execute_result"
    }
   ],
   "source": [
    "city_series"
   ]
  },
  {
   "cell_type": "code",
   "execution_count": 7,
   "metadata": {},
   "outputs": [
    {
     "name": "stdout",
     "output_type": "stream",
     "text": [
      "(3,)\n"
     ]
    }
   ],
   "source": [
    "print(city_series.shape)"
   ]
  },
  {
   "cell_type": "code",
   "execution_count": 9,
   "metadata": {},
   "outputs": [
    {
     "name": "stdout",
     "output_type": "stream",
     "text": [
      "30\n",
      "30\n"
     ]
    }
   ],
   "source": [
    "#Access elements by their names/label\n",
    "print(city_series.loc['chennai']) # locate element by their labels\n",
    "print(city_series.iloc[1])  # locate elements by their position"
   ]
  },
  {
   "cell_type": "code",
   "execution_count": 12,
   "metadata": {},
   "outputs": [
    {
     "name": "stdout",
     "output_type": "stream",
     "text": [
      "[25 30 32]\n",
      "Index(['bangalore', 'chennai', 'pune'], dtype='object')\n"
     ]
    }
   ],
   "source": [
    "print(city_series.values) # Access all values\n",
    "print(city_series.index) # get all labels"
   ]
  },
  {
   "cell_type": "code",
   "execution_count": 13,
   "metadata": {},
   "outputs": [
    {
     "name": "stdout",
     "output_type": "stream",
     "text": [
      "25\n",
      "32\n",
      "29.0\n",
      "87\n",
      "30.0\n",
      "3.605551275463989\n",
      "13.0\n",
      "-1.1520696383139377\n"
     ]
    }
   ],
   "source": [
    "print(city_series.min())\n",
    "print(city_series.max())\n",
    "print(city_series.mean())\n",
    "print(city_series.sum())\n",
    "print(city_series.median())\n",
    "print(city_series.std())\n",
    "print(city_series.var())\n",
    "print(city_series.skew())"
   ]
  },
  {
   "cell_type": "code",
   "execution_count": 15,
   "metadata": {},
   "outputs": [
    {
     "data": {
      "text/plain": [
       "0       chennai\n",
       "1       chennai\n",
       "2    banagalore\n",
       "3          pune\n",
       "dtype: object"
      ]
     },
     "execution_count": 15,
     "metadata": {},
     "output_type": "execute_result"
    }
   ],
   "source": [
    "city_names=pd.Series(['chennai','chennai','banagalore','pune'])\n",
    "city_names"
   ]
  },
  {
   "cell_type": "code",
   "execution_count": 17,
   "metadata": {},
   "outputs": [
    {
     "data": {
      "text/plain": [
       "chennai       2\n",
       "banagalore    1\n",
       "pune          1\n",
       "dtype: int64"
      ]
     },
     "execution_count": 17,
     "metadata": {},
     "output_type": "execute_result"
    }
   ],
   "source": [
    "city_names.value_counts() # identity unique values and then counts frequency of each unique value"
   ]
  },
  {
   "cell_type": "code",
   "execution_count": 18,
   "metadata": {},
   "outputs": [
    {
     "data": {
      "text/plain": [
       "3      2\n",
       "1      2\n",
       "112    1\n",
       "dtype: int64"
      ]
     },
     "execution_count": 18,
     "metadata": {},
     "output_type": "execute_result"
    }
   ],
   "source": [
    "pd.Series([1,1,112,3,3,]).value_counts()"
   ]
  },
  {
   "cell_type": "code",
   "execution_count": 21,
   "metadata": {},
   "outputs": [
    {
     "data": {
      "text/plain": [
       "count           4\n",
       "unique          3\n",
       "top       chennai\n",
       "freq            2\n",
       "dtype: object"
      ]
     },
     "execution_count": 21,
     "metadata": {},
     "output_type": "execute_result"
    }
   ],
   "source": [
    "city_names.describe() # top value with highest frequency"
   ]
  },
  {
   "cell_type": "code",
   "execution_count": 25,
   "metadata": {},
   "outputs": [
    {
     "data": {
      "text/plain": [
       "27.0"
      ]
     },
     "execution_count": 25,
     "metadata": {},
     "output_type": "execute_result"
    }
   ],
   "source": [
    "city_temp=pd.Series([1,10,23,45,56])\n",
    "city_summary=city_temp.describe()\n",
    "city_summary.loc['mean']"
   ]
  },
  {
   "cell_type": "markdown",
   "metadata": {},
   "source": [
    "# DataFrame"
   ]
  },
  {
   "cell_type": "code",
   "execution_count": 26,
   "metadata": {},
   "outputs": [],
   "source": [
    "odi=pd.read_csv('https://bit.ly/2EN4qrx')"
   ]
  },
  {
   "cell_type": "code",
   "execution_count": 27,
   "metadata": {},
   "outputs": [
    {
     "data": {
      "text/html": [
       "<div>\n",
       "<style scoped>\n",
       "    .dataframe tbody tr th:only-of-type {\n",
       "        vertical-align: middle;\n",
       "    }\n",
       "\n",
       "    .dataframe tbody tr th {\n",
       "        vertical-align: top;\n",
       "    }\n",
       "\n",
       "    .dataframe thead th {\n",
       "        text-align: right;\n",
       "    }\n",
       "</style>\n",
       "<table border=\"1\" class=\"dataframe\">\n",
       "  <thead>\n",
       "    <tr style=\"text-align: right;\">\n",
       "      <th></th>\n",
       "      <th>Country</th>\n",
       "      <th>Player</th>\n",
       "      <th>Runs</th>\n",
       "      <th>ScoreRate</th>\n",
       "      <th>MatchDate</th>\n",
       "      <th>Ground</th>\n",
       "      <th>Versus</th>\n",
       "      <th>URL</th>\n",
       "    </tr>\n",
       "  </thead>\n",
       "  <tbody>\n",
       "    <tr>\n",
       "      <td>0</td>\n",
       "      <td>Afghanistan</td>\n",
       "      <td>Mohammad Shahzad</td>\n",
       "      <td>118.0</td>\n",
       "      <td>97.52</td>\n",
       "      <td>2-16-2010</td>\n",
       "      <td>Sharjah CA Stadium</td>\n",
       "      <td>Canada</td>\n",
       "      <td>../Matches/MatchScorecard_ODI.asp?MatchCode=3087</td>\n",
       "    </tr>\n",
       "    <tr>\n",
       "      <td>1</td>\n",
       "      <td>Afghanistan</td>\n",
       "      <td>Mohammad Shahzad</td>\n",
       "      <td>110.0</td>\n",
       "      <td>99.09</td>\n",
       "      <td>9-1-2009</td>\n",
       "      <td>VRA Ground</td>\n",
       "      <td>Netherlands</td>\n",
       "      <td>../Matches/MatchScorecard_ODI.asp?MatchCode=3008</td>\n",
       "    </tr>\n",
       "    <tr>\n",
       "      <td>2</td>\n",
       "      <td>Afghanistan</td>\n",
       "      <td>Mohammad Shahzad</td>\n",
       "      <td>100.0</td>\n",
       "      <td>138.88</td>\n",
       "      <td>8-16-2010</td>\n",
       "      <td>Cambusdoon New Ground</td>\n",
       "      <td>Scotland</td>\n",
       "      <td>../Matches/MatchScorecard_ODI.asp?MatchCode=3164</td>\n",
       "    </tr>\n",
       "    <tr>\n",
       "      <td>3</td>\n",
       "      <td>Afghanistan</td>\n",
       "      <td>Mohammad Shahzad</td>\n",
       "      <td>82.0</td>\n",
       "      <td>75.92</td>\n",
       "      <td>7-10-2010</td>\n",
       "      <td>Hazelaarweg</td>\n",
       "      <td>Netherlands</td>\n",
       "      <td>../Matches/MatchScorecard_ODI.asp?MatchCode=3153</td>\n",
       "    </tr>\n",
       "    <tr>\n",
       "      <td>4</td>\n",
       "      <td>Afghanistan</td>\n",
       "      <td>Mohammad Shahzad</td>\n",
       "      <td>57.0</td>\n",
       "      <td>100.00</td>\n",
       "      <td>7-1-2010</td>\n",
       "      <td>Sportpark Westvliet</td>\n",
       "      <td>Canada</td>\n",
       "      <td>../Matches/MatchScorecard_ODI.asp?MatchCode=3135</td>\n",
       "    </tr>\n",
       "  </tbody>\n",
       "</table>\n",
       "</div>"
      ],
      "text/plain": [
       "       Country            Player   Runs  ScoreRate  MatchDate  \\\n",
       "0  Afghanistan  Mohammad Shahzad  118.0      97.52  2-16-2010   \n",
       "1  Afghanistan  Mohammad Shahzad  110.0      99.09   9-1-2009   \n",
       "2  Afghanistan  Mohammad Shahzad  100.0     138.88  8-16-2010   \n",
       "3  Afghanistan  Mohammad Shahzad   82.0      75.92  7-10-2010   \n",
       "4  Afghanistan  Mohammad Shahzad   57.0     100.00   7-1-2010   \n",
       "\n",
       "                  Ground       Versus  \\\n",
       "0     Sharjah CA Stadium       Canada   \n",
       "1             VRA Ground  Netherlands   \n",
       "2  Cambusdoon New Ground     Scotland   \n",
       "3            Hazelaarweg  Netherlands   \n",
       "4    Sportpark Westvliet       Canada   \n",
       "\n",
       "                                                URL  \n",
       "0  ../Matches/MatchScorecard_ODI.asp?MatchCode=3087  \n",
       "1  ../Matches/MatchScorecard_ODI.asp?MatchCode=3008  \n",
       "2  ../Matches/MatchScorecard_ODI.asp?MatchCode=3164  \n",
       "3  ../Matches/MatchScorecard_ODI.asp?MatchCode=3153  \n",
       "4  ../Matches/MatchScorecard_ODI.asp?MatchCode=3135  "
      ]
     },
     "execution_count": 27,
     "metadata": {},
     "output_type": "execute_result"
    }
   ],
   "source": [
    "odi.head()"
   ]
  },
  {
   "cell_type": "code",
   "execution_count": null,
   "metadata": {},
   "outputs": [],
   "source": []
  }
 ],
 "metadata": {
  "kernelspec": {
   "display_name": "Python 3",
   "language": "python",
   "name": "python3"
  },
  "language_info": {
   "codemirror_mode": {
    "name": "ipython",
    "version": 3
   },
   "file_extension": ".py",
   "mimetype": "text/x-python",
   "name": "python",
   "nbconvert_exporter": "python",
   "pygments_lexer": "ipython3",
   "version": "3.7.3"
  }
 },
 "nbformat": 4,
 "nbformat_minor": 2
}
