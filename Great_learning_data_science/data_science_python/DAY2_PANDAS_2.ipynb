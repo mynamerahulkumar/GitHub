{
 "cells": [
  {
   "cell_type": "code",
   "execution_count": 24,
   "metadata": {},
   "outputs": [
    {
     "data": {
      "text/plain": [
       "'/Users/rahul/Documents/GitHub/Great_learning_data_science/data_science_python/inexercise'"
      ]
     },
     "execution_count": 24,
     "metadata": {},
     "output_type": "execute_result"
    }
   ],
   "source": [
    "import pandas as pd\n",
    "import os\n",
    "os.getcwd()"
   ]
  },
  {
   "cell_type": "code",
   "execution_count": 25,
   "metadata": {},
   "outputs": [],
   "source": [
    "odi=pd.read_csv('../odi-batting.csv')"
   ]
  },
  {
   "cell_type": "code",
   "execution_count": 26,
   "metadata": {},
   "outputs": [
    {
     "data": {
      "text/html": [
       "<div>\n",
       "<style scoped>\n",
       "    .dataframe tbody tr th:only-of-type {\n",
       "        vertical-align: middle;\n",
       "    }\n",
       "\n",
       "    .dataframe tbody tr th {\n",
       "        vertical-align: top;\n",
       "    }\n",
       "\n",
       "    .dataframe thead th {\n",
       "        text-align: right;\n",
       "    }\n",
       "</style>\n",
       "<table border=\"1\" class=\"dataframe\">\n",
       "  <thead>\n",
       "    <tr style=\"text-align: right;\">\n",
       "      <th></th>\n",
       "      <th>Country</th>\n",
       "      <th>Player</th>\n",
       "      <th>Runs</th>\n",
       "      <th>ScoreRate</th>\n",
       "      <th>MatchDate</th>\n",
       "      <th>Ground</th>\n",
       "      <th>Versus</th>\n",
       "      <th>URL</th>\n",
       "    </tr>\n",
       "  </thead>\n",
       "  <tbody>\n",
       "    <tr>\n",
       "      <td>0</td>\n",
       "      <td>Afghanistan</td>\n",
       "      <td>Mohammad Shahzad</td>\n",
       "      <td>118.0</td>\n",
       "      <td>97.52</td>\n",
       "      <td>2-16-2010</td>\n",
       "      <td>Sharjah CA Stadium</td>\n",
       "      <td>Canada</td>\n",
       "      <td>../Matches/MatchScorecard_ODI.asp?MatchCode=3087</td>\n",
       "    </tr>\n",
       "    <tr>\n",
       "      <td>1</td>\n",
       "      <td>Afghanistan</td>\n",
       "      <td>Mohammad Shahzad</td>\n",
       "      <td>110.0</td>\n",
       "      <td>99.09</td>\n",
       "      <td>9-1-2009</td>\n",
       "      <td>VRA Ground</td>\n",
       "      <td>Netherlands</td>\n",
       "      <td>../Matches/MatchScorecard_ODI.asp?MatchCode=3008</td>\n",
       "    </tr>\n",
       "    <tr>\n",
       "      <td>2</td>\n",
       "      <td>Afghanistan</td>\n",
       "      <td>Mohammad Shahzad</td>\n",
       "      <td>100.0</td>\n",
       "      <td>138.88</td>\n",
       "      <td>8-16-2010</td>\n",
       "      <td>Cambusdoon New Ground</td>\n",
       "      <td>Scotland</td>\n",
       "      <td>../Matches/MatchScorecard_ODI.asp?MatchCode=3164</td>\n",
       "    </tr>\n",
       "    <tr>\n",
       "      <td>3</td>\n",
       "      <td>Afghanistan</td>\n",
       "      <td>Mohammad Shahzad</td>\n",
       "      <td>82.0</td>\n",
       "      <td>75.92</td>\n",
       "      <td>7-10-2010</td>\n",
       "      <td>Hazelaarweg</td>\n",
       "      <td>Netherlands</td>\n",
       "      <td>../Matches/MatchScorecard_ODI.asp?MatchCode=3153</td>\n",
       "    </tr>\n",
       "    <tr>\n",
       "      <td>4</td>\n",
       "      <td>Afghanistan</td>\n",
       "      <td>Mohammad Shahzad</td>\n",
       "      <td>57.0</td>\n",
       "      <td>100.00</td>\n",
       "      <td>7-1-2010</td>\n",
       "      <td>Sportpark Westvliet</td>\n",
       "      <td>Canada</td>\n",
       "      <td>../Matches/MatchScorecard_ODI.asp?MatchCode=3135</td>\n",
       "    </tr>\n",
       "  </tbody>\n",
       "</table>\n",
       "</div>"
      ],
      "text/plain": [
       "       Country            Player   Runs  ScoreRate  MatchDate  \\\n",
       "0  Afghanistan  Mohammad Shahzad  118.0      97.52  2-16-2010   \n",
       "1  Afghanistan  Mohammad Shahzad  110.0      99.09   9-1-2009   \n",
       "2  Afghanistan  Mohammad Shahzad  100.0     138.88  8-16-2010   \n",
       "3  Afghanistan  Mohammad Shahzad   82.0      75.92  7-10-2010   \n",
       "4  Afghanistan  Mohammad Shahzad   57.0     100.00   7-1-2010   \n",
       "\n",
       "                  Ground       Versus  \\\n",
       "0     Sharjah CA Stadium       Canada   \n",
       "1             VRA Ground  Netherlands   \n",
       "2  Cambusdoon New Ground     Scotland   \n",
       "3            Hazelaarweg  Netherlands   \n",
       "4    Sportpark Westvliet       Canada   \n",
       "\n",
       "                                                URL  \n",
       "0  ../Matches/MatchScorecard_ODI.asp?MatchCode=3087  \n",
       "1  ../Matches/MatchScorecard_ODI.asp?MatchCode=3008  \n",
       "2  ../Matches/MatchScorecard_ODI.asp?MatchCode=3164  \n",
       "3  ../Matches/MatchScorecard_ODI.asp?MatchCode=3153  \n",
       "4  ../Matches/MatchScorecard_ODI.asp?MatchCode=3135  "
      ]
     },
     "execution_count": 26,
     "metadata": {},
     "output_type": "execute_result"
    }
   ],
   "source": [
    "odi.head()"
   ]
  },
  {
   "cell_type": "code",
   "execution_count": 27,
   "metadata": {},
   "outputs": [
    {
     "data": {
      "text/html": [
       "<div>\n",
       "<style scoped>\n",
       "    .dataframe tbody tr th:only-of-type {\n",
       "        vertical-align: middle;\n",
       "    }\n",
       "\n",
       "    .dataframe tbody tr th {\n",
       "        vertical-align: top;\n",
       "    }\n",
       "\n",
       "    .dataframe thead th {\n",
       "        text-align: right;\n",
       "    }\n",
       "</style>\n",
       "<table border=\"1\" class=\"dataframe\">\n",
       "  <thead>\n",
       "    <tr style=\"text-align: right;\">\n",
       "      <th></th>\n",
       "      <th>Runs</th>\n",
       "      <th>ScoreRate</th>\n",
       "    </tr>\n",
       "  </thead>\n",
       "  <tbody>\n",
       "    <tr>\n",
       "      <td>count</td>\n",
       "      <td>55900.000000</td>\n",
       "      <td>55900.000000</td>\n",
       "    </tr>\n",
       "    <tr>\n",
       "      <td>mean</td>\n",
       "      <td>22.241413</td>\n",
       "      <td>65.314208</td>\n",
       "    </tr>\n",
       "    <tr>\n",
       "      <td>std</td>\n",
       "      <td>25.558363</td>\n",
       "      <td>44.213423</td>\n",
       "    </tr>\n",
       "    <tr>\n",
       "      <td>min</td>\n",
       "      <td>0.000000</td>\n",
       "      <td>0.000000</td>\n",
       "    </tr>\n",
       "    <tr>\n",
       "      <td>25%</td>\n",
       "      <td>4.000000</td>\n",
       "      <td>37.500000</td>\n",
       "    </tr>\n",
       "    <tr>\n",
       "      <td>50%</td>\n",
       "      <td>13.000000</td>\n",
       "      <td>62.660000</td>\n",
       "    </tr>\n",
       "    <tr>\n",
       "      <td>75%</td>\n",
       "      <td>32.000000</td>\n",
       "      <td>87.500000</td>\n",
       "    </tr>\n",
       "    <tr>\n",
       "      <td>max</td>\n",
       "      <td>200.000000</td>\n",
       "      <td>600.000000</td>\n",
       "    </tr>\n",
       "  </tbody>\n",
       "</table>\n",
       "</div>"
      ],
      "text/plain": [
       "               Runs     ScoreRate\n",
       "count  55900.000000  55900.000000\n",
       "mean      22.241413     65.314208\n",
       "std       25.558363     44.213423\n",
       "min        0.000000      0.000000\n",
       "25%        4.000000     37.500000\n",
       "50%       13.000000     62.660000\n",
       "75%       32.000000     87.500000\n",
       "max      200.000000    600.000000"
      ]
     },
     "execution_count": 27,
     "metadata": {},
     "output_type": "execute_result"
    }
   ],
   "source": [
    "odi.describe() # description about numerical columns"
   ]
  },
  {
   "cell_type": "code",
   "execution_count": 28,
   "metadata": {},
   "outputs": [
    {
     "data": {
      "text/html": [
       "<div>\n",
       "<style scoped>\n",
       "    .dataframe tbody tr th:only-of-type {\n",
       "        vertical-align: middle;\n",
       "    }\n",
       "\n",
       "    .dataframe tbody tr th {\n",
       "        vertical-align: top;\n",
       "    }\n",
       "\n",
       "    .dataframe thead th {\n",
       "        text-align: right;\n",
       "    }\n",
       "</style>\n",
       "<table border=\"1\" class=\"dataframe\">\n",
       "  <thead>\n",
       "    <tr style=\"text-align: right;\">\n",
       "      <th></th>\n",
       "      <th>Country</th>\n",
       "      <th>Player</th>\n",
       "      <th>MatchDate</th>\n",
       "      <th>Ground</th>\n",
       "      <th>Versus</th>\n",
       "      <th>URL</th>\n",
       "    </tr>\n",
       "  </thead>\n",
       "  <tbody>\n",
       "    <tr>\n",
       "      <td>count</td>\n",
       "      <td>55926</td>\n",
       "      <td>55926</td>\n",
       "      <td>55926</td>\n",
       "      <td>55926</td>\n",
       "      <td>55926</td>\n",
       "      <td>55926</td>\n",
       "    </tr>\n",
       "    <tr>\n",
       "      <td>unique</td>\n",
       "      <td>22</td>\n",
       "      <td>1936</td>\n",
       "      <td>2757</td>\n",
       "      <td>178</td>\n",
       "      <td>25</td>\n",
       "      <td>3209</td>\n",
       "    </tr>\n",
       "    <tr>\n",
       "      <td>top</td>\n",
       "      <td>India</td>\n",
       "      <td>Sachin R Tendulkar</td>\n",
       "      <td>2-4-2007</td>\n",
       "      <td>Sharjah CA Stadium</td>\n",
       "      <td>Australia</td>\n",
       "      <td>../Matches/MatchScorecard_ODI.asp?MatchCode=1714</td>\n",
       "    </tr>\n",
       "    <tr>\n",
       "      <td>freq</td>\n",
       "      <td>6634</td>\n",
       "      <td>442</td>\n",
       "      <td>108</td>\n",
       "      <td>3581</td>\n",
       "      <td>7216</td>\n",
       "      <td>22</td>\n",
       "    </tr>\n",
       "  </tbody>\n",
       "</table>\n",
       "</div>"
      ],
      "text/plain": [
       "       Country              Player MatchDate              Ground     Versus  \\\n",
       "count    55926               55926     55926               55926      55926   \n",
       "unique      22                1936      2757                 178         25   \n",
       "top      India  Sachin R Tendulkar  2-4-2007  Sharjah CA Stadium  Australia   \n",
       "freq      6634                 442       108                3581       7216   \n",
       "\n",
       "                                                     URL  \n",
       "count                                              55926  \n",
       "unique                                              3209  \n",
       "top     ../Matches/MatchScorecard_ODI.asp?MatchCode=1714  \n",
       "freq                                                  22  "
      ]
     },
     "execution_count": 28,
     "metadata": {},
     "output_type": "execute_result"
    }
   ],
   "source": [
    "odi.describe(include='object') # NON numeric summary"
   ]
  },
  {
   "cell_type": "code",
   "execution_count": 29,
   "metadata": {
    "scrolled": true
   },
   "outputs": [
    {
     "data": {
      "text/html": [
       "<div>\n",
       "<style scoped>\n",
       "    .dataframe tbody tr th:only-of-type {\n",
       "        vertical-align: middle;\n",
       "    }\n",
       "\n",
       "    .dataframe tbody tr th {\n",
       "        vertical-align: top;\n",
       "    }\n",
       "\n",
       "    .dataframe thead th {\n",
       "        text-align: right;\n",
       "    }\n",
       "</style>\n",
       "<table border=\"1\" class=\"dataframe\">\n",
       "  <thead>\n",
       "    <tr style=\"text-align: right;\">\n",
       "      <th></th>\n",
       "      <th>Country</th>\n",
       "      <th>Player</th>\n",
       "      <th>Runs</th>\n",
       "      <th>ScoreRate</th>\n",
       "      <th>MatchDate</th>\n",
       "      <th>Ground</th>\n",
       "      <th>Versus</th>\n",
       "      <th>URL</th>\n",
       "    </tr>\n",
       "  </thead>\n",
       "  <tbody>\n",
       "    <tr>\n",
       "      <td>count</td>\n",
       "      <td>55926</td>\n",
       "      <td>55926</td>\n",
       "      <td>55900.000000</td>\n",
       "      <td>55900.000000</td>\n",
       "      <td>55926</td>\n",
       "      <td>55926</td>\n",
       "      <td>55926</td>\n",
       "      <td>55926</td>\n",
       "    </tr>\n",
       "    <tr>\n",
       "      <td>unique</td>\n",
       "      <td>22</td>\n",
       "      <td>1936</td>\n",
       "      <td>NaN</td>\n",
       "      <td>NaN</td>\n",
       "      <td>2757</td>\n",
       "      <td>178</td>\n",
       "      <td>25</td>\n",
       "      <td>3209</td>\n",
       "    </tr>\n",
       "    <tr>\n",
       "      <td>top</td>\n",
       "      <td>India</td>\n",
       "      <td>Sachin R Tendulkar</td>\n",
       "      <td>NaN</td>\n",
       "      <td>NaN</td>\n",
       "      <td>2-4-2007</td>\n",
       "      <td>Sharjah CA Stadium</td>\n",
       "      <td>Australia</td>\n",
       "      <td>../Matches/MatchScorecard_ODI.asp?MatchCode=1714</td>\n",
       "    </tr>\n",
       "    <tr>\n",
       "      <td>freq</td>\n",
       "      <td>6634</td>\n",
       "      <td>442</td>\n",
       "      <td>NaN</td>\n",
       "      <td>NaN</td>\n",
       "      <td>108</td>\n",
       "      <td>3581</td>\n",
       "      <td>7216</td>\n",
       "      <td>22</td>\n",
       "    </tr>\n",
       "    <tr>\n",
       "      <td>mean</td>\n",
       "      <td>NaN</td>\n",
       "      <td>NaN</td>\n",
       "      <td>22.241413</td>\n",
       "      <td>65.314208</td>\n",
       "      <td>NaN</td>\n",
       "      <td>NaN</td>\n",
       "      <td>NaN</td>\n",
       "      <td>NaN</td>\n",
       "    </tr>\n",
       "    <tr>\n",
       "      <td>std</td>\n",
       "      <td>NaN</td>\n",
       "      <td>NaN</td>\n",
       "      <td>25.558363</td>\n",
       "      <td>44.213423</td>\n",
       "      <td>NaN</td>\n",
       "      <td>NaN</td>\n",
       "      <td>NaN</td>\n",
       "      <td>NaN</td>\n",
       "    </tr>\n",
       "    <tr>\n",
       "      <td>min</td>\n",
       "      <td>NaN</td>\n",
       "      <td>NaN</td>\n",
       "      <td>0.000000</td>\n",
       "      <td>0.000000</td>\n",
       "      <td>NaN</td>\n",
       "      <td>NaN</td>\n",
       "      <td>NaN</td>\n",
       "      <td>NaN</td>\n",
       "    </tr>\n",
       "    <tr>\n",
       "      <td>25%</td>\n",
       "      <td>NaN</td>\n",
       "      <td>NaN</td>\n",
       "      <td>4.000000</td>\n",
       "      <td>37.500000</td>\n",
       "      <td>NaN</td>\n",
       "      <td>NaN</td>\n",
       "      <td>NaN</td>\n",
       "      <td>NaN</td>\n",
       "    </tr>\n",
       "    <tr>\n",
       "      <td>50%</td>\n",
       "      <td>NaN</td>\n",
       "      <td>NaN</td>\n",
       "      <td>13.000000</td>\n",
       "      <td>62.660000</td>\n",
       "      <td>NaN</td>\n",
       "      <td>NaN</td>\n",
       "      <td>NaN</td>\n",
       "      <td>NaN</td>\n",
       "    </tr>\n",
       "    <tr>\n",
       "      <td>75%</td>\n",
       "      <td>NaN</td>\n",
       "      <td>NaN</td>\n",
       "      <td>32.000000</td>\n",
       "      <td>87.500000</td>\n",
       "      <td>NaN</td>\n",
       "      <td>NaN</td>\n",
       "      <td>NaN</td>\n",
       "      <td>NaN</td>\n",
       "    </tr>\n",
       "    <tr>\n",
       "      <td>max</td>\n",
       "      <td>NaN</td>\n",
       "      <td>NaN</td>\n",
       "      <td>200.000000</td>\n",
       "      <td>600.000000</td>\n",
       "      <td>NaN</td>\n",
       "      <td>NaN</td>\n",
       "      <td>NaN</td>\n",
       "      <td>NaN</td>\n",
       "    </tr>\n",
       "  </tbody>\n",
       "</table>\n",
       "</div>"
      ],
      "text/plain": [
       "       Country              Player          Runs     ScoreRate MatchDate  \\\n",
       "count    55926               55926  55900.000000  55900.000000     55926   \n",
       "unique      22                1936           NaN           NaN      2757   \n",
       "top      India  Sachin R Tendulkar           NaN           NaN  2-4-2007   \n",
       "freq      6634                 442           NaN           NaN       108   \n",
       "mean       NaN                 NaN     22.241413     65.314208       NaN   \n",
       "std        NaN                 NaN     25.558363     44.213423       NaN   \n",
       "min        NaN                 NaN      0.000000      0.000000       NaN   \n",
       "25%        NaN                 NaN      4.000000     37.500000       NaN   \n",
       "50%        NaN                 NaN     13.000000     62.660000       NaN   \n",
       "75%        NaN                 NaN     32.000000     87.500000       NaN   \n",
       "max        NaN                 NaN    200.000000    600.000000       NaN   \n",
       "\n",
       "                    Ground     Versus  \\\n",
       "count                55926      55926   \n",
       "unique                 178         25   \n",
       "top     Sharjah CA Stadium  Australia   \n",
       "freq                  3581       7216   \n",
       "mean                   NaN        NaN   \n",
       "std                    NaN        NaN   \n",
       "min                    NaN        NaN   \n",
       "25%                    NaN        NaN   \n",
       "50%                    NaN        NaN   \n",
       "75%                    NaN        NaN   \n",
       "max                    NaN        NaN   \n",
       "\n",
       "                                                     URL  \n",
       "count                                              55926  \n",
       "unique                                              3209  \n",
       "top     ../Matches/MatchScorecard_ODI.asp?MatchCode=1714  \n",
       "freq                                                  22  \n",
       "mean                                                 NaN  \n",
       "std                                                  NaN  \n",
       "min                                                  NaN  \n",
       "25%                                                  NaN  \n",
       "50%                                                  NaN  \n",
       "75%                                                  NaN  \n",
       "max                                                  NaN  "
      ]
     },
     "execution_count": 29,
     "metadata": {},
     "output_type": "execute_result"
    }
   ],
   "source": [
    "odi.describe(include='all') # all column summary"
   ]
  },
  {
   "cell_type": "code",
   "execution_count": 30,
   "metadata": {},
   "outputs": [
    {
     "data": {
      "text/html": [
       "<div>\n",
       "<style scoped>\n",
       "    .dataframe tbody tr th:only-of-type {\n",
       "        vertical-align: middle;\n",
       "    }\n",
       "\n",
       "    .dataframe tbody tr th {\n",
       "        vertical-align: top;\n",
       "    }\n",
       "\n",
       "    .dataframe thead th {\n",
       "        text-align: right;\n",
       "    }\n",
       "</style>\n",
       "<table border=\"1\" class=\"dataframe\">\n",
       "  <thead>\n",
       "    <tr style=\"text-align: right;\">\n",
       "      <th></th>\n",
       "      <th>Runs</th>\n",
       "      <th>ScoreRate</th>\n",
       "    </tr>\n",
       "  </thead>\n",
       "  <tbody>\n",
       "    <tr>\n",
       "      <td>count</td>\n",
       "      <td>55900.000000</td>\n",
       "      <td>55900.000000</td>\n",
       "    </tr>\n",
       "    <tr>\n",
       "      <td>mean</td>\n",
       "      <td>22.241413</td>\n",
       "      <td>65.314208</td>\n",
       "    </tr>\n",
       "    <tr>\n",
       "      <td>std</td>\n",
       "      <td>25.558363</td>\n",
       "      <td>44.213423</td>\n",
       "    </tr>\n",
       "    <tr>\n",
       "      <td>min</td>\n",
       "      <td>0.000000</td>\n",
       "      <td>0.000000</td>\n",
       "    </tr>\n",
       "    <tr>\n",
       "      <td>25%</td>\n",
       "      <td>4.000000</td>\n",
       "      <td>37.500000</td>\n",
       "    </tr>\n",
       "    <tr>\n",
       "      <td>50%</td>\n",
       "      <td>13.000000</td>\n",
       "      <td>62.660000</td>\n",
       "    </tr>\n",
       "    <tr>\n",
       "      <td>75%</td>\n",
       "      <td>32.000000</td>\n",
       "      <td>87.500000</td>\n",
       "    </tr>\n",
       "    <tr>\n",
       "      <td>max</td>\n",
       "      <td>200.000000</td>\n",
       "      <td>600.000000</td>\n",
       "    </tr>\n",
       "  </tbody>\n",
       "</table>\n",
       "</div>"
      ],
      "text/plain": [
       "               Runs     ScoreRate\n",
       "count  55900.000000  55900.000000\n",
       "mean      22.241413     65.314208\n",
       "std       25.558363     44.213423\n",
       "min        0.000000      0.000000\n",
       "25%        4.000000     37.500000\n",
       "50%       13.000000     62.660000\n",
       "75%       32.000000     87.500000\n",
       "max      200.000000    600.000000"
      ]
     },
     "execution_count": 30,
     "metadata": {},
     "output_type": "execute_result"
    }
   ],
   "source": [
    "odi.describe() # numeric columns"
   ]
  },
  {
   "cell_type": "code",
   "execution_count": 31,
   "metadata": {},
   "outputs": [
    {
     "data": {
      "text/plain": [
       "0    Mohammad Shahzad\n",
       "1    Mohammad Shahzad\n",
       "2    Mohammad Shahzad\n",
       "3    Mohammad Shahzad\n",
       "4    Mohammad Shahzad\n",
       "Name: Player, dtype: object"
      ]
     },
     "execution_count": 31,
     "metadata": {},
     "output_type": "execute_result"
    }
   ],
   "source": [
    "odi['Player'].head()\n"
   ]
  },
  {
   "cell_type": "code",
   "execution_count": 32,
   "metadata": {},
   "outputs": [
    {
     "data": {
      "text/html": [
       "<div>\n",
       "<style scoped>\n",
       "    .dataframe tbody tr th:only-of-type {\n",
       "        vertical-align: middle;\n",
       "    }\n",
       "\n",
       "    .dataframe tbody tr th {\n",
       "        vertical-align: top;\n",
       "    }\n",
       "\n",
       "    .dataframe thead th {\n",
       "        text-align: right;\n",
       "    }\n",
       "</style>\n",
       "<table border=\"1\" class=\"dataframe\">\n",
       "  <thead>\n",
       "    <tr style=\"text-align: right;\">\n",
       "      <th></th>\n",
       "      <th>Player</th>\n",
       "      <th>Runs</th>\n",
       "    </tr>\n",
       "  </thead>\n",
       "  <tbody>\n",
       "    <tr>\n",
       "      <td>0</td>\n",
       "      <td>Mohammad Shahzad</td>\n",
       "      <td>118.0</td>\n",
       "    </tr>\n",
       "    <tr>\n",
       "      <td>1</td>\n",
       "      <td>Mohammad Shahzad</td>\n",
       "      <td>110.0</td>\n",
       "    </tr>\n",
       "  </tbody>\n",
       "</table>\n",
       "</div>"
      ],
      "text/plain": [
       "             Player   Runs\n",
       "0  Mohammad Shahzad  118.0\n",
       "1  Mohammad Shahzad  110.0"
      ]
     },
     "execution_count": 32,
     "metadata": {},
     "output_type": "execute_result"
    }
   ],
   "source": [
    "cols=['Player','Runs']\n",
    "odi[cols].head(2)"
   ]
  },
  {
   "cell_type": "code",
   "execution_count": 33,
   "metadata": {
    "scrolled": true
   },
   "outputs": [
    {
     "data": {
      "text/plain": [
       "Sachin R Tendulkar        442\n",
       "Sanath T Jayasuriya       433\n",
       "Ricky T Ponting           360\n",
       "Inzamam-ul-Haq            351\n",
       "D P Mahela Jayawardene    330\n",
       "Rahul Dravid              318\n",
       "Mohammad Azharuddin       308\n",
       "Jacques H Kallis          303\n",
       "Shahid Afridi             303\n",
       "Sourav C Ganguly          300\n",
       "Name: Player, dtype: int64"
      ]
     },
     "execution_count": 33,
     "metadata": {},
     "output_type": "execute_result"
    }
   ],
   "source": [
    "#Top ten players based on their frequency in player column\n",
    "odi['Player'].value_counts().head(10)"
   ]
  },
  {
   "cell_type": "code",
   "execution_count": 34,
   "metadata": {},
   "outputs": [
    {
     "name": "stdout",
     "output_type": "stream",
     "text": [
      "22.241413237924867\n",
      "13.0\n",
      "200.0\n",
      "0.0\n"
     ]
    }
   ],
   "source": [
    "print(odi['Runs'].mean())\n",
    "print(odi['Runs'].median())\n",
    "print(odi['Runs'].max())\n",
    "print(odi['Runs'].min())"
   ]
  },
  {
   "cell_type": "markdown",
   "metadata": {},
   "source": [
    "# Filtering"
   ]
  },
  {
   "cell_type": "code",
   "execution_count": 35,
   "metadata": {},
   "outputs": [
    {
     "data": {
      "text/html": [
       "<div>\n",
       "<style scoped>\n",
       "    .dataframe tbody tr th:only-of-type {\n",
       "        vertical-align: middle;\n",
       "    }\n",
       "\n",
       "    .dataframe tbody tr th {\n",
       "        vertical-align: top;\n",
       "    }\n",
       "\n",
       "    .dataframe thead th {\n",
       "        text-align: right;\n",
       "    }\n",
       "</style>\n",
       "<table border=\"1\" class=\"dataframe\">\n",
       "  <thead>\n",
       "    <tr style=\"text-align: right;\">\n",
       "      <th></th>\n",
       "      <th>Country</th>\n",
       "      <th>Player</th>\n",
       "      <th>Runs</th>\n",
       "      <th>ScoreRate</th>\n",
       "      <th>MatchDate</th>\n",
       "      <th>Ground</th>\n",
       "      <th>Versus</th>\n",
       "      <th>URL</th>\n",
       "    </tr>\n",
       "  </thead>\n",
       "  <tbody>\n",
       "    <tr>\n",
       "      <td>15150</td>\n",
       "      <td>India</td>\n",
       "      <td>Sachin R Tendulkar</td>\n",
       "      <td>200.0</td>\n",
       "      <td>136.05</td>\n",
       "      <td>2-24-2010</td>\n",
       "      <td>Captain Roop Singh Stadium</td>\n",
       "      <td>South Africa</td>\n",
       "      <td>../Matches/MatchScorecard_ODI.asp?MatchCode=3092</td>\n",
       "    </tr>\n",
       "    <tr>\n",
       "      <td>15151</td>\n",
       "      <td>India</td>\n",
       "      <td>Sachin R Tendulkar</td>\n",
       "      <td>186.0</td>\n",
       "      <td>124.00</td>\n",
       "      <td>11-8-1999</td>\n",
       "      <td>Lal Bahadur Shastri Stadium</td>\n",
       "      <td>New Zealand</td>\n",
       "      <td>../Matches/MatchScorecard_ODI.asp?MatchCode=1610</td>\n",
       "    </tr>\n",
       "    <tr>\n",
       "      <td>15152</td>\n",
       "      <td>India</td>\n",
       "      <td>Sachin R Tendulkar</td>\n",
       "      <td>175.0</td>\n",
       "      <td>124.11</td>\n",
       "      <td>11-5-2009</td>\n",
       "      <td>Rajiv Gandhi International Stadium</td>\n",
       "      <td>Australia</td>\n",
       "      <td>../Matches/MatchScorecard_ODI.asp?MatchCode=3050</td>\n",
       "    </tr>\n",
       "    <tr>\n",
       "      <td>15153</td>\n",
       "      <td>India</td>\n",
       "      <td>Sachin R Tendulkar</td>\n",
       "      <td>163.0</td>\n",
       "      <td>122.55</td>\n",
       "      <td>3-8-2009</td>\n",
       "      <td>AMI Stadium</td>\n",
       "      <td>New Zealand</td>\n",
       "      <td>../Matches/MatchScorecard_ODI.asp?MatchCode=2945</td>\n",
       "    </tr>\n",
       "    <tr>\n",
       "      <td>15154</td>\n",
       "      <td>India</td>\n",
       "      <td>Sachin R Tendulkar</td>\n",
       "      <td>152.0</td>\n",
       "      <td>100.66</td>\n",
       "      <td>2-23-2003</td>\n",
       "      <td>City Oval</td>\n",
       "      <td>Namibia</td>\n",
       "      <td>../Matches/MatchScorecard_ODI.asp?MatchCode=2052</td>\n",
       "    </tr>\n",
       "    <tr>\n",
       "      <td>...</td>\n",
       "      <td>...</td>\n",
       "      <td>...</td>\n",
       "      <td>...</td>\n",
       "      <td>...</td>\n",
       "      <td>...</td>\n",
       "      <td>...</td>\n",
       "      <td>...</td>\n",
       "      <td>...</td>\n",
       "    </tr>\n",
       "    <tr>\n",
       "      <td>15587</td>\n",
       "      <td>India</td>\n",
       "      <td>Sachin R Tendulkar</td>\n",
       "      <td>0.0</td>\n",
       "      <td>0.00</td>\n",
       "      <td>12-18-1989</td>\n",
       "      <td>Jinnah Stadium (Gujwranwala)</td>\n",
       "      <td>Pakistan</td>\n",
       "      <td>../Matches/MatchScorecard_ODI.asp?MatchCode=0651</td>\n",
       "    </tr>\n",
       "    <tr>\n",
       "      <td>15588</td>\n",
       "      <td>India</td>\n",
       "      <td>Sachin R Tendulkar</td>\n",
       "      <td>0.0</td>\n",
       "      <td>0.00</td>\n",
       "      <td>10-17-1994</td>\n",
       "      <td>Nahar Singh (Mayur) Stadium</td>\n",
       "      <td>West Indies</td>\n",
       "      <td>../Matches/MatchScorecard_ODI.asp?MatchCode=1002</td>\n",
       "    </tr>\n",
       "    <tr>\n",
       "      <td>15589</td>\n",
       "      <td>India</td>\n",
       "      <td>Sachin R Tendulkar</td>\n",
       "      <td>0.0</td>\n",
       "      <td>0.00</td>\n",
       "      <td>1-23-1997</td>\n",
       "      <td>OUTsurance Oval</td>\n",
       "      <td>South Africa</td>\n",
       "      <td>../Matches/MatchScorecard_ODI.asp?MatchCode=1236</td>\n",
       "    </tr>\n",
       "    <tr>\n",
       "      <td>15590</td>\n",
       "      <td>India</td>\n",
       "      <td>Sachin R Tendulkar</td>\n",
       "      <td>0.0</td>\n",
       "      <td>0.00</td>\n",
       "      <td>10-20-1994</td>\n",
       "      <td>Wankhede Stadium</td>\n",
       "      <td>West Indies</td>\n",
       "      <td>../Matches/MatchScorecard_ODI.asp?MatchCode=1003</td>\n",
       "    </tr>\n",
       "    <tr>\n",
       "      <td>15591</td>\n",
       "      <td>India</td>\n",
       "      <td>Sachin R Tendulkar</td>\n",
       "      <td>0.0</td>\n",
       "      <td>0.00</td>\n",
       "      <td>9-17-1994</td>\n",
       "      <td>Sinhalese Sports Club Ground</td>\n",
       "      <td>Sri Lanka</td>\n",
       "      <td>../Matches/MatchScorecard_ODI.asp?MatchCode=0991</td>\n",
       "    </tr>\n",
       "  </tbody>\n",
       "</table>\n",
       "<p>442 rows × 8 columns</p>\n",
       "</div>"
      ],
      "text/plain": [
       "      Country              Player   Runs  ScoreRate   MatchDate  \\\n",
       "15150   India  Sachin R Tendulkar  200.0     136.05   2-24-2010   \n",
       "15151   India  Sachin R Tendulkar  186.0     124.00   11-8-1999   \n",
       "15152   India  Sachin R Tendulkar  175.0     124.11   11-5-2009   \n",
       "15153   India  Sachin R Tendulkar  163.0     122.55    3-8-2009   \n",
       "15154   India  Sachin R Tendulkar  152.0     100.66   2-23-2003   \n",
       "...       ...                 ...    ...        ...         ...   \n",
       "15587   India  Sachin R Tendulkar    0.0       0.00  12-18-1989   \n",
       "15588   India  Sachin R Tendulkar    0.0       0.00  10-17-1994   \n",
       "15589   India  Sachin R Tendulkar    0.0       0.00   1-23-1997   \n",
       "15590   India  Sachin R Tendulkar    0.0       0.00  10-20-1994   \n",
       "15591   India  Sachin R Tendulkar    0.0       0.00   9-17-1994   \n",
       "\n",
       "                                   Ground        Versus  \\\n",
       "15150          Captain Roop Singh Stadium  South Africa   \n",
       "15151         Lal Bahadur Shastri Stadium   New Zealand   \n",
       "15152  Rajiv Gandhi International Stadium     Australia   \n",
       "15153                         AMI Stadium   New Zealand   \n",
       "15154                           City Oval       Namibia   \n",
       "...                                   ...           ...   \n",
       "15587        Jinnah Stadium (Gujwranwala)      Pakistan   \n",
       "15588         Nahar Singh (Mayur) Stadium   West Indies   \n",
       "15589                     OUTsurance Oval  South Africa   \n",
       "15590                    Wankhede Stadium   West Indies   \n",
       "15591        Sinhalese Sports Club Ground     Sri Lanka   \n",
       "\n",
       "                                                    URL  \n",
       "15150  ../Matches/MatchScorecard_ODI.asp?MatchCode=3092  \n",
       "15151  ../Matches/MatchScorecard_ODI.asp?MatchCode=1610  \n",
       "15152  ../Matches/MatchScorecard_ODI.asp?MatchCode=3050  \n",
       "15153  ../Matches/MatchScorecard_ODI.asp?MatchCode=2945  \n",
       "15154  ../Matches/MatchScorecard_ODI.asp?MatchCode=2052  \n",
       "...                                                 ...  \n",
       "15587  ../Matches/MatchScorecard_ODI.asp?MatchCode=0651  \n",
       "15588  ../Matches/MatchScorecard_ODI.asp?MatchCode=1002  \n",
       "15589  ../Matches/MatchScorecard_ODI.asp?MatchCode=1236  \n",
       "15590  ../Matches/MatchScorecard_ODI.asp?MatchCode=1003  \n",
       "15591  ../Matches/MatchScorecard_ODI.asp?MatchCode=0991  \n",
       "\n",
       "[442 rows x 8 columns]"
      ]
     },
     "execution_count": 35,
     "metadata": {},
     "output_type": "execute_result"
    }
   ],
   "source": [
    "#One column one value filter\n",
    "sachin_row=odi[(odi['Player']=='Sachin R Tendulkar')]\n",
    "sachin_row"
   ]
  },
  {
   "cell_type": "code",
   "execution_count": 38,
   "metadata": {},
   "outputs": [
    {
     "data": {
      "text/plain": [
       "318"
      ]
     },
     "execution_count": 38,
     "metadata": {},
     "output_type": "execute_result"
    }
   ],
   "source": [
    "#Filter for 'Rahul Dravid ' and how many matches he played so far\n",
    "rahul_rows=odi[(odi['Player']=='Rahul Dravid')] # datafram and then column condition\n",
    "rahul_rows.shape[0]"
   ]
  },
  {
   "cell_type": "code",
   "execution_count": 39,
   "metadata": {},
   "outputs": [
    {
     "data": {
      "text/plain": [
       "48"
      ]
     },
     "execution_count": 39,
     "metadata": {},
     "output_type": "execute_result"
    }
   ],
   "source": [
    "sachin_cent=sachin_row[(sachin_row['Runs']>=100)]\n",
    "sachin_cent.shape[0]"
   ]
  },
  {
   "cell_type": "code",
   "execution_count": 40,
   "metadata": {},
   "outputs": [
    {
     "data": {
      "text/plain": [
       "12"
      ]
     },
     "execution_count": 40,
     "metadata": {},
     "output_type": "execute_result"
    }
   ],
   "source": [
    "rahul_cent=rahul_rows[(rahul_rows['Runs']>=100)]\n",
    "rahul_cent.shape[0]"
   ]
  },
  {
   "cell_type": "code",
   "execution_count": 42,
   "metadata": {},
   "outputs": [],
   "source": [
    "#Multiple column filter\n"
   ]
  },
  {
   "cell_type": "code",
   "execution_count": 43,
   "metadata": {},
   "outputs": [
    {
     "data": {
      "text/plain": [
       "48"
      ]
     },
     "execution_count": 43,
     "metadata": {},
     "output_type": "execute_result"
    }
   ],
   "source": [
    "#calculte no. of centuries  by sachin directly using odi data frame\n",
    "#sachin_cent=odi[() &()] two  condition two parenthesis\n",
    "sachin_cent=odi[(odi['Player']=='Sachin R Tendulkar') &\n",
    "                (odi['Runs']>99)]\n",
    "sachin_cent.shape[0]"
   ]
  },
  {
   "cell_type": "code",
   "execution_count": 51,
   "metadata": {},
   "outputs": [
    {
     "data": {
      "text/plain": [
       "9"
      ]
     },
     "execution_count": 51,
     "metadata": {},
     "output_type": "execute_result"
    }
   ],
   "source": [
    "sachin_aus=odi[(odi['Player']=='Sachin R Tendulkar') &\n",
    "               (odi['Runs']>99) &\n",
    "               (odi['Versus']=='Australia')]\n",
    "sachin_aus.shape[0]"
   ]
  },
  {
   "cell_type": "code",
   "execution_count": 54,
   "metadata": {},
   "outputs": [
    {
     "data": {
      "text/html": [
       "<div>\n",
       "<style scoped>\n",
       "    .dataframe tbody tr th:only-of-type {\n",
       "        vertical-align: middle;\n",
       "    }\n",
       "\n",
       "    .dataframe tbody tr th {\n",
       "        vertical-align: top;\n",
       "    }\n",
       "\n",
       "    .dataframe thead th {\n",
       "        text-align: right;\n",
       "    }\n",
       "</style>\n",
       "<table border=\"1\" class=\"dataframe\">\n",
       "  <thead>\n",
       "    <tr style=\"text-align: right;\">\n",
       "      <th></th>\n",
       "      <th>Country</th>\n",
       "      <th>Player</th>\n",
       "      <th>Runs</th>\n",
       "      <th>ScoreRate</th>\n",
       "      <th>MatchDate</th>\n",
       "      <th>Ground</th>\n",
       "      <th>Versus</th>\n",
       "      <th>URL</th>\n",
       "    </tr>\n",
       "  </thead>\n",
       "  <tbody>\n",
       "    <tr>\n",
       "      <td>15150</td>\n",
       "      <td>India</td>\n",
       "      <td>Sachin R Tendulkar</td>\n",
       "      <td>200.0</td>\n",
       "      <td>136.05</td>\n",
       "      <td>2-24-2010</td>\n",
       "      <td>Captain Roop Singh Stadium</td>\n",
       "      <td>South Africa</td>\n",
       "      <td>../Matches/MatchScorecard_ODI.asp?MatchCode=3092</td>\n",
       "    </tr>\n",
       "    <tr>\n",
       "      <td>15151</td>\n",
       "      <td>India</td>\n",
       "      <td>Sachin R Tendulkar</td>\n",
       "      <td>186.0</td>\n",
       "      <td>124.00</td>\n",
       "      <td>11-8-1999</td>\n",
       "      <td>Lal Bahadur Shastri Stadium</td>\n",
       "      <td>New Zealand</td>\n",
       "      <td>../Matches/MatchScorecard_ODI.asp?MatchCode=1610</td>\n",
       "    </tr>\n",
       "    <tr>\n",
       "      <td>15152</td>\n",
       "      <td>India</td>\n",
       "      <td>Sachin R Tendulkar</td>\n",
       "      <td>175.0</td>\n",
       "      <td>124.11</td>\n",
       "      <td>11-5-2009</td>\n",
       "      <td>Rajiv Gandhi International Stadium</td>\n",
       "      <td>Australia</td>\n",
       "      <td>../Matches/MatchScorecard_ODI.asp?MatchCode=3050</td>\n",
       "    </tr>\n",
       "    <tr>\n",
       "      <td>15153</td>\n",
       "      <td>India</td>\n",
       "      <td>Sachin R Tendulkar</td>\n",
       "      <td>163.0</td>\n",
       "      <td>122.55</td>\n",
       "      <td>3-8-2009</td>\n",
       "      <td>AMI Stadium</td>\n",
       "      <td>New Zealand</td>\n",
       "      <td>../Matches/MatchScorecard_ODI.asp?MatchCode=2945</td>\n",
       "    </tr>\n",
       "    <tr>\n",
       "      <td>15154</td>\n",
       "      <td>India</td>\n",
       "      <td>Sachin R Tendulkar</td>\n",
       "      <td>152.0</td>\n",
       "      <td>100.66</td>\n",
       "      <td>2-23-2003</td>\n",
       "      <td>City Oval</td>\n",
       "      <td>Namibia</td>\n",
       "      <td>../Matches/MatchScorecard_ODI.asp?MatchCode=2052</td>\n",
       "    </tr>\n",
       "    <tr>\n",
       "      <td>...</td>\n",
       "      <td>...</td>\n",
       "      <td>...</td>\n",
       "      <td>...</td>\n",
       "      <td>...</td>\n",
       "      <td>...</td>\n",
       "      <td>...</td>\n",
       "      <td>...</td>\n",
       "      <td>...</td>\n",
       "    </tr>\n",
       "    <tr>\n",
       "      <td>16205</td>\n",
       "      <td>India</td>\n",
       "      <td>Rahul Dravid</td>\n",
       "      <td>0.0</td>\n",
       "      <td>0.00</td>\n",
       "      <td>8-21-2004</td>\n",
       "      <td>VRA Ground</td>\n",
       "      <td>Pakistan</td>\n",
       "      <td>../Matches/MatchScorecard_ODI.asp?MatchCode=2252</td>\n",
       "    </tr>\n",
       "    <tr>\n",
       "      <td>16206</td>\n",
       "      <td>India</td>\n",
       "      <td>Rahul Dravid</td>\n",
       "      <td>0.0</td>\n",
       "      <td>0.00</td>\n",
       "      <td>9-6-2005</td>\n",
       "      <td>Harare Sports Club</td>\n",
       "      <td>New Zealand</td>\n",
       "      <td>../Matches/MatchScorecard_ODI.asp?MatchCode=2379</td>\n",
       "    </tr>\n",
       "    <tr>\n",
       "      <td>16207</td>\n",
       "      <td>India</td>\n",
       "      <td>Rahul Dravid</td>\n",
       "      <td>0.0</td>\n",
       "      <td>0.00</td>\n",
       "      <td>4-1-1999</td>\n",
       "      <td>Punjab Cricket Association Stadium</td>\n",
       "      <td>Pakistan</td>\n",
       "      <td>../Matches/MatchScorecard_ODI.asp?MatchCode=1509</td>\n",
       "    </tr>\n",
       "    <tr>\n",
       "      <td>16208</td>\n",
       "      <td>India</td>\n",
       "      <td>Rahul Dravid</td>\n",
       "      <td>0.0</td>\n",
       "      <td>0.00</td>\n",
       "      <td>2-8-2004</td>\n",
       "      <td>Sydney Cricket Ground</td>\n",
       "      <td>Australia</td>\n",
       "      <td>../Matches/MatchScorecard_ODI.asp?MatchCode=2188</td>\n",
       "    </tr>\n",
       "    <tr>\n",
       "      <td>16209</td>\n",
       "      <td>India</td>\n",
       "      <td>Rahul Dravid</td>\n",
       "      <td>0.0</td>\n",
       "      <td>0.00</td>\n",
       "      <td>9-8-2007</td>\n",
       "      <td>Lord's</td>\n",
       "      <td>England</td>\n",
       "      <td>../Matches/MatchScorecard_ODI.asp?MatchCode=2731</td>\n",
       "    </tr>\n",
       "  </tbody>\n",
       "</table>\n",
       "<p>760 rows × 8 columns</p>\n",
       "</div>"
      ],
      "text/plain": [
       "      Country              Player   Runs  ScoreRate  MatchDate  \\\n",
       "15150   India  Sachin R Tendulkar  200.0     136.05  2-24-2010   \n",
       "15151   India  Sachin R Tendulkar  186.0     124.00  11-8-1999   \n",
       "15152   India  Sachin R Tendulkar  175.0     124.11  11-5-2009   \n",
       "15153   India  Sachin R Tendulkar  163.0     122.55   3-8-2009   \n",
       "15154   India  Sachin R Tendulkar  152.0     100.66  2-23-2003   \n",
       "...       ...                 ...    ...        ...        ...   \n",
       "16205   India        Rahul Dravid    0.0       0.00  8-21-2004   \n",
       "16206   India        Rahul Dravid    0.0       0.00   9-6-2005   \n",
       "16207   India        Rahul Dravid    0.0       0.00   4-1-1999   \n",
       "16208   India        Rahul Dravid    0.0       0.00   2-8-2004   \n",
       "16209   India        Rahul Dravid    0.0       0.00   9-8-2007   \n",
       "\n",
       "                                   Ground        Versus  \\\n",
       "15150          Captain Roop Singh Stadium  South Africa   \n",
       "15151         Lal Bahadur Shastri Stadium   New Zealand   \n",
       "15152  Rajiv Gandhi International Stadium     Australia   \n",
       "15153                         AMI Stadium   New Zealand   \n",
       "15154                           City Oval       Namibia   \n",
       "...                                   ...           ...   \n",
       "16205                          VRA Ground      Pakistan   \n",
       "16206                  Harare Sports Club   New Zealand   \n",
       "16207  Punjab Cricket Association Stadium      Pakistan   \n",
       "16208               Sydney Cricket Ground     Australia   \n",
       "16209                              Lord's       England   \n",
       "\n",
       "                                                    URL  \n",
       "15150  ../Matches/MatchScorecard_ODI.asp?MatchCode=3092  \n",
       "15151  ../Matches/MatchScorecard_ODI.asp?MatchCode=1610  \n",
       "15152  ../Matches/MatchScorecard_ODI.asp?MatchCode=3050  \n",
       "15153  ../Matches/MatchScorecard_ODI.asp?MatchCode=2945  \n",
       "15154  ../Matches/MatchScorecard_ODI.asp?MatchCode=2052  \n",
       "...                                                 ...  \n",
       "16205  ../Matches/MatchScorecard_ODI.asp?MatchCode=2252  \n",
       "16206  ../Matches/MatchScorecard_ODI.asp?MatchCode=2379  \n",
       "16207  ../Matches/MatchScorecard_ODI.asp?MatchCode=1509  \n",
       "16208  ../Matches/MatchScorecard_ODI.asp?MatchCode=2188  \n",
       "16209  ../Matches/MatchScorecard_ODI.asp?MatchCode=2731  \n",
       "\n",
       "[760 rows x 8 columns]"
      ]
     },
     "execution_count": 54,
     "metadata": {},
     "output_type": "execute_result"
    }
   ],
   "source": [
    "#Single column multiple values\n",
    "players=['Sachin R Tendulkar','Rahul Dravid']\n",
    "sachin_rahul=odi[(odi['Player'].isin(players))] # is in\n",
    "sachin_rahul"
   ]
  },
  {
   "cell_type": "code",
   "execution_count": 56,
   "metadata": {},
   "outputs": [
    {
     "data": {
      "text/html": [
       "<div>\n",
       "<style scoped>\n",
       "    .dataframe tbody tr th:only-of-type {\n",
       "        vertical-align: middle;\n",
       "    }\n",
       "\n",
       "    .dataframe tbody tr th {\n",
       "        vertical-align: top;\n",
       "    }\n",
       "\n",
       "    .dataframe thead th {\n",
       "        text-align: right;\n",
       "    }\n",
       "</style>\n",
       "<table border=\"1\" class=\"dataframe\">\n",
       "  <thead>\n",
       "    <tr style=\"text-align: right;\">\n",
       "      <th></th>\n",
       "      <th>Country</th>\n",
       "      <th>Player</th>\n",
       "      <th>Runs</th>\n",
       "      <th>ScoreRate</th>\n",
       "      <th>MatchDate</th>\n",
       "      <th>Ground</th>\n",
       "      <th>Versus</th>\n",
       "      <th>URL</th>\n",
       "    </tr>\n",
       "  </thead>\n",
       "  <tbody>\n",
       "    <tr>\n",
       "      <td>15150</td>\n",
       "      <td>India</td>\n",
       "      <td>Sachin R Tendulkar</td>\n",
       "      <td>200.0</td>\n",
       "      <td>136.05</td>\n",
       "      <td>2-24-2010</td>\n",
       "      <td>Captain Roop Singh Stadium</td>\n",
       "      <td>South Africa</td>\n",
       "      <td>../Matches/MatchScorecard_ODI.asp?MatchCode=3092</td>\n",
       "    </tr>\n",
       "  </tbody>\n",
       "</table>\n",
       "</div>"
      ],
      "text/plain": [
       "      Country              Player   Runs  ScoreRate  MatchDate  \\\n",
       "15150   India  Sachin R Tendulkar  200.0     136.05  2-24-2010   \n",
       "\n",
       "                           Ground        Versus  \\\n",
       "15150  Captain Roop Singh Stadium  South Africa   \n",
       "\n",
       "                                                    URL  \n",
       "15150  ../Matches/MatchScorecard_ODI.asp?MatchCode=3092  "
      ]
     },
     "execution_count": 56,
     "metadata": {},
     "output_type": "execute_result"
    }
   ],
   "source": [
    "odi['Runs'].max()\n",
    "rows_200=odi[(odi['Runs']==odi['Runs'].max())]\n",
    "rows_200"
   ]
  },
  {
   "cell_type": "code",
   "execution_count": 59,
   "metadata": {},
   "outputs": [
    {
     "data": {
      "text/plain": [
       "20"
      ]
     },
     "execution_count": 59,
     "metadata": {},
     "output_type": "execute_result"
    }
   ],
   "source": [
    "min1=odi['Runs'].min()\n",
    "rows_200=odi[(odi['Runs']==min1) &\n",
    "            (odi['Player']=='Sachin R Tendulkar')]\n",
    "rows_200.shape[0]"
   ]
  },
  {
   "cell_type": "code",
   "execution_count": 60,
   "metadata": {},
   "outputs": [],
   "source": [
    "#Filter rows based on .loc &.iloc"
   ]
  },
  {
   "cell_type": "code",
   "execution_count": 62,
   "metadata": {},
   "outputs": [
    {
     "data": {
      "text/plain": [
       "Country                                           Afghanistan\n",
       "Player                                       Mohammad Shahzad\n",
       "Runs                                                       11\n",
       "ScoreRate                                                 100\n",
       "MatchDate                                           8-17-2010\n",
       "Ground                                  Cambusdoon New Ground\n",
       "Versus                                               Scotland\n",
       "URL          ../Matches/MatchScorecard_ODI.asp?MatchCode=3166\n",
       "Name: 10, dtype: object"
      ]
     },
     "execution_count": 62,
     "metadata": {},
     "output_type": "execute_result"
    }
   ],
   "source": [
    "odi.iloc[10] # record for the 11th row"
   ]
  },
  {
   "cell_type": "code",
   "execution_count": 63,
   "metadata": {
    "scrolled": true
   },
   "outputs": [
    {
     "data": {
      "text/plain": [
       "'Afghanistan'"
      ]
     },
     "execution_count": 63,
     "metadata": {},
     "output_type": "execute_result"
    }
   ],
   "source": [
    "odi.iloc[10]['Country']"
   ]
  },
  {
   "cell_type": "code",
   "execution_count": 65,
   "metadata": {},
   "outputs": [
    {
     "data": {
      "text/plain": [
       "Country              Afghanistan\n",
       "Ground     Cambusdoon New Ground\n",
       "Name: 10, dtype: object"
      ]
     },
     "execution_count": 65,
     "metadata": {},
     "output_type": "execute_result"
    }
   ],
   "source": [
    "odi.iloc[10,[0,5]] # 10th row ,first and sixth columns"
   ]
  },
  {
   "cell_type": "raw",
   "metadata": {},
   "source": [
    "# iloc\n",
    "ROW BY POSITION=df.iloc[row_pos]\n",
    "row position & column name=df.iloc[row_pos][col_name]\n",
    "row position & column position=df.iloc[row_pos,col_pos]"
   ]
  },
  {
   "cell_type": "code",
   "execution_count": null,
   "metadata": {},
   "outputs": [],
   "source": []
  }
 ],
 "metadata": {
  "kernelspec": {
   "display_name": "Python 3",
   "language": "python",
   "name": "python3"
  },
  "language_info": {
   "codemirror_mode": {
    "name": "ipython",
    "version": 3
   },
   "file_extension": ".py",
   "mimetype": "text/x-python",
   "name": "python",
   "nbconvert_exporter": "python",
   "pygments_lexer": "ipython3",
   "version": "3.7.3"
  }
 },
 "nbformat": 4,
 "nbformat_minor": 2
}
