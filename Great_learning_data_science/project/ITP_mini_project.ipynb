{
 "cells": [
  {
   "cell_type": "markdown",
   "metadata": {},
   "source": [
    "# <center>PGP Data Science Engineering</center>\n",
    "## <center>Introduction to Programming – Mini Project:</center>\n"
   ]
  },
  {
   "cell_type": "markdown",
   "metadata": {},
   "source": [
    "### Problem 1:\n",
    "\n",
    "1. Write a program to calculate area of shapes. Your program should be capable of calculating the area of a square, rectangle, triangle and a circle. The user should be presented with options to select the shape. Based on which shape is chosed by the user, the program should ask for the appropriate input and print the resulting area on the screen.\n",
    "\n",
    "When the program is run, the screen should display something like this:\n",
    "\n",
    "**Which shape would you like to calculate the area for? Please enter the option number-**<br>\n",
    "**1. Square**<br>\n",
    "**2. Rectangle**<br>\n",
    "**3. Triangle**<br>\n",
    "**4. Circle**<br>\n",
    "**Enter Option: _**\n",
    "\n",
    "Say the user enters the option 1.\n",
    "\n",
    "**Please enter the length of a side: _**\n",
    "\n",
    "If the user enters a value of 5. The output should be:\n",
    "\n",
    "**The area of the square is 25**\n",
    "\n",
    "This program should indicate that the input is invalid if the user enters a character instead of a number as input. For instance if the user enters a value of ‘a’ instead of 5 in the previous example the program should prompt:\n",
    "\n",
    "**Invalid input, please enter a number: _**\n"
   ]
  },
  {
   "cell_type": "code",
   "execution_count": 11,
   "metadata": {
    "scrolled": true
   },
   "outputs": [
    {
     "name": "stdout",
     "output_type": "stream",
     "text": [
      "Which shape would you like to calculate the area for? Please enter the option number- \n",
      " 1. Square \n",
      " 2. Rectangle \n",
      " 3. Triangle \n",
      " 4. Circle \n",
      " Enter Option: _4\n",
      "\n",
      "Enter the radius of circle10\n",
      "area of a circle: 314.2857142857143\n"
     ]
    }
   ],
   "source": [
    "def square(a):\n",
    "    return a*a\n",
    "def rectangle(a,b):\n",
    "    return a*b\n",
    "def triangle(b,h):\n",
    "    return (1/2)*b*h\n",
    "def circle(r):\n",
    "    return (22/7)*r*r\n",
    "\n",
    "inp=int(input('Which shape would you like to calculate the area for? Please enter the option number- \\n 1. Square \\n 2. Rectangle \\n 3. Triangle \\n 4. Circle \\n Enter Option: _'))\n",
    "print(\"\")\n",
    "if inp == 1:\n",
    "    a=int(input(\"Enter the lenght of side \"))\n",
    "    print(\"Area of square is: \",square(a))\n",
    "elif inp == 2:\n",
    "    a=int(input(\"Enter the lenght of rectangle\"))\n",
    "    b=int(input(\"Enter the breadth of rectangle\"))\n",
    "    print(\"Area of square is: \",rectangle(a,b))\n",
    "elif inp == 3:\n",
    "    b=int(input(\"Enter the base of a triangle\"))\n",
    "    h=int(input(\"Enter the height of a triangle\"))\n",
    "    print(\"Area of a triangle :\",triangle(b,h))\n",
    "elif inp == 4:\n",
    "    r=int(input(\"Enter the radius of circle\"))\n",
    "    print(\"area of a circle:\",circle(r))\n"
   ]
  },
  {
   "cell_type": "markdown",
   "metadata": {},
   "source": [
    "### Problem 2:\n",
    "\n",
    "Create and encrypter in python based on the ceaser cipher. It is a substitution cipher where each character of the original text is shifted a certain number characters in the alphabet. Write a function that would require 2 arguments – the input text to be encrypted and a key. For eg: Given the input text ‘hello’ and the key 3, the resulting encryted text would be ‘khoor’. Here you can see that every character in the string hello is shifted by 3 characters. ‘h’ has shifted to ‘k’, ‘e’ has shifted to ‘h’ and so on. If a key of 5 were used, the resulting string would be ‘mjqqt’. This function should be capable of ignoring any characters which are not alphabets. Th2 character ‘z’ entered b\n",
    "y the user for a key of 3 would result in ‘c’.\n",
    "\n",
    "Usage:<br>\n",
    "**encrypt(‘hello world!’, 3)**<br>\n",
    "**‘khoor zruog!’**\n",
    "\n",
    "Similarly create decrypter which can decode the encryted text when provided the input text and key\n",
    "\n",
    "Usage:<br>\n",
    "**decrypt(‘khoor zruog!’, 3)**<br>\n",
    "**‘hello world!’**\n",
    "\n",
    "For the sake of simplicity you can assume that input solely consists of lowercase alphabets, spaces and punctuation symbols. Numbers in the input text would also be ignored similar to symbols."
   ]
  },
  {
   "cell_type": "code",
   "execution_count": 12,
   "metadata": {
    "scrolled": false
   },
   "outputs": [
    {
     "name": "stdout",
     "output_type": "stream",
     "text": [
      "enter string to encrypthello world!\n",
      "enter the lenght of encryption3\n",
      "khoor zruog!\n",
      "enter string to decryptabc\n",
      "enter the lenght of encryption2\n",
      "yza\n"
     ]
    }
   ],
   "source": [
    "def encrypter(str,l):\n",
    "    encr=\"\"\n",
    "    for a in str:\n",
    "        if ord(a) >=97 and ord(a)<=122:\n",
    "            if ord(a)+l<=122:\n",
    "                encr=encr+chr(ord(a)+l)\n",
    "            else:\n",
    "                n=122-ord(a)\n",
    "                n1=97+(l)-(n+1)\n",
    "                encr+=chr(n1)\n",
    "        else:\n",
    "            encr+=a\n",
    "    return encr\n",
    "def decruption(str,l):\n",
    "    decr=\"\"\n",
    "    for a in str:\n",
    "        if ord(a) >=97 and ord(a)<=122:\n",
    "            \n",
    "            if ord(a)-l>=97:\n",
    "                decr=decr+chr(ord(a)-l)\n",
    "            else:\n",
    "                n=ord(a)-97\n",
    "                n1=122-l+(n+1)\n",
    "                decr+=chr(n1)\n",
    "                \n",
    "        else:\n",
    "            decr+=a\n",
    "    return decr\n",
    "        \n",
    "str=input(\"enter string to encrypt\")\n",
    "l=int(input(\"enter the lenght of encryption\"))\n",
    "print(encrypter(str,l))\n",
    "str=input(\"enter string to decrypt\")\n",
    "l=int(input(\"enter the lenght of encryption\"))\n",
    "print(decruption(str,l))"
   ]
  },
  {
   "cell_type": "code",
   "execution_count": 13,
   "metadata": {
    "scrolled": false
   },
   "outputs": [
    {
     "data": {
      "text/plain": [
       "97"
      ]
     },
     "execution_count": 13,
     "metadata": {},
     "output_type": "execute_result"
    }
   ],
   "source": []
  },
  {
   "cell_type": "code",
   "execution_count": 14,
   "metadata": {},
   "outputs": [
    {
     "data": {
      "text/plain": [
       "122"
      ]
     },
     "execution_count": 14,
     "metadata": {},
     "output_type": "execute_result"
    }
   ],
   "source": []
  },
  {
   "cell_type": "code",
   "execution_count": null,
   "metadata": {},
   "outputs": [],
   "source": []
  }
 ],
 "metadata": {
  "kernelspec": {
   "display_name": "Python 3",
   "language": "python",
   "name": "python3"
  },
  "language_info": {
   "codemirror_mode": {
    "name": "ipython",
    "version": 3
   },
   "file_extension": ".py",
   "mimetype": "text/x-python",
   "name": "python",
   "nbconvert_exporter": "python",
   "pygments_lexer": "ipython3",
   "version": "3.7.3"
  }
 },
 "nbformat": 4,
 "nbformat_minor": 2
}
