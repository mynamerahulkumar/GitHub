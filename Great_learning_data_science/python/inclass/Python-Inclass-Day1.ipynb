{
 "cells": [
  {
   "cell_type": "markdown",
   "metadata": {},
   "source": [
    "#### 1.  Python Program to exchange the values of two numbers without using a temporary variable. "
   ]
  },
  {
   "cell_type": "code",
   "execution_count": 1,
   "metadata": {},
   "outputs": [
    {
     "name": "stdout",
     "output_type": "stream",
     "text": [
      "Enter value of first variable: 5\n",
      "Enter value of second variable: 6\n",
      " \n",
      "Original values of a & b :  5 6\n",
      "\n",
      "Swapped values of a & b : 6 5\n"
     ]
    }
   ],
   "source": [
    "a=int(input(\"Enter value of first variable: \"))\n",
    "b=int(input(\"Enter value of second variable: \"))\n",
    "\n",
    "print(\" \\nOriginal values of a & b : \", a , b)\n",
    "a , b = b , a\n",
    "\n",
    "print(\"\\nSwapped values of a & b :\" ,a , b)\n",
    "#print(\"a is:\",a,\" b is:\",b)"
   ]
  },
  {
   "cell_type": "markdown",
   "metadata": {},
   "source": [
    "##### Code Explanation"
   ]
  },
  {
   "cell_type": "markdown",
   "metadata": {},
   "source": [
    "1. Get the variables a and b using runtime\n",
    "2. Apply Multiple variable, multiple assignment and swap the values\n",
    "3. Print the original and Desired output for display and validate the results.\n",
    "4. Desired output should be swapped values without using temp variable.\n"
   ]
  },
  {
   "cell_type": "markdown",
   "metadata": {},
   "source": [
    "#### 2. Write a python code to replace all  \"a\"  with 2 for the given variable\n"
   ]
  },
  {
   "cell_type": "code",
   "execution_count": 2,
   "metadata": {},
   "outputs": [
    {
     "name": "stdout",
     "output_type": "stream",
     "text": [
      "2bc12321cb2\n"
     ]
    }
   ],
   "source": [
    "s = 'abc12321cba'\n",
    "\n",
    "print(s.replace('a', '2'))"
   ]
  },
  {
   "cell_type": "markdown",
   "metadata": {},
   "source": [
    "#### 3. Python code for to  remove first character in string?"
   ]
  },
  {
   "cell_type": "code",
   "execution_count": 3,
   "metadata": {
    "scrolled": true
   },
   "outputs": [
    {
     "name": "stdout",
     "output_type": "stream",
     "text": [
      "Modified String :  reat learning\n"
     ]
    }
   ],
   "source": [
    "string = \"Great learning\"\n",
    "string = string[1 : : ]\n",
    "print('Modified String : ' , string)"
   ]
  },
  {
   "cell_type": "markdown",
   "metadata": {},
   "source": [
    "#### 4. Concatenate two strings  \n",
    "#### desired output :   \"Great Learning\""
   ]
  },
  {
   "cell_type": "code",
   "execution_count": 4,
   "metadata": {},
   "outputs": [
    {
     "data": {
      "text/plain": [
       "'Great Learning'"
      ]
     },
     "execution_count": 4,
     "metadata": {},
     "output_type": "execute_result"
    }
   ],
   "source": [
    "first_nm = \"Great\"\n",
    "last_nm = \"Learning\"\n",
    "\n",
    "name = first_nm +\" \"+ last_nm\n",
    "name"
   ]
  },
  {
   "cell_type": "markdown",
   "metadata": {},
   "source": [
    "#### 5. Repeat the string \" Great Learning 3 times \n",
    "#### desired output :  'Great Learning Great Learning Great Learning '"
   ]
  },
  {
   "cell_type": "code",
   "execution_count": 5,
   "metadata": {},
   "outputs": [
    {
     "data": {
      "text/plain": [
       "'Great Learning Great Learning Great Learning '"
      ]
     },
     "execution_count": 5,
     "metadata": {},
     "output_type": "execute_result"
    }
   ],
   "source": [
    "first_nm = \"Great\"\n",
    "last_nm = \"Learning\"\n",
    "\n",
    "name = first_nm +\" \"+ last_nm  +\" \"\n",
    "name * 3"
   ]
  },
  {
   "cell_type": "markdown",
   "metadata": {},
   "source": [
    "#### 6.  Create 3 variables a1,a2,a3 and assign the same values \" 4 \" to all the variables"
   ]
  },
  {
   "cell_type": "code",
   "execution_count": 6,
   "metadata": {},
   "outputs": [
    {
     "data": {
      "text/plain": [
       "4"
      ]
     },
     "execution_count": 6,
     "metadata": {},
     "output_type": "execute_result"
    }
   ],
   "source": [
    "a1 = a2 = a3 = 4\n",
    "a1\n",
    "a2\n",
    "a3"
   ]
  },
  {
   "cell_type": "markdown",
   "metadata": {},
   "source": [
    "#### 7. The height and weight of a person and calculate BMI of a person?\n"
   ]
  },
  {
   "cell_type": "code",
   "execution_count": 7,
   "metadata": {},
   "outputs": [
    {
     "name": "stdout",
     "output_type": "stream",
     "text": [
      "BMI Value is : 23.372576177285318\n"
     ]
    },
    {
     "data": {
      "text/plain": [
       "float"
      ]
     },
     "execution_count": 7,
     "metadata": {},
     "output_type": "execute_result"
    }
   ],
   "source": [
    "weight = 54\n",
    "height =  1.52\n",
    "BMI = weight / (height **2)\n",
    "print('BMI Value is :', BMI)\n",
    "## float or double variable\n",
    "type(BMI) # float"
   ]
  },
  {
   "cell_type": "markdown",
   "metadata": {},
   "source": [
    "#### 8.Formula area of circle = pi * r square"
   ]
  },
  {
   "cell_type": "code",
   "execution_count": 8,
   "metadata": {},
   "outputs": [
    {
     "name": "stdout",
     "output_type": "stream",
     "text": [
      "area of circle is : 12.56\n"
     ]
    }
   ],
   "source": [
    "pi = 3.14\n",
    "r = 2\n",
    "area = pi * (r**2)\n",
    "print('area of circle is :',area)"
   ]
  },
  {
   "cell_type": "markdown",
   "metadata": {},
   "source": [
    "#### 9.Calculate the simple interest\n",
    "#### simple_interest = p * n * r /100"
   ]
  },
  {
   "cell_type": "code",
   "execution_count": 9,
   "metadata": {},
   "outputs": [
    {
     "name": "stdout",
     "output_type": "stream",
     "text": [
      "Simple interest for 10000 rupees at 5 percentage, interest rate is : 2500 Rupees\n"
     ]
    }
   ],
   "source": [
    "p = 10000\n",
    "n =  5\n",
    "r = 5\n",
    "\n",
    "si = (p*n*r)/100\n",
    "print(\"Simple interest for %d rupees at %d percentage, interest rate is : %d Rupees\" %(p,r,si))"
   ]
  },
  {
   "cell_type": "markdown",
   "metadata": {},
   "source": [
    "#### 10.Python code to calculate the square root of the given number(run time variable)"
   ]
  },
  {
   "cell_type": "code",
   "execution_count": 11,
   "metadata": {},
   "outputs": [
    {
     "name": "stdout",
     "output_type": "stream",
     "text": [
      "enter the input number   : 1\n",
      "Square root of 1.000 is 1.000\n"
     ]
    }
   ],
   "source": [
    "#get the variable run time\n",
    "n = int(input(\"enter the input number   : \"))\n",
    "\n",
    "# square root (1/2) it can also be represented as 0.5\n",
    "n_sqrt = n ** 0.5\n",
    "print('Square root of %0.3f is %0.3f'%(n ,n_sqrt))"
   ]
  },
  {
   "cell_type": "code",
   "execution_count": 12,
   "metadata": {},
   "outputs": [],
   "source": [
    "###############################################################################################################################"
   ]
  },
  {
   "cell_type": "markdown",
   "metadata": {},
   "source": [
    "### IF Statement "
   ]
  },
  {
   "cell_type": "markdown",
   "metadata": {},
   "source": [
    "#### 1. x = 20 and y = 30. Write a pseudocode to find if x is less than y?"
   ]
  },
  {
   "cell_type": "raw",
   "metadata": {},
   "source": [
    "Assigning x equal to 20\n",
    "Assigning y equal to 30\n",
    "If condition x is less then y then go to step 4\n",
    "print x is less then y"
   ]
  },
  {
   "cell_type": "markdown",
   "metadata": {},
   "source": [
    "# if-else Statement"
   ]
  },
  {
   "cell_type": "markdown",
   "metadata": {},
   "source": [
    "#### 1. Write a pseudocode to check if a student has passed a subject based on a string input (Yes, No)"
   ]
  },
  {
   "cell_type": "raw",
   "metadata": {},
   "source": [
    "Create the variable is Subject = input is yes or no\n",
    "create If condition Subject == the string 'yes' then go to step 3, Else go to step 4\n",
    "print Cleared the test\n",
    "print Failed the test"
   ]
  },
  {
   "cell_type": "markdown",
   "metadata": {},
   "source": [
    "#### 2. Take the password as an input and check if it is equal to 'great'. Show a message accordingly. Write a pseudocode for this."
   ]
  },
  {
   "cell_type": "raw",
   "metadata": {},
   "source": [
    "Create the variable name Password\n",
    "Assiging  the variable Password input equal to 'Enter the password'\n",
    "Create if condition Password == the string 'great' then go to step 3,Else go to step 5\n",
    "print the 'Password Accepted'\n",
    "print the 'The wrong Password'"
   ]
  },
  {
   "cell_type": "markdown",
   "metadata": {},
   "source": [
    "## Nested if Statement"
   ]
  },
  {
   "cell_type": "raw",
   "metadata": {},
   "source": [
    "1. Based on the users age, divide them in to three groups \n",
    "Group 1 : Age <18 , Minors who are not eligible to work\n",
    "Group 2 : 18<Age<60 , ELigible to work\n",
    "Group 3 : >60, Too old to work as per govt. regulations. \n",
    "\n",
    "Write a pseudocode for the same"
   ]
  },
  {
   "cell_type": "raw",
   "metadata": {},
   "source": [
    "Create variable Name age eqaul to input \n",
    "if condition for age is < 18 go to step 3 , else go to step 5 \n",
    "print  Your Minor not Eligible to Work \n",
    "if condition for age >= 18 and age <= 60 go to step 5 , else go to step 6 \n",
    "print Your Eligible to Work fill in your details and apply \n",
    "print Your too old to work as per the Government rules  Please Collect your pension"
   ]
  },
  {
   "cell_type": "markdown",
   "metadata": {},
   "source": [
    "# While Loop"
   ]
  },
  {
   "cell_type": "raw",
   "metadata": {},
   "source": [
    "1. Take an integer as input from the user and print all the numbers from 0 to that number in reverse order. \n",
    "\n",
    "Example : if the input is 3, the output should be\n",
    "3\n",
    "2\n",
    "1"
   ]
  },
  {
   "cell_type": "raw",
   "metadata": {},
   "source": [
    "Create the variable n\n",
    "n assigning the input values\n",
    "while loop condition for n is greater then zero then go to step 4\n",
    "n is decrement equal to one\n",
    "print the n"
   ]
  },
  {
   "cell_type": "raw",
   "metadata": {},
   "source": [
    "2.  Write a pseudocode to find the squares of all the numbers based on an input. \n",
    "\n",
    "Example : If the input is 10, the output should be\n",
    "1*1 ,2*2 ,3*3...... 10*10?"
   ]
  },
  {
   "cell_type": "markdown",
   "metadata": {},
   "source": [
    "Create the variable i assigning to 1\n",
    "while loop condition of i if less then or equal to the 10 then go to step 3\n",
    "print the condition i ** 2\n",
    "increment the i equal to 1 here loop will happen untill reached to 10."
   ]
  },
  {
   "cell_type": "markdown",
   "metadata": {},
   "source": [
    "# FOR LOOP"
   ]
  },
  {
   "cell_type": "raw",
   "metadata": {},
   "source": [
    "1. Write a pseudocode to print the multiplication table of a given number.\n",
    "\n",
    "Example : if the number is 3, the output should print the below :  \n",
    "3 X 1 = 3\n",
    "3 X 2 = 6\n",
    "...\n",
    "3 X 10 =30"
   ]
  },
  {
   "cell_type": "raw",
   "metadata": {},
   "source": [
    "Create a number and store it in a variableis n.\n",
    "For loop condition i in the range between (1,11) and go to step 3\n",
    "In print statement the condition is n,'x',i,'=' ,n*i and it will Print the multiplication tables of a given number.\n",
    "Exit."
   ]
  },
  {
   "cell_type": "markdown",
   "metadata": {},
   "source": [
    "#### 2. Write a pseudocode to print squares of all numbers present in a list = [1, 12, 24, 36, 11, 20,50]\n"
   ]
  },
  {
   "cell_type": "raw",
   "metadata": {},
   "source": [
    "Create the list name numbers  = [1, 12, 24, 36, 11, 20,50]\n",
    "Create the variable name square assigning the value = to Zero\n",
    "For loop condition for i in the numbers then go to step 4\n",
    "Create the square equal to i * i  \n",
    "Print square"
   ]
  },
  {
   "cell_type": "code",
   "execution_count": null,
   "metadata": {},
   "outputs": [],
   "source": []
  }
 ],
 "metadata": {
  "kernelspec": {
   "display_name": "Python 3",
   "language": "python",
   "name": "python3"
  },
  "language_info": {
   "codemirror_mode": {
    "name": "ipython",
    "version": 3
   },
   "file_extension": ".py",
   "mimetype": "text/x-python",
   "name": "python",
   "nbconvert_exporter": "python",
   "pygments_lexer": "ipython3",
   "version": "3.7.3"
  }
 },
 "nbformat": 4,
 "nbformat_minor": 2
}
