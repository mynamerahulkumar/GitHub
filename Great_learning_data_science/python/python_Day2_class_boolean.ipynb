{
 "cells": [
  {
   "cell_type": "raw",
   "metadata": {},
   "source": [
    "True,False,None\n",
    "None is very important\n",
    "None defines uncertainity \n",
    "Eg someone tried to call and another person is not in coverage area it it like None ,person is not reachable.\n",
    "These three keywords in python are start with capital letter and rest all keyword start with small \n"
   ]
  },
  {
   "cell_type": "code",
   "execution_count": 1,
   "metadata": {},
   "outputs": [
    {
     "data": {
      "text/plain": [
       "1"
      ]
     },
     "execution_count": 1,
     "metadata": {},
     "output_type": "execute_result"
    }
   ],
   "source": [
    "True + False"
   ]
  },
  {
   "cell_type": "raw",
   "metadata": {},
   "source": [
    "For python\n",
    "False has integer value 0\n",
    "True has integer value 1\n",
    "None has NoneType"
   ]
  },
  {
   "cell_type": "code",
   "execution_count": 2,
   "metadata": {},
   "outputs": [
    {
     "data": {
      "text/plain": [
       "1"
      ]
     },
     "execution_count": 2,
     "metadata": {},
     "output_type": "execute_result"
    }
   ],
   "source": [
    "True**False*True**False"
   ]
  },
  {
   "cell_type": "raw",
   "metadata": {},
   "source": [
    "It always start with left to right calculation by defualt "
   ]
  },
  {
   "cell_type": "code",
   "execution_count": null,
   "metadata": {},
   "outputs": [],
   "source": []
  }
 ],
 "metadata": {
  "kernelspec": {
   "display_name": "Python 3",
   "language": "python",
   "name": "python3"
  },
  "language_info": {
   "codemirror_mode": {
    "name": "ipython",
    "version": 3
   },
   "file_extension": ".py",
   "mimetype": "text/x-python",
   "name": "python",
   "nbconvert_exporter": "python",
   "pygments_lexer": "ipython3",
   "version": "3.7.3"
  }
 },
 "nbformat": 4,
 "nbformat_minor": 2
}
