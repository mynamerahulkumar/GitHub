{
 "cells": [
  {
   "cell_type": "raw",
   "metadata": {},
   "source": [
    "tuple\n",
    "rst=() -parenthesis\n"
   ]
  },
  {
   "cell_type": "code",
   "execution_count": 1,
   "metadata": {},
   "outputs": [],
   "source": [
    "rst=(1,3,4,[1,3],(1,3)) # homogenous"
   ]
  },
  {
   "cell_type": "raw",
   "metadata": {},
   "source": [
    "tuple is most important object of python inspite so much instruction.\n",
    "Its a mutable\n",
    "Its a fixed.\n",
    "Its allows read only mode.\n",
    "tuple is used to store the password ,imi,important numbers \n"
   ]
  },
  {
   "cell_type": "raw",
   "metadata": {},
   "source": []
  }
 ],
 "metadata": {
  "kernelspec": {
   "display_name": "Python 3",
   "language": "python",
   "name": "python3"
  },
  "language_info": {
   "codemirror_mode": {
    "name": "ipython",
    "version": 3
   },
   "file_extension": ".py",
   "mimetype": "text/x-python",
   "name": "python",
   "nbconvert_exporter": "python",
   "pygments_lexer": "ipython3",
   "version": "3.7.3"
  }
 },
 "nbformat": 4,
 "nbformat_minor": 2
}
