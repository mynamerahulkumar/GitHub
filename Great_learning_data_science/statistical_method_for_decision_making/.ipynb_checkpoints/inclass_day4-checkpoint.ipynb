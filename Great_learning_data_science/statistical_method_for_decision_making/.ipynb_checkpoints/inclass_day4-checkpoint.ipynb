{
 "cells": [
  {
   "cell_type": "code",
   "execution_count": 39,
   "metadata": {},
   "outputs": [],
   "source": [
    "import pandas as pd\n",
    "import numpy as np\n",
    "import matplotlib.pyplot as plt\n",
    "import seaborn as sns"
   ]
  },
  {
   "attachments": {
    "image.png": {
     "image/png": "[encoded data removed]"
    }
   },
   "cell_type": "markdown",
   "metadata": {},
   "source": [
    "# 1.\tImport the data and assign appropriate column names.![image.png](attachment:image.png)"
   ]
  },
  {
   "cell_type": "code",
   "execution_count": 6,
   "metadata": {},
   "outputs": [],
   "source": [
    "df=pd.read_csv('http://www.stat.ufl.edu/~winner/data/airq402.dat',delim_whitespace=True,header=None)\n",
    "#"
   ]
  },
  {
   "cell_type": "code",
   "execution_count": 7,
   "metadata": {},
   "outputs": [],
   "source": [
    "df.columns=[\"City1\",\"City2\",\"Average_Fare_root\",\"Distance\",\"Average_weekly_passengers\",\"market_leading_airline\",\"market_share\",\n",
    "          \"Average_fare_market\",\"Low_price_airline\",\"market_share\",\"price\"]"
   ]
  },
  {
   "cell_type": "code",
   "execution_count": 8,
   "metadata": {},
   "outputs": [
    {
     "data": {
      "text/html": [
       "<div>\n",
       "<style scoped>\n",
       "    .dataframe tbody tr th:only-of-type {\n",
       "        vertical-align: middle;\n",
       "    }\n",
       "\n",
       "    .dataframe tbody tr th {\n",
       "        vertical-align: top;\n",
       "    }\n",
       "\n",
       "    .dataframe thead th {\n",
       "        text-align: right;\n",
       "    }\n",
       "</style>\n",
       "<table border=\"1\" class=\"dataframe\">\n",
       "  <thead>\n",
       "    <tr style=\"text-align: right;\">\n",
       "      <th></th>\n",
       "      <th>City1</th>\n",
       "      <th>City2</th>\n",
       "      <th>Average_Fare_root</th>\n",
       "      <th>Distance</th>\n",
       "      <th>Average_weekly_passengers</th>\n",
       "      <th>market_leading_airline</th>\n",
       "      <th>market_share</th>\n",
       "      <th>Average_fare_market</th>\n",
       "      <th>Low_price_airline</th>\n",
       "      <th>market_share</th>\n",
       "      <th>price</th>\n",
       "    </tr>\n",
       "  </thead>\n",
       "  <tbody>\n",
       "    <tr>\n",
       "      <th>0</th>\n",
       "      <td>CAK</td>\n",
       "      <td>ATL</td>\n",
       "      <td>114.47</td>\n",
       "      <td>528</td>\n",
       "      <td>424.56</td>\n",
       "      <td>FL</td>\n",
       "      <td>70.19</td>\n",
       "      <td>111.03</td>\n",
       "      <td>FL</td>\n",
       "      <td>70.19</td>\n",
       "      <td>111.03</td>\n",
       "    </tr>\n",
       "    <tr>\n",
       "      <th>1</th>\n",
       "      <td>CAK</td>\n",
       "      <td>MCO</td>\n",
       "      <td>122.47</td>\n",
       "      <td>860</td>\n",
       "      <td>276.84</td>\n",
       "      <td>FL</td>\n",
       "      <td>75.10</td>\n",
       "      <td>123.09</td>\n",
       "      <td>DL</td>\n",
       "      <td>17.23</td>\n",
       "      <td>118.94</td>\n",
       "    </tr>\n",
       "    <tr>\n",
       "      <th>2</th>\n",
       "      <td>ALB</td>\n",
       "      <td>ATL</td>\n",
       "      <td>214.42</td>\n",
       "      <td>852</td>\n",
       "      <td>215.76</td>\n",
       "      <td>DL</td>\n",
       "      <td>78.89</td>\n",
       "      <td>223.98</td>\n",
       "      <td>CO</td>\n",
       "      <td>2.77</td>\n",
       "      <td>167.12</td>\n",
       "    </tr>\n",
       "    <tr>\n",
       "      <th>3</th>\n",
       "      <td>ALB</td>\n",
       "      <td>BWI</td>\n",
       "      <td>69.40</td>\n",
       "      <td>288</td>\n",
       "      <td>606.84</td>\n",
       "      <td>WN</td>\n",
       "      <td>96.97</td>\n",
       "      <td>68.86</td>\n",
       "      <td>WN</td>\n",
       "      <td>96.97</td>\n",
       "      <td>68.86</td>\n",
       "    </tr>\n",
       "    <tr>\n",
       "      <th>4</th>\n",
       "      <td>ALB</td>\n",
       "      <td>ORD</td>\n",
       "      <td>158.13</td>\n",
       "      <td>723</td>\n",
       "      <td>313.04</td>\n",
       "      <td>UA</td>\n",
       "      <td>39.79</td>\n",
       "      <td>161.36</td>\n",
       "      <td>WN</td>\n",
       "      <td>15.34</td>\n",
       "      <td>145.42</td>\n",
       "    </tr>\n",
       "  </tbody>\n",
       "</table>\n",
       "</div>"
      ],
      "text/plain": [
       "  City1 City2  Average_Fare_root  Distance  Average_weekly_passengers  \\\n",
       "0   CAK   ATL             114.47       528                     424.56   \n",
       "1   CAK   MCO             122.47       860                     276.84   \n",
       "2   ALB   ATL             214.42       852                     215.76   \n",
       "3   ALB   BWI              69.40       288                     606.84   \n",
       "4   ALB   ORD             158.13       723                     313.04   \n",
       "\n",
       "  market_leading_airline  market_share  Average_fare_market Low_price_airline  \\\n",
       "0                     FL         70.19               111.03                FL   \n",
       "1                     FL         75.10               123.09                DL   \n",
       "2                     DL         78.89               223.98                CO   \n",
       "3                     WN         96.97                68.86                WN   \n",
       "4                     UA         39.79               161.36                WN   \n",
       "\n",
       "   market_share   price  \n",
       "0         70.19  111.03  \n",
       "1         17.23  118.94  \n",
       "2          2.77  167.12  \n",
       "3         96.97   68.86  \n",
       "4         15.34  145.42  "
      ]
     },
     "execution_count": 8,
     "metadata": {},
     "output_type": "execute_result"
    }
   ],
   "source": [
    "df.head()"
   ]
  },
  {
   "attachments": {
    "image.png": {
     "image/png": "[encoded data removed]"
    }
   },
   "cell_type": "markdown",
   "metadata": {},
   "source": [
    "# 2.\tDrop the variables which has textual information (categorical variables)![image.png](attachment:image.png)"
   ]
  },
  {
   "cell_type": "code",
   "execution_count": 11,
   "metadata": {},
   "outputs": [],
   "source": [
    "df1=df"
   ]
  },
  {
   "cell_type": "code",
   "execution_count": 12,
   "metadata": {},
   "outputs": [],
   "source": [
    "df1.drop(columns=[\"City1\",\"City2\",\"market_leading_airline\",\"Low_price_airline\"],inplace=True)"
   ]
  },
  {
   "cell_type": "code",
   "execution_count": 13,
   "metadata": {},
   "outputs": [
    {
     "data": {
      "text/html": [
       "<div>\n",
       "<style scoped>\n",
       "    .dataframe tbody tr th:only-of-type {\n",
       "        vertical-align: middle;\n",
       "    }\n",
       "\n",
       "    .dataframe tbody tr th {\n",
       "        vertical-align: top;\n",
       "    }\n",
       "\n",
       "    .dataframe thead th {\n",
       "        text-align: right;\n",
       "    }\n",
       "</style>\n",
       "<table border=\"1\" class=\"dataframe\">\n",
       "  <thead>\n",
       "    <tr style=\"text-align: right;\">\n",
       "      <th></th>\n",
       "      <th>Average_Fare_root</th>\n",
       "      <th>Distance</th>\n",
       "      <th>Average_weekly_passengers</th>\n",
       "      <th>market_share</th>\n",
       "      <th>Average_fare_market</th>\n",
       "      <th>market_share</th>\n",
       "      <th>price</th>\n",
       "    </tr>\n",
       "  </thead>\n",
       "  <tbody>\n",
       "    <tr>\n",
       "      <th>0</th>\n",
       "      <td>114.47</td>\n",
       "      <td>528</td>\n",
       "      <td>424.56</td>\n",
       "      <td>70.19</td>\n",
       "      <td>111.03</td>\n",
       "      <td>70.19</td>\n",
       "      <td>111.03</td>\n",
       "    </tr>\n",
       "    <tr>\n",
       "      <th>1</th>\n",
       "      <td>122.47</td>\n",
       "      <td>860</td>\n",
       "      <td>276.84</td>\n",
       "      <td>75.10</td>\n",
       "      <td>123.09</td>\n",
       "      <td>17.23</td>\n",
       "      <td>118.94</td>\n",
       "    </tr>\n",
       "    <tr>\n",
       "      <th>2</th>\n",
       "      <td>214.42</td>\n",
       "      <td>852</td>\n",
       "      <td>215.76</td>\n",
       "      <td>78.89</td>\n",
       "      <td>223.98</td>\n",
       "      <td>2.77</td>\n",
       "      <td>167.12</td>\n",
       "    </tr>\n",
       "    <tr>\n",
       "      <th>3</th>\n",
       "      <td>69.40</td>\n",
       "      <td>288</td>\n",
       "      <td>606.84</td>\n",
       "      <td>96.97</td>\n",
       "      <td>68.86</td>\n",
       "      <td>96.97</td>\n",
       "      <td>68.86</td>\n",
       "    </tr>\n",
       "    <tr>\n",
       "      <th>4</th>\n",
       "      <td>158.13</td>\n",
       "      <td>723</td>\n",
       "      <td>313.04</td>\n",
       "      <td>39.79</td>\n",
       "      <td>161.36</td>\n",
       "      <td>15.34</td>\n",
       "      <td>145.42</td>\n",
       "    </tr>\n",
       "  </tbody>\n",
       "</table>\n",
       "</div>"
      ],
      "text/plain": [
       "   Average_Fare_root  Distance  Average_weekly_passengers  market_share  \\\n",
       "0             114.47       528                     424.56         70.19   \n",
       "1             122.47       860                     276.84         75.10   \n",
       "2             214.42       852                     215.76         78.89   \n",
       "3              69.40       288                     606.84         96.97   \n",
       "4             158.13       723                     313.04         39.79   \n",
       "\n",
       "   Average_fare_market  market_share   price  \n",
       "0               111.03         70.19  111.03  \n",
       "1               123.09         17.23  118.94  \n",
       "2               223.98          2.77  167.12  \n",
       "3                68.86         96.97   68.86  \n",
       "4               161.36         15.34  145.42  "
      ]
     },
     "execution_count": 13,
     "metadata": {},
     "output_type": "execute_result"
    }
   ],
   "source": [
    "df1.head()"
   ]
  },
  {
   "attachments": {
    "image.png": {
     "image/png": "[encoded data removed]"
    }
   },
   "cell_type": "markdown",
   "metadata": {},
   "source": [
    "# 3.\tConvert all the variable’s datatype to Integer ![image.png](attachment:image.png)"
   ]
  },
  {
   "cell_type": "code",
   "execution_count": 15,
   "metadata": {},
   "outputs": [
    {
     "name": "stdout",
     "output_type": "stream",
     "text": [
      "<class 'pandas.core.frame.DataFrame'>\n",
      "RangeIndex: 1000 entries, 0 to 999\n",
      "Data columns (total 7 columns):\n",
      "Average_Fare_root            1000 non-null float64\n",
      "Distance                     1000 non-null int64\n",
      "Average_weekly_passengers    1000 non-null float64\n",
      "market_share                 1000 non-null float64\n",
      "Average_fare_market          1000 non-null float64\n",
      "market_share                 1000 non-null float64\n",
      "price                        1000 non-null float64\n",
      "dtypes: float64(6), int64(1)\n",
      "memory usage: 54.8 KB\n"
     ]
    }
   ],
   "source": [
    "df1.info()"
   ]
  },
  {
   "cell_type": "code",
   "execution_count": 19,
   "metadata": {},
   "outputs": [
    {
     "data": {
      "text/plain": [
       "Index([u'Average_Fare_root', u'Average_weekly_passengers', u'market_share',\n",
       "       u'Average_fare_market', u'market_share', u'price'],\n",
       "      dtype='object')"
      ]
     },
     "execution_count": 19,
     "metadata": {},
     "output_type": "execute_result"
    }
   ],
   "source": [
    "float_col=df1.select_dtypes(include=['float64'])\n",
    "float_col.columns"
   ]
  },
  {
   "cell_type": "code",
   "execution_count": 23,
   "metadata": {},
   "outputs": [],
   "source": [
    "for col in float_col.columns.values:\n",
    "    df1[col]=df1[col].astype('int64')"
   ]
  },
  {
   "cell_type": "code",
   "execution_count": 25,
   "metadata": {},
   "outputs": [
    {
     "name": "stdout",
     "output_type": "stream",
     "text": [
      "<class 'pandas.core.frame.DataFrame'>\n",
      "RangeIndex: 1000 entries, 0 to 999\n",
      "Data columns (total 7 columns):\n",
      "Average_Fare_root            1000 non-null int64\n",
      "Distance                     1000 non-null int64\n",
      "Average_weekly_passengers    1000 non-null int64\n",
      "market_share                 1000 non-null int64\n",
      "Average_fare_market          1000 non-null int64\n",
      "market_share                 1000 non-null int64\n",
      "price                        1000 non-null int64\n",
      "dtypes: int64(7)\n",
      "memory usage: 54.8 KB\n"
     ]
    }
   ],
   "source": [
    "df1.info(\n",
    ")"
   ]
  },
  {
   "attachments": {
    "image.png": {
     "image/png": "[encoded data removed]"
    }
   },
   "cell_type": "markdown",
   "metadata": {},
   "source": [
    "# 4.\tRemove all the outliers from the data using IQR method (Retain data points within 1.5 * IQR) ![image.png](attachment:image.png)"
   ]
  },
  {
   "cell_type": "code",
   "execution_count": 26,
   "metadata": {},
   "outputs": [
    {
     "data": {
      "text/html": [
       "<div>\n",
       "<style scoped>\n",
       "    .dataframe tbody tr th:only-of-type {\n",
       "        vertical-align: middle;\n",
       "    }\n",
       "\n",
       "    .dataframe tbody tr th {\n",
       "        vertical-align: top;\n",
       "    }\n",
       "\n",
       "    .dataframe thead th {\n",
       "        text-align: right;\n",
       "    }\n",
       "</style>\n",
       "<table border=\"1\" class=\"dataframe\">\n",
       "  <thead>\n",
       "    <tr style=\"text-align: right;\">\n",
       "      <th></th>\n",
       "      <th>Average_Fare_root</th>\n",
       "      <th>Distance</th>\n",
       "      <th>Average_weekly_passengers</th>\n",
       "      <th>market_share</th>\n",
       "      <th>Average_fare_market</th>\n",
       "      <th>market_share</th>\n",
       "      <th>price</th>\n",
       "    </tr>\n",
       "  </thead>\n",
       "  <tbody>\n",
       "    <tr>\n",
       "      <th>count</th>\n",
       "      <td>1000.000000</td>\n",
       "      <td>1000.000000</td>\n",
       "      <td>1000.000000</td>\n",
       "      <td>1000.00000</td>\n",
       "      <td>1000.000000</td>\n",
       "      <td>1000.000000</td>\n",
       "      <td>1000.000000</td>\n",
       "    </tr>\n",
       "    <tr>\n",
       "      <th>mean</th>\n",
       "      <td>162.871000</td>\n",
       "      <td>1056.973000</td>\n",
       "      <td>671.804000</td>\n",
       "      <td>59.63000</td>\n",
       "      <td>166.150000</td>\n",
       "      <td>34.059000</td>\n",
       "      <td>142.711000</td>\n",
       "    </tr>\n",
       "    <tr>\n",
       "      <th>std</th>\n",
       "      <td>55.373157</td>\n",
       "      <td>643.203251</td>\n",
       "      <td>766.516661</td>\n",
       "      <td>19.35163</td>\n",
       "      <td>62.666136</td>\n",
       "      <td>27.084037</td>\n",
       "      <td>47.241584</td>\n",
       "    </tr>\n",
       "    <tr>\n",
       "      <th>min</th>\n",
       "      <td>50.000000</td>\n",
       "      <td>108.000000</td>\n",
       "      <td>181.000000</td>\n",
       "      <td>17.00000</td>\n",
       "      <td>50.000000</td>\n",
       "      <td>1.000000</td>\n",
       "      <td>49.000000</td>\n",
       "    </tr>\n",
       "    <tr>\n",
       "      <th>25%</th>\n",
       "      <td>125.000000</td>\n",
       "      <td>553.500000</td>\n",
       "      <td>256.750000</td>\n",
       "      <td>46.00000</td>\n",
       "      <td>124.000000</td>\n",
       "      <td>13.000000</td>\n",
       "      <td>113.000000</td>\n",
       "    </tr>\n",
       "    <tr>\n",
       "      <th>50%</th>\n",
       "      <td>161.000000</td>\n",
       "      <td>919.000000</td>\n",
       "      <td>404.000000</td>\n",
       "      <td>59.00000</td>\n",
       "      <td>161.000000</td>\n",
       "      <td>26.000000</td>\n",
       "      <td>137.000000</td>\n",
       "    </tr>\n",
       "    <tr>\n",
       "      <th>75%</th>\n",
       "      <td>197.000000</td>\n",
       "      <td>1452.500000</td>\n",
       "      <td>769.250000</td>\n",
       "      <td>73.00000</td>\n",
       "      <td>202.250000</td>\n",
       "      <td>52.000000</td>\n",
       "      <td>168.000000</td>\n",
       "    </tr>\n",
       "    <tr>\n",
       "      <th>max</th>\n",
       "      <td>401.000000</td>\n",
       "      <td>2724.000000</td>\n",
       "      <td>8950.000000</td>\n",
       "      <td>100.00000</td>\n",
       "      <td>490.000000</td>\n",
       "      <td>100.000000</td>\n",
       "      <td>387.000000</td>\n",
       "    </tr>\n",
       "  </tbody>\n",
       "</table>\n",
       "</div>"
      ],
      "text/plain": [
       "       Average_Fare_root     Distance  Average_weekly_passengers  \\\n",
       "count        1000.000000  1000.000000                1000.000000   \n",
       "mean          162.871000  1056.973000                 671.804000   \n",
       "std            55.373157   643.203251                 766.516661   \n",
       "min            50.000000   108.000000                 181.000000   \n",
       "25%           125.000000   553.500000                 256.750000   \n",
       "50%           161.000000   919.000000                 404.000000   \n",
       "75%           197.000000  1452.500000                 769.250000   \n",
       "max           401.000000  2724.000000                8950.000000   \n",
       "\n",
       "       market_share  Average_fare_market  market_share        price  \n",
       "count    1000.00000          1000.000000   1000.000000  1000.000000  \n",
       "mean       59.63000           166.150000     34.059000   142.711000  \n",
       "std        19.35163            62.666136     27.084037    47.241584  \n",
       "min        17.00000            50.000000      1.000000    49.000000  \n",
       "25%        46.00000           124.000000     13.000000   113.000000  \n",
       "50%        59.00000           161.000000     26.000000   137.000000  \n",
       "75%        73.00000           202.250000     52.000000   168.000000  \n",
       "max       100.00000           490.000000    100.000000   387.000000  "
      ]
     },
     "execution_count": 26,
     "metadata": {},
     "output_type": "execute_result"
    }
   ],
   "source": [
    "df1.describe()"
   ]
  },
  {
   "cell_type": "code",
   "execution_count": 27,
   "metadata": {},
   "outputs": [
    {
     "data": {
      "text/plain": [
       "Average_Fare_root             72.00\n",
       "Distance                     899.00\n",
       "Average_weekly_passengers    512.50\n",
       "market_share                  27.00\n",
       "Average_fare_market           78.25\n",
       "market_share                  39.00\n",
       "price                         55.00\n",
       "dtype: float64"
      ]
     },
     "execution_count": 27,
     "metadata": {},
     "output_type": "execute_result"
    }
   ],
   "source": [
    "Q1=df1.quantile(0.25)\n",
    "Q3=df1.quantile(0.75)\n",
    "IQR=Q3-Q1\n",
    "IQR"
   ]
  },
  {
   "cell_type": "code",
   "execution_count": 29,
   "metadata": {},
   "outputs": [
    {
     "data": {
      "text/plain": [
       "Average_Fare_root             17.000\n",
       "Distance                    -795.000\n",
       "Average_weekly_passengers   -512.000\n",
       "market_share                   5.500\n",
       "Average_fare_market            6.625\n",
       "market_share                 -45.500\n",
       "price                         30.500\n",
       "dtype: float64"
      ]
     },
     "execution_count": 29,
     "metadata": {},
     "output_type": "execute_result"
    }
   ],
   "source": [
    "upper_limit=Q3+1.5*IQR\n",
    "lowwer_limit=Q1-1.5*IQR\n",
    "lowwer_limit"
   ]
  },
  {
   "cell_type": "code",
   "execution_count": 30,
   "metadata": {},
   "outputs": [],
   "source": [
    "df2=df1[~((df1<lowwer_limit) | (df1>upper_limit)).any(axis=1)]"
   ]
  },
  {
   "cell_type": "code",
   "execution_count": 32,
   "metadata": {},
   "outputs": [
    {
     "data": {
      "text/html": [
       "<div>\n",
       "<style scoped>\n",
       "    .dataframe tbody tr th:only-of-type {\n",
       "        vertical-align: middle;\n",
       "    }\n",
       "\n",
       "    .dataframe tbody tr th {\n",
       "        vertical-align: top;\n",
       "    }\n",
       "\n",
       "    .dataframe thead th {\n",
       "        text-align: right;\n",
       "    }\n",
       "</style>\n",
       "<table border=\"1\" class=\"dataframe\">\n",
       "  <thead>\n",
       "    <tr style=\"text-align: right;\">\n",
       "      <th></th>\n",
       "      <th>Average_Fare_root</th>\n",
       "      <th>Distance</th>\n",
       "      <th>Average_weekly_passengers</th>\n",
       "      <th>market_share</th>\n",
       "      <th>Average_fare_market</th>\n",
       "      <th>market_share</th>\n",
       "      <th>price</th>\n",
       "    </tr>\n",
       "  </thead>\n",
       "  <tbody>\n",
       "    <tr>\n",
       "      <th>count</th>\n",
       "      <td>885.000000</td>\n",
       "      <td>885.000000</td>\n",
       "      <td>885.000000</td>\n",
       "      <td>885.000000</td>\n",
       "      <td>885.000000</td>\n",
       "      <td>885.000000</td>\n",
       "      <td>885.000000</td>\n",
       "    </tr>\n",
       "    <tr>\n",
       "      <th>mean</th>\n",
       "      <td>159.787571</td>\n",
       "      <td>1039.383051</td>\n",
       "      <td>498.654237</td>\n",
       "      <td>60.134463</td>\n",
       "      <td>162.084746</td>\n",
       "      <td>33.876836</td>\n",
       "      <td>139.943503</td>\n",
       "    </tr>\n",
       "    <tr>\n",
       "      <th>std</th>\n",
       "      <td>48.461699</td>\n",
       "      <td>615.224361</td>\n",
       "      <td>327.553060</td>\n",
       "      <td>19.347530</td>\n",
       "      <td>53.278028</td>\n",
       "      <td>27.167854</td>\n",
       "      <td>39.853822</td>\n",
       "    </tr>\n",
       "    <tr>\n",
       "      <th>min</th>\n",
       "      <td>50.000000</td>\n",
       "      <td>108.000000</td>\n",
       "      <td>181.000000</td>\n",
       "      <td>17.000000</td>\n",
       "      <td>50.000000</td>\n",
       "      <td>1.000000</td>\n",
       "      <td>50.000000</td>\n",
       "    </tr>\n",
       "    <tr>\n",
       "      <th>25%</th>\n",
       "      <td>126.000000</td>\n",
       "      <td>564.000000</td>\n",
       "      <td>249.000000</td>\n",
       "      <td>47.000000</td>\n",
       "      <td>125.000000</td>\n",
       "      <td>13.000000</td>\n",
       "      <td>115.000000</td>\n",
       "    </tr>\n",
       "    <tr>\n",
       "      <th>50%</th>\n",
       "      <td>160.000000</td>\n",
       "      <td>914.000000</td>\n",
       "      <td>372.000000</td>\n",
       "      <td>59.000000</td>\n",
       "      <td>160.000000</td>\n",
       "      <td>26.000000</td>\n",
       "      <td>138.000000</td>\n",
       "    </tr>\n",
       "    <tr>\n",
       "      <th>75%</th>\n",
       "      <td>194.000000</td>\n",
       "      <td>1381.000000</td>\n",
       "      <td>644.000000</td>\n",
       "      <td>74.000000</td>\n",
       "      <td>198.000000</td>\n",
       "      <td>52.000000</td>\n",
       "      <td>166.000000</td>\n",
       "    </tr>\n",
       "    <tr>\n",
       "      <th>max</th>\n",
       "      <td>288.000000</td>\n",
       "      <td>2724.000000</td>\n",
       "      <td>1519.000000</td>\n",
       "      <td>100.000000</td>\n",
       "      <td>315.000000</td>\n",
       "      <td>100.000000</td>\n",
       "      <td>250.000000</td>\n",
       "    </tr>\n",
       "  </tbody>\n",
       "</table>\n",
       "</div>"
      ],
      "text/plain": [
       "       Average_Fare_root     Distance  Average_weekly_passengers  \\\n",
       "count         885.000000   885.000000                 885.000000   \n",
       "mean          159.787571  1039.383051                 498.654237   \n",
       "std            48.461699   615.224361                 327.553060   \n",
       "min            50.000000   108.000000                 181.000000   \n",
       "25%           126.000000   564.000000                 249.000000   \n",
       "50%           160.000000   914.000000                 372.000000   \n",
       "75%           194.000000  1381.000000                 644.000000   \n",
       "max           288.000000  2724.000000                1519.000000   \n",
       "\n",
       "       market_share  Average_fare_market  market_share       price  \n",
       "count    885.000000           885.000000    885.000000  885.000000  \n",
       "mean      60.134463           162.084746     33.876836  139.943503  \n",
       "std       19.347530            53.278028     27.167854   39.853822  \n",
       "min       17.000000            50.000000      1.000000   50.000000  \n",
       "25%       47.000000           125.000000     13.000000  115.000000  \n",
       "50%       59.000000           160.000000     26.000000  138.000000  \n",
       "75%       74.000000           198.000000     52.000000  166.000000  \n",
       "max      100.000000           315.000000    100.000000  250.000000  "
      ]
     },
     "execution_count": 32,
     "metadata": {},
     "output_type": "execute_result"
    }
   ],
   "source": [
    "df2.describe()"
   ]
  },
  {
   "cell_type": "code",
   "execution_count": 34,
   "metadata": {},
   "outputs": [
    {
     "name": "stdout",
     "output_type": "stream",
     "text": [
      "<class 'pandas.core.frame.DataFrame'>\n",
      "Int64Index: 885 entries, 0 to 999\n",
      "Data columns (total 7 columns):\n",
      "Average_Fare_root            885 non-null int64\n",
      "Distance                     885 non-null int64\n",
      "Average_weekly_passengers    885 non-null int64\n",
      "market_share                 885 non-null int64\n",
      "Average_fare_market          885 non-null int64\n",
      "market_share                 885 non-null int64\n",
      "price                        885 non-null int64\n",
      "dtypes: int64(7)\n",
      "memory usage: 55.3 KB\n"
     ]
    }
   ],
   "source": [
    "df2.info()"
   ]
  },
  {
   "attachments": {
    "image.png": {
     "image/png": "[encoded data removed]"
    }
   },
   "cell_type": "markdown",
   "metadata": {},
   "source": [
    "# 5.\tPrint the correlation matrix. ![image.png](attachment:image.png)"
   ]
  },
  {
   "cell_type": "code",
   "execution_count": 33,
   "metadata": {},
   "outputs": [
    {
     "data": {
      "text/html": [
       "<div>\n",
       "<style scoped>\n",
       "    .dataframe tbody tr th:only-of-type {\n",
       "        vertical-align: middle;\n",
       "    }\n",
       "\n",
       "    .dataframe tbody tr th {\n",
       "        vertical-align: top;\n",
       "    }\n",
       "\n",
       "    .dataframe thead th {\n",
       "        text-align: right;\n",
       "    }\n",
       "</style>\n",
       "<table border=\"1\" class=\"dataframe\">\n",
       "  <thead>\n",
       "    <tr style=\"text-align: right;\">\n",
       "      <th></th>\n",
       "      <th>Average_Fare_root</th>\n",
       "      <th>Distance</th>\n",
       "      <th>Average_weekly_passengers</th>\n",
       "      <th>market_share</th>\n",
       "      <th>Average_fare_market</th>\n",
       "      <th>market_share</th>\n",
       "      <th>price</th>\n",
       "    </tr>\n",
       "  </thead>\n",
       "  <tbody>\n",
       "    <tr>\n",
       "      <th>Average_Fare_root</th>\n",
       "      <td>1.000000</td>\n",
       "      <td>0.522609</td>\n",
       "      <td>-0.197014</td>\n",
       "      <td>-0.207874</td>\n",
       "      <td>0.979620</td>\n",
       "      <td>-0.494021</td>\n",
       "      <td>0.840969</td>\n",
       "    </tr>\n",
       "    <tr>\n",
       "      <th>Distance</th>\n",
       "      <td>0.522609</td>\n",
       "      <td>1.000000</td>\n",
       "      <td>-0.129640</td>\n",
       "      <td>-0.547132</td>\n",
       "      <td>0.489541</td>\n",
       "      <td>-0.361448</td>\n",
       "      <td>0.539772</td>\n",
       "    </tr>\n",
       "    <tr>\n",
       "      <th>Average_weekly_passengers</th>\n",
       "      <td>-0.197014</td>\n",
       "      <td>-0.129640</td>\n",
       "      <td>1.000000</td>\n",
       "      <td>0.022685</td>\n",
       "      <td>-0.163634</td>\n",
       "      <td>0.076881</td>\n",
       "      <td>-0.208752</td>\n",
       "    </tr>\n",
       "    <tr>\n",
       "      <th>market_share</th>\n",
       "      <td>-0.207874</td>\n",
       "      <td>-0.547132</td>\n",
       "      <td>0.022685</td>\n",
       "      <td>1.000000</td>\n",
       "      <td>-0.193264</td>\n",
       "      <td>0.280838</td>\n",
       "      <td>-0.314804</td>\n",
       "    </tr>\n",
       "    <tr>\n",
       "      <th>Average_fare_market</th>\n",
       "      <td>0.979620</td>\n",
       "      <td>0.489541</td>\n",
       "      <td>-0.163634</td>\n",
       "      <td>-0.193264</td>\n",
       "      <td>1.000000</td>\n",
       "      <td>-0.519736</td>\n",
       "      <td>0.794175</td>\n",
       "    </tr>\n",
       "    <tr>\n",
       "      <th>market_share</th>\n",
       "      <td>-0.494021</td>\n",
       "      <td>-0.361448</td>\n",
       "      <td>0.076881</td>\n",
       "      <td>0.280838</td>\n",
       "      <td>-0.519736</td>\n",
       "      <td>1.000000</td>\n",
       "      <td>-0.261183</td>\n",
       "    </tr>\n",
       "    <tr>\n",
       "      <th>price</th>\n",
       "      <td>0.840969</td>\n",
       "      <td>0.539772</td>\n",
       "      <td>-0.208752</td>\n",
       "      <td>-0.314804</td>\n",
       "      <td>0.794175</td>\n",
       "      <td>-0.261183</td>\n",
       "      <td>1.000000</td>\n",
       "    </tr>\n",
       "  </tbody>\n",
       "</table>\n",
       "</div>"
      ],
      "text/plain": [
       "                           Average_Fare_root  Distance  \\\n",
       "Average_Fare_root                   1.000000  0.522609   \n",
       "Distance                            0.522609  1.000000   \n",
       "Average_weekly_passengers          -0.197014 -0.129640   \n",
       "market_share                       -0.207874 -0.547132   \n",
       "Average_fare_market                 0.979620  0.489541   \n",
       "market_share                       -0.494021 -0.361448   \n",
       "price                               0.840969  0.539772   \n",
       "\n",
       "                           Average_weekly_passengers  market_share  \\\n",
       "Average_Fare_root                          -0.197014     -0.207874   \n",
       "Distance                                   -0.129640     -0.547132   \n",
       "Average_weekly_passengers                   1.000000      0.022685   \n",
       "market_share                                0.022685      1.000000   \n",
       "Average_fare_market                        -0.163634     -0.193264   \n",
       "market_share                                0.076881      0.280838   \n",
       "price                                      -0.208752     -0.314804   \n",
       "\n",
       "                           Average_fare_market  market_share     price  \n",
       "Average_Fare_root                     0.979620     -0.494021  0.840969  \n",
       "Distance                              0.489541     -0.361448  0.539772  \n",
       "Average_weekly_passengers            -0.163634      0.076881 -0.208752  \n",
       "market_share                         -0.193264      0.280838 -0.314804  \n",
       "Average_fare_market                   1.000000     -0.519736  0.794175  \n",
       "market_share                         -0.519736      1.000000 -0.261183  \n",
       "price                                 0.794175     -0.261183  1.000000  "
      ]
     },
     "execution_count": 33,
     "metadata": {},
     "output_type": "execute_result"
    }
   ],
   "source": [
    "df2.corr()"
   ]
  },
  {
   "attachments": {
    "image.png": {
     "image/png": "[encoded data removed]"
    }
   },
   "cell_type": "markdown",
   "metadata": {},
   "source": [
    "# 6.\tTreat “Average Fare” –  as your Dependent Variable and the variable which has the highest correlation with Average Fare as the Independent Variable. Drop all the other variables ![image.png](attachment:image.png)"
   ]
  },
  {
   "cell_type": "code",
   "execution_count": 36,
   "metadata": {},
   "outputs": [
    {
     "name": "stderr",
     "output_type": "stream",
     "text": [
      "/opt/anaconda2/lib/python2.7/site-packages/pandas/core/frame.py:3940: SettingWithCopyWarning: \n",
      "A value is trying to be set on a copy of a slice from a DataFrame\n",
      "\n",
      "See the caveats in the documentation: http://pandas.pydata.org/pandas-docs/stable/indexing.html#indexing-view-versus-copy\n",
      "  errors=errors)\n"
     ]
    },
    {
     "data": {
      "text/html": [
       "<div>\n",
       "<style scoped>\n",
       "    .dataframe tbody tr th:only-of-type {\n",
       "        vertical-align: middle;\n",
       "    }\n",
       "\n",
       "    .dataframe tbody tr th {\n",
       "        vertical-align: top;\n",
       "    }\n",
       "\n",
       "    .dataframe thead th {\n",
       "        text-align: right;\n",
       "    }\n",
       "</style>\n",
       "<table border=\"1\" class=\"dataframe\">\n",
       "  <thead>\n",
       "    <tr style=\"text-align: right;\">\n",
       "      <th></th>\n",
       "      <th>Average_Fare_root</th>\n",
       "      <th>Distance</th>\n",
       "      <th>Average_fare_market</th>\n",
       "      <th>price</th>\n",
       "    </tr>\n",
       "  </thead>\n",
       "  <tbody>\n",
       "    <tr>\n",
       "      <th>0</th>\n",
       "      <td>114</td>\n",
       "      <td>528</td>\n",
       "      <td>111</td>\n",
       "      <td>111</td>\n",
       "    </tr>\n",
       "    <tr>\n",
       "      <th>1</th>\n",
       "      <td>122</td>\n",
       "      <td>860</td>\n",
       "      <td>123</td>\n",
       "      <td>118</td>\n",
       "    </tr>\n",
       "    <tr>\n",
       "      <th>2</th>\n",
       "      <td>214</td>\n",
       "      <td>852</td>\n",
       "      <td>223</td>\n",
       "      <td>167</td>\n",
       "    </tr>\n",
       "    <tr>\n",
       "      <th>3</th>\n",
       "      <td>69</td>\n",
       "      <td>288</td>\n",
       "      <td>68</td>\n",
       "      <td>68</td>\n",
       "    </tr>\n",
       "    <tr>\n",
       "      <th>4</th>\n",
       "      <td>158</td>\n",
       "      <td>723</td>\n",
       "      <td>161</td>\n",
       "      <td>145</td>\n",
       "    </tr>\n",
       "  </tbody>\n",
       "</table>\n",
       "</div>"
      ],
      "text/plain": [
       "   Average_Fare_root  Distance  Average_fare_market  price\n",
       "0                114       528                  111    111\n",
       "1                122       860                  123    118\n",
       "2                214       852                  223    167\n",
       "3                 69       288                   68     68\n",
       "4                158       723                  161    145"
      ]
     },
     "execution_count": 36,
     "metadata": {},
     "output_type": "execute_result"
    }
   ],
   "source": [
    "df2.drop(columns=['Average_weekly_passengers','market_share'],inplace=True)\n",
    "df2.head()"
   ]
  },
  {
   "attachments": {
    "image.png": {
     "image/png": "[encoded data removed]"
    }
   },
   "cell_type": "markdown",
   "metadata": {},
   "source": [
    "# 7.\tCreate Scatter Plot of Independent Variable Vs Dependent Variable.![image.png](attachment:image.png)# "
   ]
  },
  {
   "cell_type": "code",
   "execution_count": 40,
   "metadata": {},
   "outputs": [
    {
     "data": {
      "image/png": "[encoded data removed]",
      "text/plain": [
       "<Figure size 180x540 with 3 Axes>"
      ]
     },
     "metadata": {
      "needs_background": "light"
     },
     "output_type": "display_data"
    }
   ],
   "source": [
    "sns.pairplot(data=df2,x_vars=['Average_Fare_root'],y_vars=['Distance','Average_fare_market','price'])\n",
    "plt.show()"
   ]
  },
  {
   "attachments": {
    "image.png": {
     "image/png": "[encoded data removed]"
    }
   },
   "cell_type": "markdown",
   "metadata": {},
   "source": [
    "# 8.\tDivide the data set into training and test data set and build a Linear Regression model. ![image.png](attachment:image.png)"
   ]
  },
  {
   "cell_type": "code",
   "execution_count": 41,
   "metadata": {},
   "outputs": [],
   "source": [
    "X=df2.drop(columns=['Average_Fare_root'])\n",
    "Y=df2['Average_Fare_root']"
   ]
  },
  {
   "cell_type": "code",
   "execution_count": 42,
   "metadata": {},
   "outputs": [],
   "source": [
    "from sklearn.model_selection import train_test_split"
   ]
  },
  {
   "cell_type": "code",
   "execution_count": 43,
   "metadata": {},
   "outputs": [],
   "source": [
    "X_train,X_test,Y_train,Y_test=train_test_split=train_test_split(X,Y,test_size=0.3,random_state=0)"
   ]
  },
  {
   "attachments": {
    "image.png": {
     "image/png": "[encoded data removed]"
    }
   },
   "cell_type": "markdown",
   "metadata": {},
   "source": [
    "# 9.\tPrint the train and test accuracy of the model .![image.png](attachment:image.png)"
   ]
  },
  {
   "cell_type": "code",
   "execution_count": 44,
   "metadata": {},
   "outputs": [],
   "source": [
    "from sklearn.linear_model import LinearRegression\n"
   ]
  },
  {
   "cell_type": "code",
   "execution_count": 45,
   "metadata": {},
   "outputs": [
    {
     "data": {
      "text/plain": [
       "LinearRegression(copy_X=True, fit_intercept=True, n_jobs=None,\n",
       "         normalize=False)"
      ]
     },
     "execution_count": 45,
     "metadata": {},
     "output_type": "execute_result"
    }
   ],
   "source": [
    "regressor=LinearRegression()\n",
    "regressor.fit(X_train,Y_train)"
   ]
  },
  {
   "cell_type": "code",
   "execution_count": 50,
   "metadata": {},
   "outputs": [
    {
     "name": "stdout",
     "output_type": "stream",
     "text": [
      "('R^2', 0.9703785827286605)\n"
     ]
    }
   ],
   "source": [
    "y_pred=regressor.predict(X_train)\n",
    "print(\"R^2\",regressor.score(X_train,Y_train))"
   ]
  },
  {
   "cell_type": "code",
   "execution_count": 51,
   "metadata": {},
   "outputs": [
    {
     "name": "stdout",
     "output_type": "stream",
     "text": [
      "('R^2', 0.9717471554453592)\n"
     ]
    }
   ],
   "source": [
    "print(\"R^2\",regressor.score(X_test,Y_test))"
   ]
  },
  {
   "attachments": {
    "image.png": {
     "image/png": "[encoded data removed]"
    }
   },
   "cell_type": "markdown",
   "metadata": {},
   "source": [
    "# 10.\tPrint the coefficient and the intercept of the model .![image.png](attachment:image.png)# "
   ]
  },
  {
   "cell_type": "code",
   "execution_count": 48,
   "metadata": {},
   "outputs": [
    {
     "data": {
      "text/plain": [
       "array([0.00175626, 0.76767473, 0.1962988 ])"
      ]
     },
     "execution_count": 48,
     "metadata": {},
     "output_type": "execute_result"
    }
   ],
   "source": [
    "regressor.coef_"
   ]
  },
  {
   "cell_type": "code",
   "execution_count": 49,
   "metadata": {},
   "outputs": [
    {
     "data": {
      "text/plain": [
       "5.913722951550824"
      ]
     },
     "execution_count": 49,
     "metadata": {},
     "output_type": "execute_result"
    }
   ],
   "source": [
    "regressor.intercept_"
   ]
  },
  {
   "cell_type": "code",
   "execution_count": null,
   "metadata": {},
   "outputs": [],
   "source": []
  }
 ],
 "metadata": {
  "kernelspec": {
   "display_name": "Python 2",
   "language": "python",
   "name": "python2"
  },
  "language_info": {
   "codemirror_mode": {
    "name": "ipython",
    "version": 2
   },
   "file_extension": ".py",
   "mimetype": "text/x-python",
   "name": "python",
   "nbconvert_exporter": "python",
   "pygments_lexer": "ipython2",
   "version": "2.7.16"
  }
 },
 "nbformat": 4,
 "nbformat_minor": 2
}
