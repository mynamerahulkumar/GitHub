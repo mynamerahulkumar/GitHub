{
 "cells": [
  {
   "cell_type": "code",
   "execution_count": 1,
   "metadata": {},
   "outputs": [],
   "source": [
    "## CALLING LIBRARIES\n",
    "import numpy             as np\n",
    "import pandas            as pd\n",
    "import scipy.stats       as stats\n",
    "import matplotlib.pyplot as plt\n",
    "%matplotlib inline\n",
    "import seaborn           as sns\n",
    "import math"
   ]
  },
  {
   "cell_type": "markdown",
   "metadata": {},
   "source": [
    "## Normal Distribution"
   ]
  },
  {
   "cell_type": "markdown",
   "metadata": {},
   "source": [
    "**Problem:** The fill amount in 2-liter soft drink bottles is normally distributed, with a mean of 2.0 liters and a standard deviation of 0.05 liter. If the bottles contain less than 95% of the listed net content (1.90 liters, in our case), the manufacturer may be subject to penalty by the state office of consumer affairs. Bottles that have a net content above 2.1 liters may cause excess spillage upon opening. What is the proportion of bottles that will contain\n",
    "\n",
    "* a) between 1.9 and 2.0 liters\n",
    "* b) between 1.9 and 2.1 liters\n",
    "* c) below 1.9 liters or above 2.1 liters\n",
    "* d) At least how much soft drink is contained in 99% of the bottles?"
   ]
  },
  {
   "cell_type": "code",
   "execution_count": 2,
   "metadata": {},
   "outputs": [],
   "source": [
    "mu     = 2\n",
    "sigma  = 0.05"
   ]
  },
  {
   "cell_type": "markdown",
   "metadata": {},
   "source": [
    "#### a. between 1.9 and 2.0 liters\n",
    "----------"
   ]
  },
  {
   "cell_type": "code",
   "execution_count": null,
   "metadata": {},
   "outputs": [],
   "source": []
  },
  {
   "cell_type": "markdown",
   "metadata": {},
   "source": [
    "#### b) between 1.9 and 2.1 liters\n",
    "-------"
   ]
  },
  {
   "cell_type": "code",
   "execution_count": null,
   "metadata": {},
   "outputs": [],
   "source": []
  },
  {
   "cell_type": "markdown",
   "metadata": {},
   "source": [
    "#### c. below 1.9 liters or above 2.1 liters\n",
    "------"
   ]
  },
  {
   "cell_type": "code",
   "execution_count": null,
   "metadata": {},
   "outputs": [],
   "source": []
  },
  {
   "cell_type": "markdown",
   "metadata": {},
   "source": [
    "#### d) At least how much soft drink is contained in 99% of the bottles?\n",
    "-----------"
   ]
  },
  {
   "cell_type": "code",
   "execution_count": null,
   "metadata": {},
   "outputs": [],
   "source": []
  },
  {
   "cell_type": "markdown",
   "metadata": {},
   "source": [
    "------"
   ]
  },
  {
   "cell_type": "markdown",
   "metadata": {},
   "source": [
    "**Problem)**. The following table contains the age of the vistors in the cricket stadium  ( n =50).**\n",
    "* Decide whether the data appears to be normally distributed by\n",
    "* a. Mean and median "
   ]
  },
  {
   "cell_type": "markdown",
   "metadata": {},
   "source": [
    "**solution :**"
   ]
  },
  {
   "cell_type": "code",
   "execution_count": 36,
   "metadata": {},
   "outputs": [
    {
     "name": "stdout",
     "output_type": "stream",
     "text": [
      "[38 36 31 30 28 25 26 20 20 20 21 19 21 19 21 20 20 20 19 21 21 22 20 22\n",
      " 20 20 22 20 22 21 19 19 20 20 21 20 19 18 20 21 21 20 21 21 20 21 24 32\n",
      " 35 38]\n"
     ]
    }
   ],
   "source": [
    "mpg = np.array([38,36,31,30, 28,25, 26, 20, 20, 20, 21, 19, 21, 19, 21, 20, 20, 20, 19, 21, 21, 22, 20, 22, 20, 20, 22, 20, 22, 21, 19,\n",
    "                             19, 20, 20, 21, 20, 19, 18, 20, 21, 21, 20, 21, 21, 20,  21, 24, 32, 35,38])\n",
    "print(mpg)"
   ]
  },
  {
   "cell_type": "code",
   "execution_count": null,
   "metadata": {},
   "outputs": [],
   "source": []
  },
  {
   "cell_type": "markdown",
   "metadata": {},
   "source": [
    "------------------"
   ]
  },
  {
   "cell_type": "markdown",
   "metadata": {},
   "source": [
    "**Problem**). The mean filling capacity for a coke bottle is 500 ml with a standard deviation of 20ml. The random variable filled     \n",
    "       capacity of the bottles follows a normal distribution.**\n",
    "\n",
    "* a. What is the probability that the bottle filled less than 480 ml ?\n",
    "* b. What is the probability that the bottle filled more than  520 ml? \n",
    "* c. What is the probability that the bottle filled between 470 ml to 525 ml? "
   ]
  },
  {
   "cell_type": "markdown",
   "metadata": {},
   "source": [
    "**solution :**"
   ]
  },
  {
   "cell_type": "code",
   "execution_count": null,
   "metadata": {},
   "outputs": [],
   "source": []
  },
  {
   "cell_type": "markdown",
   "metadata": {},
   "source": [
    "-------------------"
   ]
  },
  {
   "cell_type": "markdown",
   "metadata": {},
   "source": [
    "**Problem:** ) Provided the Population data and sample data.\n",
    "\n",
    "#### a).plot the population data and sample data check how the data is distributed.Give inference wheather the sampling distribution similar to population data."
   ]
  },
  {
   "cell_type": "code",
   "execution_count": 102,
   "metadata": {},
   "outputs": [
    {
     "name": "stdout",
     "output_type": "stream",
     "text": [
      "[1824 1825 1821 ... 1812 1807 1805]\n"
     ]
    }
   ],
   "source": [
    "np.random.seed(7)\n",
    "population_horsepower1 = stats.poisson.rvs(loc=1800, mu=25, size=15000)\n",
    "population_horsepower2 = stats.poisson.rvs(loc=1800, mu=5, size=10000)\n",
    "population_hp = np.concatenate((population_horsepower1, population_horsepower2))\n",
    "\n",
    "print(population_hp) # population data"
   ]
  },
  {
   "cell_type": "code",
   "execution_count": 137,
   "metadata": {},
   "outputs": [
    {
     "name": "stdout",
     "output_type": "stream",
     "text": [
      "[1806 1816 1833 1809 1834 1819 1818 1803 1823 1803 1824 1807 1823 1835\n",
      " 1804 1802 1812 1804 1802 1821 1819 1829 1822 1826 1841 1831 1804 1820\n",
      " 1805 1828 1821 1826 1801 1820 1807 1806 1806 1807 1817 1824 1828 1806\n",
      " 1824 1819 1823 1818 1827 1803 1829 1824 1804 1802 1826 1827 1824 1809\n",
      " 1828 1822 1805 1805 1806 1805 1801 1810 1827 1822 1831 1822 1803 1820\n",
      " 1806 1822 1811 1816 1830 1835 1828 1822 1826 1803 1835 1827 1827 1824\n",
      " 1819 1826 1831 1803 1807 1831 1811 1818 1817 1832 1805 1808 1802 1821\n",
      " 1804 1836]\n"
     ]
    }
   ],
   "source": [
    "np.random.seed(7)\n",
    "sample_hp = np.random.choice(a= population_hp,size=100)            # Sample 100 values\n",
    "print(sample_hp) #sample data"
   ]
  },
  {
   "cell_type": "markdown",
   "metadata": {},
   "source": [
    "**Solution :**"
   ]
  },
  {
   "cell_type": "code",
   "execution_count": null,
   "metadata": {},
   "outputs": [],
   "source": []
  },
  {
   "cell_type": "markdown",
   "metadata": {},
   "source": [
    "---------------"
   ]
  },
  {
   "cell_type": "markdown",
   "metadata": {},
   "source": [
    "**Problem:**) Provided the Population data and sample data.\n",
    "\n",
    "#### a).calculate a 90% confidence for our mean point estimate?"
   ]
  },
  {
   "cell_type": "code",
   "execution_count": 116,
   "metadata": {},
   "outputs": [
    {
     "name": "stdout",
     "output_type": "stream",
     "text": [
      "[1824 1825 1821 ... 1812 1807 1805]\n"
     ]
    }
   ],
   "source": [
    "np.random.seed(11)\n",
    "population_horsepower1 = stats.poisson.rvs(loc=1800, mu=25, size=15000)\n",
    "population_horsepower2 = stats.poisson.rvs(loc=1800, mu=5, size=10000)\n",
    "population_hp = np.concatenate((population_horsepower1, population_horsepower2))\n",
    "\n",
    "print(population_hp) # population data"
   ]
  },
  {
   "cell_type": "code",
   "execution_count": 117,
   "metadata": {},
   "outputs": [],
   "source": [
    "np.random.seed(11)\n",
    "\n",
    "sample_size = 100\n",
    "sample = np.random.choice(a= population_hp, size = sample_size)"
   ]
  },
  {
   "cell_type": "markdown",
   "metadata": {},
   "source": [
    "**Solution :**"
   ]
  },
  {
   "cell_type": "code",
   "execution_count": null,
   "metadata": {},
   "outputs": [],
   "source": []
  },
  {
   "cell_type": "markdown",
   "metadata": {},
   "source": [
    "----------------"
   ]
  },
  {
   "cell_type": "markdown",
   "metadata": {},
   "source": [
    "**Problem:**. Hindustan Pencils Pvt. Ltd. is an Indian manufacturer of pencils, writing materials and other stationery items, established in 1958 in Mumbai. Nataraj brand of pencils manufactured by the company is expected to have a mean length of 172 mm and the standard deviation of the length is 0.02 mm.\n",
    "To ensure quality, a sample is selected at periodic intervals to determine whether the length is still 172 mm and other dimensions of the pencil meet the quality standards set by the company.You select a random sample of 100 pencils follows a normal distribution and the mean is 170 mm.**\n",
    "\n",
    "* a).Construct a 99% confidence interval for the pencil length."
   ]
  },
  {
   "cell_type": "markdown",
   "metadata": {},
   "source": [
    "**Solution :**"
   ]
  },
  {
   "cell_type": "markdown",
   "metadata": {},
   "source": [
    "It is known that \n",
    "* $\\overline{X}$ = 172 mm\n",
    "* $\\sigma$       = 0.02 mm\n",
    "* n              = 100\n",
    "We need to compute $\\overline{X} \\quad \\pm 1.64 \\frac {\\sigma} {\\sqrt{n}}$ "
   ]
  },
  {
   "cell_type": "code",
   "execution_count": null,
   "metadata": {},
   "outputs": [],
   "source": []
  }
 ],
 "metadata": {
  "kernelspec": {
   "display_name": "Python 3",
   "language": "python",
   "name": "python3"
  },
  "language_info": {
   "codemirror_mode": {
    "name": "ipython",
    "version": 3
   },
   "file_extension": ".py",
   "mimetype": "text/x-python",
   "name": "python",
   "nbconvert_exporter": "python",
   "pygments_lexer": "ipython3",
   "version": "3.7.3"
  }
 },
 "nbformat": 4,
 "nbformat_minor": 2
}
