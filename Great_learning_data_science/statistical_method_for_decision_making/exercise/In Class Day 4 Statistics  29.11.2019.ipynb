{
 "cells": [
  {
   "cell_type": "code",
   "execution_count": 45,
   "metadata": {},
   "outputs": [],
   "source": [
    "import numpy as np\n",
    "import pandas as pd\n",
    "import seaborn as sns\n",
    "import scipy.stats as stats\n",
    "import math\n",
    "import matplotlib.pyplot as plt\n",
    "%matplotlib inline"
   ]
  },
  {
   "cell_type": "markdown",
   "metadata": {},
   "source": [
    "####  Q1 : Import the data and assign appropriate column names."
   ]
  },
  {
   "cell_type": "code",
   "execution_count": 52,
   "metadata": {},
   "outputs": [
    {
     "data": {
      "text/html": [
       "<div>\n",
       "<style scoped>\n",
       "    .dataframe tbody tr th:only-of-type {\n",
       "        vertical-align: middle;\n",
       "    }\n",
       "\n",
       "    .dataframe tbody tr th {\n",
       "        vertical-align: top;\n",
       "    }\n",
       "\n",
       "    .dataframe thead th {\n",
       "        text-align: right;\n",
       "    }\n",
       "</style>\n",
       "<table border=\"1\" class=\"dataframe\">\n",
       "  <thead>\n",
       "    <tr style=\"text-align: right;\">\n",
       "      <th></th>\n",
       "      <th>0</th>\n",
       "      <th>1</th>\n",
       "      <th>2</th>\n",
       "      <th>3</th>\n",
       "      <th>4</th>\n",
       "      <th>5</th>\n",
       "      <th>6</th>\n",
       "      <th>7</th>\n",
       "      <th>8</th>\n",
       "      <th>9</th>\n",
       "      <th>10</th>\n",
       "    </tr>\n",
       "  </thead>\n",
       "  <tbody>\n",
       "    <tr>\n",
       "      <th>0</th>\n",
       "      <td>CAK</td>\n",
       "      <td>ATL</td>\n",
       "      <td>114.47</td>\n",
       "      <td>528</td>\n",
       "      <td>424.56</td>\n",
       "      <td>FL</td>\n",
       "      <td>70.19</td>\n",
       "      <td>111.03</td>\n",
       "      <td>FL</td>\n",
       "      <td>70.19</td>\n",
       "      <td>111.03</td>\n",
       "    </tr>\n",
       "    <tr>\n",
       "      <th>1</th>\n",
       "      <td>CAK</td>\n",
       "      <td>MCO</td>\n",
       "      <td>122.47</td>\n",
       "      <td>860</td>\n",
       "      <td>276.84</td>\n",
       "      <td>FL</td>\n",
       "      <td>75.10</td>\n",
       "      <td>123.09</td>\n",
       "      <td>DL</td>\n",
       "      <td>17.23</td>\n",
       "      <td>118.94</td>\n",
       "    </tr>\n",
       "    <tr>\n",
       "      <th>2</th>\n",
       "      <td>ALB</td>\n",
       "      <td>ATL</td>\n",
       "      <td>214.42</td>\n",
       "      <td>852</td>\n",
       "      <td>215.76</td>\n",
       "      <td>DL</td>\n",
       "      <td>78.89</td>\n",
       "      <td>223.98</td>\n",
       "      <td>CO</td>\n",
       "      <td>2.77</td>\n",
       "      <td>167.12</td>\n",
       "    </tr>\n",
       "    <tr>\n",
       "      <th>3</th>\n",
       "      <td>ALB</td>\n",
       "      <td>BWI</td>\n",
       "      <td>69.40</td>\n",
       "      <td>288</td>\n",
       "      <td>606.84</td>\n",
       "      <td>WN</td>\n",
       "      <td>96.97</td>\n",
       "      <td>68.86</td>\n",
       "      <td>WN</td>\n",
       "      <td>96.97</td>\n",
       "      <td>68.86</td>\n",
       "    </tr>\n",
       "    <tr>\n",
       "      <th>4</th>\n",
       "      <td>ALB</td>\n",
       "      <td>ORD</td>\n",
       "      <td>158.13</td>\n",
       "      <td>723</td>\n",
       "      <td>313.04</td>\n",
       "      <td>UA</td>\n",
       "      <td>39.79</td>\n",
       "      <td>161.36</td>\n",
       "      <td>WN</td>\n",
       "      <td>15.34</td>\n",
       "      <td>145.42</td>\n",
       "    </tr>\n",
       "    <tr>\n",
       "      <th>5</th>\n",
       "      <td>ALB</td>\n",
       "      <td>FLL</td>\n",
       "      <td>135.17</td>\n",
       "      <td>1204</td>\n",
       "      <td>199.02</td>\n",
       "      <td>WN</td>\n",
       "      <td>40.68</td>\n",
       "      <td>137.97</td>\n",
       "      <td>DL</td>\n",
       "      <td>17.09</td>\n",
       "      <td>127.69</td>\n",
       "    </tr>\n",
       "    <tr>\n",
       "      <th>6</th>\n",
       "      <td>ALB</td>\n",
       "      <td>LAS</td>\n",
       "      <td>152.85</td>\n",
       "      <td>2237</td>\n",
       "      <td>237.17</td>\n",
       "      <td>WN</td>\n",
       "      <td>59.94</td>\n",
       "      <td>148.59</td>\n",
       "      <td>WN</td>\n",
       "      <td>59.94</td>\n",
       "      <td>148.59</td>\n",
       "    </tr>\n",
       "    <tr>\n",
       "      <th>7</th>\n",
       "      <td>ALB</td>\n",
       "      <td>LAX</td>\n",
       "      <td>190.73</td>\n",
       "      <td>2467</td>\n",
       "      <td>191.95</td>\n",
       "      <td>DL</td>\n",
       "      <td>17.89</td>\n",
       "      <td>205.06</td>\n",
       "      <td>US</td>\n",
       "      <td>16.59</td>\n",
       "      <td>174.00</td>\n",
       "    </tr>\n",
       "    <tr>\n",
       "      <th>8</th>\n",
       "      <td>ALB</td>\n",
       "      <td>MCO</td>\n",
       "      <td>129.35</td>\n",
       "      <td>1073</td>\n",
       "      <td>550.54</td>\n",
       "      <td>WN</td>\n",
       "      <td>76.84</td>\n",
       "      <td>127.69</td>\n",
       "      <td>WN</td>\n",
       "      <td>76.84</td>\n",
       "      <td>127.69</td>\n",
       "    </tr>\n",
       "    <tr>\n",
       "      <th>9</th>\n",
       "      <td>ALB</td>\n",
       "      <td>TPA</td>\n",
       "      <td>134.17</td>\n",
       "      <td>1130</td>\n",
       "      <td>202.93</td>\n",
       "      <td>US</td>\n",
       "      <td>35.40</td>\n",
       "      <td>132.91</td>\n",
       "      <td>DL</td>\n",
       "      <td>26.40</td>\n",
       "      <td>124.78</td>\n",
       "    </tr>\n",
       "  </tbody>\n",
       "</table>\n",
       "</div>"
      ],
      "text/plain": [
       "    0    1       2     3       4   5      6       7   8      9       10\n",
       "0  CAK  ATL  114.47   528  424.56  FL  70.19  111.03  FL  70.19  111.03\n",
       "1  CAK  MCO  122.47   860  276.84  FL  75.10  123.09  DL  17.23  118.94\n",
       "2  ALB  ATL  214.42   852  215.76  DL  78.89  223.98  CO   2.77  167.12\n",
       "3  ALB  BWI   69.40   288  606.84  WN  96.97   68.86  WN  96.97   68.86\n",
       "4  ALB  ORD  158.13   723  313.04  UA  39.79  161.36  WN  15.34  145.42\n",
       "5  ALB  FLL  135.17  1204  199.02  WN  40.68  137.97  DL  17.09  127.69\n",
       "6  ALB  LAS  152.85  2237  237.17  WN  59.94  148.59  WN  59.94  148.59\n",
       "7  ALB  LAX  190.73  2467  191.95  DL  17.89  205.06  US  16.59  174.00\n",
       "8  ALB  MCO  129.35  1073  550.54  WN  76.84  127.69  WN  76.84  127.69\n",
       "9  ALB  TPA  134.17  1130  202.93  US  35.40  132.91  DL  26.40  124.78"
      ]
     },
     "execution_count": 52,
     "metadata": {},
     "output_type": "execute_result"
    }
   ],
   "source": [
    "ds=pd.read_csv('http://www.stat.ufl.edu/~winner/data/airq402.dat',delim_whitespace=True,header=None)\n",
    "ds.head(10)"
   ]
  },
  {
   "cell_type": "code",
   "execution_count": 53,
   "metadata": {},
   "outputs": [],
   "source": [
    "ds.columns=['City1','City2','Average Fare For Route','Distance','Average weekly passengers','market leading airline','market share',\n",
    "            'Average fare','Low price airline','market share','price']"
   ]
  },
  {
   "cell_type": "code",
   "execution_count": 54,
   "metadata": {},
   "outputs": [
    {
     "data": {
      "text/html": [
       "<div>\n",
       "<style scoped>\n",
       "    .dataframe tbody tr th:only-of-type {\n",
       "        vertical-align: middle;\n",
       "    }\n",
       "\n",
       "    .dataframe tbody tr th {\n",
       "        vertical-align: top;\n",
       "    }\n",
       "\n",
       "    .dataframe thead th {\n",
       "        text-align: right;\n",
       "    }\n",
       "</style>\n",
       "<table border=\"1\" class=\"dataframe\">\n",
       "  <thead>\n",
       "    <tr style=\"text-align: right;\">\n",
       "      <th></th>\n",
       "      <th>City1</th>\n",
       "      <th>City2</th>\n",
       "      <th>Average Fare For Route</th>\n",
       "      <th>Distance</th>\n",
       "      <th>Average weekly passengers</th>\n",
       "      <th>market leading airline</th>\n",
       "      <th>market share</th>\n",
       "      <th>Average fare</th>\n",
       "      <th>Low price airline</th>\n",
       "      <th>market share</th>\n",
       "      <th>price</th>\n",
       "    </tr>\n",
       "  </thead>\n",
       "  <tbody>\n",
       "    <tr>\n",
       "      <th>0</th>\n",
       "      <td>CAK</td>\n",
       "      <td>ATL</td>\n",
       "      <td>114.47</td>\n",
       "      <td>528</td>\n",
       "      <td>424.56</td>\n",
       "      <td>FL</td>\n",
       "      <td>70.19</td>\n",
       "      <td>111.03</td>\n",
       "      <td>FL</td>\n",
       "      <td>70.19</td>\n",
       "      <td>111.03</td>\n",
       "    </tr>\n",
       "    <tr>\n",
       "      <th>1</th>\n",
       "      <td>CAK</td>\n",
       "      <td>MCO</td>\n",
       "      <td>122.47</td>\n",
       "      <td>860</td>\n",
       "      <td>276.84</td>\n",
       "      <td>FL</td>\n",
       "      <td>75.10</td>\n",
       "      <td>123.09</td>\n",
       "      <td>DL</td>\n",
       "      <td>17.23</td>\n",
       "      <td>118.94</td>\n",
       "    </tr>\n",
       "    <tr>\n",
       "      <th>2</th>\n",
       "      <td>ALB</td>\n",
       "      <td>ATL</td>\n",
       "      <td>214.42</td>\n",
       "      <td>852</td>\n",
       "      <td>215.76</td>\n",
       "      <td>DL</td>\n",
       "      <td>78.89</td>\n",
       "      <td>223.98</td>\n",
       "      <td>CO</td>\n",
       "      <td>2.77</td>\n",
       "      <td>167.12</td>\n",
       "    </tr>\n",
       "    <tr>\n",
       "      <th>3</th>\n",
       "      <td>ALB</td>\n",
       "      <td>BWI</td>\n",
       "      <td>69.40</td>\n",
       "      <td>288</td>\n",
       "      <td>606.84</td>\n",
       "      <td>WN</td>\n",
       "      <td>96.97</td>\n",
       "      <td>68.86</td>\n",
       "      <td>WN</td>\n",
       "      <td>96.97</td>\n",
       "      <td>68.86</td>\n",
       "    </tr>\n",
       "    <tr>\n",
       "      <th>4</th>\n",
       "      <td>ALB</td>\n",
       "      <td>ORD</td>\n",
       "      <td>158.13</td>\n",
       "      <td>723</td>\n",
       "      <td>313.04</td>\n",
       "      <td>UA</td>\n",
       "      <td>39.79</td>\n",
       "      <td>161.36</td>\n",
       "      <td>WN</td>\n",
       "      <td>15.34</td>\n",
       "      <td>145.42</td>\n",
       "    </tr>\n",
       "  </tbody>\n",
       "</table>\n",
       "</div>"
      ],
      "text/plain": [
       "  City1 City2  Average Fare For Route  Distance  Average weekly passengers  \\\n",
       "0   CAK   ATL                  114.47       528                     424.56   \n",
       "1   CAK   MCO                  122.47       860                     276.84   \n",
       "2   ALB   ATL                  214.42       852                     215.76   \n",
       "3   ALB   BWI                   69.40       288                     606.84   \n",
       "4   ALB   ORD                  158.13       723                     313.04   \n",
       "\n",
       "  market leading airline  market share  Average fare Low price airline  \\\n",
       "0                     FL         70.19        111.03                FL   \n",
       "1                     FL         75.10        123.09                DL   \n",
       "2                     DL         78.89        223.98                CO   \n",
       "3                     WN         96.97         68.86                WN   \n",
       "4                     UA         39.79        161.36                WN   \n",
       "\n",
       "   market share   price  \n",
       "0         70.19  111.03  \n",
       "1         17.23  118.94  \n",
       "2          2.77  167.12  \n",
       "3         96.97   68.86  \n",
       "4         15.34  145.42  "
      ]
     },
     "execution_count": 54,
     "metadata": {},
     "output_type": "execute_result"
    }
   ],
   "source": [
    "ds.head()"
   ]
  },
  {
   "cell_type": "markdown",
   "metadata": {},
   "source": [
    "####  Q 2 : Drop the variables which has textual information (categorical variables)"
   ]
  },
  {
   "cell_type": "code",
   "execution_count": 55,
   "metadata": {},
   "outputs": [
    {
     "name": "stdout",
     "output_type": "stream",
     "text": [
      "<class 'pandas.core.frame.DataFrame'>\n",
      "RangeIndex: 1000 entries, 0 to 999\n",
      "Data columns (total 11 columns):\n",
      "City1                        1000 non-null object\n",
      "City2                        1000 non-null object\n",
      "Average Fare For Route       1000 non-null float64\n",
      "Distance                     1000 non-null int64\n",
      "Average weekly passengers    1000 non-null float64\n",
      "market leading airline       1000 non-null object\n",
      "market share                 1000 non-null float64\n",
      "Average fare                 1000 non-null float64\n",
      "Low price airline            1000 non-null object\n",
      "market share                 1000 non-null float64\n",
      "price                        1000 non-null float64\n",
      "dtypes: float64(6), int64(1), object(4)\n",
      "memory usage: 86.0+ KB\n"
     ]
    }
   ],
   "source": [
    "ds.info()"
   ]
  },
  {
   "cell_type": "code",
   "execution_count": 56,
   "metadata": {},
   "outputs": [],
   "source": [
    "ds.drop(['City1','City2','market leading airline','Low price airline'],axis=1,inplace=True)"
   ]
  },
  {
   "cell_type": "code",
   "execution_count": 16,
   "metadata": {},
   "outputs": [
    {
     "data": {
      "text/html": [
       "<div>\n",
       "<style scoped>\n",
       "    .dataframe tbody tr th:only-of-type {\n",
       "        vertical-align: middle;\n",
       "    }\n",
       "\n",
       "    .dataframe tbody tr th {\n",
       "        vertical-align: top;\n",
       "    }\n",
       "\n",
       "    .dataframe thead th {\n",
       "        text-align: right;\n",
       "    }\n",
       "</style>\n",
       "<table border=\"1\" class=\"dataframe\">\n",
       "  <thead>\n",
       "    <tr style=\"text-align: right;\">\n",
       "      <th></th>\n",
       "      <th>Average Fare For Route</th>\n",
       "      <th>Distance</th>\n",
       "      <th>Average weekly passengers</th>\n",
       "      <th>market share</th>\n",
       "      <th>Average fare</th>\n",
       "      <th>market share</th>\n",
       "      <th>price</th>\n",
       "    </tr>\n",
       "  </thead>\n",
       "  <tbody>\n",
       "    <tr>\n",
       "      <th>0</th>\n",
       "      <td>114.47</td>\n",
       "      <td>528</td>\n",
       "      <td>424.56</td>\n",
       "      <td>70.19</td>\n",
       "      <td>111.03</td>\n",
       "      <td>70.19</td>\n",
       "      <td>111.03</td>\n",
       "    </tr>\n",
       "    <tr>\n",
       "      <th>1</th>\n",
       "      <td>122.47</td>\n",
       "      <td>860</td>\n",
       "      <td>276.84</td>\n",
       "      <td>75.10</td>\n",
       "      <td>123.09</td>\n",
       "      <td>17.23</td>\n",
       "      <td>118.94</td>\n",
       "    </tr>\n",
       "    <tr>\n",
       "      <th>2</th>\n",
       "      <td>214.42</td>\n",
       "      <td>852</td>\n",
       "      <td>215.76</td>\n",
       "      <td>78.89</td>\n",
       "      <td>223.98</td>\n",
       "      <td>2.77</td>\n",
       "      <td>167.12</td>\n",
       "    </tr>\n",
       "    <tr>\n",
       "      <th>3</th>\n",
       "      <td>69.40</td>\n",
       "      <td>288</td>\n",
       "      <td>606.84</td>\n",
       "      <td>96.97</td>\n",
       "      <td>68.86</td>\n",
       "      <td>96.97</td>\n",
       "      <td>68.86</td>\n",
       "    </tr>\n",
       "    <tr>\n",
       "      <th>4</th>\n",
       "      <td>158.13</td>\n",
       "      <td>723</td>\n",
       "      <td>313.04</td>\n",
       "      <td>39.79</td>\n",
       "      <td>161.36</td>\n",
       "      <td>15.34</td>\n",
       "      <td>145.42</td>\n",
       "    </tr>\n",
       "  </tbody>\n",
       "</table>\n",
       "</div>"
      ],
      "text/plain": [
       "   Average Fare For Route  Distance  Average weekly passengers  market share  \\\n",
       "0                  114.47       528                     424.56         70.19   \n",
       "1                  122.47       860                     276.84         75.10   \n",
       "2                  214.42       852                     215.76         78.89   \n",
       "3                   69.40       288                     606.84         96.97   \n",
       "4                  158.13       723                     313.04         39.79   \n",
       "\n",
       "   Average fare  market share   price  \n",
       "0        111.03         70.19  111.03  \n",
       "1        123.09         17.23  118.94  \n",
       "2        223.98          2.77  167.12  \n",
       "3         68.86         96.97   68.86  \n",
       "4        161.36         15.34  145.42  "
      ]
     },
     "execution_count": 16,
     "metadata": {},
     "output_type": "execute_result"
    }
   ],
   "source": [
    "ds.head()"
   ]
  },
  {
   "cell_type": "markdown",
   "metadata": {},
   "source": [
    "####  Q 3 : Convert all the variable’s datatype to Integer "
   ]
  },
  {
   "cell_type": "code",
   "execution_count": 57,
   "metadata": {},
   "outputs": [
    {
     "data": {
      "text/html": [
       "<div>\n",
       "<style scoped>\n",
       "    .dataframe tbody tr th:only-of-type {\n",
       "        vertical-align: middle;\n",
       "    }\n",
       "\n",
       "    .dataframe tbody tr th {\n",
       "        vertical-align: top;\n",
       "    }\n",
       "\n",
       "    .dataframe thead th {\n",
       "        text-align: right;\n",
       "    }\n",
       "</style>\n",
       "<table border=\"1\" class=\"dataframe\">\n",
       "  <thead>\n",
       "    <tr style=\"text-align: right;\">\n",
       "      <th></th>\n",
       "      <th>Average Fare For Route</th>\n",
       "      <th>Distance</th>\n",
       "      <th>Average weekly passengers</th>\n",
       "      <th>market share</th>\n",
       "      <th>Average fare</th>\n",
       "      <th>market share</th>\n",
       "      <th>price</th>\n",
       "    </tr>\n",
       "  </thead>\n",
       "  <tbody>\n",
       "    <tr>\n",
       "      <th>0</th>\n",
       "      <td>114</td>\n",
       "      <td>528</td>\n",
       "      <td>424</td>\n",
       "      <td>70</td>\n",
       "      <td>111</td>\n",
       "      <td>70</td>\n",
       "      <td>111</td>\n",
       "    </tr>\n",
       "    <tr>\n",
       "      <th>1</th>\n",
       "      <td>122</td>\n",
       "      <td>860</td>\n",
       "      <td>276</td>\n",
       "      <td>75</td>\n",
       "      <td>123</td>\n",
       "      <td>17</td>\n",
       "      <td>118</td>\n",
       "    </tr>\n",
       "    <tr>\n",
       "      <th>2</th>\n",
       "      <td>214</td>\n",
       "      <td>852</td>\n",
       "      <td>215</td>\n",
       "      <td>78</td>\n",
       "      <td>223</td>\n",
       "      <td>2</td>\n",
       "      <td>167</td>\n",
       "    </tr>\n",
       "    <tr>\n",
       "      <th>3</th>\n",
       "      <td>69</td>\n",
       "      <td>288</td>\n",
       "      <td>606</td>\n",
       "      <td>96</td>\n",
       "      <td>68</td>\n",
       "      <td>96</td>\n",
       "      <td>68</td>\n",
       "    </tr>\n",
       "    <tr>\n",
       "      <th>4</th>\n",
       "      <td>158</td>\n",
       "      <td>723</td>\n",
       "      <td>313</td>\n",
       "      <td>39</td>\n",
       "      <td>161</td>\n",
       "      <td>15</td>\n",
       "      <td>145</td>\n",
       "    </tr>\n",
       "  </tbody>\n",
       "</table>\n",
       "</div>"
      ],
      "text/plain": [
       "   Average Fare For Route  Distance  Average weekly passengers  market share  \\\n",
       "0                     114       528                        424            70   \n",
       "1                     122       860                        276            75   \n",
       "2                     214       852                        215            78   \n",
       "3                      69       288                        606            96   \n",
       "4                     158       723                        313            39   \n",
       "\n",
       "   Average fare  market share  price  \n",
       "0           111            70    111  \n",
       "1           123            17    118  \n",
       "2           223             2    167  \n",
       "3            68            96     68  \n",
       "4           161            15    145  "
      ]
     },
     "execution_count": 57,
     "metadata": {},
     "output_type": "execute_result"
    }
   ],
   "source": [
    "ds=ds.astype(int)\n",
    "ds.head()"
   ]
  },
  {
   "cell_type": "code",
   "execution_count": 58,
   "metadata": {},
   "outputs": [
    {
     "name": "stdout",
     "output_type": "stream",
     "text": [
      "<class 'pandas.core.frame.DataFrame'>\n",
      "RangeIndex: 1000 entries, 0 to 999\n",
      "Data columns (total 7 columns):\n",
      "Average Fare For Route       1000 non-null int32\n",
      "Distance                     1000 non-null int32\n",
      "Average weekly passengers    1000 non-null int32\n",
      "market share                 1000 non-null int32\n",
      "Average fare                 1000 non-null int32\n",
      "market share                 1000 non-null int32\n",
      "price                        1000 non-null int32\n",
      "dtypes: int32(7)\n",
      "memory usage: 27.4 KB\n"
     ]
    }
   ],
   "source": [
    "ds.info()"
   ]
  },
  {
   "cell_type": "markdown",
   "metadata": {},
   "source": [
    "#### Q 4 : Remove all the outliers from the data using IQR method (Retain data points within 1.5 * IQR) "
   ]
  },
  {
   "cell_type": "code",
   "execution_count": 59,
   "metadata": {},
   "outputs": [
    {
     "data": {
      "text/html": [
       "<div>\n",
       "<style scoped>\n",
       "    .dataframe tbody tr th:only-of-type {\n",
       "        vertical-align: middle;\n",
       "    }\n",
       "\n",
       "    .dataframe tbody tr th {\n",
       "        vertical-align: top;\n",
       "    }\n",
       "\n",
       "    .dataframe thead th {\n",
       "        text-align: right;\n",
       "    }\n",
       "</style>\n",
       "<table border=\"1\" class=\"dataframe\">\n",
       "  <thead>\n",
       "    <tr style=\"text-align: right;\">\n",
       "      <th></th>\n",
       "      <th>Average Fare For Route</th>\n",
       "      <th>Distance</th>\n",
       "      <th>Average weekly passengers</th>\n",
       "      <th>market share</th>\n",
       "      <th>Average fare</th>\n",
       "      <th>market share</th>\n",
       "      <th>price</th>\n",
       "    </tr>\n",
       "  </thead>\n",
       "  <tbody>\n",
       "    <tr>\n",
       "      <th>count</th>\n",
       "      <td>1000.000000</td>\n",
       "      <td>1000.000000</td>\n",
       "      <td>1000.000000</td>\n",
       "      <td>1000.00000</td>\n",
       "      <td>1000.000000</td>\n",
       "      <td>1000.000000</td>\n",
       "      <td>1000.000000</td>\n",
       "    </tr>\n",
       "    <tr>\n",
       "      <th>mean</th>\n",
       "      <td>162.871000</td>\n",
       "      <td>1056.973000</td>\n",
       "      <td>671.804000</td>\n",
       "      <td>59.63000</td>\n",
       "      <td>166.150000</td>\n",
       "      <td>34.059000</td>\n",
       "      <td>142.711000</td>\n",
       "    </tr>\n",
       "    <tr>\n",
       "      <th>std</th>\n",
       "      <td>55.373157</td>\n",
       "      <td>643.203251</td>\n",
       "      <td>766.516661</td>\n",
       "      <td>19.35163</td>\n",
       "      <td>62.666136</td>\n",
       "      <td>27.084037</td>\n",
       "      <td>47.241584</td>\n",
       "    </tr>\n",
       "    <tr>\n",
       "      <th>min</th>\n",
       "      <td>50.000000</td>\n",
       "      <td>108.000000</td>\n",
       "      <td>181.000000</td>\n",
       "      <td>17.00000</td>\n",
       "      <td>50.000000</td>\n",
       "      <td>1.000000</td>\n",
       "      <td>49.000000</td>\n",
       "    </tr>\n",
       "    <tr>\n",
       "      <th>25%</th>\n",
       "      <td>125.000000</td>\n",
       "      <td>553.500000</td>\n",
       "      <td>256.750000</td>\n",
       "      <td>46.00000</td>\n",
       "      <td>124.000000</td>\n",
       "      <td>13.000000</td>\n",
       "      <td>113.000000</td>\n",
       "    </tr>\n",
       "    <tr>\n",
       "      <th>50%</th>\n",
       "      <td>161.000000</td>\n",
       "      <td>919.000000</td>\n",
       "      <td>404.000000</td>\n",
       "      <td>59.00000</td>\n",
       "      <td>161.000000</td>\n",
       "      <td>26.000000</td>\n",
       "      <td>137.000000</td>\n",
       "    </tr>\n",
       "    <tr>\n",
       "      <th>75%</th>\n",
       "      <td>197.000000</td>\n",
       "      <td>1452.500000</td>\n",
       "      <td>769.250000</td>\n",
       "      <td>73.00000</td>\n",
       "      <td>202.250000</td>\n",
       "      <td>52.000000</td>\n",
       "      <td>168.000000</td>\n",
       "    </tr>\n",
       "    <tr>\n",
       "      <th>max</th>\n",
       "      <td>401.000000</td>\n",
       "      <td>2724.000000</td>\n",
       "      <td>8950.000000</td>\n",
       "      <td>100.00000</td>\n",
       "      <td>490.000000</td>\n",
       "      <td>100.000000</td>\n",
       "      <td>387.000000</td>\n",
       "    </tr>\n",
       "  </tbody>\n",
       "</table>\n",
       "</div>"
      ],
      "text/plain": [
       "       Average Fare For Route     Distance  Average weekly passengers  \\\n",
       "count             1000.000000  1000.000000                1000.000000   \n",
       "mean               162.871000  1056.973000                 671.804000   \n",
       "std                 55.373157   643.203251                 766.516661   \n",
       "min                 50.000000   108.000000                 181.000000   \n",
       "25%                125.000000   553.500000                 256.750000   \n",
       "50%                161.000000   919.000000                 404.000000   \n",
       "75%                197.000000  1452.500000                 769.250000   \n",
       "max                401.000000  2724.000000                8950.000000   \n",
       "\n",
       "       market share  Average fare  market share        price  \n",
       "count    1000.00000   1000.000000   1000.000000  1000.000000  \n",
       "mean       59.63000    166.150000     34.059000   142.711000  \n",
       "std        19.35163     62.666136     27.084037    47.241584  \n",
       "min        17.00000     50.000000      1.000000    49.000000  \n",
       "25%        46.00000    124.000000     13.000000   113.000000  \n",
       "50%        59.00000    161.000000     26.000000   137.000000  \n",
       "75%        73.00000    202.250000     52.000000   168.000000  \n",
       "max       100.00000    490.000000    100.000000   387.000000  "
      ]
     },
     "execution_count": 59,
     "metadata": {},
     "output_type": "execute_result"
    }
   ],
   "source": [
    "ds.describe()"
   ]
  },
  {
   "cell_type": "code",
   "execution_count": 60,
   "metadata": {},
   "outputs": [
    {
     "data": {
      "text/plain": [
       "Average Fare For Route        72.00\n",
       "Distance                     899.00\n",
       "Average weekly passengers    512.50\n",
       "market share                  27.00\n",
       "Average fare                  78.25\n",
       "market share                  39.00\n",
       "price                         55.00\n",
       "dtype: float64"
      ]
     },
     "execution_count": 60,
     "metadata": {},
     "output_type": "execute_result"
    }
   ],
   "source": [
    "Q1=ds.quantile(0.25)\n",
    "Q3=ds.quantile(0.75)\n",
    "IQR=Q3-Q1\n",
    "IQR"
   ]
  },
  {
   "cell_type": "code",
   "execution_count": 61,
   "metadata": {},
   "outputs": [],
   "source": [
    "upper_limit=Q3+1.5*IQR\n",
    "lower_limit=Q1-1.5*IQR"
   ]
  },
  {
   "cell_type": "code",
   "execution_count": 62,
   "metadata": {},
   "outputs": [],
   "source": [
    "ds1=ds[~((ds<lower_limit) | (ds>upper_limit)).any(axis=1)]"
   ]
  },
  {
   "cell_type": "code",
   "execution_count": 63,
   "metadata": {},
   "outputs": [
    {
     "data": {
      "text/html": [
       "<div>\n",
       "<style scoped>\n",
       "    .dataframe tbody tr th:only-of-type {\n",
       "        vertical-align: middle;\n",
       "    }\n",
       "\n",
       "    .dataframe tbody tr th {\n",
       "        vertical-align: top;\n",
       "    }\n",
       "\n",
       "    .dataframe thead th {\n",
       "        text-align: right;\n",
       "    }\n",
       "</style>\n",
       "<table border=\"1\" class=\"dataframe\">\n",
       "  <thead>\n",
       "    <tr style=\"text-align: right;\">\n",
       "      <th></th>\n",
       "      <th>Average Fare For Route</th>\n",
       "      <th>Distance</th>\n",
       "      <th>Average weekly passengers</th>\n",
       "      <th>market share</th>\n",
       "      <th>Average fare</th>\n",
       "      <th>market share</th>\n",
       "      <th>price</th>\n",
       "    </tr>\n",
       "  </thead>\n",
       "  <tbody>\n",
       "    <tr>\n",
       "      <th>count</th>\n",
       "      <td>885.000000</td>\n",
       "      <td>885.000000</td>\n",
       "      <td>885.000000</td>\n",
       "      <td>885.000000</td>\n",
       "      <td>885.000000</td>\n",
       "      <td>885.000000</td>\n",
       "      <td>885.000000</td>\n",
       "    </tr>\n",
       "    <tr>\n",
       "      <th>mean</th>\n",
       "      <td>159.787571</td>\n",
       "      <td>1039.383051</td>\n",
       "      <td>498.654237</td>\n",
       "      <td>60.134463</td>\n",
       "      <td>162.084746</td>\n",
       "      <td>33.876836</td>\n",
       "      <td>139.943503</td>\n",
       "    </tr>\n",
       "    <tr>\n",
       "      <th>std</th>\n",
       "      <td>48.461699</td>\n",
       "      <td>615.224361</td>\n",
       "      <td>327.553060</td>\n",
       "      <td>19.347530</td>\n",
       "      <td>53.278028</td>\n",
       "      <td>27.167854</td>\n",
       "      <td>39.853822</td>\n",
       "    </tr>\n",
       "    <tr>\n",
       "      <th>min</th>\n",
       "      <td>50.000000</td>\n",
       "      <td>108.000000</td>\n",
       "      <td>181.000000</td>\n",
       "      <td>17.000000</td>\n",
       "      <td>50.000000</td>\n",
       "      <td>1.000000</td>\n",
       "      <td>50.000000</td>\n",
       "    </tr>\n",
       "    <tr>\n",
       "      <th>25%</th>\n",
       "      <td>126.000000</td>\n",
       "      <td>564.000000</td>\n",
       "      <td>249.000000</td>\n",
       "      <td>47.000000</td>\n",
       "      <td>125.000000</td>\n",
       "      <td>13.000000</td>\n",
       "      <td>115.000000</td>\n",
       "    </tr>\n",
       "    <tr>\n",
       "      <th>50%</th>\n",
       "      <td>160.000000</td>\n",
       "      <td>914.000000</td>\n",
       "      <td>372.000000</td>\n",
       "      <td>59.000000</td>\n",
       "      <td>160.000000</td>\n",
       "      <td>26.000000</td>\n",
       "      <td>138.000000</td>\n",
       "    </tr>\n",
       "    <tr>\n",
       "      <th>75%</th>\n",
       "      <td>194.000000</td>\n",
       "      <td>1381.000000</td>\n",
       "      <td>644.000000</td>\n",
       "      <td>74.000000</td>\n",
       "      <td>198.000000</td>\n",
       "      <td>52.000000</td>\n",
       "      <td>166.000000</td>\n",
       "    </tr>\n",
       "    <tr>\n",
       "      <th>max</th>\n",
       "      <td>288.000000</td>\n",
       "      <td>2724.000000</td>\n",
       "      <td>1519.000000</td>\n",
       "      <td>100.000000</td>\n",
       "      <td>315.000000</td>\n",
       "      <td>100.000000</td>\n",
       "      <td>250.000000</td>\n",
       "    </tr>\n",
       "  </tbody>\n",
       "</table>\n",
       "</div>"
      ],
      "text/plain": [
       "       Average Fare For Route     Distance  Average weekly passengers  \\\n",
       "count              885.000000   885.000000                 885.000000   \n",
       "mean               159.787571  1039.383051                 498.654237   \n",
       "std                 48.461699   615.224361                 327.553060   \n",
       "min                 50.000000   108.000000                 181.000000   \n",
       "25%                126.000000   564.000000                 249.000000   \n",
       "50%                160.000000   914.000000                 372.000000   \n",
       "75%                194.000000  1381.000000                 644.000000   \n",
       "max                288.000000  2724.000000                1519.000000   \n",
       "\n",
       "       market share  Average fare  market share       price  \n",
       "count    885.000000    885.000000    885.000000  885.000000  \n",
       "mean      60.134463    162.084746     33.876836  139.943503  \n",
       "std       19.347530     53.278028     27.167854   39.853822  \n",
       "min       17.000000     50.000000      1.000000   50.000000  \n",
       "25%       47.000000    125.000000     13.000000  115.000000  \n",
       "50%       59.000000    160.000000     26.000000  138.000000  \n",
       "75%       74.000000    198.000000     52.000000  166.000000  \n",
       "max      100.000000    315.000000    100.000000  250.000000  "
      ]
     },
     "execution_count": 63,
     "metadata": {},
     "output_type": "execute_result"
    }
   ],
   "source": [
    "ds1.describe()"
   ]
  },
  {
   "cell_type": "markdown",
   "metadata": {},
   "source": [
    "####  Q 5: Print the correlation matrix. "
   ]
  },
  {
   "cell_type": "code",
   "execution_count": 64,
   "metadata": {},
   "outputs": [
    {
     "data": {
      "text/html": [
       "<div>\n",
       "<style scoped>\n",
       "    .dataframe tbody tr th:only-of-type {\n",
       "        vertical-align: middle;\n",
       "    }\n",
       "\n",
       "    .dataframe tbody tr th {\n",
       "        vertical-align: top;\n",
       "    }\n",
       "\n",
       "    .dataframe thead th {\n",
       "        text-align: right;\n",
       "    }\n",
       "</style>\n",
       "<table border=\"1\" class=\"dataframe\">\n",
       "  <thead>\n",
       "    <tr style=\"text-align: right;\">\n",
       "      <th></th>\n",
       "      <th>Average Fare For Route</th>\n",
       "      <th>Distance</th>\n",
       "      <th>Average weekly passengers</th>\n",
       "      <th>market share</th>\n",
       "      <th>Average fare</th>\n",
       "      <th>market share</th>\n",
       "      <th>price</th>\n",
       "    </tr>\n",
       "  </thead>\n",
       "  <tbody>\n",
       "    <tr>\n",
       "      <th>Average Fare For Route</th>\n",
       "      <td>1.000000</td>\n",
       "      <td>0.522609</td>\n",
       "      <td>-0.197014</td>\n",
       "      <td>-0.207874</td>\n",
       "      <td>0.979620</td>\n",
       "      <td>-0.494021</td>\n",
       "      <td>0.840969</td>\n",
       "    </tr>\n",
       "    <tr>\n",
       "      <th>Distance</th>\n",
       "      <td>0.522609</td>\n",
       "      <td>1.000000</td>\n",
       "      <td>-0.129640</td>\n",
       "      <td>-0.547132</td>\n",
       "      <td>0.489541</td>\n",
       "      <td>-0.361448</td>\n",
       "      <td>0.539772</td>\n",
       "    </tr>\n",
       "    <tr>\n",
       "      <th>Average weekly passengers</th>\n",
       "      <td>-0.197014</td>\n",
       "      <td>-0.129640</td>\n",
       "      <td>1.000000</td>\n",
       "      <td>0.022685</td>\n",
       "      <td>-0.163634</td>\n",
       "      <td>0.076881</td>\n",
       "      <td>-0.208752</td>\n",
       "    </tr>\n",
       "    <tr>\n",
       "      <th>market share</th>\n",
       "      <td>-0.207874</td>\n",
       "      <td>-0.547132</td>\n",
       "      <td>0.022685</td>\n",
       "      <td>1.000000</td>\n",
       "      <td>-0.193264</td>\n",
       "      <td>0.280838</td>\n",
       "      <td>-0.314804</td>\n",
       "    </tr>\n",
       "    <tr>\n",
       "      <th>Average fare</th>\n",
       "      <td>0.979620</td>\n",
       "      <td>0.489541</td>\n",
       "      <td>-0.163634</td>\n",
       "      <td>-0.193264</td>\n",
       "      <td>1.000000</td>\n",
       "      <td>-0.519736</td>\n",
       "      <td>0.794175</td>\n",
       "    </tr>\n",
       "    <tr>\n",
       "      <th>market share</th>\n",
       "      <td>-0.494021</td>\n",
       "      <td>-0.361448</td>\n",
       "      <td>0.076881</td>\n",
       "      <td>0.280838</td>\n",
       "      <td>-0.519736</td>\n",
       "      <td>1.000000</td>\n",
       "      <td>-0.261183</td>\n",
       "    </tr>\n",
       "    <tr>\n",
       "      <th>price</th>\n",
       "      <td>0.840969</td>\n",
       "      <td>0.539772</td>\n",
       "      <td>-0.208752</td>\n",
       "      <td>-0.314804</td>\n",
       "      <td>0.794175</td>\n",
       "      <td>-0.261183</td>\n",
       "      <td>1.000000</td>\n",
       "    </tr>\n",
       "  </tbody>\n",
       "</table>\n",
       "</div>"
      ],
      "text/plain": [
       "                           Average Fare For Route  Distance  \\\n",
       "Average Fare For Route                   1.000000  0.522609   \n",
       "Distance                                 0.522609  1.000000   \n",
       "Average weekly passengers               -0.197014 -0.129640   \n",
       "market share                            -0.207874 -0.547132   \n",
       "Average fare                             0.979620  0.489541   \n",
       "market share                            -0.494021 -0.361448   \n",
       "price                                    0.840969  0.539772   \n",
       "\n",
       "                           Average weekly passengers  market share  \\\n",
       "Average Fare For Route                     -0.197014     -0.207874   \n",
       "Distance                                   -0.129640     -0.547132   \n",
       "Average weekly passengers                   1.000000      0.022685   \n",
       "market share                                0.022685      1.000000   \n",
       "Average fare                               -0.163634     -0.193264   \n",
       "market share                                0.076881      0.280838   \n",
       "price                                      -0.208752     -0.314804   \n",
       "\n",
       "                           Average fare  market share     price  \n",
       "Average Fare For Route         0.979620     -0.494021  0.840969  \n",
       "Distance                       0.489541     -0.361448  0.539772  \n",
       "Average weekly passengers     -0.163634      0.076881 -0.208752  \n",
       "market share                  -0.193264      0.280838 -0.314804  \n",
       "Average fare                   1.000000     -0.519736  0.794175  \n",
       "market share                  -0.519736      1.000000 -0.261183  \n",
       "price                          0.794175     -0.261183  1.000000  "
      ]
     },
     "execution_count": 64,
     "metadata": {},
     "output_type": "execute_result"
    }
   ],
   "source": [
    "ds1.corr()"
   ]
  },
  {
   "cell_type": "code",
   "execution_count": 65,
   "metadata": {},
   "outputs": [
    {
     "data": {
      "image/png": "[encoded data removed]",
      "text/plain": [
       "<Figure size 432x288 with 2 Axes>"
      ]
     },
     "metadata": {
      "needs_background": "light"
     },
     "output_type": "display_data"
    }
   ],
   "source": [
    "sns.heatmap(ds1.corr(),annot=True)\n",
    "plt.show()"
   ]
  },
  {
   "cell_type": "markdown",
   "metadata": {},
   "source": [
    "####  Q 6 : Treat “Average Fare” –  as your Dependent Variable and the variable which has the highest correlation with Average Fare as the Independent Variable.Drop all the other variables ."
   ]
  },
  {
   "cell_type": "code",
   "execution_count": 66,
   "metadata": {},
   "outputs": [],
   "source": [
    "ds1.drop(['Distance','Average weekly passengers','market share','market share','price'],axis=1,inplace=True)"
   ]
  },
  {
   "cell_type": "code",
   "execution_count": 67,
   "metadata": {},
   "outputs": [
    {
     "data": {
      "text/html": [
       "<div>\n",
       "<style scoped>\n",
       "    .dataframe tbody tr th:only-of-type {\n",
       "        vertical-align: middle;\n",
       "    }\n",
       "\n",
       "    .dataframe tbody tr th {\n",
       "        vertical-align: top;\n",
       "    }\n",
       "\n",
       "    .dataframe thead th {\n",
       "        text-align: right;\n",
       "    }\n",
       "</style>\n",
       "<table border=\"1\" class=\"dataframe\">\n",
       "  <thead>\n",
       "    <tr style=\"text-align: right;\">\n",
       "      <th></th>\n",
       "      <th>Average Fare For Route</th>\n",
       "      <th>Average fare</th>\n",
       "    </tr>\n",
       "  </thead>\n",
       "  <tbody>\n",
       "    <tr>\n",
       "      <th>0</th>\n",
       "      <td>114</td>\n",
       "      <td>111</td>\n",
       "    </tr>\n",
       "    <tr>\n",
       "      <th>1</th>\n",
       "      <td>122</td>\n",
       "      <td>123</td>\n",
       "    </tr>\n",
       "    <tr>\n",
       "      <th>2</th>\n",
       "      <td>214</td>\n",
       "      <td>223</td>\n",
       "    </tr>\n",
       "    <tr>\n",
       "      <th>3</th>\n",
       "      <td>69</td>\n",
       "      <td>68</td>\n",
       "    </tr>\n",
       "    <tr>\n",
       "      <th>4</th>\n",
       "      <td>158</td>\n",
       "      <td>161</td>\n",
       "    </tr>\n",
       "  </tbody>\n",
       "</table>\n",
       "</div>"
      ],
      "text/plain": [
       "   Average Fare For Route  Average fare\n",
       "0                     114           111\n",
       "1                     122           123\n",
       "2                     214           223\n",
       "3                      69            68\n",
       "4                     158           161"
      ]
     },
     "execution_count": 67,
     "metadata": {},
     "output_type": "execute_result"
    }
   ],
   "source": [
    "ds1.head()"
   ]
  },
  {
   "cell_type": "markdown",
   "metadata": {},
   "source": [
    "#### Q 7 : Create Scatter Plot of Independent Variable Vs Dependent Variable."
   ]
  },
  {
   "cell_type": "code",
   "execution_count": 69,
   "metadata": {},
   "outputs": [
    {
     "data": {
      "image/png": "[encoded data removed]",
      "text/plain": [
       "<Figure size 352.8x504 with 1 Axes>"
      ]
     },
     "metadata": {
      "needs_background": "light"
     },
     "output_type": "display_data"
    }
   ],
   "source": [
    "sns.pairplot(ds1,x_vars=['Average fare'], y_vars='Average Fare For Route', height=7, aspect=0.7,kind='reg')\n",
    "plt.show()"
   ]
  },
  {
   "cell_type": "markdown",
   "metadata": {},
   "source": [
    "####  Q 8 : Divide the data set into training and test data set and build a Linear Regression model. "
   ]
  },
  {
   "cell_type": "code",
   "execution_count": 73,
   "metadata": {},
   "outputs": [],
   "source": [
    "X = ds1.drop(columns=\"Average Fare For Route\")\n",
    "y = ds1[\"Average Fare For Route\"]"
   ]
  },
  {
   "cell_type": "code",
   "execution_count": 74,
   "metadata": {},
   "outputs": [],
   "source": [
    "from sklearn.model_selection import train_test_split"
   ]
  },
  {
   "cell_type": "code",
   "execution_count": 75,
   "metadata": {},
   "outputs": [],
   "source": [
    "X_train, X_test, y_train, y_test = train_test_split(X, y, test_size = 0.3, random_state = 0)"
   ]
  },
  {
   "cell_type": "code",
   "execution_count": 76,
   "metadata": {},
   "outputs": [],
   "source": [
    "from sklearn.linear_model import LinearRegression"
   ]
  },
  {
   "cell_type": "code",
   "execution_count": 77,
   "metadata": {},
   "outputs": [
    {
     "data": {
      "text/plain": [
       "LinearRegression(copy_X=True, fit_intercept=True, n_jobs=None, normalize=False)"
      ]
     },
     "execution_count": 77,
     "metadata": {},
     "output_type": "execute_result"
    }
   ],
   "source": [
    "regressor = LinearRegression()\n",
    "regressor.fit(X_train, y_train)"
   ]
  },
  {
   "cell_type": "code",
   "execution_count": 78,
   "metadata": {},
   "outputs": [],
   "source": [
    "y_pred = regressor.predict(X_train)"
   ]
  },
  {
   "cell_type": "markdown",
   "metadata": {},
   "source": [
    "####  Q 9 :Print the train and test accuracy of the model ."
   ]
  },
  {
   "cell_type": "code",
   "execution_count": 79,
   "metadata": {},
   "outputs": [
    {
     "name": "stdout",
     "output_type": "stream",
     "text": [
      "R^2: 0.9591969883629508\n"
     ]
    }
   ],
   "source": [
    "print(\"R^2:\",regressor.score(X_train, y_train))"
   ]
  },
  {
   "cell_type": "code",
   "execution_count": 80,
   "metadata": {},
   "outputs": [],
   "source": [
    "y_pred_test = regressor.predict(X_test)"
   ]
  },
  {
   "cell_type": "code",
   "execution_count": 81,
   "metadata": {},
   "outputs": [
    {
     "name": "stdout",
     "output_type": "stream",
     "text": [
      "R^2: 0.9606177646181092\n"
     ]
    }
   ],
   "source": [
    "print(\"R^2:\",regressor.score(X_test, y_test))"
   ]
  },
  {
   "cell_type": "code",
   "execution_count": null,
   "metadata": {},
   "outputs": [],
   "source": [
    "Q 10 :Print the coefficient and the intercept of the model ."
   ]
  },
  {
   "cell_type": "code",
   "execution_count": 82,
   "metadata": {},
   "outputs": [
    {
     "data": {
      "text/plain": [
       "14.798144021471245"
      ]
     },
     "execution_count": 82,
     "metadata": {},
     "output_type": "execute_result"
    }
   ],
   "source": [
    "regressor.intercept_"
   ]
  },
  {
   "cell_type": "code",
   "execution_count": 83,
   "metadata": {},
   "outputs": [
    {
     "data": {
      "text/plain": [
       "array([0.89332115])"
      ]
     },
     "execution_count": 83,
     "metadata": {},
     "output_type": "execute_result"
    }
   ],
   "source": [
    "regressor.coef_ "
   ]
  },
  {
   "cell_type": "code",
   "execution_count": null,
   "metadata": {},
   "outputs": [],
   "source": []
  },
  {
   "cell_type": "code",
   "execution_count": null,
   "metadata": {},
   "outputs": [],
   "source": []
  }
 ],
 "metadata": {
  "kernelspec": {
   "display_name": "Python 3",
   "language": "python",
   "name": "python3"
  },
  "language_info": {
   "codemirror_mode": {
    "name": "ipython",
    "version": 3
   },
   "file_extension": ".py",
   "mimetype": "text/x-python",
   "name": "python",
   "nbconvert_exporter": "python",
   "pygments_lexer": "ipython3",
   "version": "3.7.3"
  }
 },
 "nbformat": 4,
 "nbformat_minor": 2
}
