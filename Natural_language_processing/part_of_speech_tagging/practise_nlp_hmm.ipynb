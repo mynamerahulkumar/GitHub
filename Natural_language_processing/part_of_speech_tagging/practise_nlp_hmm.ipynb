{
 "cells": [
  {
   "cell_type": "code",
   "execution_count": 1,
   "metadata": {},
   "outputs": [],
   "source": [
    "a=['ADV', 'NOUN', '.', 'ADV', '.', 'VERB', 'ADP', 'ADJ', 'NOUN', 'CONJ', 'VERB', '.', 'DET', 'ADJ', 'PRT', 'ADP', 'NUM', '.', 'PRON', 'VERB', 'PRT', 'VERB', 'NOUN', 'NUM', '.', '.', '.', 'ADP', 'ADV', 'DET', 'CONJ', 'NOUN', 'ADP', 'ADP', 'NOUN', 'CONJ', '.', 'VERB', '.', 'NOUN', 'VERB', 'ADV', 'DET', 'NOUN', 'ADJ', 'VERB', 'ADJ', 'NOUN', '.', 'PRT', 'VERB', 'ADV', 'NOUN', 'DET', 'ADV', 'ADV', 'ADJ', 'ADP', 'ADP', 'NOUN', 'ADV', 'ADJ', 'ADJ', 'VERB', 'PRON', '.', 'CONJ', 'DET', 'ADV', 'ADV', 'CONJ', 'VERB', 'ADP', 'ADP', 'CONJ', 'VERB', 'ADP', 'PRON', 'PRT', 'NUM', 'NUM', 'PRON', 'PRON', 'DET', 'PRON', 'DET', 'NUM', 'NUM', 'NOUN', 'DET', 'ADV', 'CONJ', 'PRT', 'PRON', 'ADJ', 'PRT', 'ADP', 'DET', 'NUM', 'DET', 'PRT', 'PRON', 'PRON', 'PRON', 'ADJ', 'PRT', 'PRT', 'PRT', 'CONJ', 'CONJ', 'NUM', 'PRT', '.', 'X', 'NUM', 'NOUN', 'X', 'ADJ', 'NUM', 'ADJ', 'CONJ', 'X', 'X', 'DET', 'PRON', 'DET', 'X', 'X', 'X', 'X', 'ADP', 'CONJ', 'ADJ', 'NUM', 'VERB', 'X', 'ADV', 'X', 'NUM', 'PRT', 'CONJ', 'X', 'X', 'PRON']\n"
   ]
  },
  {
   "cell_type": "code",
   "execution_count": 2,
   "metadata": {},
   "outputs": [
    {
     "name": "stdout",
     "output_type": "stream",
     "text": [
      "['ADV', 'NOUN', '.', 'ADV', '.', 'VERB', 'ADP', 'ADJ', 'NOUN', 'CONJ', 'VERB', '.', 'DET', 'ADJ', 'PRT', 'ADP', 'NUM', '.', 'PRON', 'VERB', 'PRT', 'VERB', 'NOUN', 'NUM', '.', '.', '.', 'ADP', 'ADV', 'DET', 'CONJ', 'NOUN', 'ADP', 'ADP', 'NOUN', 'CONJ', '.', 'VERB', '.', 'NOUN', 'VERB', 'ADV', 'DET', 'NOUN', 'ADJ', 'VERB', 'ADJ', 'NOUN', '.', 'PRT', 'VERB', 'ADV', 'NOUN', 'DET', 'ADV', 'ADV', 'ADJ', 'ADP', 'ADP', 'NOUN', 'ADV', 'ADJ', 'ADJ', 'VERB', 'PRON', '.', 'CONJ', 'DET', 'ADV', 'ADV', 'CONJ', 'VERB', 'ADP', 'ADP', 'CONJ', 'VERB', 'ADP', 'PRON', 'PRT', 'NUM', 'NUM', 'PRON', 'PRON', 'DET', 'PRON', 'DET', 'NUM', 'NUM', 'NOUN', 'DET', 'ADV', 'CONJ', 'PRT', 'PRON', 'ADJ', 'PRT', 'ADP', 'DET', 'NUM', 'DET', 'PRT', 'PRON', 'PRON', 'PRON', 'ADJ', 'PRT', 'PRT', 'PRT', 'CONJ', 'CONJ', 'NUM', 'PRT', '.', 'X', 'NUM', 'NOUN', 'X', 'ADJ', 'NUM', 'ADJ', 'CONJ', 'X', 'X', 'DET', 'PRON', 'DET', 'X', 'X', 'X', 'X', 'ADP', 'CONJ', 'ADJ', 'NUM', 'VERB', 'X', 'ADV', 'X', 'NUM', 'PRT', 'CONJ', 'X', 'X', 'PRON']\n"
     ]
    }
   ],
   "source": [
    "print(a)"
   ]
  },
  {
   "cell_type": "code",
   "execution_count": 3,
   "metadata": {},
   "outputs": [
    {
     "data": {
      "text/plain": [
       "'.'"
      ]
     },
     "execution_count": 3,
     "metadata": {},
     "output_type": "execute_result"
    }
   ],
   "source": [
    "min(a)"
   ]
  },
  {
   "cell_type": "code",
   "execution_count": 4,
   "metadata": {},
   "outputs": [
    {
     "data": {
      "text/plain": [
       "'X'"
      ]
     },
     "execution_count": 4,
     "metadata": {},
     "output_type": "execute_result"
    }
   ],
   "source": [
    "max(a)"
   ]
  },
  {
   "cell_type": "code",
   "execution_count": 11,
   "metadata": {},
   "outputs": [
    {
     "name": "stdout",
     "output_type": "stream",
     "text": [
      "12\n"
     ]
    }
   ],
   "source": [
    "cnt=0\n",
    "for t in a:\n",
    "    if(t=='X'):\n",
    "        cnt+=1\n",
    "print(cnt)"
   ]
  },
  {
   "cell_type": "code",
   "execution_count": 23,
   "metadata": {},
   "outputs": [],
   "source": [
    "tag_b={('DET', 'NOUN'): 68786, ('NOUN', '.'): 62693, ('NOUN', 'ADP'): 53968, ('ADP', 'DET'): 52841, ('ADJ', 'NOUN'): 43666, ('NOUN', 'VERB'): 35003, ('NOUN', 'NOUN'): 33083, ('ADP', 'NOUN'): 29966, ('PRON', 'VERB'): 27860, ('VERB', 'VERB'): 26960, ('DET', 'ADJ'): 26236, ('VERB', 'ADP'): 24939, ('VERB', 'DET'): 23778, ('.', 'DET'): 17568, ('.', '.'): 16625, ('.', 'NOUN'): 16133, ('VERB', 'ADV'): 15090, ('PRT', 'VERB'): 14888, ('VERB', 'NOUN'): 14239, ('NOUN', 'CONJ'): 13221, ('.', 'ADP'): 13068, ('.', 'PRON'): 12602, ('VERB', '.'): 11701, ('.', 'VERB'): 11080, ('ADV', 'VERB'): 10836, ('.', 'CONJ'): 10409, ('VERB', 'PRT'): 9559, ('ADP', 'ADJ'): 9533, ('.', 'ADV'): 9216, ('VERB', 'ADJ'): 8424, ('ADP', 'PRON'): 8111, ('VERB', 'PRON'): 8015, ('ADV', '.'): 7578, ('CONJ', 'NOUN'): 7502, ('DET', 'VERB'): 7063, ('ADJ', '.'): 6669, ('ADV', 'ADP'): 6354, ('ADV', 'ADJ'): 6143, ('CONJ', 'VERB'): 6012, ('ADJ', 'ADP'): 5899, ('NOUN', 'ADV'): 5868, ('.', 'ADJ'): 4875, ('ADP', 'VERB'): 4690, ('CONJ', 'DET'): 4637, ('NUM', 'NOUN'): 4534, ('NOUN', 'PRON'): 4495, ('ADV', 'ADV'): 4337, ('PRON', '.'): 4078, ('NOUN', 'PRT'): 3971, ('.', 'PRT'): 3854, ('ADJ', 'ADJ'): 3759, ('NOUN', 'DET'): 3586, ('ADP', 'NUM'): 3467, ('CONJ', 'ADJ'): 3372, ('ADV', 'DET'): 3312, ('NUM', '.'): 3216, ('NOUN', 'ADJ'): 2876, ('CONJ', 'ADV'): 2759, ('ADJ', 'CONJ'): 2502, ('ADP', 'ADP'): 2347, ('CONJ', 'ADP'): 2222, ('PRON', 'ADP'): 2216, ('PRT', 'ADP'): 2190, ('.', 'NUM'): 2154, ('ADV', 'PRON'): 2139, ('VERB', 'CONJ'): 2105, ('PRON', 'ADV'): 2099, ('CONJ', 'PRON'): 2058, ('PRT', 'DET'): 2022, ('DET', 'ADV'): 1938, ('ADP', 'ADV'): 1806, ('PRT', '.'): 1795, ('NOUN', 'NUM'): 1794, ('ADP', 'PRT'): 1676, ('NUM', 'ADP'): 1562, ('ADV', 'NOUN'): 1480, ('DET', '.'): 1387, ('VERB', 'NUM'): 1323, ('ADV', 'PRT'): 1306, ('ADJ', 'PRT'): 1301, ('ADJ', 'VERB'): 1168, ('ADP', '.'): 1100, ('DET', 'PRON'): 1096, ('DET', 'NUM'): 1073, ('DET', 'ADP'): 981, ('PRON', 'PRT'): 919, ('PRT', 'ADV'): 866, ('PRT', 'NOUN'): 845, ('ADV', 'CONJ'): 791, ('CONJ', 'PRT'): 760, ('NUM', 'ADJ'): 707, ('PRON', 'DET'): 697, ('DET', 'DET'): 664, ('ADJ', 'ADV'): 648, ('CONJ', '.'): 612, ('ADV', 'NUM'): 597, ('CONJ', 'NUM'): 575, ('X', 'X'): 552, ('NUM', 'VERB'): 539, ('ADJ', 'NUM'): 469, ('PRT', 'ADJ'): 467, ('PRON', 'CONJ'): 456, ('NUM', 'CONJ'): 446, ('ADJ', 'DET'): 390, ('PRON', 'ADJ'): 359, ('PRON', 'NOUN'): 340, ('PRON', 'PRON'): 318, ('X', '.'): 303, ('PRT', 'CONJ'): 285, ('NUM', 'NUM'): 268, ('PRT', 'PRT'): 261, ('ADJ', 'PRON'): 252, ('NUM', 'ADV'): 242, ('DET', 'PRT'): 221, ('ADP', 'CONJ'): 218, ('.', 'X'): 172, ('NUM', 'DET'): 171, ('PRT', 'PRON'): 168, ('DET', 'X'): 156, ('NUM', 'PRON'): 120, ('PRT', 'NUM'): 117, ('NOUN', 'X'): 74, ('DET', 'CONJ'): 70, ('NUM', 'PRT'): 70, ('X', 'VERB'): 62, ('X', 'ADP'): 62, ('X', 'NOUN'): 58, ('ADP', 'X'): 53, ('PRON', 'NUM'): 40, ('ADJ', 'X'): 31, ('VERB', 'X'): 28, ('X', 'CONJ'): 24, ('CONJ', 'X'): 18, ('CONJ', 'CONJ'): 10, ('X', 'PRON'): 9, ('X', 'PRT'): 8, ('X', 'ADV'): 7, ('X', 'DET'): 5, ('ADV', 'X'): 4, ('NUM', 'X'): 3, ('X', 'ADJ'): 3, ('PRT', 'X'): 2, ('X', 'NUM'): 1, ('PRON', 'X'): 1}"
   ]
  },
  {
   "cell_type": "code",
   "execution_count": 24,
   "metadata": {},
   "outputs": [
    {
     "name": "stdout",
     "output_type": "stream",
     "text": [
      "{('DET', 'NOUN'): 68786, ('NOUN', '.'): 62693, ('NOUN', 'ADP'): 53968, ('ADP', 'DET'): 52841, ('ADJ', 'NOUN'): 43666, ('NOUN', 'VERB'): 35003, ('NOUN', 'NOUN'): 33083, ('ADP', 'NOUN'): 29966, ('PRON', 'VERB'): 27860, ('VERB', 'VERB'): 26960, ('DET', 'ADJ'): 26236, ('VERB', 'ADP'): 24939, ('VERB', 'DET'): 23778, ('.', 'DET'): 17568, ('.', '.'): 16625, ('.', 'NOUN'): 16133, ('VERB', 'ADV'): 15090, ('PRT', 'VERB'): 14888, ('VERB', 'NOUN'): 14239, ('NOUN', 'CONJ'): 13221, ('.', 'ADP'): 13068, ('.', 'PRON'): 12602, ('VERB', '.'): 11701, ('.', 'VERB'): 11080, ('ADV', 'VERB'): 10836, ('.', 'CONJ'): 10409, ('VERB', 'PRT'): 9559, ('ADP', 'ADJ'): 9533, ('.', 'ADV'): 9216, ('VERB', 'ADJ'): 8424, ('ADP', 'PRON'): 8111, ('VERB', 'PRON'): 8015, ('ADV', '.'): 7578, ('CONJ', 'NOUN'): 7502, ('DET', 'VERB'): 7063, ('ADJ', '.'): 6669, ('ADV', 'ADP'): 6354, ('ADV', 'ADJ'): 6143, ('CONJ', 'VERB'): 6012, ('ADJ', 'ADP'): 5899, ('NOUN', 'ADV'): 5868, ('.', 'ADJ'): 4875, ('ADP', 'VERB'): 4690, ('CONJ', 'DET'): 4637, ('NUM', 'NOUN'): 4534, ('NOUN', 'PRON'): 4495, ('ADV', 'ADV'): 4337, ('PRON', '.'): 4078, ('NOUN', 'PRT'): 3971, ('.', 'PRT'): 3854, ('ADJ', 'ADJ'): 3759, ('NOUN', 'DET'): 3586, ('ADP', 'NUM'): 3467, ('CONJ', 'ADJ'): 3372, ('ADV', 'DET'): 3312, ('NUM', '.'): 3216, ('NOUN', 'ADJ'): 2876, ('CONJ', 'ADV'): 2759, ('ADJ', 'CONJ'): 2502, ('ADP', 'ADP'): 2347, ('CONJ', 'ADP'): 2222, ('PRON', 'ADP'): 2216, ('PRT', 'ADP'): 2190, ('.', 'NUM'): 2154, ('ADV', 'PRON'): 2139, ('VERB', 'CONJ'): 2105, ('PRON', 'ADV'): 2099, ('CONJ', 'PRON'): 2058, ('PRT', 'DET'): 2022, ('DET', 'ADV'): 1938, ('ADP', 'ADV'): 1806, ('PRT', '.'): 1795, ('NOUN', 'NUM'): 1794, ('ADP', 'PRT'): 1676, ('NUM', 'ADP'): 1562, ('ADV', 'NOUN'): 1480, ('DET', '.'): 1387, ('VERB', 'NUM'): 1323, ('ADV', 'PRT'): 1306, ('ADJ', 'PRT'): 1301, ('ADJ', 'VERB'): 1168, ('ADP', '.'): 1100, ('DET', 'PRON'): 1096, ('DET', 'NUM'): 1073, ('DET', 'ADP'): 981, ('PRON', 'PRT'): 919, ('PRT', 'ADV'): 866, ('PRT', 'NOUN'): 845, ('ADV', 'CONJ'): 791, ('CONJ', 'PRT'): 760, ('NUM', 'ADJ'): 707, ('PRON', 'DET'): 697, ('DET', 'DET'): 664, ('ADJ', 'ADV'): 648, ('CONJ', '.'): 612, ('ADV', 'NUM'): 597, ('CONJ', 'NUM'): 575, ('X', 'X'): 552, ('NUM', 'VERB'): 539, ('ADJ', 'NUM'): 469, ('PRT', 'ADJ'): 467, ('PRON', 'CONJ'): 456, ('NUM', 'CONJ'): 446, ('ADJ', 'DET'): 390, ('PRON', 'ADJ'): 359, ('PRON', 'NOUN'): 340, ('PRON', 'PRON'): 318, ('X', '.'): 303, ('PRT', 'CONJ'): 285, ('NUM', 'NUM'): 268, ('PRT', 'PRT'): 261, ('ADJ', 'PRON'): 252, ('NUM', 'ADV'): 242, ('DET', 'PRT'): 221, ('ADP', 'CONJ'): 218, ('.', 'X'): 172, ('NUM', 'DET'): 171, ('PRT', 'PRON'): 168, ('DET', 'X'): 156, ('NUM', 'PRON'): 120, ('PRT', 'NUM'): 117, ('NOUN', 'X'): 74, ('DET', 'CONJ'): 70, ('NUM', 'PRT'): 70, ('X', 'VERB'): 62, ('X', 'ADP'): 62, ('X', 'NOUN'): 58, ('ADP', 'X'): 53, ('PRON', 'NUM'): 40, ('ADJ', 'X'): 31, ('VERB', 'X'): 28, ('X', 'CONJ'): 24, ('CONJ', 'X'): 18, ('CONJ', 'CONJ'): 10, ('X', 'PRON'): 9, ('X', 'PRT'): 8, ('X', 'ADV'): 7, ('X', 'DET'): 5, ('ADV', 'X'): 4, ('NUM', 'X'): 3, ('X', 'ADJ'): 3, ('PRT', 'X'): 2, ('X', 'NUM'): 1, ('PRON', 'X'): 1}\n"
     ]
    }
   ],
   "source": [
    "print(tag_b)"
   ]
  },
  {
   "cell_type": "code",
   "execution_count": 26,
   "metadata": {
    "scrolled": true
   },
   "outputs": [
    {
     "name": "stdout",
     "output_type": "stream",
     "text": [
      "{'DET': 109671, 'NOUN': 220632, 'ADP': 115808, 'ADJ': 66754, 'PRON': 39383, 'VERB': 146161, '.': 117756, 'PRT': 23906, 'ADV': 44877, 'CONJ': 30537, 'NUM': 11878, 'X': 1094}\n"
     ]
    }
   ],
   "source": [
    "counts={}\n",
    "for t,c in tag_b.items():\n",
    "    for t1 in t:\n",
    "        if t1 in counts:\n",
    "            cnt=counts[t1]\n",
    "            cnt=cnt+c\n",
    "            counts[t1]=cnt\n",
    "        else:\n",
    "            counts[t1]=c\n",
    "        break;\n",
    "print(counts)"
   ]
  },
  {
   "cell_type": "code",
   "execution_count": 29,
   "metadata": {},
   "outputs": [
    {
     "data": {
      "text/plain": [
       "12"
      ]
     },
     "execution_count": 29,
     "metadata": {},
     "output_type": "execute_result"
    }
   ],
   "source": [
    "len(counts)"
   ]
  },
  {
   "cell_type": "code",
   "execution_count": 30,
   "metadata": {},
   "outputs": [
    {
     "data": {
      "text/plain": [
       "'X'"
      ]
     },
     "execution_count": 30,
     "metadata": {},
     "output_type": "execute_result"
    }
   ],
   "source": [
    "min(counts, key=counts.get)"
   ]
  },
  {
   "cell_type": "code",
   "execution_count": 31,
   "metadata": {},
   "outputs": [
    {
     "data": {
      "text/plain": [
       "'NOUN'"
      ]
     },
     "execution_count": 31,
     "metadata": {},
     "output_type": "execute_result"
    }
   ],
   "source": [
    "max(counts, key=counts.get)"
   ]
  },
  {
   "cell_type": "code",
   "execution_count": 34,
   "metadata": {},
   "outputs": [
    {
     "name": "stdout",
     "output_type": "stream",
     "text": [
      "{'NOUN': 220632, '.': 117757, 'ADP': 115808, 'DET': 109671, 'VERB': 146161, 'ADJ': 66754, 'ADV': 44876, 'CONJ': 30537, 'PRON': 39383, 'PRT': 23906, 'NUM': 11878, 'X': 1094}\n"
     ]
    }
   ],
   "source": [
    "counts={}\n",
    "n=0\n",
    "for t,c in tag_b.items():\n",
    "    if t[1] in counts:\n",
    "        cnt=counts[t[1]]\n",
    "        cnt=cnt+c\n",
    "        counts[t[1]]=cnt\n",
    "    else:\n",
    "        counts[t[1]]=c\n",
    "print(counts)"
   ]
  },
  {
   "cell_type": "code",
   "execution_count": 36,
   "metadata": {},
   "outputs": [
    {
     "data": {
      "text/plain": [
       "'X'"
      ]
     },
     "execution_count": 36,
     "metadata": {},
     "output_type": "execute_result"
    }
   ],
   "source": [
    "min(counts, key=counts.get)"
   ]
  },
  {
   "cell_type": "code",
   "execution_count": null,
   "metadata": {},
   "outputs": [],
   "source": []
  }
 ],
 "metadata": {
  "kernelspec": {
   "display_name": "Python 3",
   "language": "python",
   "name": "python3"
  },
  "language_info": {
   "codemirror_mode": {
    "name": "ipython",
    "version": 3
   },
   "file_extension": ".py",
   "mimetype": "text/x-python",
   "name": "python",
   "nbconvert_exporter": "python",
   "pygments_lexer": "ipython3",
   "version": "3.7.1"
  }
 },
 "nbformat": 4,
 "nbformat_minor": 2
}
