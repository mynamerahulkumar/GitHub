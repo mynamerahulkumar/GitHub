{
 "cells": [
  {
   "cell_type": "markdown",
   "metadata": {},
   "source": [
    "# Text Processing\n",
    "\n",
    "## Capturing Text Data\n",
    "\n",
    "### Plain Text"
   ]
  },
  {
   "cell_type": "code",
   "execution_count": 1,
   "metadata": {},
   "outputs": [
    {
     "name": "stdout",
     "output_type": "stream",
     "text": [
      "Hieroglyphic writing dates from c. 3000 BC, and is composed of hundreds of symbols. A hieroglyph can represent a word, a sound, or a silent determinative; and the same symbol can serve different purposes in different contexts. Hieroglyphs were a formal script, used on stone monuments and in tombs, that could be as detailed as individual works of art.\n",
      "\n"
     ]
    }
   ],
   "source": [
    "import os\n",
    "\n",
    "# Read in a plain text file\n",
    "with open(os.path.join(\"data\", \"hieroglyph.txt\"), \"r\") as f:\n",
    "    text = f.read()\n",
    "    print(text)"
   ]
  },
  {
   "cell_type": "markdown",
   "metadata": {},
   "source": [
    "### Tabular Data"
   ]
  },
  {
   "cell_type": "code",
   "execution_count": 2,
   "metadata": {
    "scrolled": true
   },
   "outputs": [
    {
     "data": {
      "text/html": [
       "<div>\n",
       "<style scoped>\n",
       "    .dataframe tbody tr th:only-of-type {\n",
       "        vertical-align: middle;\n",
       "    }\n",
       "\n",
       "    .dataframe tbody tr th {\n",
       "        vertical-align: top;\n",
       "    }\n",
       "\n",
       "    .dataframe thead th {\n",
       "        text-align: right;\n",
       "    }\n",
       "</style>\n",
       "<table border=\"1\" class=\"dataframe\">\n",
       "  <thead>\n",
       "    <tr style=\"text-align: right;\">\n",
       "      <th></th>\n",
       "      <th>publisher</th>\n",
       "      <th>title</th>\n",
       "    </tr>\n",
       "  </thead>\n",
       "  <tbody>\n",
       "    <tr>\n",
       "      <th>0</th>\n",
       "      <td>Livemint</td>\n",
       "      <td>fed's charles plosser sees high bar for change...</td>\n",
       "    </tr>\n",
       "    <tr>\n",
       "      <th>1</th>\n",
       "      <td>IFA Magazine</td>\n",
       "      <td>us open: stocks fall after fed official hints ...</td>\n",
       "    </tr>\n",
       "    <tr>\n",
       "      <th>2</th>\n",
       "      <td>IFA Magazine</td>\n",
       "      <td>fed risks falling 'behind the curve', charles ...</td>\n",
       "    </tr>\n",
       "    <tr>\n",
       "      <th>3</th>\n",
       "      <td>Moneynews</td>\n",
       "      <td>fed's plosser: nasty weather has curbed job gr...</td>\n",
       "    </tr>\n",
       "    <tr>\n",
       "      <th>4</th>\n",
       "      <td>NASDAQ</td>\n",
       "      <td>plosser: fed may have to accelerate tapering pace</td>\n",
       "    </tr>\n",
       "  </tbody>\n",
       "</table>\n",
       "</div>"
      ],
      "text/plain": [
       "      publisher                                              title\n",
       "0      Livemint  fed's charles plosser sees high bar for change...\n",
       "1  IFA Magazine  us open: stocks fall after fed official hints ...\n",
       "2  IFA Magazine  fed risks falling 'behind the curve', charles ...\n",
       "3     Moneynews  fed's plosser: nasty weather has curbed job gr...\n",
       "4        NASDAQ  plosser: fed may have to accelerate tapering pace"
      ]
     },
     "execution_count": 2,
     "metadata": {},
     "output_type": "execute_result"
    }
   ],
   "source": [
    "import pandas as pd\n",
    "\n",
    "# Extract text column from a dataframe\n",
    "df = pd.read_csv(os.path.join(\"data\", \"news.csv\"))\n",
    "df.head()[['publisher', 'title']]\n",
    "\n",
    "# Convert text column to lowercase\n",
    "df['title'] = df['title'].str.lower()\n",
    "df.head()[['publisher', 'title']]"
   ]
  },
  {
   "cell_type": "markdown",
   "metadata": {},
   "source": [
    "### Online Resource"
   ]
  },
  {
   "cell_type": "code",
   "execution_count": 4,
   "metadata": {
    "scrolled": false
   },
   "outputs": [
    {
     "name": "stdout",
     "output_type": "stream",
     "text": [
      "{\n",
      "    \"success\": {\n",
      "        \"total\": 1\n",
      "    },\n",
      "    \"contents\": {\n",
      "        \"quotes\": [\n",
      "            {\n",
      "                \"quote\": \"In matters of style, swim with the current; in matters of principle, stand like a rock.\",\n",
      "                \"length\": \"87\",\n",
      "                \"author\": \"Thomas Jefferson\",\n",
      "                \"tags\": [\n",
      "                    \"inspire\",\n",
      "                    \"principles\",\n",
      "                    \"style\",\n",
      "                    \"tod\"\n",
      "                ],\n",
      "                \"category\": \"inspire\",\n",
      "                \"date\": \"2019-08-24\",\n",
      "                \"permalink\": \"https://theysaidso.com/quote/768307-thomas-jefferson-in-matters-of-style-swim-with-the-current-in-matters-of-princip\",\n",
      "                \"title\": \"Inspiring Quote of the day\",\n",
      "                \"background\": \"https://theysaidso.com/img/bgs/man_on_the_mountain.jpg\",\n",
      "                \"id\": \"qU1jon5EZodrqiCdXv5GwQeF\"\n",
      "            }\n",
      "        ],\n",
      "        \"copyright\": \"2017-19 theysaidso.com\"\n",
      "    }\n",
      "}\n",
      "In matters of style, swim with the current; in matters of principle, stand like a rock. \n",
      "-- Thomas Jefferson\n"
     ]
    }
   ],
   "source": [
    "import requests\n",
    "import json\n",
    "\n",
    "# Fetch data from a REST API\n",
    "r = requests.get(\n",
    "    \"https://quotes.rest/qod.json\")\n",
    "res = r.json()\n",
    "print(json.dumps(res, indent=4))\n",
    "\n",
    "# Extract relevant object and field\n",
    "q = res[\"contents\"][\"quotes\"][0]\n",
    "print(q[\"quote\"], \"\\n--\", q[\"author\"])"
   ]
  },
  {
   "cell_type": "markdown",
   "metadata": {},
   "source": [
    "## Cleaning"
   ]
  },
  {
   "cell_type": "code",
   "execution_count": 6,
   "metadata": {
    "scrolled": false
   },
   "outputs": [
    {
     "name": "stdout",
     "output_type": "stream",
     "text": [
      "<html op=\"news\"><head><meta name=\"referrer\" content=\"origin\"><meta name=\"viewport\" content=\"width=device-width, initial-scale=1.0\"><link rel=\"stylesheet\" type=\"text/css\" href=\"news.css?M7JnhV0U0Z5X29uiXuys\">\n",
      "            <link rel=\"shortcut icon\" href=\"favicon.ico\">\n",
      "          <link rel=\"alternate\" type=\"application/rss+xml\" title=\"RSS\" href=\"rss\">\n",
      "        <title>Hacker News</title></head><body><center><table id=\"hnmain\" border=\"0\" cellpadding=\"0\" cellspacing=\"0\" width=\"85%\" bgcolor=\"#f6f6ef\">\n",
      "        <tr><td bgcolor=\"#ff6600\"><table border=\"0\" cellpadding=\"0\" cellspacing=\"0\" width=\"100%\" style=\"padding:2px\"><tr><td style=\"width:18px;padding-right:4px\"><a href=\"https://news.ycombinator.com\"><img src=\"y18.gif\" width=\"18\" height=\"18\" style=\"border:1px white solid;\"></a></td>\n",
      "                  <td style=\"line-height:12pt; height:10px;\"><span class=\"pagetop\"><b class=\"hnname\"><a href=\"news\">Hacker News</a></b>\n",
      "              <a href=\"newest\">new</a> | <a href=\"front\">past</a> | <a href=\"newcomments\">comments</a> | <a href=\"ask\">ask</a> | <a href=\"show\">show</a> | <a href=\"jobs\">jobs</a> | <a href=\"submit\">submit</a>            </span></td><td style=\"text-align:right;padding-right:4px;\"><span class=\"pagetop\">\n",
      "                              <a href=\"login?goto=news\">login</a>\n",
      "                          </span></td>\n",
      "              </tr></table></td></tr>\n",
      "<tr id=\"pagespace\" title=\"\" style=\"height:10px\"></tr><tr><td><table border=\"0\" cellpadding=\"0\" cellspacing=\"0\" class=\"itemlist\">\n",
      "              <tr class='athing' id='20783006'>\n",
      "      <td align=\"right\" valign=\"top\" class=\"title\"><span class=\"rank\">1.</span></td>      <td valign=\"top\" class=\"votelinks\"><center><a id='up_20783006' href='vote?id=20783006&amp;how=up&amp;goto=news'><div class='votearrow' title='upvote'></div></a></center></td><td class=\"title\"><a href=\"http://www.jonathanturner.org/2019/08/introducing-nushell.html\" class=\"storylink\">Introducing nushell</a><span class=\"sitebit comhead\"> (<a href=\"from?site=jonathanturner.org\"><span class=\"sitestr\">jonathanturner.org</span></a>)</span></td></tr><tr><td colspan=\"2\"></td><td class=\"subtext\">\n",
      "        <span class=\"score\" id=\"score_20783006\">1100 points</span> by <a href=\"user?id=bradleybuda\" class=\"hnuser\">bradleybuda</a> <span class=\"age\"><a href=\"item?id=20783006\">13 hours ago</a></span> <span id=\"unv_20783006\"></span> | <a href=\"hide?id=20783006&amp;goto=news\">hide</a> | <a href=\"item?id=20783006\">247&nbsp;comments</a>              </td></tr>\n",
      "      <tr class=\"spacer\" style=\"height:5px\"></tr>\n",
      "                <tr class='athing' id='20781463'>\n",
      "      <td align=\"right\" valign=\"top\" class=\"title\"><span class=\"rank\">2.</span></td>      <td valign=\"top\" class=\"votelinks\"><center><a id='up_20781463' href='vote?id=20781463&amp;how=up&amp;goto=news'><div class='votearrow' title='upvote'></div></a></center></td><td class=\"title\"><a href=\"https://tjcx.me/posts/consumption-distraction/\" class=\"storylink\">Consume less, create more</a><span class=\"sitebit comhead\"> (<a href=\"from?site=tjcx.me\"><span class=\"sitestr\">tjcx.me</span></a>)</span></td></tr><tr><td colspan=\"2\"></td><td class=\"subtext\">\n",
      "        <span class=\"score\" id=\"score_20781463\">375 points</span> by <a href=\"user?id=tomjcleveland\" class=\"hnuser\">tomjcleveland</a> <span class=\"age\"><a href=\"item?id=20781463\">15 hours ago</a></span> <span id=\"unv_20781463\"></span> | <a href=\"hide?id=20781463&amp;goto=news\">hide</a> | <a href=\"item?id=20781463\">108&nbsp;comments</a>              </td></tr>\n",
      "      <tr class=\"spacer\" style=\"height:5px\"></tr>\n",
      "                <tr class='athing' id='20781610'>\n",
      "      <td align=\"right\" valign=\"top\" class=\"title\"><span class=\"rank\">3.</span></td>      <td valign=\"top\" class=\"votelinks\"><center><a id='up_20781610' href='vote?id=20781610&amp;how=up&amp;goto=news'><div class='votearrow' title='upvote'></div></a></center></td><td class=\"title\"><a href=\"https://www.sec.gov/Archives/edgar/data/1561550/000119312519227783/d745413ds1.htm\" class=\"storylink\">Datadog S-1</a><span class=\"sitebit comhead\"> (<a href=\"from?site=sec.gov\"><span class=\"sitestr\">sec.gov</span></a>)</span></td></tr><tr><td colspan=\"2\"></td><td class=\"subtext\">\n",
      "        <span class=\"score\" id=\"score_20781610\">367 points</span> by <a href=\"user?id=jonknee\" class=\"hnuser\">jonknee</a> <span class=\"age\"><a href=\"item?id=20781610\">15 hours ago</a></span> <span id=\"unv_20781610\"></span> | <a href=\"hide?id=20781610&amp;goto=news\">hide</a> | <a href=\"item?id=20781610\">87&nbsp;comments</a>              </td></tr>\n",
      "      <tr class=\"spacer\" style=\"height:5px\"></tr>\n",
      "                <tr class='athing' id='20779097'>\n",
      "      <td align=\"right\" valign=\"top\" class=\"title\"><span class=\"rank\">4.</span></td>      <td valign=\"top\" class=\"votelinks\"><center><a id='up_20779097' href='vote?id=20779097&amp;how=up&amp;goto=news'><div class='votearrow' title='upvote'></div></a></center></td><td class=\"title\"><a href=\"https://www.ft.com/content/c72ae0f0-c036-11e9-b350-db00d509634e\" class=\"storylink\">Now Bigger Than eBay, Shopify Sets Its Sights on Amazon</a><span class=\"sitebit comhead\"> (<a href=\"from?site=ft.com\"><span class=\"sitestr\">ft.com</span></a>)</span></td></tr><tr><td colspan=\"2\"></td><td class=\"subtext\">\n",
      "        <span class=\"score\" id=\"score_20779097\">211 points</span> by <a href=\"user?id=tim333\" class=\"hnuser\">tim333</a> <span class=\"age\"><a href=\"item?id=20779097\">15 hours ago</a></span> <span id=\"unv_20779097\"></span> | <a href=\"hide?id=20779097&amp;goto=news\">hide</a> | <a href=\"item?id=20779097\">115&nbsp;comments</a>              </td></tr>\n",
      "      <tr class=\"spacer\" style=\"height:5px\"></tr>\n",
      "                <tr class='athing' id='20785616'>\n",
      "      <td align=\"right\" valign=\"top\" class=\"title\"><span class=\"rank\">5.</span></td>      <td valign=\"top\" class=\"votelinks\"><center><a id='up_20785616' href='vote?id=20785616&amp;how=up&amp;goto=news'><div class='votearrow' title='upvote'></div></a></center></td><td class=\"title\"><a href=\"https://amontalenti.com/2019/08/10/javascript-the-modern-parts\" class=\"storylink\">JavaScript: The Modern Parts</a><span class=\"sitebit comhead\"> (<a href=\"from?site=amontalenti.com\"><span class=\"sitestr\">amontalenti.com</span></a>)</span></td></tr><tr><td colspan=\"2\"></td><td class=\"subtext\">\n",
      "        <span class=\"score\" id=\"score_20785616\">77 points</span> by <a href=\"user?id=janvdberg\" class=\"hnuser\">janvdberg</a> <span class=\"age\"><a href=\"item?id=20785616\">4 hours ago</a></span> <span id=\"unv_20785616\"></span> | <a href=\"hide?id=20785616&amp;goto=news\">hide</a> | <a href=\"item?id=20785616\">36&nbsp;comments</a>              </td></tr>\n",
      "      <tr class=\"spacer\" style=\"height:5px\"></tr>\n",
      "                <tr class='athing' id='20784639'>\n",
      "      <td align=\"right\" valign=\"top\" class=\"title\"><span class=\"rank\">6.</span></td>      <td valign=\"top\" class=\"votelinks\"><center><a id='up_20784639' href='vote?id=20784639&amp;how=up&amp;goto=news'><div class='votearrow' title='upvote'></div></a></center></td><td class=\"title\"><a href=\"https://theconversation.com/how-to-become-a-great-impostor-98798\" class=\"storylink\">How to become a great impostor</a><span class=\"sitebit comhead\"> (<a href=\"from?site=theconversation.com\"><span class=\"sitestr\">theconversation.com</span></a>)</span></td></tr><tr><td colspan=\"2\"></td><td class=\"subtext\">\n",
      "        <span class=\"score\" id=\"score_20784639\">91 points</span> by <a href=\"user?id=onemind\" class=\"hnuser\">onemind</a> <span class=\"age\"><a href=\"item?id=20784639\">8 hours ago</a></span> <span id=\"unv_20784639\"></span> | <a href=\"hide?id=20784639&amp;goto=news\">hide</a> | <a href=\"item?id=20784639\">15&nbsp;comments</a>              </td></tr>\n",
      "      <tr class=\"spacer\" style=\"height:5px\"></tr>\n",
      "                <tr class='athing' id='20780939'>\n",
      "      <td align=\"right\" valign=\"top\" class=\"title\"><span class=\"rank\">7.</span></td>      <td valign=\"top\" class=\"votelinks\"><center><a id='up_20780939' href='vote?id=20780939&amp;how=up&amp;goto=news'><div class='votearrow' title='upvote'></div></a></center></td><td class=\"title\"><a href=\"https://codejamming.org/2019/how-to-return-to-flow\" class=\"storylink\">How to return to the flow faster</a><span class=\"sitebit comhead\"> (<a href=\"from?site=codejamming.org\"><span class=\"sitestr\">codejamming.org</span></a>)</span></td></tr><tr><td colspan=\"2\"></td><td class=\"subtext\">\n",
      "        <span class=\"score\" id=\"score_20780939\">248 points</span> by <a href=\"user?id=ribtoks\" class=\"hnuser\">ribtoks</a> <span class=\"age\"><a href=\"item?id=20780939\">16 hours ago</a></span> <span id=\"unv_20780939\"></span> | <a href=\"hide?id=20780939&amp;goto=news\">hide</a> | <a href=\"item?id=20780939\">54&nbsp;comments</a>              </td></tr>\n",
      "      <tr class=\"spacer\" style=\"height:5px\"></tr>\n",
      "                <tr class='athing' id='20779964'>\n",
      "      <td align=\"right\" valign=\"top\" class=\"title\"><span class=\"rank\">8.</span></td>      <td valign=\"top\" class=\"votelinks\"><center><a id='up_20779964' href='vote?id=20779964&amp;how=up&amp;goto=news'><div class='votearrow' title='upvote'></div></a></center></td><td class=\"title\"><a href=\"https://freedom-to-tinker.com/2019/08/23/deconstructing-googles-excuses-on-tracking-protection/\" class=\"storylink\">Deconstructing Google’s excuses on tracking protection</a><span class=\"sitebit comhead\"> (<a href=\"from?site=freedom-to-tinker.com\"><span class=\"sitestr\">freedom-to-tinker.com</span></a>)</span></td></tr><tr><td colspan=\"2\"></td><td class=\"subtext\">\n",
      "        <span class=\"score\" id=\"score_20779964\">740 points</span> by <a href=\"user?id=randomwalker\" class=\"hnuser\">randomwalker</a> <span class=\"age\"><a href=\"item?id=20779964\">17 hours ago</a></span> <span id=\"unv_20779964\"></span> | <a href=\"hide?id=20779964&amp;goto=news\">hide</a> | <a href=\"item?id=20779964\">194&nbsp;comments</a>              </td></tr>\n",
      "      <tr class=\"spacer\" style=\"height:5px\"></tr>\n",
      "                <tr class='athing' id='20783339'>\n",
      "      <td align=\"right\" valign=\"top\" class=\"title\"><span class=\"rank\">9.</span></td>      <td valign=\"top\" class=\"votelinks\"><center><a id='up_20783339' href='vote?id=20783339&amp;how=up&amp;goto=news'><div class='votearrow' title='upvote'></div></a></center></td><td class=\"title\"><a href=\"item?id=20783339\" class=\"storylink\">Ask HN: What's the best setup for ad blocking and tracker blocking?</a></td></tr><tr><td colspan=\"2\"></td><td class=\"subtext\">\n",
      "        <span class=\"score\" id=\"score_20783339\">148 points</span> by <a href=\"user?id=whitepoplar\" class=\"hnuser\">whitepoplar</a> <span class=\"age\"><a href=\"item?id=20783339\">12 hours ago</a></span> <span id=\"unv_20783339\"></span> | <a href=\"hide?id=20783339&amp;goto=news\">hide</a> | <a href=\"item?id=20783339\">87&nbsp;comments</a>              </td></tr>\n",
      "      <tr class=\"spacer\" style=\"height:5px\"></tr>\n",
      "                <tr class='athing' id='20782943'>\n",
      "      <td align=\"right\" valign=\"top\" class=\"title\"><span class=\"rank\">10.</span></td>      <td valign=\"top\" class=\"votelinks\"><center><a id='up_20782943' href='vote?id=20782943&amp;how=up&amp;goto=news'><div class='votearrow' title='upvote'></div></a></center></td><td class=\"title\"><a href=\"http://wiringpi.com/wiringpi-deprecated/\" class=\"storylink\">WiringPi – deprecated</a><span class=\"sitebit comhead\"> (<a href=\"from?site=wiringpi.com\"><span class=\"sitestr\">wiringpi.com</span></a>)</span></td></tr><tr><td colspan=\"2\"></td><td class=\"subtext\">\n",
      "        <span class=\"score\" id=\"score_20782943\">175 points</span> by <a href=\"user?id=kbumsik\" class=\"hnuser\">kbumsik</a> <span class=\"age\"><a href=\"item?id=20782943\">13 hours ago</a></span> <span id=\"unv_20782943\"></span> | <a href=\"hide?id=20782943&amp;goto=news\">hide</a> | <a href=\"item?id=20782943\">100&nbsp;comments</a>              </td></tr>\n",
      "      <tr class=\"spacer\" style=\"height:5px\"></tr>\n",
      "                <tr class='athing' id='20784550'>\n",
      "      <td align=\"right\" valign=\"top\" class=\"title\"><span class=\"rank\">11.</span></td>      <td valign=\"top\" class=\"votelinks\"><center><a id='up_20784550' href='vote?id=20784550&amp;how=up&amp;goto=news'><div class='votearrow' title='upvote'></div></a></center></td><td class=\"title\"><a href=\"http://booksmartest.com/best-books-to-learn-about-manufacturing/\" class=\"storylink\">Best books to learn about manufacturing</a><span class=\"sitebit comhead\"> (<a href=\"from?site=booksmartest.com\"><span class=\"sitestr\">booksmartest.com</span></a>)</span></td></tr><tr><td colspan=\"2\"></td><td class=\"subtext\">\n",
      "        <span class=\"score\" id=\"score_20784550\">54 points</span> by <a href=\"user?id=danmendes\" class=\"hnuser\">danmendes</a> <span class=\"age\"><a href=\"item?id=20784550\">9 hours ago</a></span> <span id=\"unv_20784550\"></span> | <a href=\"hide?id=20784550&amp;goto=news\">hide</a> | <a href=\"item?id=20784550\">7&nbsp;comments</a>              </td></tr>\n",
      "      <tr class=\"spacer\" style=\"height:5px\"></tr>\n",
      "                <tr class='athing' id='20764760'>\n",
      "      <td align=\"right\" valign=\"top\" class=\"title\"><span class=\"rank\">12.</span></td>      <td valign=\"top\" class=\"votelinks\"><center><a id='up_20764760' href='vote?id=20764760&amp;how=up&amp;goto=news'><div class='votearrow' title='upvote'></div></a></center></td><td class=\"title\"><a href=\"https://www.nytimes.com/2019/08/21/health/sperm-donors-fraud-doctors.html\" class=\"storylink\" rel=\"nofollow\">Fertility Fraud: Artificial insemination doctors who used their own sperm</a><span class=\"sitebit comhead\"> (<a href=\"from?site=nytimes.com\"><span class=\"sitestr\">nytimes.com</span></a>)</span></td></tr><tr><td colspan=\"2\"></td><td class=\"subtext\">\n",
      "        <span class=\"score\" id=\"score_20764760\">10 points</span> by <a href=\"user?id=turtlegrids\" class=\"hnuser\">turtlegrids</a> <span class=\"age\"><a href=\"item?id=20764760\">2 hours ago</a></span> <span id=\"unv_20764760\"></span> | <a href=\"hide?id=20764760&amp;goto=news\">hide</a> | <a href=\"item?id=20764760\">7&nbsp;comments</a>              </td></tr>\n",
      "      <tr class=\"spacer\" style=\"height:5px\"></tr>\n",
      "                <tr class='athing' id='20778980'>\n",
      "      <td align=\"right\" valign=\"top\" class=\"title\"><span class=\"rank\">13.</span></td>      <td valign=\"top\" class=\"votelinks\"><center><a id='up_20778980' href='vote?id=20778980&amp;how=up&amp;goto=news'><div class='votearrow' title='upvote'></div></a></center></td><td class=\"title\"><a href=\"https://www.ablogtowatch.com/tokyo-man-designs-casio-g-shock-watches-ryusuke-moriai/\" class=\"storylink\">An Afternoon in Tokyo with the Man Who Designs Casio G-Shock Watches (2017)</a><span class=\"sitebit comhead\"> (<a href=\"from?site=ablogtowatch.com\"><span class=\"sitestr\">ablogtowatch.com</span></a>)</span></td></tr><tr><td colspan=\"2\"></td><td class=\"subtext\">\n",
      "        <span class=\"score\" id=\"score_20778980\">105 points</span> by <a href=\"user?id=bookofjoe\" class=\"hnuser\">bookofjoe</a> <span class=\"age\"><a href=\"item?id=20778980\">13 hours ago</a></span> <span id=\"unv_20778980\"></span> | <a href=\"hide?id=20778980&amp;goto=news\">hide</a> | <a href=\"item?id=20778980\">49&nbsp;comments</a>              </td></tr>\n",
      "      <tr class=\"spacer\" style=\"height:5px\"></tr>\n",
      "                <tr class='athing' id='20771146'>\n",
      "      <td align=\"right\" valign=\"top\" class=\"title\"><span class=\"rank\">14.</span></td>      <td valign=\"top\" class=\"votelinks\"><center><a id='up_20771146' href='vote?id=20771146&amp;how=up&amp;goto=news'><div class='votearrow' title='upvote'></div></a></center></td><td class=\"title\"><a href=\"https://en.wikipedia.org/wiki/Albert_Stevens\" class=\"storylink\">Albert Stevens</a><span class=\"sitebit comhead\"> (<a href=\"from?site=wikipedia.org\"><span class=\"sitestr\">wikipedia.org</span></a>)</span></td></tr><tr><td colspan=\"2\"></td><td class=\"subtext\">\n",
      "        <span class=\"score\" id=\"score_20771146\">38 points</span> by <a href=\"user?id=andyljones\" class=\"hnuser\">andyljones</a> <span class=\"age\"><a href=\"item?id=20771146\">10 hours ago</a></span> <span id=\"unv_20771146\"></span> | <a href=\"hide?id=20771146&amp;goto=news\">hide</a> | <a href=\"item?id=20771146\">1&nbsp;comment</a>              </td></tr>\n",
      "      <tr class=\"spacer\" style=\"height:5px\"></tr>\n",
      "                <tr class='athing' id='20775825'>\n",
      "      <td align=\"right\" valign=\"top\" class=\"title\"><span class=\"rank\">15.</span></td>      <td valign=\"top\" class=\"votelinks\"><center><a id='up_20775825' href='vote?id=20775825&amp;how=up&amp;goto=news'><div class='votearrow' title='upvote'></div></a></center></td><td class=\"title\"><a href=\"https://www.vice.com/en_us/article/kz483y/scientists-are-discovering-long-lost-rules-for-ancient-board-games\" class=\"storylink\">Rediscovering rules for ancient board games</a><span class=\"sitebit comhead\"> (<a href=\"from?site=vice.com\"><span class=\"sitestr\">vice.com</span></a>)</span></td></tr><tr><td colspan=\"2\"></td><td class=\"subtext\">\n",
      "        <span class=\"score\" id=\"score_20775825\">24 points</span> by <a href=\"user?id=elorant\" class=\"hnuser\">elorant</a> <span class=\"age\"><a href=\"item?id=20775825\">8 hours ago</a></span> <span id=\"unv_20775825\"></span> | <a href=\"hide?id=20775825&amp;goto=news\">hide</a> | <a href=\"item?id=20775825\">6&nbsp;comments</a>              </td></tr>\n",
      "      <tr class=\"spacer\" style=\"height:5px\"></tr>\n",
      "                <tr class='athing' id='20764982'>\n",
      "      <td align=\"right\" valign=\"top\" class=\"title\"><span class=\"rank\">16.</span></td>      <td valign=\"top\" class=\"votelinks\"><center><a id='up_20764982' href='vote?id=20764982&amp;how=up&amp;goto=news'><div class='votearrow' title='upvote'></div></a></center></td><td class=\"title\"><a href=\"https://dttw.tech/posts/SJ40_7MNS\" class=\"storylink\">DEF CON 2019 – CTF Retrospective</a><span class=\"sitebit comhead\"> (<a href=\"from?site=dttw.tech\"><span class=\"sitestr\">dttw.tech</span></a>)</span></td></tr><tr><td colspan=\"2\"></td><td class=\"subtext\">\n",
      "        <span class=\"score\" id=\"score_20764982\">64 points</span> by <a href=\"user?id=jaybosamiya\" class=\"hnuser\">jaybosamiya</a> <span class=\"age\"><a href=\"item?id=20764982\">11 hours ago</a></span> <span id=\"unv_20764982\"></span> | <a href=\"hide?id=20764982&amp;goto=news\">hide</a> | <a href=\"item?id=20764982\">4&nbsp;comments</a>              </td></tr>\n",
      "      <tr class=\"spacer\" style=\"height:5px\"></tr>\n",
      "                <tr class='athing' id='20784742'>\n",
      "      <td align=\"right\" valign=\"top\" class=\"title\"><span class=\"rank\">17.</span></td>      <td valign=\"top\" class=\"votelinks\"><center><a id='up_20784742' href='vote?id=20784742&amp;how=up&amp;goto=news'><div class='votearrow' title='upvote'></div></a></center></td><td class=\"title\"><a href=\"https://blog.acolyer.org/2019/08/21/statistical-foundations-of-virtual-democracy/\" class=\"storylink\">Statistical foundations of virtual democracy</a><span class=\"sitebit comhead\"> (<a href=\"from?site=acolyer.org\"><span class=\"sitestr\">acolyer.org</span></a>)</span></td></tr><tr><td colspan=\"2\"></td><td class=\"subtext\">\n",
      "        <span class=\"score\" id=\"score_20784742\">26 points</span> by <a href=\"user?id=telotortium\" class=\"hnuser\">telotortium</a> <span class=\"age\"><a href=\"item?id=20784742\">8 hours ago</a></span> <span id=\"unv_20784742\"></span> | <a href=\"hide?id=20784742&amp;goto=news\">hide</a> | <a href=\"item?id=20784742\">2&nbsp;comments</a>              </td></tr>\n",
      "      <tr class=\"spacer\" style=\"height:5px\"></tr>\n",
      "                <tr class='athing' id='20776437'>\n",
      "      <td align=\"right\" valign=\"top\" class=\"title\"><span class=\"rank\">18.</span></td>      <td valign=\"top\" class=\"votelinks\"><center><a id='up_20776437' href='vote?id=20776437&amp;how=up&amp;goto=news'><div class='votearrow' title='upvote'></div></a></center></td><td class=\"title\"><a href=\"https://en.wikipedia.org/wiki/Geneva_Freeport\" class=\"storylink\" rel=\"nofollow\">Geneva Freeport</a><span class=\"sitebit comhead\"> (<a href=\"from?site=wikipedia.org\"><span class=\"sitestr\">wikipedia.org</span></a>)</span></td></tr><tr><td colspan=\"2\"></td><td class=\"subtext\">\n",
      "        <span class=\"score\" id=\"score_20776437\">10 points</span> by <a href=\"user?id=ausbah\" class=\"hnuser\">ausbah</a> <span class=\"age\"><a href=\"item?id=20776437\">3 hours ago</a></span> <span id=\"unv_20776437\"></span> | <a href=\"hide?id=20776437&amp;goto=news\">hide</a> | <a href=\"item?id=20776437\">3&nbsp;comments</a>              </td></tr>\n",
      "      <tr class=\"spacer\" style=\"height:5px\"></tr>\n",
      "                <tr class='athing' id='20782869'>\n",
      "      <td align=\"right\" valign=\"top\" class=\"title\"><span class=\"rank\">19.</span></td>      <td valign=\"top\" class=\"votelinks\"><center><a id='up_20782869' href='vote?id=20782869&amp;how=up&amp;goto=news'><div class='votearrow' title='upvote'></div></a></center></td><td class=\"title\"><a href=\"https://www.scientificamerican.com/article/phytoplankton-population/\" class=\"storylink\">Phytoplankton Population Drops 40 Percent Since 1950 (2010)</a><span class=\"sitebit comhead\"> (<a href=\"from?site=scientificamerican.com\"><span class=\"sitestr\">scientificamerican.com</span></a>)</span></td></tr><tr><td colspan=\"2\"></td><td class=\"subtext\">\n",
      "        <span class=\"score\" id=\"score_20782869\">128 points</span> by <a href=\"user?id=yusufaytas\" class=\"hnuser\">yusufaytas</a> <span class=\"age\"><a href=\"item?id=20782869\">13 hours ago</a></span> <span id=\"unv_20782869\"></span> | <a href=\"hide?id=20782869&amp;goto=news\">hide</a> | <a href=\"item?id=20782869\">55&nbsp;comments</a>              </td></tr>\n",
      "      <tr class=\"spacer\" style=\"height:5px\"></tr>\n",
      "                <tr class='athing' id='20782854'>\n",
      "      <td align=\"right\" valign=\"top\" class=\"title\"><span class=\"rank\">20.</span></td>      <td valign=\"top\" class=\"votelinks\"><center><a id='up_20782854' href='vote?id=20782854&amp;how=up&amp;goto=news'><div class='votearrow' title='upvote'></div></a></center></td><td class=\"title\"><a href=\"https://melmagazine.com/en-us/story/super-soaker-oral-history\" class=\"storylink\">The Oral History of the Super Soaker</a><span class=\"sitebit comhead\"> (<a href=\"from?site=melmagazine.com\"><span class=\"sitestr\">melmagazine.com</span></a>)</span></td></tr><tr><td colspan=\"2\"></td><td class=\"subtext\">\n",
      "        <span class=\"score\" id=\"score_20782854\">46 points</span> by <a href=\"user?id=ohjeez\" class=\"hnuser\">ohjeez</a> <span class=\"age\"><a href=\"item?id=20782854\">11 hours ago</a></span> <span id=\"unv_20782854\"></span> | <a href=\"hide?id=20782854&amp;goto=news\">hide</a> | <a href=\"item?id=20782854\">19&nbsp;comments</a>              </td></tr>\n",
      "      <tr class=\"spacer\" style=\"height:5px\"></tr>\n",
      "                <tr class='athing' id='20785100'>\n",
      "      <td align=\"right\" valign=\"top\" class=\"title\"><span class=\"rank\">21.</span></td>      <td valign=\"top\" class=\"votelinks\"><center><a id='up_20785100' href='vote?id=20785100&amp;how=up&amp;goto=news'><div class='votearrow' title='upvote'></div></a></center></td><td class=\"title\"><a href=\"https://techcrunch.com/2019/08/23/vape-lung-has-claimed-its-first-victim-and-the-cdc-is-investigating/\" class=\"storylink\">A person has died from a vaping-related condition</a><span class=\"sitebit comhead\"> (<a href=\"from?site=techcrunch.com\"><span class=\"sitestr\">techcrunch.com</span></a>)</span></td></tr><tr><td colspan=\"2\"></td><td class=\"subtext\">\n",
      "        <span class=\"score\" id=\"score_20785100\">57 points</span> by <a href=\"user?id=amanzi\" class=\"hnuser\">amanzi</a> <span class=\"age\"><a href=\"item?id=20785100\">7 hours ago</a></span> <span id=\"unv_20785100\"></span> | <a href=\"hide?id=20785100&amp;goto=news\">hide</a> | <a href=\"item?id=20785100\">53&nbsp;comments</a>              </td></tr>\n",
      "      <tr class=\"spacer\" style=\"height:5px\"></tr>\n",
      "                <tr class='athing' id='20785733'>\n",
      "      <td align=\"right\" valign=\"top\" class=\"title\"><span class=\"rank\">22.</span></td>      <td valign=\"top\" class=\"votelinks\"><center><a id='up_20785733' href='vote?id=20785733&amp;how=up&amp;goto=news'><div class='votearrow' title='upvote'></div></a></center></td><td class=\"title\"><a href=\"https://www.outsideonline.com/palmerston-atoll-island-climate-change\" class=\"storylink\" rel=\"nofollow\">Welcome to Palmerston Island, Population 35</a><span class=\"sitebit comhead\"> (<a href=\"from?site=outsideonline.com\"><span class=\"sitestr\">outsideonline.com</span></a>)</span></td></tr><tr><td colspan=\"2\"></td><td class=\"subtext\">\n",
      "        <span class=\"score\" id=\"score_20785733\">4 points</span> by <a href=\"user?id=80mph\" class=\"hnuser\">80mph</a> <span class=\"age\"><a href=\"item?id=20785733\">3 hours ago</a></span> <span id=\"unv_20785733\"></span> | <a href=\"hide?id=20785733&amp;goto=news\">hide</a> | <a href=\"item?id=20785733\">discuss</a>              </td></tr>\n",
      "      <tr class=\"spacer\" style=\"height:5px\"></tr>\n",
      "                <tr class='athing' id='20784961'>\n",
      "      <td align=\"right\" valign=\"top\" class=\"title\"><span class=\"rank\">23.</span></td>      <td valign=\"top\" class=\"votelinks\"><center><a id='up_20784961' href='vote?id=20784961&amp;how=up&amp;goto=news'><div class='votearrow' title='upvote'></div></a></center></td><td class=\"title\"><a href=\"https://susam.in/blog/adac-and-he-puzzles-from-geb/\" class=\"storylink\">ADAC and HE Puzzles from GEB (2009)</a><span class=\"sitebit comhead\"> (<a href=\"from?site=susam.in\"><span class=\"sitestr\">susam.in</span></a>)</span></td></tr><tr><td colspan=\"2\"></td><td class=\"subtext\">\n",
      "        <span class=\"score\" id=\"score_20784961\">16 points</span> by <a href=\"user?id=mycask\" class=\"hnuser\">mycask</a> <span class=\"age\"><a href=\"item?id=20784961\">7 hours ago</a></span> <span id=\"unv_20784961\"></span> | <a href=\"hide?id=20784961&amp;goto=news\">hide</a> | <a href=\"item?id=20784961\">1&nbsp;comment</a>              </td></tr>\n",
      "      <tr class=\"spacer\" style=\"height:5px\"></tr>\n",
      "                <tr class='athing' id='20776120'>\n",
      "      <td align=\"right\" valign=\"top\" class=\"title\"><span class=\"rank\">24.</span></td>      <td valign=\"top\" class=\"votelinks\"><center><a id='up_20776120' href='vote?id=20776120&amp;how=up&amp;goto=news'><div class='votearrow' title='upvote'></div></a></center></td><td class=\"title\"><a href=\"https://www.theatlantic.com/ideas/archive/2019/08/death-college-newspapers/595849/\" class=\"storylink\">The Decline of College Newspapers</a><span class=\"sitebit comhead\"> (<a href=\"from?site=theatlantic.com\"><span class=\"sitestr\">theatlantic.com</span></a>)</span></td></tr><tr><td colspan=\"2\"></td><td class=\"subtext\">\n",
      "        <span class=\"score\" id=\"score_20776120\">56 points</span> by <a href=\"user?id=pseudolus\" class=\"hnuser\">pseudolus</a> <span class=\"age\"><a href=\"item?id=20776120\">14 hours ago</a></span> <span id=\"unv_20776120\"></span> | <a href=\"hide?id=20776120&amp;goto=news\">hide</a> | <a href=\"item?id=20776120\">19&nbsp;comments</a>              </td></tr>\n",
      "      <tr class=\"spacer\" style=\"height:5px\"></tr>\n",
      "                <tr class='athing' id='20785882'>\n",
      "      <td align=\"right\" valign=\"top\" class=\"title\"><span class=\"rank\">25.</span></td>      <td valign=\"top\" class=\"votelinks\"><center><a id='up_20785882' href='vote?id=20785882&amp;how=up&amp;goto=news'><div class='votearrow' title='upvote'></div></a></center></td><td class=\"title\"><a href=\"https://www.scientificamerican.com/article/misinformation-has-created-a-new-world-disorder/\" class=\"storylink\">Misinformation Has Created a New World Disorder</a><span class=\"sitebit comhead\"> (<a href=\"from?site=scientificamerican.com\"><span class=\"sitestr\">scientificamerican.com</span></a>)</span></td></tr><tr><td colspan=\"2\"></td><td class=\"subtext\">\n",
      "        <span class=\"score\" id=\"score_20785882\">32 points</span> by <a href=\"user?id=kaisix\" class=\"hnuser\">kaisix</a> <span class=\"age\"><a href=\"item?id=20785882\">3 hours ago</a></span> <span id=\"unv_20785882\"></span> | <a href=\"hide?id=20785882&amp;goto=news\">hide</a> | <a href=\"item?id=20785882\">20&nbsp;comments</a>              </td></tr>\n",
      "      <tr class=\"spacer\" style=\"height:5px\"></tr>\n",
      "                <tr class='athing' id='20784578'>\n",
      "      <td align=\"right\" valign=\"top\" class=\"title\"><span class=\"rank\">26.</span></td>      <td valign=\"top\" class=\"votelinks\"><center><a id='up_20784578' href='vote?id=20784578&amp;how=up&amp;goto=news'><div class='votearrow' title='upvote'></div></a></center></td><td class=\"title\"><a href=\"https://www.bloomberg.com/news/articles/2019-04-14/the-18-billion-electric-car-bubble-at-risk-of-bursting-in-china\" class=\"storylink\">The $18B Electric-Car Bubble at Risk of Bursting in China</a><span class=\"sitebit comhead\"> (<a href=\"from?site=bloomberg.com\"><span class=\"sitestr\">bloomberg.com</span></a>)</span></td></tr><tr><td colspan=\"2\"></td><td class=\"subtext\">\n",
      "        <span class=\"score\" id=\"score_20784578\">65 points</span> by <a href=\"user?id=kristianp\" class=\"hnuser\">kristianp</a> <span class=\"age\"><a href=\"item?id=20784578\">9 hours ago</a></span> <span id=\"unv_20784578\"></span> | <a href=\"hide?id=20784578&amp;goto=news\">hide</a> | <a href=\"item?id=20784578\">30&nbsp;comments</a>              </td></tr>\n",
      "      <tr class=\"spacer\" style=\"height:5px\"></tr>\n",
      "                <tr class='athing' id='20782731'>\n",
      "      <td align=\"right\" valign=\"top\" class=\"title\"><span class=\"rank\">27.</span></td>      <td valign=\"top\" class=\"votelinks\"><center><a id='up_20782731' href='vote?id=20782731&amp;how=up&amp;goto=news'><div class='votearrow' title='upvote'></div></a></center></td><td class=\"title\"><a href=\"https://web.stanford.edu/~boyd/vmls/vmls.pdf\" class=\"storylink\">Introduction to Applied Linear Algebra Vectors, Matrices, and Least Squares [pdf]</a><span class=\"sitebit comhead\"> (<a href=\"from?site=stanford.edu\"><span class=\"sitestr\">stanford.edu</span></a>)</span></td></tr><tr><td colspan=\"2\"></td><td class=\"subtext\">\n",
      "        <span class=\"score\" id=\"score_20782731\">33 points</span> by <a href=\"user?id=Anon84\" class=\"hnuser\">Anon84</a> <span class=\"age\"><a href=\"item?id=20782731\">13 hours ago</a></span> <span id=\"unv_20782731\"></span> | <a href=\"hide?id=20782731&amp;goto=news\">hide</a> | <a href=\"item?id=20782731\">3&nbsp;comments</a>              </td></tr>\n",
      "      <tr class=\"spacer\" style=\"height:5px\"></tr>\n",
      "                <tr class='athing' id='20776043'>\n",
      "      <td align=\"right\" valign=\"top\" class=\"title\"><span class=\"rank\">28.</span></td>      <td valign=\"top\" class=\"votelinks\"><center><a id='up_20776043' href='vote?id=20776043&amp;how=up&amp;goto=news'><div class='votearrow' title='upvote'></div></a></center></td><td class=\"title\"><a href=\"https://www.bloomberg.com/opinion/articles/2019-08-22/swiss-history-of-negative-interest-rates-is-ugly\" class=\"storylink\">Switzerland Tried Negative Rates in the 1970s</a><span class=\"sitebit comhead\"> (<a href=\"from?site=bloomberg.com\"><span class=\"sitestr\">bloomberg.com</span></a>)</span></td></tr><tr><td colspan=\"2\"></td><td class=\"subtext\">\n",
      "        <span class=\"score\" id=\"score_20776043\">50 points</span> by <a href=\"user?id=pseudolus\" class=\"hnuser\">pseudolus</a> <span class=\"age\"><a href=\"item?id=20776043\">5 hours ago</a></span> <span id=\"unv_20776043\"></span> | <a href=\"hide?id=20776043&amp;goto=news\">hide</a> | <a href=\"item?id=20776043\">42&nbsp;comments</a>              </td></tr>\n",
      "      <tr class=\"spacer\" style=\"height:5px\"></tr>\n",
      "                <tr class='athing' id='20785787'>\n",
      "      <td align=\"right\" valign=\"top\" class=\"title\"><span class=\"rank\">29.</span></td>      <td></td><td class=\"title\"><a href=\"http://www.atomwise.com/jobs/senior-machine-learning-research-scientist/\" class=\"storylink\" rel=\"nofollow\">Atomwise (YC W15) Is Hiring a Senior Machine Learning Research Scientist</a><span class=\"sitebit comhead\"> (<a href=\"from?site=atomwise.com\"><span class=\"sitestr\">atomwise.com</span></a>)</span></td></tr><tr><td colspan=\"2\"></td><td class=\"subtext\">\n",
      "        <span class=\"age\"><a href=\"item?id=20785787\">3 hours ago</a></span> | <a href=\"hide?id=20785787&amp;goto=news\">hide</a>      </td></tr>\n",
      "      <tr class=\"spacer\" style=\"height:5px\"></tr>\n",
      "                <tr class='athing' id='20782239'>\n",
      "      <td align=\"right\" valign=\"top\" class=\"title\"><span class=\"rank\">30.</span></td>      <td valign=\"top\" class=\"votelinks\"><center><a id='up_20782239' href='vote?id=20782239&amp;how=up&amp;goto=news'><div class='votearrow' title='upvote'></div></a></center></td><td class=\"title\"><a href=\"https://www.poetryfoundation.org/articles/150614/the-family-affair\" class=\"storylink\" rel=\"nofollow\">The Family Affair</a><span class=\"sitebit comhead\"> (<a href=\"from?site=poetryfoundation.org\"><span class=\"sitestr\">poetryfoundation.org</span></a>)</span></td></tr><tr><td colspan=\"2\"></td><td class=\"subtext\">\n",
      "        <span class=\"score\" id=\"score_20782239\">5 points</span> by <a href=\"user?id=80mph\" class=\"hnuser\">80mph</a> <span class=\"age\"><a href=\"item?id=20782239\">4 hours ago</a></span> <span id=\"unv_20782239\"></span> | <a href=\"hide?id=20782239&amp;goto=news\">hide</a> | <a href=\"item?id=20782239\">discuss</a>              </td></tr>\n",
      "      <tr class=\"spacer\" style=\"height:5px\"></tr>\n",
      "            <tr class=\"morespace\" style=\"height:10px\"></tr><tr><td colspan=\"2\"></td><td class=\"title\"><a href=\"news?p=2\" class=\"morelink\" rel=\"next\">More</a></td></tr>\n",
      "  </table>\n",
      "</td></tr>\n",
      "<tr><td><img src=\"s.gif\" height=\"10\" width=\"0\"><table width=\"100%\" cellspacing=\"0\" cellpadding=\"1\"><tr><td bgcolor=\"#ff6600\"></td></tr></table><br><center><span class=\"yclinks\"><a href=\"newsguidelines.html\">Guidelines</a>\n",
      "        | <a href=\"newsfaq.html\">FAQ</a>\n",
      "        | <a href=\"mailto:hn@ycombinator.com\">Support</a>\n",
      "        | <a href=\"https://github.com/HackerNews/API\">API</a>\n",
      "        | <a href=\"security.html\">Security</a>\n",
      "        | <a href=\"lists\">Lists</a>\n",
      "        | <a href=\"bookmarklet.html\" rel=\"nofollow\">Bookmarklet</a>\n",
      "        | <a href=\"http://www.ycombinator.com/legal/\">Legal</a>\n",
      "        | <a href=\"http://www.ycombinator.com/apply/\">Apply to YC</a>\n",
      "        | <a href=\"mailto:hn@ycombinator.com\">Contact</a></span><br><br><form method=\"get\" action=\"//hn.algolia.com/\">Search:\n",
      "          <input type=\"text\" name=\"q\" value=\"\" size=\"17\" autocorrect=\"off\" spellcheck=\"false\" autocapitalize=\"off\" autocomplete=\"false\"></form>\n",
      "            </center></td></tr>\n",
      "      </table></center></body><script type='text/javascript' src='hn.js?M7JnhV0U0Z5X29uiXuys'></script>\n",
      "  </html>\n",
      "\n"
     ]
    }
   ],
   "source": [
    "import requests\n",
    "\n",
    "# Fetch a web page\n",
    "r = requests.get(\"https://news.ycombinator.com\")\n",
    "print(r.text)"
   ]
  },
  {
   "cell_type": "code",
   "execution_count": 7,
   "metadata": {},
   "outputs": [
    {
     "name": "stdout",
     "output_type": "stream",
     "text": [
      "\n",
      "            \n",
      "          \n",
      "        Hacker News\n",
      "        \n",
      "                  Hacker News\n",
      "              new | past | comments | ask | show | jobs | submit            \n",
      "                              login\n",
      "                          \n",
      "              \n",
      "\n",
      "              \n",
      "      1.      Introducing nushell (jonathanturner.org)\n",
      "        1100 points by bradleybuda 13 hours ago  | hide | 247&nbsp;comments              \n",
      "      \n",
      "                \n",
      "      2.      Consume less, create more (tjcx.me)\n",
      "        375 points by tomjcleveland 15 hours ago  | hide | 108&nbsp;comments              \n",
      "      \n",
      "                \n",
      "      3.      Datadog S-1 (sec.gov)\n",
      "        367 points by jonknee 15 hours ago  | hide | 87&nbsp;comments              \n",
      "      \n",
      "                \n",
      "      4.      Now Bigger Than eBay, Shopify Sets Its Sights on Amazon (ft.com)\n",
      "        211 points by tim333 15 hours ago  | hide | 115&nbsp;comments              \n",
      "      \n",
      "                \n",
      "      5.      JavaScript: The Modern Parts (amontalenti.com)\n",
      "        77 points by janvdberg 4 hours ago  | hide | 36&nbsp;comments              \n",
      "      \n",
      "                \n",
      "      6.      How to become a great impostor (theconversation.com)\n",
      "        91 points by onemind 8 hours ago  | hide | 15&nbsp;comments              \n",
      "      \n",
      "                \n",
      "      7.      How to return to the flow faster (codejamming.org)\n",
      "        248 points by ribtoks 16 hours ago  | hide | 54&nbsp;comments              \n",
      "      \n",
      "                \n",
      "      8.      Deconstructing Google’s excuses on tracking protection (freedom-to-tinker.com)\n",
      "        740 points by randomwalker 17 hours ago  | hide | 194&nbsp;comments              \n",
      "      \n",
      "                \n",
      "      9.      Ask HN: What's the best setup for ad blocking and tracker blocking?\n",
      "        148 points by whitepoplar 12 hours ago  | hide | 87&nbsp;comments              \n",
      "      \n",
      "                \n",
      "      10.      WiringPi – deprecated (wiringpi.com)\n",
      "        175 points by kbumsik 13 hours ago  | hide | 100&nbsp;comments              \n",
      "      \n",
      "                \n",
      "      11.      Best books to learn about manufacturing (booksmartest.com)\n",
      "        54 points by danmendes 9 hours ago  | hide | 7&nbsp;comments              \n",
      "      \n",
      "                \n",
      "      12.      Fertility Fraud: Artificial insemination doctors who used their own sperm (nytimes.com)\n",
      "        10 points by turtlegrids 2 hours ago  | hide | 7&nbsp;comments              \n",
      "      \n",
      "                \n",
      "      13.      An Afternoon in Tokyo with the Man Who Designs Casio G-Shock Watches (2017) (ablogtowatch.com)\n",
      "        105 points by bookofjoe 13 hours ago  | hide | 49&nbsp;comments              \n",
      "      \n",
      "                \n",
      "      14.      Albert Stevens (wikipedia.org)\n",
      "        38 points by andyljones 10 hours ago  | hide | 1&nbsp;comment              \n",
      "      \n",
      "                \n",
      "      15.      Rediscovering rules for ancient board games (vice.com)\n",
      "        24 points by elorant 8 hours ago  | hide | 6&nbsp;comments              \n",
      "      \n",
      "                \n",
      "      16.      DEF CON 2019 – CTF Retrospective (dttw.tech)\n",
      "        64 points by jaybosamiya 11 hours ago  | hide | 4&nbsp;comments              \n",
      "      \n",
      "                \n",
      "      17.      Statistical foundations of virtual democracy (acolyer.org)\n",
      "        26 points by telotortium 8 hours ago  | hide | 2&nbsp;comments              \n",
      "      \n",
      "                \n",
      "      18.      Geneva Freeport (wikipedia.org)\n",
      "        10 points by ausbah 3 hours ago  | hide | 3&nbsp;comments              \n",
      "      \n",
      "                \n",
      "      19.      Phytoplankton Population Drops 40 Percent Since 1950 (2010) (scientificamerican.com)\n",
      "        128 points by yusufaytas 13 hours ago  | hide | 55&nbsp;comments              \n",
      "      \n",
      "                \n",
      "      20.      The Oral History of the Super Soaker (melmagazine.com)\n",
      "        46 points by ohjeez 11 hours ago  | hide | 19&nbsp;comments              \n",
      "      \n",
      "                \n",
      "      21.      A person has died from a vaping-related condition (techcrunch.com)\n",
      "        57 points by amanzi 7 hours ago  | hide | 53&nbsp;comments              \n",
      "      \n",
      "                \n",
      "      22.      Welcome to Palmerston Island, Population 35 (outsideonline.com)\n",
      "        4 points by 80mph 3 hours ago  | hide | discuss              \n",
      "      \n",
      "                \n",
      "      23.      ADAC and HE Puzzles from GEB (2009) (susam.in)\n",
      "        16 points by mycask 7 hours ago  | hide | 1&nbsp;comment              \n",
      "      \n",
      "                \n",
      "      24.      The Decline of College Newspapers (theatlantic.com)\n",
      "        56 points by pseudolus 14 hours ago  | hide | 19&nbsp;comments              \n",
      "      \n",
      "                \n",
      "      25.      Misinformation Has Created a New World Disorder (scientificamerican.com)\n",
      "        32 points by kaisix 3 hours ago  | hide | 20&nbsp;comments              \n",
      "      \n",
      "                \n",
      "      26.      The $18B Electric-Car Bubble at Risk of Bursting in China (bloomberg.com)\n",
      "        65 points by kristianp 9 hours ago  | hide | 30&nbsp;comments              \n",
      "      \n",
      "                \n",
      "      27.      Introduction to Applied Linear Algebra Vectors, Matrices, and Least Squares [pdf] (stanford.edu)\n",
      "        33 points by Anon84 13 hours ago  | hide | 3&nbsp;comments              \n",
      "      \n",
      "                \n",
      "      28.      Switzerland Tried Negative Rates in the 1970s (bloomberg.com)\n",
      "        50 points by pseudolus 5 hours ago  | hide | 42&nbsp;comments              \n",
      "      \n",
      "                \n",
      "      29.      Atomwise (YC W15) Is Hiring a Senior Machine Learning Research Scientist (atomwise.com)\n",
      "        3 hours ago | hide      \n",
      "      \n",
      "                \n",
      "      30.      The Family Affair (poetryfoundation.org)\n",
      "        5 points by 80mph 4 hours ago  | hide | discuss              \n",
      "      \n",
      "            More\n",
      "  \n",
      "\n",
      "Guidelines\n",
      "        | FAQ\n",
      "        | Support\n",
      "        | API\n",
      "        | Security\n",
      "        | Lists\n",
      "        | Bookmarklet\n",
      "        | Legal\n",
      "        | Apply to YC\n",
      "        | ContactSearch:\n",
      "          \n",
      "            \n",
      "      \n",
      "  \n",
      "\n"
     ]
    }
   ],
   "source": [
    "import re\n",
    "\n",
    "# Remove HTML tags using RegEx\n",
    "pattern = re.compile(r'<.*?>')  # tags look like <...>\n",
    "print(pattern.sub('', r.text))  # replace them with blank"
   ]
  },
  {
   "cell_type": "code",
   "execution_count": 8,
   "metadata": {},
   "outputs": [
    {
     "name": "stdout",
     "output_type": "stream",
     "text": [
      "\n",
      "            \n",
      "          \n",
      "        Hacker News\n",
      "        \n",
      "                  Hacker News\n",
      "              new | past | comments | ask | show | jobs | submit            \n",
      "                              login\n",
      "                          \n",
      "              \n",
      "\n",
      "              \n",
      "      1.      Introducing nushell (jonathanturner.org)\n",
      "        1100 points by bradleybuda 13 hours ago  | hide | 247 comments              \n",
      "      \n",
      "                \n",
      "      2.      Consume less, create more (tjcx.me)\n",
      "        375 points by tomjcleveland 15 hours ago  | hide | 108 comments              \n",
      "      \n",
      "                \n",
      "      3.      Datadog S-1 (sec.gov)\n",
      "        367 points by jonknee 15 hours ago  | hide | 87 comments              \n",
      "      \n",
      "                \n",
      "      4.      Now Bigger Than eBay, Shopify Sets Its Sights on Amazon (ft.com)\n",
      "        211 points by tim333 15 hours ago  | hide | 115 comments              \n",
      "      \n",
      "                \n",
      "      5.      JavaScript: The Modern Parts (amontalenti.com)\n",
      "        77 points by janvdberg 4 hours ago  | hide | 36 comments              \n",
      "      \n",
      "                \n",
      "      6.      How to become a great impostor (theconversation.com)\n",
      "        91 points by onemind 8 hours ago  | hide | 15 comments              \n",
      "      \n",
      "                \n",
      "      7.      How to return to the flow faster (codejamming.org)\n",
      "        248 points by ribtoks 16 hours ago  | hide | 54 comments              \n",
      "      \n",
      "                \n",
      "      8.      Deconstructing Google’s excuses on tracking protection (freedom-to-tinker.com)\n",
      "        740 points by randomwalker 17 hours ago  | hide | 194 comments              \n",
      "      \n",
      "                \n",
      "      9.      Ask HN: What's the best setup for ad blocking and tracker blocking?\n",
      "        148 points by whitepoplar 12 hours ago  | hide | 87 comments              \n",
      "      \n",
      "                \n",
      "      10.      WiringPi – deprecated (wiringpi.com)\n",
      "        175 points by kbumsik 13 hours ago  | hide | 100 comments              \n",
      "      \n",
      "                \n",
      "      11.      Best books to learn about manufacturing (booksmartest.com)\n",
      "        54 points by danmendes 9 hours ago  | hide | 7 comments              \n",
      "      \n",
      "                \n",
      "      12.      Fertility Fraud: Artificial insemination doctors who used their own sperm (nytimes.com)\n",
      "        10 points by turtlegrids 2 hours ago  | hide | 7 comments              \n",
      "      \n",
      "                \n",
      "      13.      An Afternoon in Tokyo with the Man Who Designs Casio G-Shock Watches (2017) (ablogtowatch.com)\n",
      "        105 points by bookofjoe 13 hours ago  | hide | 49 comments              \n",
      "      \n",
      "                \n",
      "      14.      Albert Stevens (wikipedia.org)\n",
      "        38 points by andyljones 10 hours ago  | hide | 1 comment              \n",
      "      \n",
      "                \n",
      "      15.      Rediscovering rules for ancient board games (vice.com)\n",
      "        24 points by elorant 8 hours ago  | hide | 6 comments              \n",
      "      \n",
      "                \n",
      "      16.      DEF CON 2019 – CTF Retrospective (dttw.tech)\n",
      "        64 points by jaybosamiya 11 hours ago  | hide | 4 comments              \n",
      "      \n",
      "                \n",
      "      17.      Statistical foundations of virtual democracy (acolyer.org)\n",
      "        26 points by telotortium 8 hours ago  | hide | 2 comments              \n",
      "      \n",
      "                \n",
      "      18.      Geneva Freeport (wikipedia.org)\n",
      "        10 points by ausbah 3 hours ago  | hide | 3 comments              \n",
      "      \n",
      "                \n",
      "      19.      Phytoplankton Population Drops 40 Percent Since 1950 (2010) (scientificamerican.com)\n",
      "        128 points by yusufaytas 13 hours ago  | hide | 55 comments              \n",
      "      \n",
      "                \n",
      "      20.      The Oral History of the Super Soaker (melmagazine.com)\n",
      "        46 points by ohjeez 11 hours ago  | hide | 19 comments              \n",
      "      \n",
      "                \n",
      "      21.      A person has died from a vaping-related condition (techcrunch.com)\n",
      "        57 points by amanzi 7 hours ago  | hide | 53 comments              \n",
      "      \n",
      "                \n",
      "      22.      Welcome to Palmerston Island, Population 35 (outsideonline.com)\n",
      "        4 points by 80mph 3 hours ago  | hide | discuss              \n",
      "      \n",
      "                \n",
      "      23.      ADAC and HE Puzzles from GEB (2009) (susam.in)\n",
      "        16 points by mycask 7 hours ago  | hide | 1 comment              \n",
      "      \n",
      "                \n",
      "      24.      The Decline of College Newspapers (theatlantic.com)\n",
      "        56 points by pseudolus 14 hours ago  | hide | 19 comments              \n",
      "      \n",
      "                \n",
      "      25.      Misinformation Has Created a New World Disorder (scientificamerican.com)\n",
      "        32 points by kaisix 3 hours ago  | hide | 20 comments              \n",
      "      \n",
      "                \n",
      "      26.      The $18B Electric-Car Bubble at Risk of Bursting in China (bloomberg.com)\n",
      "        65 points by kristianp 9 hours ago  | hide | 30 comments              \n",
      "      \n",
      "                \n",
      "      27.      Introduction to Applied Linear Algebra Vectors, Matrices, and Least Squares [pdf] (stanford.edu)\n",
      "        33 points by Anon84 13 hours ago  | hide | 3 comments              \n",
      "      \n",
      "                \n",
      "      28.      Switzerland Tried Negative Rates in the 1970s (bloomberg.com)\n",
      "        50 points by pseudolus 5 hours ago  | hide | 42 comments              \n",
      "      \n",
      "                \n",
      "      29.      Atomwise (YC W15) Is Hiring a Senior Machine Learning Research Scientist (atomwise.com)\n",
      "        3 hours ago | hide      \n",
      "      \n",
      "                \n",
      "      30.      The Family Affair (poetryfoundation.org)\n",
      "        5 points by 80mph 4 hours ago  | hide | discuss              \n",
      "      \n",
      "            More\n",
      "  \n",
      "\n",
      "Guidelines\n",
      "        | FAQ\n",
      "        | Support\n",
      "        | API\n",
      "        | Security\n",
      "        | Lists\n",
      "        | Bookmarklet\n",
      "        | Legal\n",
      "        | Apply to YC\n",
      "        | ContactSearch:\n",
      "          \n",
      "            \n",
      "      \n",
      "  \n",
      "\n"
     ]
    }
   ],
   "source": [
    "from bs4 import BeautifulSoup\n",
    "\n",
    "# Remove HTML tags using Beautiful Soup library\n",
    "soup = BeautifulSoup(r.text, \"html5lib\")\n",
    "print(soup.get_text())"
   ]
  },
  {
   "cell_type": "code",
   "execution_count": 9,
   "metadata": {
    "scrolled": true
   },
   "outputs": [
    {
     "data": {
      "text/plain": [
       "<tr class=\"athing\" id=\"20783006\">\n",
       "      <td align=\"right\" class=\"title\" valign=\"top\"><span class=\"rank\">1.</span></td>      <td class=\"votelinks\" valign=\"top\"><center><a href=\"vote?id=20783006&amp;how=up&amp;goto=news\" id=\"up_20783006\"><div class=\"votearrow\" title=\"upvote\"></div></a></center></td><td class=\"title\"><a class=\"storylink\" href=\"http://www.jonathanturner.org/2019/08/introducing-nushell.html\">Introducing nushell</a><span class=\"sitebit comhead\"> (<a href=\"from?site=jonathanturner.org\"><span class=\"sitestr\">jonathanturner.org</span></a>)</span></td></tr>"
      ]
     },
     "execution_count": 9,
     "metadata": {},
     "output_type": "execute_result"
    }
   ],
   "source": [
    "# Find all articles\n",
    "summaries = soup.find_all(\"tr\", class_=\"athing\")\n",
    "summaries[0]"
   ]
  },
  {
   "cell_type": "code",
   "execution_count": 10,
   "metadata": {},
   "outputs": [
    {
     "data": {
      "text/plain": [
       "'Introducing nushell'"
      ]
     },
     "execution_count": 10,
     "metadata": {},
     "output_type": "execute_result"
    }
   ],
   "source": [
    "# Extract title\n",
    "summaries[0].find(\"a\", class_=\"storylink\").get_text().strip()"
   ]
  },
  {
   "cell_type": "code",
   "execution_count": 11,
   "metadata": {},
   "outputs": [
    {
     "name": "stdout",
     "output_type": "stream",
     "text": [
      "30 Article summaries found. Sample:\n",
      "Introducing nushell\n"
     ]
    }
   ],
   "source": [
    "# Find all articles, extract titles\n",
    "articles = []\n",
    "summaries = soup.find_all(\"tr\", class_=\"athing\")\n",
    "for summary in summaries:\n",
    "    title = summary.find(\"a\", class_=\"storylink\").get_text().strip()\n",
    "    articles.append((title))\n",
    "\n",
    "print(len(articles), \"Article summaries found. Sample:\")\n",
    "print(articles[0])"
   ]
  },
  {
   "cell_type": "markdown",
   "metadata": {
    "collapsed": true
   },
   "source": [
    "## Normalization"
   ]
  },
  {
   "cell_type": "markdown",
   "metadata": {},
   "source": [
    "### Case Normalization"
   ]
  },
  {
   "cell_type": "code",
   "execution_count": 12,
   "metadata": {},
   "outputs": [
    {
     "name": "stdout",
     "output_type": "stream",
     "text": [
      "The first time you see The Second Renaissance it may look boring. Look at it at least twice and definitely watch part 2. It will change your view of the matrix. Are the human people the ones who started the war ? Is AI a bad thing ?\n"
     ]
    }
   ],
   "source": [
    "# Sample text\n",
    "text = \"The first time you see The Second Renaissance it may look boring. Look at it at least twice and definitely watch part 2. It will change your view of the matrix. Are the human people the ones who started the war ? Is AI a bad thing ?\"\n",
    "print(text)"
   ]
  },
  {
   "cell_type": "code",
   "execution_count": 13,
   "metadata": {},
   "outputs": [
    {
     "name": "stdout",
     "output_type": "stream",
     "text": [
      "the first time you see the second renaissance it may look boring. look at it at least twice and definitely watch part 2. it will change your view of the matrix. are the human people the ones who started the war ? is ai a bad thing ?\n"
     ]
    }
   ],
   "source": [
    "# Convert to lowercase\n",
    "text = text.lower() \n",
    "print(text)"
   ]
  },
  {
   "cell_type": "markdown",
   "metadata": {},
   "source": [
    "### Punctuation Removal"
   ]
  },
  {
   "cell_type": "code",
   "execution_count": 14,
   "metadata": {},
   "outputs": [
    {
     "name": "stdout",
     "output_type": "stream",
     "text": [
      "the first time you see the second renaissance it may look boring  look at it at least twice and definitely watch part 2  it will change your view of the matrix  are the human people the ones who started the war   is ai a bad thing  \n"
     ]
    }
   ],
   "source": [
    "import re\n",
    "\n",
    "# Remove punctuation characters\n",
    "text = re.sub(r\"[^a-zA-Z0-9]\", \" \", text) \n",
    "print(text)"
   ]
  },
  {
   "cell_type": "markdown",
   "metadata": {},
   "source": [
    "## Tokenization"
   ]
  },
  {
   "cell_type": "code",
   "execution_count": 15,
   "metadata": {},
   "outputs": [
    {
     "name": "stdout",
     "output_type": "stream",
     "text": [
      "['the', 'first', 'time', 'you', 'see', 'the', 'second', 'renaissance', 'it', 'may', 'look', 'boring', 'look', 'at', 'it', 'at', 'least', 'twice', 'and', 'definitely', 'watch', 'part', '2', 'it', 'will', 'change', 'your', 'view', 'of', 'the', 'matrix', 'are', 'the', 'human', 'people', 'the', 'ones', 'who', 'started', 'the', 'war', 'is', 'ai', 'a', 'bad', 'thing']\n"
     ]
    }
   ],
   "source": [
    "# Split text into tokens (words)\n",
    "words = text.split()\n",
    "print(words)"
   ]
  },
  {
   "cell_type": "markdown",
   "metadata": {},
   "source": [
    "### NLTK: Natural Language ToolKit"
   ]
  },
  {
   "cell_type": "code",
   "execution_count": 16,
   "metadata": {},
   "outputs": [],
   "source": [
    "import os\n",
    "import nltk\n",
    "nltk.data.path.append(os.path.join(os.getcwd(), \"nltk_data\"))"
   ]
  },
  {
   "cell_type": "code",
   "execution_count": 17,
   "metadata": {},
   "outputs": [
    {
     "name": "stdout",
     "output_type": "stream",
     "text": [
      "Dr. Smith graduated from the University of Washington. He later started an analytics firm called Lux, which catered to enterprise customers.\n"
     ]
    }
   ],
   "source": [
    "# Another sample text\n",
    "text = \"Dr. Smith graduated from the University of Washington. He later started an analytics firm called Lux, which catered to enterprise customers.\"\n",
    "print(text)"
   ]
  },
  {
   "cell_type": "code",
   "execution_count": 18,
   "metadata": {},
   "outputs": [
    {
     "name": "stdout",
     "output_type": "stream",
     "text": [
      "['Dr.', 'Smith', 'graduated', 'from', 'the', 'University', 'of', 'Washington', '.', 'He', 'later', 'started', 'an', 'analytics', 'firm', 'called', 'Lux', ',', 'which', 'catered', 'to', 'enterprise', 'customers', '.']\n"
     ]
    }
   ],
   "source": [
    "from nltk.tokenize import word_tokenize\n",
    "\n",
    "# Split text into words using NLTK\n",
    "words = word_tokenize(text)\n",
    "print(words)"
   ]
  },
  {
   "cell_type": "code",
   "execution_count": 19,
   "metadata": {},
   "outputs": [
    {
     "name": "stdout",
     "output_type": "stream",
     "text": [
      "['Dr. Smith graduated from the University of Washington.', 'He later started an analytics firm called Lux, which catered to enterprise customers.']\n"
     ]
    }
   ],
   "source": [
    "from nltk.tokenize import sent_tokenize\n",
    "\n",
    "# Split text into sentences\n",
    "sentences = sent_tokenize(text)\n",
    "print(sentences)"
   ]
  },
  {
   "cell_type": "code",
   "execution_count": 20,
   "metadata": {},
   "outputs": [
    {
     "name": "stdout",
     "output_type": "stream",
     "text": [
      "['i', 'me', 'my', 'myself', 'we', 'our', 'ours', 'ourselves', 'you', \"you're\", \"you've\", \"you'll\", \"you'd\", 'your', 'yours', 'yourself', 'yourselves', 'he', 'him', 'his', 'himself', 'she', \"she's\", 'her', 'hers', 'herself', 'it', \"it's\", 'its', 'itself', 'they', 'them', 'their', 'theirs', 'themselves', 'what', 'which', 'who', 'whom', 'this', 'that', \"that'll\", 'these', 'those', 'am', 'is', 'are', 'was', 'were', 'be', 'been', 'being', 'have', 'has', 'had', 'having', 'do', 'does', 'did', 'doing', 'a', 'an', 'the', 'and', 'but', 'if', 'or', 'because', 'as', 'until', 'while', 'of', 'at', 'by', 'for', 'with', 'about', 'against', 'between', 'into', 'through', 'during', 'before', 'after', 'above', 'below', 'to', 'from', 'up', 'down', 'in', 'out', 'on', 'off', 'over', 'under', 'again', 'further', 'then', 'once', 'here', 'there', 'when', 'where', 'why', 'how', 'all', 'any', 'both', 'each', 'few', 'more', 'most', 'other', 'some', 'such', 'no', 'nor', 'not', 'only', 'own', 'same', 'so', 'than', 'too', 'very', 's', 't', 'can', 'will', 'just', 'don', \"don't\", 'should', \"should've\", 'now', 'd', 'll', 'm', 'o', 're', 've', 'y', 'ain', 'aren', \"aren't\", 'couldn', \"couldn't\", 'didn', \"didn't\", 'doesn', \"doesn't\", 'hadn', \"hadn't\", 'hasn', \"hasn't\", 'haven', \"haven't\", 'isn', \"isn't\", 'ma', 'mightn', \"mightn't\", 'mustn', \"mustn't\", 'needn', \"needn't\", 'shan', \"shan't\", 'shouldn', \"shouldn't\", 'wasn', \"wasn't\", 'weren', \"weren't\", 'won', \"won't\", 'wouldn', \"wouldn't\"]\n"
     ]
    }
   ],
   "source": [
    "# List stop words\n",
    "from nltk.corpus import stopwords\n",
    "print(stopwords.words(\"english\"))"
   ]
  },
  {
   "cell_type": "code",
   "execution_count": 20,
   "metadata": {},
   "outputs": [
    {
     "name": "stdout",
     "output_type": "stream",
     "text": [
      "['the', 'first', 'time', 'you', 'see', 'the', 'second', 'renaissance', 'it', 'may', 'look', 'boring', 'look', 'at', 'it', 'at', 'least', 'twice', 'and', 'definitely', 'watch', 'part', '2', 'it', 'will', 'change', 'your', 'view', 'of', 'the', 'matrix', 'are', 'the', 'human', 'people', 'the', 'ones', 'who', 'started', 'the', 'war', 'is', 'ai', 'a', 'bad', 'thing']\n"
     ]
    }
   ],
   "source": [
    "# Reset text\n",
    "text = \"The first time you see The Second Renaissance it may look boring. Look at it at least twice and definitely watch part 2. It will change your view of the matrix. Are the human people the ones who started the war ? Is AI a bad thing ?\"\n",
    "\n",
    "# Normalize it\n",
    "text = re.sub(r\"[^a-zA-Z0-9]\", \" \", text.lower())\n",
    "\n",
    "# Tokenize it\n",
    "words = text.split()\n",
    "print(words)"
   ]
  },
  {
   "cell_type": "code",
   "execution_count": 21,
   "metadata": {},
   "outputs": [
    {
     "name": "stdout",
     "output_type": "stream",
     "text": [
      "['Dr.', 'Smith', 'graduated', 'University', 'Washington', '.', 'He', 'later', 'started', 'analytics', 'firm', 'called', 'Lux', ',', 'catered', 'enterprise', 'customers', '.']\n"
     ]
    }
   ],
   "source": [
    "# Remove stop words\n",
    "words = [w for w in words if w not in stopwords.words(\"english\")]\n",
    "print(words)"
   ]
  },
  {
   "cell_type": "markdown",
   "metadata": {},
   "source": [
    "### Sentence Parsing"
   ]
  },
  {
   "cell_type": "code",
   "execution_count": 22,
   "metadata": {},
   "outputs": [
    {
     "name": "stdout",
     "output_type": "stream",
     "text": [
      "(S\n",
      "  (NP I)\n",
      "  (VP\n",
      "    (VP (V shot) (NP (Det an) (N elephant)))\n",
      "    (PP (P in) (NP (Det my) (N pajamas)))))\n",
      "(S\n",
      "  (NP I)\n",
      "  (VP\n",
      "    (V shot)\n",
      "    (NP (Det an) (N elephant) (PP (P in) (NP (Det my) (N pajamas))))))\n"
     ]
    }
   ],
   "source": [
    "import nltk\n",
    "\n",
    "# Define a custom grammar\n",
    "my_grammar = nltk.CFG.fromstring(\"\"\"\n",
    "S -> NP VP\n",
    "PP -> P NP\n",
    "NP -> Det N | Det N PP | 'I'\n",
    "VP -> V NP | VP PP\n",
    "Det -> 'an' | 'my'\n",
    "N -> 'elephant' | 'pajamas'\n",
    "V -> 'shot'\n",
    "P -> 'in'\n",
    "\"\"\")\n",
    "parser = nltk.ChartParser(my_grammar)\n",
    "\n",
    "# Parse a sentence\n",
    "sentence = word_tokenize(\"I shot an elephant in my pajamas\")\n",
    "for tree in parser.parse(sentence):\n",
    "    print(tree)"
   ]
  },
  {
   "cell_type": "markdown",
   "metadata": {},
   "source": [
    "## Stemming & Lemmatization\n",
    "\n",
    "### Stemming"
   ]
  },
  {
   "cell_type": "code",
   "execution_count": 23,
   "metadata": {},
   "outputs": [
    {
     "name": "stdout",
     "output_type": "stream",
     "text": [
      "['dr.', 'smith', 'graduat', 'univers', 'washington', '.', 'He', 'later', 'start', 'analyt', 'firm', 'call', 'lux', ',', 'cater', 'enterpris', 'custom', '.']\n"
     ]
    }
   ],
   "source": [
    "from nltk.stem.porter import PorterStemmer\n",
    "\n",
    "# Reduce words to their stems\n",
    "stemmed = [PorterStemmer().stem(w) for w in words]\n",
    "print(stemmed)"
   ]
  },
  {
   "cell_type": "markdown",
   "metadata": {},
   "source": [
    "### Lemmatization"
   ]
  },
  {
   "cell_type": "code",
   "execution_count": 24,
   "metadata": {},
   "outputs": [
    {
     "name": "stdout",
     "output_type": "stream",
     "text": [
      "['Dr.', 'Smith', 'graduated', 'University', 'Washington', '.', 'He', 'later', 'started', 'analytics', 'firm', 'called', 'Lux', ',', 'catered', 'enterprise', 'customer', '.']\n"
     ]
    }
   ],
   "source": [
    "from nltk.stem.wordnet import WordNetLemmatizer\n",
    "\n",
    "# Reduce words to their root form\n",
    "lemmed = [WordNetLemmatizer().lemmatize(w) for w in words]\n",
    "print(lemmed)"
   ]
  },
  {
   "cell_type": "code",
   "execution_count": 25,
   "metadata": {},
   "outputs": [
    {
     "name": "stdout",
     "output_type": "stream",
     "text": [
      "['Dr.', 'Smith', 'graduate', 'University', 'Washington', '.', 'He', 'later', 'start', 'analytics', 'firm', 'call', 'Lux', ',', 'cater', 'enterprise', 'customer', '.']\n"
     ]
    }
   ],
   "source": [
    "# Lemmatize verbs by specifying pos\n",
    "lemmed = [WordNetLemmatizer().lemmatize(w, pos='v') for w in lemmed]\n",
    "print(lemmed)"
   ]
  },
  {
   "cell_type": "code",
   "execution_count": null,
   "metadata": {},
   "outputs": [],
   "source": []
  }
 ],
 "metadata": {
  "kernelspec": {
   "display_name": "Python 3",
   "language": "python",
   "name": "python3"
  },
  "language_info": {
   "codemirror_mode": {
    "name": "ipython",
    "version": 3
   },
   "file_extension": ".py",
   "mimetype": "text/x-python",
   "name": "python",
   "nbconvert_exporter": "python",
   "pygments_lexer": "ipython3",
   "version": "3.7.1"
  }
 },
 "nbformat": 4,
 "nbformat_minor": 2
}
