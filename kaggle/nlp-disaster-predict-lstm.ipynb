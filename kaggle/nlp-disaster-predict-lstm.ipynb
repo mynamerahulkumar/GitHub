{
 "cells": [
  {
   "cell_type": "code",
   "execution_count": null,
   "metadata": {
    "papermill": {
     "duration": 0.030856,
     "end_time": "2020-12-23T07:47:20.724379",
     "exception": false,
     "start_time": "2020-12-23T07:47:20.693523",
     "status": "completed"
    },
    "tags": []
   },
   "outputs": [],
   "source": []
  },
  {
   "cell_type": "code",
   "execution_count": 1,
   "metadata": {
    "_cell_guid": "b1076dfc-b9ad-4769-8c92-a6c4dae69d19",
    "_uuid": "8f2839f25d086af736a60e9eeb907d3b93b6e0e5",
    "execution": {
     "iopub.execute_input": "2020-12-23T07:47:20.783530Z",
     "iopub.status.busy": "2020-12-23T07:47:20.782825Z",
     "iopub.status.idle": "2020-12-23T07:47:20.791232Z",
     "shell.execute_reply": "2020-12-23T07:47:20.791798Z"
    },
    "papermill": {
     "duration": 0.041758,
     "end_time": "2020-12-23T07:47:20.791977",
     "exception": false,
     "start_time": "2020-12-23T07:47:20.750219",
     "status": "completed"
    },
    "tags": []
   },
   "outputs": [
    {
     "name": "stdout",
     "output_type": "stream",
     "text": [
      "/kaggle/input/nlp-getting-started/sample_submission.csv\n",
      "/kaggle/input/nlp-getting-started/train.csv\n",
      "/kaggle/input/nlp-getting-started/test.csv\n"
     ]
    }
   ],
   "source": [
    "# This Python 3 environment comes with many helpful analytics libraries installed\n",
    "# It is defined by the kaggle/python Docker image: https://github.com/kaggle/docker-python\n",
    "# For example, here's several helpful packages to load\n",
    "\n",
    "import numpy as np # linear algebra\n",
    "import pandas as pd # data processing, CSV file I/O (e.g. pd.read_csv)\n",
    "import matplotlib.pyplot as plt\n",
    "# Input data files are available in the read-only \"../input/\" directory\n",
    "# For example, running this (by clicking run or pressing Shift+Enter) will list all files under the input directory\n",
    "\n",
    "import os\n",
    "for dirname, _, filenames in os.walk('/kaggle/input'):\n",
    "    for filename in filenames:\n",
    "        print(os.path.join(dirname, filename))\n",
    "\n",
    "# You can write up to 20GB to the current directory (/kaggle/working/) that gets preserved as output when you create a version using \"Save & Run All\" \n",
    "# You can also write temporary files to /kaggle/temp/, but they won't be saved outside of the current session"
   ]
  },
  {
   "cell_type": "code",
   "execution_count": 2,
   "metadata": {
    "execution": {
     "iopub.execute_input": "2020-12-23T07:47:20.848731Z",
     "iopub.status.busy": "2020-12-23T07:47:20.848043Z",
     "iopub.status.idle": "2020-12-23T07:47:30.723621Z",
     "shell.execute_reply": "2020-12-23T07:47:30.723017Z"
    },
    "papermill": {
     "duration": 9.904971,
     "end_time": "2020-12-23T07:47:30.723758",
     "exception": false,
     "start_time": "2020-12-23T07:47:20.818787",
     "status": "completed"
    },
    "tags": []
   },
   "outputs": [
    {
     "name": "stdout",
     "output_type": "stream",
     "text": [
      "[nltk_data] Downloading package stopwords to /usr/share/nltk_data...\n",
      "[nltk_data]   Package stopwords is already up-to-date!\n"
     ]
    }
   ],
   "source": [
    "import string \n",
    "string.punctuation\n",
    "import nltk\n",
    "nltk.download('stopwords')\n",
    "from nltk.corpus import stopwords\n",
    "stopwords.words('english')\n",
    "import re\n",
    "import unicodedata\n",
    "from sklearn.feature_extraction.text import CountVectorizer\n",
    "from keras.preprocessing.text import Tokenizer\n",
    "from keras.preprocessing.sequence import pad_sequences\n",
    "from keras.models import Sequential\n",
    "from keras.layers import Dense, Embedding, LSTM, SpatialDropout1D\n",
    "from sklearn.model_selection import train_test_split\n",
    "from keras.utils.np_utils import to_categorical\n",
    "import re\n"
   ]
  },
  {
   "cell_type": "code",
   "execution_count": 3,
   "metadata": {
    "_cell_guid": "79c7e3d0-c299-4dcb-8224-4455121ee9b0",
    "_uuid": "d629ff2d2480ee46fbb7e2d37f6b5fab8052498a",
    "execution": {
     "iopub.execute_input": "2020-12-23T07:47:30.794991Z",
     "iopub.status.busy": "2020-12-23T07:47:30.787333Z",
     "iopub.status.idle": "2020-12-23T07:47:30.865984Z",
     "shell.execute_reply": "2020-12-23T07:47:30.865232Z"
    },
    "papermill": {
     "duration": 0.114352,
     "end_time": "2020-12-23T07:47:30.866114",
     "exception": false,
     "start_time": "2020-12-23T07:47:30.751762",
     "status": "completed"
    },
    "tags": []
   },
   "outputs": [
    {
     "data": {
      "text/html": [
       "<div>\n",
       "<style scoped>\n",
       "    .dataframe tbody tr th:only-of-type {\n",
       "        vertical-align: middle;\n",
       "    }\n",
       "\n",
       "    .dataframe tbody tr th {\n",
       "        vertical-align: top;\n",
       "    }\n",
       "\n",
       "    .dataframe thead th {\n",
       "        text-align: right;\n",
       "    }\n",
       "</style>\n",
       "<table border=\"1\" class=\"dataframe\">\n",
       "  <thead>\n",
       "    <tr style=\"text-align: right;\">\n",
       "      <th></th>\n",
       "      <th>id</th>\n",
       "      <th>keyword</th>\n",
       "      <th>location</th>\n",
       "      <th>text</th>\n",
       "      <th>target</th>\n",
       "    </tr>\n",
       "  </thead>\n",
       "  <tbody>\n",
       "    <tr>\n",
       "      <th>0</th>\n",
       "      <td>1</td>\n",
       "      <td>NaN</td>\n",
       "      <td>NaN</td>\n",
       "      <td>Our Deeds are the Reason of this #earthquake M...</td>\n",
       "      <td>1</td>\n",
       "    </tr>\n",
       "    <tr>\n",
       "      <th>1</th>\n",
       "      <td>4</td>\n",
       "      <td>NaN</td>\n",
       "      <td>NaN</td>\n",
       "      <td>Forest fire near La Ronge Sask. Canada</td>\n",
       "      <td>1</td>\n",
       "    </tr>\n",
       "    <tr>\n",
       "      <th>2</th>\n",
       "      <td>5</td>\n",
       "      <td>NaN</td>\n",
       "      <td>NaN</td>\n",
       "      <td>All residents asked to 'shelter in place' are ...</td>\n",
       "      <td>1</td>\n",
       "    </tr>\n",
       "    <tr>\n",
       "      <th>3</th>\n",
       "      <td>6</td>\n",
       "      <td>NaN</td>\n",
       "      <td>NaN</td>\n",
       "      <td>13,000 people receive #wildfires evacuation or...</td>\n",
       "      <td>1</td>\n",
       "    </tr>\n",
       "    <tr>\n",
       "      <th>4</th>\n",
       "      <td>7</td>\n",
       "      <td>NaN</td>\n",
       "      <td>NaN</td>\n",
       "      <td>Just got sent this photo from Ruby #Alaska as ...</td>\n",
       "      <td>1</td>\n",
       "    </tr>\n",
       "  </tbody>\n",
       "</table>\n",
       "</div>"
      ],
      "text/plain": [
       "   id keyword location                                               text  \\\n",
       "0   1     NaN      NaN  Our Deeds are the Reason of this #earthquake M...   \n",
       "1   4     NaN      NaN             Forest fire near La Ronge Sask. Canada   \n",
       "2   5     NaN      NaN  All residents asked to 'shelter in place' are ...   \n",
       "3   6     NaN      NaN  13,000 people receive #wildfires evacuation or...   \n",
       "4   7     NaN      NaN  Just got sent this photo from Ruby #Alaska as ...   \n",
       "\n",
       "   target  \n",
       "0       1  \n",
       "1       1  \n",
       "2       1  \n",
       "3       1  \n",
       "4       1  "
      ]
     },
     "execution_count": 3,
     "metadata": {},
     "output_type": "execute_result"
    }
   ],
   "source": [
    "df_train=pd.read_csv('../input/nlp-getting-started/train.csv')\n",
    "df_train.head()"
   ]
  },
  {
   "cell_type": "code",
   "execution_count": 4,
   "metadata": {
    "execution": {
     "iopub.execute_input": "2020-12-23T07:47:30.931879Z",
     "iopub.status.busy": "2020-12-23T07:47:30.931169Z",
     "iopub.status.idle": "2020-12-23T07:47:30.964072Z",
     "shell.execute_reply": "2020-12-23T07:47:30.963364Z"
    },
    "papermill": {
     "duration": 0.069551,
     "end_time": "2020-12-23T07:47:30.964249",
     "exception": false,
     "start_time": "2020-12-23T07:47:30.894698",
     "status": "completed"
    },
    "tags": []
   },
   "outputs": [
    {
     "data": {
      "text/html": [
       "<div>\n",
       "<style scoped>\n",
       "    .dataframe tbody tr th:only-of-type {\n",
       "        vertical-align: middle;\n",
       "    }\n",
       "\n",
       "    .dataframe tbody tr th {\n",
       "        vertical-align: top;\n",
       "    }\n",
       "\n",
       "    .dataframe thead th {\n",
       "        text-align: right;\n",
       "    }\n",
       "</style>\n",
       "<table border=\"1\" class=\"dataframe\">\n",
       "  <thead>\n",
       "    <tr style=\"text-align: right;\">\n",
       "      <th></th>\n",
       "      <th>id</th>\n",
       "      <th>keyword</th>\n",
       "      <th>location</th>\n",
       "      <th>text</th>\n",
       "    </tr>\n",
       "  </thead>\n",
       "  <tbody>\n",
       "    <tr>\n",
       "      <th>0</th>\n",
       "      <td>0</td>\n",
       "      <td>NaN</td>\n",
       "      <td>NaN</td>\n",
       "      <td>Just happened a terrible car crash</td>\n",
       "    </tr>\n",
       "    <tr>\n",
       "      <th>1</th>\n",
       "      <td>2</td>\n",
       "      <td>NaN</td>\n",
       "      <td>NaN</td>\n",
       "      <td>Heard about #earthquake is different cities, s...</td>\n",
       "    </tr>\n",
       "    <tr>\n",
       "      <th>2</th>\n",
       "      <td>3</td>\n",
       "      <td>NaN</td>\n",
       "      <td>NaN</td>\n",
       "      <td>there is a forest fire at spot pond, geese are...</td>\n",
       "    </tr>\n",
       "    <tr>\n",
       "      <th>3</th>\n",
       "      <td>9</td>\n",
       "      <td>NaN</td>\n",
       "      <td>NaN</td>\n",
       "      <td>Apocalypse lighting. #Spokane #wildfires</td>\n",
       "    </tr>\n",
       "    <tr>\n",
       "      <th>4</th>\n",
       "      <td>11</td>\n",
       "      <td>NaN</td>\n",
       "      <td>NaN</td>\n",
       "      <td>Typhoon Soudelor kills 28 in China and Taiwan</td>\n",
       "    </tr>\n",
       "  </tbody>\n",
       "</table>\n",
       "</div>"
      ],
      "text/plain": [
       "   id keyword location                                               text\n",
       "0   0     NaN      NaN                 Just happened a terrible car crash\n",
       "1   2     NaN      NaN  Heard about #earthquake is different cities, s...\n",
       "2   3     NaN      NaN  there is a forest fire at spot pond, geese are...\n",
       "3   9     NaN      NaN           Apocalypse lighting. #Spokane #wildfires\n",
       "4  11     NaN      NaN      Typhoon Soudelor kills 28 in China and Taiwan"
      ]
     },
     "execution_count": 4,
     "metadata": {},
     "output_type": "execute_result"
    }
   ],
   "source": [
    "df_test=pd.read_csv('../input/nlp-getting-started/test.csv')\n",
    "df_test.head()"
   ]
  },
  {
   "cell_type": "code",
   "execution_count": 5,
   "metadata": {
    "execution": {
     "iopub.execute_input": "2020-12-23T07:47:31.030918Z",
     "iopub.status.busy": "2020-12-23T07:47:31.030051Z",
     "iopub.status.idle": "2020-12-23T07:47:31.046106Z",
     "shell.execute_reply": "2020-12-23T07:47:31.045513Z"
    },
    "papermill": {
     "duration": 0.053127,
     "end_time": "2020-12-23T07:47:31.046253",
     "exception": false,
     "start_time": "2020-12-23T07:47:30.993126",
     "status": "completed"
    },
    "tags": []
   },
   "outputs": [
    {
     "data": {
      "text/html": [
       "<div>\n",
       "<style scoped>\n",
       "    .dataframe tbody tr th:only-of-type {\n",
       "        vertical-align: middle;\n",
       "    }\n",
       "\n",
       "    .dataframe tbody tr th {\n",
       "        vertical-align: top;\n",
       "    }\n",
       "\n",
       "    .dataframe thead th {\n",
       "        text-align: right;\n",
       "    }\n",
       "</style>\n",
       "<table border=\"1\" class=\"dataframe\">\n",
       "  <thead>\n",
       "    <tr style=\"text-align: right;\">\n",
       "      <th></th>\n",
       "      <th>id</th>\n",
       "      <th>target</th>\n",
       "    </tr>\n",
       "  </thead>\n",
       "  <tbody>\n",
       "    <tr>\n",
       "      <th>0</th>\n",
       "      <td>0</td>\n",
       "      <td>0</td>\n",
       "    </tr>\n",
       "    <tr>\n",
       "      <th>1</th>\n",
       "      <td>2</td>\n",
       "      <td>0</td>\n",
       "    </tr>\n",
       "    <tr>\n",
       "      <th>2</th>\n",
       "      <td>3</td>\n",
       "      <td>0</td>\n",
       "    </tr>\n",
       "    <tr>\n",
       "      <th>3</th>\n",
       "      <td>9</td>\n",
       "      <td>0</td>\n",
       "    </tr>\n",
       "    <tr>\n",
       "      <th>4</th>\n",
       "      <td>11</td>\n",
       "      <td>0</td>\n",
       "    </tr>\n",
       "  </tbody>\n",
       "</table>\n",
       "</div>"
      ],
      "text/plain": [
       "   id  target\n",
       "0   0       0\n",
       "1   2       0\n",
       "2   3       0\n",
       "3   9       0\n",
       "4  11       0"
      ]
     },
     "execution_count": 5,
     "metadata": {},
     "output_type": "execute_result"
    }
   ],
   "source": [
    "df_sample=pd.read_csv('../input/nlp-getting-started/sample_submission.csv')\n",
    "df_sample.head()"
   ]
  },
  {
   "cell_type": "markdown",
   "metadata": {
    "papermill": {
     "duration": 0.029944,
     "end_time": "2020-12-23T07:47:31.105515",
     "exception": false,
     "start_time": "2020-12-23T07:47:31.075571",
     "status": "completed"
    },
    "tags": []
   },
   "source": [
    "## Date preprocessing"
   ]
  },
  {
   "cell_type": "code",
   "execution_count": 6,
   "metadata": {
    "execution": {
     "iopub.execute_input": "2020-12-23T07:47:31.185616Z",
     "iopub.status.busy": "2020-12-23T07:47:31.184431Z",
     "iopub.status.idle": "2020-12-23T07:47:31.191868Z",
     "shell.execute_reply": "2020-12-23T07:47:31.192879Z"
    },
    "papermill": {
     "duration": 0.056982,
     "end_time": "2020-12-23T07:47:31.193159",
     "exception": false,
     "start_time": "2020-12-23T07:47:31.136177",
     "status": "completed"
    },
    "tags": []
   },
   "outputs": [
    {
     "name": "stdout",
     "output_type": "stream",
     "text": [
      "<class 'pandas.core.frame.DataFrame'>\n",
      "RangeIndex: 7613 entries, 0 to 7612\n",
      "Data columns (total 5 columns):\n",
      " #   Column    Non-Null Count  Dtype \n",
      "---  ------    --------------  ----- \n",
      " 0   id        7613 non-null   int64 \n",
      " 1   keyword   7552 non-null   object\n",
      " 2   location  5080 non-null   object\n",
      " 3   text      7613 non-null   object\n",
      " 4   target    7613 non-null   int64 \n",
      "dtypes: int64(2), object(3)\n",
      "memory usage: 297.5+ KB\n"
     ]
    }
   ],
   "source": [
    "df_train.info()"
   ]
  },
  {
   "cell_type": "code",
   "execution_count": 7,
   "metadata": {
    "execution": {
     "iopub.execute_input": "2020-12-23T07:47:31.262895Z",
     "iopub.status.busy": "2020-12-23T07:47:31.262032Z",
     "iopub.status.idle": "2020-12-23T07:47:31.266495Z",
     "shell.execute_reply": "2020-12-23T07:47:31.265952Z"
    },
    "papermill": {
     "duration": 0.043817,
     "end_time": "2020-12-23T07:47:31.266642",
     "exception": false,
     "start_time": "2020-12-23T07:47:31.222825",
     "status": "completed"
    },
    "tags": []
   },
   "outputs": [
    {
     "data": {
      "text/plain": [
       "0    4342\n",
       "1    3271\n",
       "Name: target, dtype: int64"
      ]
     },
     "execution_count": 7,
     "metadata": {},
     "output_type": "execute_result"
    }
   ],
   "source": [
    "df_train['target'].value_counts()"
   ]
  },
  {
   "cell_type": "code",
   "execution_count": 8,
   "metadata": {
    "execution": {
     "iopub.execute_input": "2020-12-23T07:47:31.333465Z",
     "iopub.status.busy": "2020-12-23T07:47:31.332389Z",
     "iopub.status.idle": "2020-12-23T07:47:31.530837Z",
     "shell.execute_reply": "2020-12-23T07:47:31.531445Z"
    },
    "papermill": {
     "duration": 0.234015,
     "end_time": "2020-12-23T07:47:31.531624",
     "exception": false,
     "start_time": "2020-12-23T07:47:31.297609",
     "status": "completed"
    },
    "tags": []
   },
   "outputs": [
    {
     "data": {
      "text/plain": [
       "<matplotlib.axes._subplots.AxesSubplot at 0x7ff0ce76a510>"
      ]
     },
     "execution_count": 8,
     "metadata": {},
     "output_type": "execute_result"
    },
    {
     "data": {
      "image/png": "[encoded data removed]",
      "text/plain": [
       "<Figure size 432x288 with 1 Axes>"
      ]
     },
     "metadata": {
      "needs_background": "light"
     },
     "output_type": "display_data"
    }
   ],
   "source": [
    "df_train['target'].value_counts().plot(kind='bar')"
   ]
  },
  {
   "cell_type": "code",
   "execution_count": 9,
   "metadata": {
    "execution": {
     "iopub.execute_input": "2020-12-23T07:47:31.609603Z",
     "iopub.status.busy": "2020-12-23T07:47:31.608645Z",
     "iopub.status.idle": "2020-12-23T07:47:31.613897Z",
     "shell.execute_reply": "2020-12-23T07:47:31.614415Z"
    },
    "papermill": {
     "duration": 0.049964,
     "end_time": "2020-12-23T07:47:31.614576",
     "exception": false,
     "start_time": "2020-12-23T07:47:31.564612",
     "status": "completed"
    },
    "tags": []
   },
   "outputs": [
    {
     "data": {
      "text/html": [
       "<div>\n",
       "<style scoped>\n",
       "    .dataframe tbody tr th:only-of-type {\n",
       "        vertical-align: middle;\n",
       "    }\n",
       "\n",
       "    .dataframe tbody tr th {\n",
       "        vertical-align: top;\n",
       "    }\n",
       "\n",
       "    .dataframe thead th {\n",
       "        text-align: right;\n",
       "    }\n",
       "</style>\n",
       "<table border=\"1\" class=\"dataframe\">\n",
       "  <thead>\n",
       "    <tr style=\"text-align: right;\">\n",
       "      <th></th>\n",
       "      <th>id</th>\n",
       "      <th>keyword</th>\n",
       "      <th>location</th>\n",
       "      <th>text</th>\n",
       "      <th>target</th>\n",
       "    </tr>\n",
       "  </thead>\n",
       "  <tbody>\n",
       "    <tr>\n",
       "      <th>0</th>\n",
       "      <td>1</td>\n",
       "      <td>NaN</td>\n",
       "      <td>NaN</td>\n",
       "      <td>Our Deeds are the Reason of this #earthquake M...</td>\n",
       "      <td>1</td>\n",
       "    </tr>\n",
       "    <tr>\n",
       "      <th>1</th>\n",
       "      <td>4</td>\n",
       "      <td>NaN</td>\n",
       "      <td>NaN</td>\n",
       "      <td>Forest fire near La Ronge Sask. Canada</td>\n",
       "      <td>1</td>\n",
       "    </tr>\n",
       "    <tr>\n",
       "      <th>2</th>\n",
       "      <td>5</td>\n",
       "      <td>NaN</td>\n",
       "      <td>NaN</td>\n",
       "      <td>All residents asked to 'shelter in place' are ...</td>\n",
       "      <td>1</td>\n",
       "    </tr>\n",
       "    <tr>\n",
       "      <th>3</th>\n",
       "      <td>6</td>\n",
       "      <td>NaN</td>\n",
       "      <td>NaN</td>\n",
       "      <td>13,000 people receive #wildfires evacuation or...</td>\n",
       "      <td>1</td>\n",
       "    </tr>\n",
       "    <tr>\n",
       "      <th>4</th>\n",
       "      <td>7</td>\n",
       "      <td>NaN</td>\n",
       "      <td>NaN</td>\n",
       "      <td>Just got sent this photo from Ruby #Alaska as ...</td>\n",
       "      <td>1</td>\n",
       "    </tr>\n",
       "  </tbody>\n",
       "</table>\n",
       "</div>"
      ],
      "text/plain": [
       "   id keyword location                                               text  \\\n",
       "0   1     NaN      NaN  Our Deeds are the Reason of this #earthquake M...   \n",
       "1   4     NaN      NaN             Forest fire near La Ronge Sask. Canada   \n",
       "2   5     NaN      NaN  All residents asked to 'shelter in place' are ...   \n",
       "3   6     NaN      NaN  13,000 people receive #wildfires evacuation or...   \n",
       "4   7     NaN      NaN  Just got sent this photo from Ruby #Alaska as ...   \n",
       "\n",
       "   target  \n",
       "0       1  \n",
       "1       1  \n",
       "2       1  \n",
       "3       1  \n",
       "4       1  "
      ]
     },
     "execution_count": 9,
     "metadata": {},
     "output_type": "execute_result"
    }
   ],
   "source": [
    "df_train.head()"
   ]
  },
  {
   "cell_type": "code",
   "execution_count": 10,
   "metadata": {
    "execution": {
     "iopub.execute_input": "2020-12-23T07:47:31.689542Z",
     "iopub.status.busy": "2020-12-23T07:47:31.686234Z",
     "iopub.status.idle": "2020-12-23T07:47:31.694931Z",
     "shell.execute_reply": "2020-12-23T07:47:31.694210Z"
    },
    "papermill": {
     "duration": 0.048623,
     "end_time": "2020-12-23T07:47:31.695055",
     "exception": false,
     "start_time": "2020-12-23T07:47:31.646432",
     "status": "completed"
    },
    "tags": []
   },
   "outputs": [
    {
     "data": {
      "text/plain": [
       "fatalities               45\n",
       "deluge                   42\n",
       "armageddon               42\n",
       "body%20bags              41\n",
       "harm                     41\n",
       "                         ..\n",
       "forest%20fire            19\n",
       "epicentre                12\n",
       "threat                   11\n",
       "inundation               10\n",
       "radiation%20emergency     9\n",
       "Name: keyword, Length: 221, dtype: int64"
      ]
     },
     "execution_count": 10,
     "metadata": {},
     "output_type": "execute_result"
    }
   ],
   "source": [
    "df_train['keyword'].value_counts()"
   ]
  },
  {
   "cell_type": "code",
   "execution_count": 11,
   "metadata": {
    "execution": {
     "iopub.execute_input": "2020-12-23T07:47:31.766693Z",
     "iopub.status.busy": "2020-12-23T07:47:31.765547Z",
     "iopub.status.idle": "2020-12-23T07:47:31.832244Z",
     "shell.execute_reply": "2020-12-23T07:47:31.831487Z"
    },
    "papermill": {
     "duration": 0.105092,
     "end_time": "2020-12-23T07:47:31.832372",
     "exception": false,
     "start_time": "2020-12-23T07:47:31.727280",
     "status": "completed"
    },
    "tags": []
   },
   "outputs": [
    {
     "data": {
      "text/html": [
       "<div>\n",
       "<style scoped>\n",
       "    .dataframe tbody tr th:only-of-type {\n",
       "        vertical-align: middle;\n",
       "    }\n",
       "\n",
       "    .dataframe tbody tr th {\n",
       "        vertical-align: top;\n",
       "    }\n",
       "\n",
       "    .dataframe thead th {\n",
       "        text-align: right;\n",
       "    }\n",
       "</style>\n",
       "<table border=\"1\" class=\"dataframe\">\n",
       "  <thead>\n",
       "    <tr style=\"text-align: right;\">\n",
       "      <th></th>\n",
       "      <th>id</th>\n",
       "      <th>keyword</th>\n",
       "      <th>location</th>\n",
       "      <th>text</th>\n",
       "      <th>target</th>\n",
       "    </tr>\n",
       "  </thead>\n",
       "  <tbody>\n",
       "    <tr>\n",
       "      <th>count</th>\n",
       "      <td>7613.000000</td>\n",
       "      <td>7552</td>\n",
       "      <td>5080</td>\n",
       "      <td>7613</td>\n",
       "      <td>7613.00000</td>\n",
       "    </tr>\n",
       "    <tr>\n",
       "      <th>unique</th>\n",
       "      <td>NaN</td>\n",
       "      <td>221</td>\n",
       "      <td>3341</td>\n",
       "      <td>7503</td>\n",
       "      <td>NaN</td>\n",
       "    </tr>\n",
       "    <tr>\n",
       "      <th>top</th>\n",
       "      <td>NaN</td>\n",
       "      <td>fatalities</td>\n",
       "      <td>USA</td>\n",
       "      <td>11-Year-Old Boy Charged With Manslaughter of T...</td>\n",
       "      <td>NaN</td>\n",
       "    </tr>\n",
       "    <tr>\n",
       "      <th>freq</th>\n",
       "      <td>NaN</td>\n",
       "      <td>45</td>\n",
       "      <td>104</td>\n",
       "      <td>10</td>\n",
       "      <td>NaN</td>\n",
       "    </tr>\n",
       "    <tr>\n",
       "      <th>mean</th>\n",
       "      <td>5441.934848</td>\n",
       "      <td>NaN</td>\n",
       "      <td>NaN</td>\n",
       "      <td>NaN</td>\n",
       "      <td>0.42966</td>\n",
       "    </tr>\n",
       "    <tr>\n",
       "      <th>std</th>\n",
       "      <td>3137.116090</td>\n",
       "      <td>NaN</td>\n",
       "      <td>NaN</td>\n",
       "      <td>NaN</td>\n",
       "      <td>0.49506</td>\n",
       "    </tr>\n",
       "    <tr>\n",
       "      <th>min</th>\n",
       "      <td>1.000000</td>\n",
       "      <td>NaN</td>\n",
       "      <td>NaN</td>\n",
       "      <td>NaN</td>\n",
       "      <td>0.00000</td>\n",
       "    </tr>\n",
       "    <tr>\n",
       "      <th>25%</th>\n",
       "      <td>2734.000000</td>\n",
       "      <td>NaN</td>\n",
       "      <td>NaN</td>\n",
       "      <td>NaN</td>\n",
       "      <td>0.00000</td>\n",
       "    </tr>\n",
       "    <tr>\n",
       "      <th>50%</th>\n",
       "      <td>5408.000000</td>\n",
       "      <td>NaN</td>\n",
       "      <td>NaN</td>\n",
       "      <td>NaN</td>\n",
       "      <td>0.00000</td>\n",
       "    </tr>\n",
       "    <tr>\n",
       "      <th>75%</th>\n",
       "      <td>8146.000000</td>\n",
       "      <td>NaN</td>\n",
       "      <td>NaN</td>\n",
       "      <td>NaN</td>\n",
       "      <td>1.00000</td>\n",
       "    </tr>\n",
       "    <tr>\n",
       "      <th>max</th>\n",
       "      <td>10873.000000</td>\n",
       "      <td>NaN</td>\n",
       "      <td>NaN</td>\n",
       "      <td>NaN</td>\n",
       "      <td>1.00000</td>\n",
       "    </tr>\n",
       "  </tbody>\n",
       "</table>\n",
       "</div>"
      ],
      "text/plain": [
       "                  id     keyword location  \\\n",
       "count    7613.000000        7552     5080   \n",
       "unique           NaN         221     3341   \n",
       "top              NaN  fatalities      USA   \n",
       "freq             NaN          45      104   \n",
       "mean     5441.934848         NaN      NaN   \n",
       "std      3137.116090         NaN      NaN   \n",
       "min         1.000000         NaN      NaN   \n",
       "25%      2734.000000         NaN      NaN   \n",
       "50%      5408.000000         NaN      NaN   \n",
       "75%      8146.000000         NaN      NaN   \n",
       "max     10873.000000         NaN      NaN   \n",
       "\n",
       "                                                     text      target  \n",
       "count                                                7613  7613.00000  \n",
       "unique                                               7503         NaN  \n",
       "top     11-Year-Old Boy Charged With Manslaughter of T...         NaN  \n",
       "freq                                                   10         NaN  \n",
       "mean                                                  NaN     0.42966  \n",
       "std                                                   NaN     0.49506  \n",
       "min                                                   NaN     0.00000  \n",
       "25%                                                   NaN     0.00000  \n",
       "50%                                                   NaN     0.00000  \n",
       "75%                                                   NaN     1.00000  \n",
       "max                                                   NaN     1.00000  "
      ]
     },
     "execution_count": 11,
     "metadata": {},
     "output_type": "execute_result"
    }
   ],
   "source": [
    "df_train.describe(include='all')"
   ]
  },
  {
   "cell_type": "code",
   "execution_count": 12,
   "metadata": {
    "execution": {
     "iopub.execute_input": "2020-12-23T07:47:31.906821Z",
     "iopub.status.busy": "2020-12-23T07:47:31.906020Z",
     "iopub.status.idle": "2020-12-23T07:47:31.922530Z",
     "shell.execute_reply": "2020-12-23T07:47:31.921812Z"
    },
    "papermill": {
     "duration": 0.056959,
     "end_time": "2020-12-23T07:47:31.922663",
     "exception": false,
     "start_time": "2020-12-23T07:47:31.865704",
     "status": "completed"
    },
    "tags": []
   },
   "outputs": [
    {
     "data": {
      "text/html": [
       "<div>\n",
       "<style scoped>\n",
       "    .dataframe tbody tr th:only-of-type {\n",
       "        vertical-align: middle;\n",
       "    }\n",
       "\n",
       "    .dataframe tbody tr th {\n",
       "        vertical-align: top;\n",
       "    }\n",
       "\n",
       "    .dataframe thead th {\n",
       "        text-align: right;\n",
       "    }\n",
       "</style>\n",
       "<table border=\"1\" class=\"dataframe\">\n",
       "  <thead>\n",
       "    <tr style=\"text-align: right;\">\n",
       "      <th></th>\n",
       "      <th>id</th>\n",
       "      <th>target</th>\n",
       "    </tr>\n",
       "  </thead>\n",
       "  <tbody>\n",
       "    <tr>\n",
       "      <th>count</th>\n",
       "      <td>7613.000000</td>\n",
       "      <td>7613.00000</td>\n",
       "    </tr>\n",
       "    <tr>\n",
       "      <th>mean</th>\n",
       "      <td>5441.934848</td>\n",
       "      <td>0.42966</td>\n",
       "    </tr>\n",
       "    <tr>\n",
       "      <th>std</th>\n",
       "      <td>3137.116090</td>\n",
       "      <td>0.49506</td>\n",
       "    </tr>\n",
       "    <tr>\n",
       "      <th>min</th>\n",
       "      <td>1.000000</td>\n",
       "      <td>0.00000</td>\n",
       "    </tr>\n",
       "    <tr>\n",
       "      <th>25%</th>\n",
       "      <td>2734.000000</td>\n",
       "      <td>0.00000</td>\n",
       "    </tr>\n",
       "    <tr>\n",
       "      <th>50%</th>\n",
       "      <td>5408.000000</td>\n",
       "      <td>0.00000</td>\n",
       "    </tr>\n",
       "    <tr>\n",
       "      <th>75%</th>\n",
       "      <td>8146.000000</td>\n",
       "      <td>1.00000</td>\n",
       "    </tr>\n",
       "    <tr>\n",
       "      <th>max</th>\n",
       "      <td>10873.000000</td>\n",
       "      <td>1.00000</td>\n",
       "    </tr>\n",
       "  </tbody>\n",
       "</table>\n",
       "</div>"
      ],
      "text/plain": [
       "                 id      target\n",
       "count   7613.000000  7613.00000\n",
       "mean    5441.934848     0.42966\n",
       "std     3137.116090     0.49506\n",
       "min        1.000000     0.00000\n",
       "25%     2734.000000     0.00000\n",
       "50%     5408.000000     0.00000\n",
       "75%     8146.000000     1.00000\n",
       "max    10873.000000     1.00000"
      ]
     },
     "execution_count": 12,
     "metadata": {},
     "output_type": "execute_result"
    }
   ],
   "source": [
    "df_train.describe()"
   ]
  },
  {
   "cell_type": "markdown",
   "metadata": {
    "papermill": {
     "duration": 0.033857,
     "end_time": "2020-12-23T07:47:31.989794",
     "exception": false,
     "start_time": "2020-12-23T07:47:31.955937",
     "status": "completed"
    },
    "tags": []
   },
   "source": [
    "### Clean the text"
   ]
  },
  {
   "cell_type": "code",
   "execution_count": 13,
   "metadata": {
    "execution": {
     "iopub.execute_input": "2020-12-23T07:47:32.060700Z",
     "iopub.status.busy": "2020-12-23T07:47:32.059941Z",
     "iopub.status.idle": "2020-12-23T07:47:32.069276Z",
     "shell.execute_reply": "2020-12-23T07:47:32.068674Z"
    },
    "papermill": {
     "duration": 0.046157,
     "end_time": "2020-12-23T07:47:32.069410",
     "exception": false,
     "start_time": "2020-12-23T07:47:32.023253",
     "status": "completed"
    },
    "tags": []
   },
   "outputs": [],
   "source": [
    "def tweets_cleaning(text):\n",
    "    lowercase = text.lower()\n",
    "    punc_removal = [char for char in lowercase if char not in string.punctuation]\n",
    "    punc_removal_joined = ''.join(punc_removal)\n",
    "    url_removal = re.sub(r'(https|http)?:\\/\\/(\\w|\\.|\\/|\\?|\\=|\\&|\\%)*\\b', '', punc_removal_joined, flags=re.MULTILINE)\n",
    "    emoji_removal = url_removal.encode('ascii', 'ignore').decode('ascii')\n",
    "    stopwords_removal = [word for word in emoji_removal.split() if word not in stopwords.words('english')]\n",
    "    return stopwords_removal"
   ]
  },
  {
   "cell_type": "code",
   "execution_count": 14,
   "metadata": {
    "execution": {
     "iopub.execute_input": "2020-12-23T07:47:32.145359Z",
     "iopub.status.busy": "2020-12-23T07:47:32.144611Z",
     "iopub.status.idle": "2020-12-23T07:47:47.998590Z",
     "shell.execute_reply": "2020-12-23T07:47:47.997831Z"
    },
    "papermill": {
     "duration": 15.894805,
     "end_time": "2020-12-23T07:47:47.998713",
     "exception": false,
     "start_time": "2020-12-23T07:47:32.103908",
     "status": "completed"
    },
    "tags": []
   },
   "outputs": [],
   "source": [
    "df_train['cleaned_text']=df_train['text'].apply(tweets_cleaning).astype(str)"
   ]
  },
  {
   "cell_type": "code",
   "execution_count": 15,
   "metadata": {
    "execution": {
     "iopub.execute_input": "2020-12-23T07:47:48.073872Z",
     "iopub.status.busy": "2020-12-23T07:47:48.072728Z",
     "iopub.status.idle": "2020-12-23T07:47:54.752695Z",
     "shell.execute_reply": "2020-12-23T07:47:54.752045Z"
    },
    "papermill": {
     "duration": 6.719807,
     "end_time": "2020-12-23T07:47:54.752817",
     "exception": false,
     "start_time": "2020-12-23T07:47:48.033010",
     "status": "completed"
    },
    "tags": []
   },
   "outputs": [],
   "source": [
    "df_test['cleaned_text']=df_test['text'].apply(tweets_cleaning).astype(str)"
   ]
  },
  {
   "cell_type": "code",
   "execution_count": 16,
   "metadata": {
    "execution": {
     "iopub.execute_input": "2020-12-23T07:47:54.833452Z",
     "iopub.status.busy": "2020-12-23T07:47:54.832618Z",
     "iopub.status.idle": "2020-12-23T07:47:54.836194Z",
     "shell.execute_reply": "2020-12-23T07:47:54.836710Z"
    },
    "papermill": {
     "duration": 0.049964,
     "end_time": "2020-12-23T07:47:54.836877",
     "exception": false,
     "start_time": "2020-12-23T07:47:54.786913",
     "status": "completed"
    },
    "tags": []
   },
   "outputs": [
    {
     "data": {
      "text/html": [
       "<div>\n",
       "<style scoped>\n",
       "    .dataframe tbody tr th:only-of-type {\n",
       "        vertical-align: middle;\n",
       "    }\n",
       "\n",
       "    .dataframe tbody tr th {\n",
       "        vertical-align: top;\n",
       "    }\n",
       "\n",
       "    .dataframe thead th {\n",
       "        text-align: right;\n",
       "    }\n",
       "</style>\n",
       "<table border=\"1\" class=\"dataframe\">\n",
       "  <thead>\n",
       "    <tr style=\"text-align: right;\">\n",
       "      <th></th>\n",
       "      <th>id</th>\n",
       "      <th>keyword</th>\n",
       "      <th>location</th>\n",
       "      <th>text</th>\n",
       "      <th>target</th>\n",
       "      <th>cleaned_text</th>\n",
       "    </tr>\n",
       "  </thead>\n",
       "  <tbody>\n",
       "    <tr>\n",
       "      <th>0</th>\n",
       "      <td>1</td>\n",
       "      <td>NaN</td>\n",
       "      <td>NaN</td>\n",
       "      <td>Our Deeds are the Reason of this #earthquake M...</td>\n",
       "      <td>1</td>\n",
       "      <td>['deeds', 'reason', 'earthquake', 'may', 'alla...</td>\n",
       "    </tr>\n",
       "    <tr>\n",
       "      <th>1</th>\n",
       "      <td>4</td>\n",
       "      <td>NaN</td>\n",
       "      <td>NaN</td>\n",
       "      <td>Forest fire near La Ronge Sask. Canada</td>\n",
       "      <td>1</td>\n",
       "      <td>['forest', 'fire', 'near', 'la', 'ronge', 'sas...</td>\n",
       "    </tr>\n",
       "    <tr>\n",
       "      <th>2</th>\n",
       "      <td>5</td>\n",
       "      <td>NaN</td>\n",
       "      <td>NaN</td>\n",
       "      <td>All residents asked to 'shelter in place' are ...</td>\n",
       "      <td>1</td>\n",
       "      <td>['residents', 'asked', 'shelter', 'place', 'no...</td>\n",
       "    </tr>\n",
       "    <tr>\n",
       "      <th>3</th>\n",
       "      <td>6</td>\n",
       "      <td>NaN</td>\n",
       "      <td>NaN</td>\n",
       "      <td>13,000 people receive #wildfires evacuation or...</td>\n",
       "      <td>1</td>\n",
       "      <td>['13000', 'people', 'receive', 'wildfires', 'e...</td>\n",
       "    </tr>\n",
       "    <tr>\n",
       "      <th>4</th>\n",
       "      <td>7</td>\n",
       "      <td>NaN</td>\n",
       "      <td>NaN</td>\n",
       "      <td>Just got sent this photo from Ruby #Alaska as ...</td>\n",
       "      <td>1</td>\n",
       "      <td>['got', 'sent', 'photo', 'ruby', 'alaska', 'sm...</td>\n",
       "    </tr>\n",
       "  </tbody>\n",
       "</table>\n",
       "</div>"
      ],
      "text/plain": [
       "   id keyword location                                               text  \\\n",
       "0   1     NaN      NaN  Our Deeds are the Reason of this #earthquake M...   \n",
       "1   4     NaN      NaN             Forest fire near La Ronge Sask. Canada   \n",
       "2   5     NaN      NaN  All residents asked to 'shelter in place' are ...   \n",
       "3   6     NaN      NaN  13,000 people receive #wildfires evacuation or...   \n",
       "4   7     NaN      NaN  Just got sent this photo from Ruby #Alaska as ...   \n",
       "\n",
       "   target                                       cleaned_text  \n",
       "0       1  ['deeds', 'reason', 'earthquake', 'may', 'alla...  \n",
       "1       1  ['forest', 'fire', 'near', 'la', 'ronge', 'sas...  \n",
       "2       1  ['residents', 'asked', 'shelter', 'place', 'no...  \n",
       "3       1  ['13000', 'people', 'receive', 'wildfires', 'e...  \n",
       "4       1  ['got', 'sent', 'photo', 'ruby', 'alaska', 'sm...  "
      ]
     },
     "execution_count": 16,
     "metadata": {},
     "output_type": "execute_result"
    }
   ],
   "source": [
    "df_train.head()"
   ]
  },
  {
   "cell_type": "code",
   "execution_count": 17,
   "metadata": {
    "execution": {
     "iopub.execute_input": "2020-12-23T07:47:54.911480Z",
     "iopub.status.busy": "2020-12-23T07:47:54.910757Z",
     "iopub.status.idle": "2020-12-23T07:47:54.921227Z",
     "shell.execute_reply": "2020-12-23T07:47:54.920599Z"
    },
    "papermill": {
     "duration": 0.048891,
     "end_time": "2020-12-23T07:47:54.921389",
     "exception": false,
     "start_time": "2020-12-23T07:47:54.872498",
     "status": "completed"
    },
    "tags": []
   },
   "outputs": [],
   "source": [
    "df_train_clean=df_train[['cleaned_text','target']]"
   ]
  },
  {
   "cell_type": "code",
   "execution_count": 18,
   "metadata": {
    "execution": {
     "iopub.execute_input": "2020-12-23T07:47:55.003978Z",
     "iopub.status.busy": "2020-12-23T07:47:55.002898Z",
     "iopub.status.idle": "2020-12-23T07:47:55.007245Z",
     "shell.execute_reply": "2020-12-23T07:47:55.007797Z"
    },
    "papermill": {
     "duration": 0.050834,
     "end_time": "2020-12-23T07:47:55.007946",
     "exception": false,
     "start_time": "2020-12-23T07:47:54.957112",
     "status": "completed"
    },
    "tags": []
   },
   "outputs": [
    {
     "data": {
      "text/html": [
       "<div>\n",
       "<style scoped>\n",
       "    .dataframe tbody tr th:only-of-type {\n",
       "        vertical-align: middle;\n",
       "    }\n",
       "\n",
       "    .dataframe tbody tr th {\n",
       "        vertical-align: top;\n",
       "    }\n",
       "\n",
       "    .dataframe thead th {\n",
       "        text-align: right;\n",
       "    }\n",
       "</style>\n",
       "<table border=\"1\" class=\"dataframe\">\n",
       "  <thead>\n",
       "    <tr style=\"text-align: right;\">\n",
       "      <th></th>\n",
       "      <th>cleaned_text</th>\n",
       "      <th>target</th>\n",
       "    </tr>\n",
       "  </thead>\n",
       "  <tbody>\n",
       "    <tr>\n",
       "      <th>0</th>\n",
       "      <td>['deeds', 'reason', 'earthquake', 'may', 'alla...</td>\n",
       "      <td>1</td>\n",
       "    </tr>\n",
       "    <tr>\n",
       "      <th>1</th>\n",
       "      <td>['forest', 'fire', 'near', 'la', 'ronge', 'sas...</td>\n",
       "      <td>1</td>\n",
       "    </tr>\n",
       "    <tr>\n",
       "      <th>2</th>\n",
       "      <td>['residents', 'asked', 'shelter', 'place', 'no...</td>\n",
       "      <td>1</td>\n",
       "    </tr>\n",
       "    <tr>\n",
       "      <th>3</th>\n",
       "      <td>['13000', 'people', 'receive', 'wildfires', 'e...</td>\n",
       "      <td>1</td>\n",
       "    </tr>\n",
       "    <tr>\n",
       "      <th>4</th>\n",
       "      <td>['got', 'sent', 'photo', 'ruby', 'alaska', 'sm...</td>\n",
       "      <td>1</td>\n",
       "    </tr>\n",
       "  </tbody>\n",
       "</table>\n",
       "</div>"
      ],
      "text/plain": [
       "                                        cleaned_text  target\n",
       "0  ['deeds', 'reason', 'earthquake', 'may', 'alla...       1\n",
       "1  ['forest', 'fire', 'near', 'la', 'ronge', 'sas...       1\n",
       "2  ['residents', 'asked', 'shelter', 'place', 'no...       1\n",
       "3  ['13000', 'people', 'receive', 'wildfires', 'e...       1\n",
       "4  ['got', 'sent', 'photo', 'ruby', 'alaska', 'sm...       1"
      ]
     },
     "execution_count": 18,
     "metadata": {},
     "output_type": "execute_result"
    }
   ],
   "source": [
    "df_train_clean.head()"
   ]
  },
  {
   "cell_type": "markdown",
   "metadata": {
    "papermill": {
     "duration": 0.036113,
     "end_time": "2020-12-23T07:47:55.080540",
     "exception": false,
     "start_time": "2020-12-23T07:47:55.044427",
     "status": "completed"
    },
    "tags": []
   },
   "source": [
    "### Tokenization"
   ]
  },
  {
   "cell_type": "code",
   "execution_count": 19,
   "metadata": {
    "execution": {
     "iopub.execute_input": "2020-12-23T07:47:55.155543Z",
     "iopub.status.busy": "2020-12-23T07:47:55.154460Z",
     "iopub.status.idle": "2020-12-23T07:47:55.549746Z",
     "shell.execute_reply": "2020-12-23T07:47:55.550323Z"
    },
    "papermill": {
     "duration": 0.434239,
     "end_time": "2020-12-23T07:47:55.550503",
     "exception": false,
     "start_time": "2020-12-23T07:47:55.116264",
     "status": "completed"
    },
    "tags": []
   },
   "outputs": [],
   "source": [
    "max_fatures = 2000\n",
    "tokenizer = Tokenizer(num_words=max_fatures, split=' ')\n",
    "tokenizer.fit_on_texts(df_train_clean['cleaned_text'].values)\n",
    "X = tokenizer.texts_to_sequences(df_train_clean['cleaned_text'].values)\n",
    "X = pad_sequences(X)"
   ]
  },
  {
   "cell_type": "markdown",
   "metadata": {
    "papermill": {
     "duration": 0.035991,
     "end_time": "2020-12-23T07:47:55.621928",
     "exception": false,
     "start_time": "2020-12-23T07:47:55.585937",
     "status": "completed"
    },
    "tags": []
   },
   "source": [
    "## LSTM Model training"
   ]
  },
  {
   "cell_type": "code",
   "execution_count": 20,
   "metadata": {
    "execution": {
     "iopub.execute_input": "2020-12-23T07:47:55.696932Z",
     "iopub.status.busy": "2020-12-23T07:47:55.695826Z",
     "iopub.status.idle": "2020-12-23T07:47:56.312063Z",
     "shell.execute_reply": "2020-12-23T07:47:56.311477Z"
    },
    "papermill": {
     "duration": 0.654988,
     "end_time": "2020-12-23T07:47:56.312220",
     "exception": false,
     "start_time": "2020-12-23T07:47:55.657232",
     "status": "completed"
    },
    "tags": []
   },
   "outputs": [
    {
     "name": "stdout",
     "output_type": "stream",
     "text": [
      "Model: \"sequential\"\n",
      "_________________________________________________________________\n",
      "Layer (type)                 Output Shape              Param #   \n",
      "=================================================================\n",
      "embedding (Embedding)        (None, 18, 128)           256000    \n",
      "_________________________________________________________________\n",
      "spatial_dropout1d (SpatialDr (None, 18, 128)           0         \n",
      "_________________________________________________________________\n",
      "lstm (LSTM)                  (None, 196)               254800    \n",
      "_________________________________________________________________\n",
      "dense (Dense)                (None, 2)                 394       \n",
      "=================================================================\n",
      "Total params: 511,194\n",
      "Trainable params: 511,194\n",
      "Non-trainable params: 0\n",
      "_________________________________________________________________\n",
      "None\n"
     ]
    }
   ],
   "source": [
    "embed_dim = 128\n",
    "lstm_out = 196\n",
    "\n",
    "model = Sequential()\n",
    "model.add(Embedding(max_fatures, embed_dim,input_length = X.shape[1]))\n",
    "model.add(SpatialDropout1D(0.4))\n",
    "model.add(LSTM(lstm_out, dropout=0.2, recurrent_dropout=0.2))\n",
    "model.add(Dense(2,activation='softmax'))\n",
    "model.compile(loss = 'categorical_crossentropy', optimizer='adam',metrics = ['accuracy'])\n",
    "print(model.summary())"
   ]
  },
  {
   "cell_type": "code",
   "execution_count": 21,
   "metadata": {
    "execution": {
     "iopub.execute_input": "2020-12-23T07:47:56.394468Z",
     "iopub.status.busy": "2020-12-23T07:47:56.393304Z",
     "iopub.status.idle": "2020-12-23T07:47:56.402526Z",
     "shell.execute_reply": "2020-12-23T07:47:56.403032Z"
    },
    "papermill": {
     "duration": 0.053622,
     "end_time": "2020-12-23T07:47:56.403213",
     "exception": false,
     "start_time": "2020-12-23T07:47:56.349591",
     "status": "completed"
    },
    "tags": []
   },
   "outputs": [
    {
     "name": "stdout",
     "output_type": "stream",
     "text": [
      "(5100, 18) (5100, 2)\n",
      "(2513, 18) (2513, 2)\n"
     ]
    }
   ],
   "source": [
    "Y = pd.get_dummies(df_train_clean['target']).values\n",
    "X_train, X_test, Y_train, Y_test = train_test_split(X,Y, test_size = 0.33, random_state = 42)\n",
    "print(X_train.shape,Y_train.shape)\n",
    "print(X_test.shape,Y_test.shape)"
   ]
  },
  {
   "cell_type": "code",
   "execution_count": 22,
   "metadata": {
    "execution": {
     "iopub.execute_input": "2020-12-23T07:47:56.484555Z",
     "iopub.status.busy": "2020-12-23T07:47:56.483739Z",
     "iopub.status.idle": "2020-12-23T07:49:13.327001Z",
     "shell.execute_reply": "2020-12-23T07:49:13.328368Z"
    },
    "papermill": {
     "duration": 76.887923,
     "end_time": "2020-12-23T07:49:13.328612",
     "exception": false,
     "start_time": "2020-12-23T07:47:56.440689",
     "status": "completed"
    },
    "tags": []
   },
   "outputs": [
    {
     "name": "stdout",
     "output_type": "stream",
     "text": [
      "Epoch 1/7\n",
      "160/160 - 10s - loss: 0.5576 - accuracy: 0.7155\n",
      "Epoch 2/7\n",
      "160/160 - 11s - loss: 0.3889 - accuracy: 0.8294\n",
      "Epoch 3/7\n",
      "160/160 - 10s - loss: 0.3453 - accuracy: 0.8533\n",
      "Epoch 4/7\n",
      "160/160 - 10s - loss: 0.3052 - accuracy: 0.8694\n",
      "Epoch 5/7\n",
      "160/160 - 10s - loss: 0.2680 - accuracy: 0.8888\n",
      "Epoch 6/7\n",
      "160/160 - 10s - loss: 0.2419 - accuracy: 0.8967\n",
      "Epoch 7/7\n",
      "160/160 - 10s - loss: 0.2166 - accuracy: 0.9104\n"
     ]
    },
    {
     "data": {
      "text/plain": [
       "<tensorflow.python.keras.callbacks.History at 0x7ff0cdf9b6d0>"
      ]
     },
     "execution_count": 22,
     "metadata": {},
     "output_type": "execute_result"
    }
   ],
   "source": [
    "batch_size = 32\n",
    "model.fit(X_train, Y_train, epochs = 7, batch_size=batch_size, verbose = 2)"
   ]
  },
  {
   "cell_type": "markdown",
   "metadata": {
    "papermill": {
     "duration": 0.04691,
     "end_time": "2020-12-23T07:49:13.423364",
     "exception": false,
     "start_time": "2020-12-23T07:49:13.376454",
     "status": "completed"
    },
    "tags": []
   },
   "source": [
    "## Predictions"
   ]
  },
  {
   "cell_type": "code",
   "execution_count": 23,
   "metadata": {
    "execution": {
     "iopub.execute_input": "2020-12-23T07:49:13.523308Z",
     "iopub.status.busy": "2020-12-23T07:49:13.522311Z",
     "iopub.status.idle": "2020-12-23T07:49:13.527455Z",
     "shell.execute_reply": "2020-12-23T07:49:13.526875Z"
    },
    "papermill": {
     "duration": 0.060769,
     "end_time": "2020-12-23T07:49:13.527591",
     "exception": false,
     "start_time": "2020-12-23T07:49:13.466822",
     "status": "completed"
    },
    "tags": []
   },
   "outputs": [
    {
     "data": {
      "text/html": [
       "<div>\n",
       "<style scoped>\n",
       "    .dataframe tbody tr th:only-of-type {\n",
       "        vertical-align: middle;\n",
       "    }\n",
       "\n",
       "    .dataframe tbody tr th {\n",
       "        vertical-align: top;\n",
       "    }\n",
       "\n",
       "    .dataframe thead th {\n",
       "        text-align: right;\n",
       "    }\n",
       "</style>\n",
       "<table border=\"1\" class=\"dataframe\">\n",
       "  <thead>\n",
       "    <tr style=\"text-align: right;\">\n",
       "      <th></th>\n",
       "      <th>id</th>\n",
       "      <th>keyword</th>\n",
       "      <th>location</th>\n",
       "      <th>text</th>\n",
       "      <th>cleaned_text</th>\n",
       "    </tr>\n",
       "  </thead>\n",
       "  <tbody>\n",
       "    <tr>\n",
       "      <th>0</th>\n",
       "      <td>0</td>\n",
       "      <td>NaN</td>\n",
       "      <td>NaN</td>\n",
       "      <td>Just happened a terrible car crash</td>\n",
       "      <td>['happened', 'terrible', 'car', 'crash']</td>\n",
       "    </tr>\n",
       "    <tr>\n",
       "      <th>1</th>\n",
       "      <td>2</td>\n",
       "      <td>NaN</td>\n",
       "      <td>NaN</td>\n",
       "      <td>Heard about #earthquake is different cities, s...</td>\n",
       "      <td>['heard', 'earthquake', 'different', 'cities',...</td>\n",
       "    </tr>\n",
       "    <tr>\n",
       "      <th>2</th>\n",
       "      <td>3</td>\n",
       "      <td>NaN</td>\n",
       "      <td>NaN</td>\n",
       "      <td>there is a forest fire at spot pond, geese are...</td>\n",
       "      <td>['forest', 'fire', 'spot', 'pond', 'geese', 'f...</td>\n",
       "    </tr>\n",
       "    <tr>\n",
       "      <th>3</th>\n",
       "      <td>9</td>\n",
       "      <td>NaN</td>\n",
       "      <td>NaN</td>\n",
       "      <td>Apocalypse lighting. #Spokane #wildfires</td>\n",
       "      <td>['apocalypse', 'lighting', 'spokane', 'wildfir...</td>\n",
       "    </tr>\n",
       "    <tr>\n",
       "      <th>4</th>\n",
       "      <td>11</td>\n",
       "      <td>NaN</td>\n",
       "      <td>NaN</td>\n",
       "      <td>Typhoon Soudelor kills 28 in China and Taiwan</td>\n",
       "      <td>['typhoon', 'soudelor', 'kills', '28', 'china'...</td>\n",
       "    </tr>\n",
       "  </tbody>\n",
       "</table>\n",
       "</div>"
      ],
      "text/plain": [
       "   id keyword location                                               text  \\\n",
       "0   0     NaN      NaN                 Just happened a terrible car crash   \n",
       "1   2     NaN      NaN  Heard about #earthquake is different cities, s...   \n",
       "2   3     NaN      NaN  there is a forest fire at spot pond, geese are...   \n",
       "3   9     NaN      NaN           Apocalypse lighting. #Spokane #wildfires   \n",
       "4  11     NaN      NaN      Typhoon Soudelor kills 28 in China and Taiwan   \n",
       "\n",
       "                                        cleaned_text  \n",
       "0           ['happened', 'terrible', 'car', 'crash']  \n",
       "1  ['heard', 'earthquake', 'different', 'cities',...  \n",
       "2  ['forest', 'fire', 'spot', 'pond', 'geese', 'f...  \n",
       "3  ['apocalypse', 'lighting', 'spokane', 'wildfir...  \n",
       "4  ['typhoon', 'soudelor', 'kills', '28', 'china'...  "
      ]
     },
     "execution_count": 23,
     "metadata": {},
     "output_type": "execute_result"
    }
   ],
   "source": [
    "df_test.head()"
   ]
  },
  {
   "cell_type": "code",
   "execution_count": 24,
   "metadata": {
    "execution": {
     "iopub.execute_input": "2020-12-23T07:49:13.657685Z",
     "iopub.status.busy": "2020-12-23T07:49:13.642024Z",
     "iopub.status.idle": "2020-12-23T07:49:13.787998Z",
     "shell.execute_reply": "2020-12-23T07:49:13.786829Z"
    },
    "papermill": {
     "duration": 0.21793,
     "end_time": "2020-12-23T07:49:13.788181",
     "exception": false,
     "start_time": "2020-12-23T07:49:13.570251",
     "status": "completed"
    },
    "tags": []
   },
   "outputs": [],
   "source": [
    "max_fatures = 2000\n",
    "tokenizer = Tokenizer(num_words=max_fatures, split=' ')\n",
    "tokenizer.fit_on_texts(df_test['cleaned_text'].values)\n",
    "X = tokenizer.texts_to_sequences(df_test['cleaned_text'].values)\n",
    "X = pad_sequences(X)"
   ]
  },
  {
   "cell_type": "code",
   "execution_count": 25,
   "metadata": {
    "execution": {
     "iopub.execute_input": "2020-12-23T07:49:13.887970Z",
     "iopub.status.busy": "2020-12-23T07:49:13.885880Z",
     "iopub.status.idle": "2020-12-23T07:49:15.174774Z",
     "shell.execute_reply": "2020-12-23T07:49:15.173821Z"
    },
    "papermill": {
     "duration": 1.342786,
     "end_time": "2020-12-23T07:49:15.174911",
     "exception": false,
     "start_time": "2020-12-23T07:49:13.832125",
     "status": "completed"
    },
    "tags": []
   },
   "outputs": [],
   "source": [
    "pred=model.predict(X)"
   ]
  },
  {
   "cell_type": "code",
   "execution_count": 26,
   "metadata": {
    "execution": {
     "iopub.execute_input": "2020-12-23T07:49:15.267324Z",
     "iopub.status.busy": "2020-12-23T07:49:15.266384Z",
     "iopub.status.idle": "2020-12-23T07:49:15.270044Z",
     "shell.execute_reply": "2020-12-23T07:49:15.269425Z"
    },
    "papermill": {
     "duration": 0.051774,
     "end_time": "2020-12-23T07:49:15.270186",
     "exception": false,
     "start_time": "2020-12-23T07:49:15.218412",
     "status": "completed"
    },
    "tags": []
   },
   "outputs": [],
   "source": [
    "labels=[0,1]"
   ]
  },
  {
   "cell_type": "code",
   "execution_count": 27,
   "metadata": {
    "execution": {
     "iopub.execute_input": "2020-12-23T07:49:15.371178Z",
     "iopub.status.busy": "2020-12-23T07:49:15.370112Z",
     "iopub.status.idle": "2020-12-23T07:49:15.374131Z",
     "shell.execute_reply": "2020-12-23T07:49:15.374668Z"
    },
    "papermill": {
     "duration": 0.059147,
     "end_time": "2020-12-23T07:49:15.374807",
     "exception": false,
     "start_time": "2020-12-23T07:49:15.315660",
     "status": "completed"
    },
    "tags": []
   },
   "outputs": [
    {
     "data": {
      "text/plain": [
       "(3263, 2)"
      ]
     },
     "execution_count": 27,
     "metadata": {},
     "output_type": "execute_result"
    }
   ],
   "source": [
    "pred.shape"
   ]
  },
  {
   "cell_type": "code",
   "execution_count": 28,
   "metadata": {
    "execution": {
     "iopub.execute_input": "2020-12-23T07:49:15.466663Z",
     "iopub.status.busy": "2020-12-23T07:49:15.465602Z",
     "iopub.status.idle": "2020-12-23T07:49:15.472074Z",
     "shell.execute_reply": "2020-12-23T07:49:15.472643Z"
    },
    "papermill": {
     "duration": 0.054174,
     "end_time": "2020-12-23T07:49:15.472793",
     "exception": false,
     "start_time": "2020-12-23T07:49:15.418619",
     "status": "completed"
    },
    "tags": []
   },
   "outputs": [
    {
     "data": {
      "text/plain": [
       "array([[0.0179459 , 0.9820541 ],\n",
       "       [0.79368687, 0.20631313],\n",
       "       [0.8063105 , 0.19368953],\n",
       "       ...,\n",
       "       [0.36379153, 0.6362084 ],\n",
       "       [0.00223738, 0.99776256],\n",
       "       [0.9075838 , 0.09241628]], dtype=float32)"
      ]
     },
     "execution_count": 28,
     "metadata": {},
     "output_type": "execute_result"
    }
   ],
   "source": [
    "pred"
   ]
  },
  {
   "cell_type": "code",
   "execution_count": 29,
   "metadata": {
    "execution": {
     "iopub.execute_input": "2020-12-23T07:49:15.569701Z",
     "iopub.status.busy": "2020-12-23T07:49:15.568592Z",
     "iopub.status.idle": "2020-12-23T07:49:15.574019Z",
     "shell.execute_reply": "2020-12-23T07:49:15.574687Z"
    },
    "papermill": {
     "duration": 0.05649,
     "end_time": "2020-12-23T07:49:15.574848",
     "exception": false,
     "start_time": "2020-12-23T07:49:15.518358",
     "status": "completed"
    },
    "tags": []
   },
   "outputs": [],
   "source": [
    "df_sub=pd.DataFrame()"
   ]
  },
  {
   "cell_type": "code",
   "execution_count": 30,
   "metadata": {
    "execution": {
     "iopub.execute_input": "2020-12-23T07:49:15.670440Z",
     "iopub.status.busy": "2020-12-23T07:49:15.669406Z",
     "iopub.status.idle": "2020-12-23T07:49:15.674916Z",
     "shell.execute_reply": "2020-12-23T07:49:15.674104Z"
    },
    "papermill": {
     "duration": 0.055396,
     "end_time": "2020-12-23T07:49:15.675040",
     "exception": false,
     "start_time": "2020-12-23T07:49:15.619644",
     "status": "completed"
    },
    "tags": []
   },
   "outputs": [],
   "source": [
    "tweet_predict=[]"
   ]
  },
  {
   "cell_type": "code",
   "execution_count": 31,
   "metadata": {
    "execution": {
     "iopub.execute_input": "2020-12-23T07:49:15.778697Z",
     "iopub.status.busy": "2020-12-23T07:49:15.777743Z",
     "iopub.status.idle": "2020-12-23T07:49:15.781187Z",
     "shell.execute_reply": "2020-12-23T07:49:15.781673Z"
    },
    "papermill": {
     "duration": 0.062121,
     "end_time": "2020-12-23T07:49:15.781827",
     "exception": false,
     "start_time": "2020-12-23T07:49:15.719706",
     "status": "completed"
    },
    "tags": []
   },
   "outputs": [
    {
     "data": {
      "text/html": [
       "<div>\n",
       "<style scoped>\n",
       "    .dataframe tbody tr th:only-of-type {\n",
       "        vertical-align: middle;\n",
       "    }\n",
       "\n",
       "    .dataframe tbody tr th {\n",
       "        vertical-align: top;\n",
       "    }\n",
       "\n",
       "    .dataframe thead th {\n",
       "        text-align: right;\n",
       "    }\n",
       "</style>\n",
       "<table border=\"1\" class=\"dataframe\">\n",
       "  <thead>\n",
       "    <tr style=\"text-align: right;\">\n",
       "      <th></th>\n",
       "      <th>id</th>\n",
       "      <th>keyword</th>\n",
       "      <th>location</th>\n",
       "      <th>text</th>\n",
       "      <th>cleaned_text</th>\n",
       "    </tr>\n",
       "  </thead>\n",
       "  <tbody>\n",
       "    <tr>\n",
       "      <th>0</th>\n",
       "      <td>0</td>\n",
       "      <td>NaN</td>\n",
       "      <td>NaN</td>\n",
       "      <td>Just happened a terrible car crash</td>\n",
       "      <td>['happened', 'terrible', 'car', 'crash']</td>\n",
       "    </tr>\n",
       "    <tr>\n",
       "      <th>1</th>\n",
       "      <td>2</td>\n",
       "      <td>NaN</td>\n",
       "      <td>NaN</td>\n",
       "      <td>Heard about #earthquake is different cities, s...</td>\n",
       "      <td>['heard', 'earthquake', 'different', 'cities',...</td>\n",
       "    </tr>\n",
       "    <tr>\n",
       "      <th>2</th>\n",
       "      <td>3</td>\n",
       "      <td>NaN</td>\n",
       "      <td>NaN</td>\n",
       "      <td>there is a forest fire at spot pond, geese are...</td>\n",
       "      <td>['forest', 'fire', 'spot', 'pond', 'geese', 'f...</td>\n",
       "    </tr>\n",
       "    <tr>\n",
       "      <th>3</th>\n",
       "      <td>9</td>\n",
       "      <td>NaN</td>\n",
       "      <td>NaN</td>\n",
       "      <td>Apocalypse lighting. #Spokane #wildfires</td>\n",
       "      <td>['apocalypse', 'lighting', 'spokane', 'wildfir...</td>\n",
       "    </tr>\n",
       "    <tr>\n",
       "      <th>4</th>\n",
       "      <td>11</td>\n",
       "      <td>NaN</td>\n",
       "      <td>NaN</td>\n",
       "      <td>Typhoon Soudelor kills 28 in China and Taiwan</td>\n",
       "      <td>['typhoon', 'soudelor', 'kills', '28', 'china'...</td>\n",
       "    </tr>\n",
       "  </tbody>\n",
       "</table>\n",
       "</div>"
      ],
      "text/plain": [
       "   id keyword location                                               text  \\\n",
       "0   0     NaN      NaN                 Just happened a terrible car crash   \n",
       "1   2     NaN      NaN  Heard about #earthquake is different cities, s...   \n",
       "2   3     NaN      NaN  there is a forest fire at spot pond, geese are...   \n",
       "3   9     NaN      NaN           Apocalypse lighting. #Spokane #wildfires   \n",
       "4  11     NaN      NaN      Typhoon Soudelor kills 28 in China and Taiwan   \n",
       "\n",
       "                                        cleaned_text  \n",
       "0           ['happened', 'terrible', 'car', 'crash']  \n",
       "1  ['heard', 'earthquake', 'different', 'cities',...  \n",
       "2  ['forest', 'fire', 'spot', 'pond', 'geese', 'f...  \n",
       "3  ['apocalypse', 'lighting', 'spokane', 'wildfir...  \n",
       "4  ['typhoon', 'soudelor', 'kills', '28', 'china'...  "
      ]
     },
     "execution_count": 31,
     "metadata": {},
     "output_type": "execute_result"
    }
   ],
   "source": [
    "df_test.head()"
   ]
  },
  {
   "cell_type": "code",
   "execution_count": 32,
   "metadata": {
    "execution": {
     "iopub.execute_input": "2020-12-23T07:49:15.877535Z",
     "iopub.status.busy": "2020-12-23T07:49:15.876746Z",
     "iopub.status.idle": "2020-12-23T07:49:15.883294Z",
     "shell.execute_reply": "2020-12-23T07:49:15.882740Z"
    },
    "papermill": {
     "duration": 0.055118,
     "end_time": "2020-12-23T07:49:15.883416",
     "exception": false,
     "start_time": "2020-12-23T07:49:15.828298",
     "status": "completed"
    },
    "tags": []
   },
   "outputs": [
    {
     "data": {
      "text/plain": [
       "0"
      ]
     },
     "execution_count": 32,
     "metadata": {},
     "output_type": "execute_result"
    }
   ],
   "source": [
    "df_test['id'][0]"
   ]
  },
  {
   "cell_type": "code",
   "execution_count": 33,
   "metadata": {
    "execution": {
     "iopub.execute_input": "2020-12-23T07:49:16.022091Z",
     "iopub.status.busy": "2020-12-23T07:49:16.020774Z",
     "iopub.status.idle": "2020-12-23T07:49:16.074874Z",
     "shell.execute_reply": "2020-12-23T07:49:16.075554Z"
    },
    "papermill": {
     "duration": 0.14587,
     "end_time": "2020-12-23T07:49:16.075734",
     "exception": false,
     "start_time": "2020-12-23T07:49:15.929864",
     "status": "completed"
    },
    "tags": []
   },
   "outputs": [],
   "source": [
    "idx=0\n",
    "for p in pred:\n",
    "    predict=[]\n",
    "    t_id=df_test['id'][idx]\n",
    "    idx+=1\n",
    "    target=labels[np.argmax(p)]\n",
    "    predict.append(t_id)\n",
    "    predict.append(target)\n",
    "    tweet_predict.append(predict)\n",
    "    "
   ]
  },
  {
   "cell_type": "code",
   "execution_count": 34,
   "metadata": {
    "execution": {
     "iopub.execute_input": "2020-12-23T07:49:16.188276Z",
     "iopub.status.busy": "2020-12-23T07:49:16.187095Z",
     "iopub.status.idle": "2020-12-23T07:49:16.197652Z",
     "shell.execute_reply": "2020-12-23T07:49:16.198195Z"
    },
    "papermill": {
     "duration": 0.064308,
     "end_time": "2020-12-23T07:49:16.198373",
     "exception": false,
     "start_time": "2020-12-23T07:49:16.134065",
     "status": "completed"
    },
    "tags": []
   },
   "outputs": [],
   "source": [
    "df_sub=pd.DataFrame(tweet_predict,columns=[\"id\",\"target\"])"
   ]
  },
  {
   "cell_type": "code",
   "execution_count": 35,
   "metadata": {
    "execution": {
     "iopub.execute_input": "2020-12-23T07:49:16.298245Z",
     "iopub.status.busy": "2020-12-23T07:49:16.297508Z",
     "iopub.status.idle": "2020-12-23T07:49:16.300955Z",
     "shell.execute_reply": "2020-12-23T07:49:16.301489Z"
    },
    "papermill": {
     "duration": 0.058037,
     "end_time": "2020-12-23T07:49:16.301633",
     "exception": false,
     "start_time": "2020-12-23T07:49:16.243596",
     "status": "completed"
    },
    "tags": []
   },
   "outputs": [
    {
     "data": {
      "text/html": [
       "<div>\n",
       "<style scoped>\n",
       "    .dataframe tbody tr th:only-of-type {\n",
       "        vertical-align: middle;\n",
       "    }\n",
       "\n",
       "    .dataframe tbody tr th {\n",
       "        vertical-align: top;\n",
       "    }\n",
       "\n",
       "    .dataframe thead th {\n",
       "        text-align: right;\n",
       "    }\n",
       "</style>\n",
       "<table border=\"1\" class=\"dataframe\">\n",
       "  <thead>\n",
       "    <tr style=\"text-align: right;\">\n",
       "      <th></th>\n",
       "      <th>id</th>\n",
       "      <th>target</th>\n",
       "    </tr>\n",
       "  </thead>\n",
       "  <tbody>\n",
       "    <tr>\n",
       "      <th>0</th>\n",
       "      <td>0</td>\n",
       "      <td>1</td>\n",
       "    </tr>\n",
       "    <tr>\n",
       "      <th>1</th>\n",
       "      <td>2</td>\n",
       "      <td>0</td>\n",
       "    </tr>\n",
       "    <tr>\n",
       "      <th>2</th>\n",
       "      <td>3</td>\n",
       "      <td>0</td>\n",
       "    </tr>\n",
       "    <tr>\n",
       "      <th>3</th>\n",
       "      <td>9</td>\n",
       "      <td>0</td>\n",
       "    </tr>\n",
       "    <tr>\n",
       "      <th>4</th>\n",
       "      <td>11</td>\n",
       "      <td>0</td>\n",
       "    </tr>\n",
       "  </tbody>\n",
       "</table>\n",
       "</div>"
      ],
      "text/plain": [
       "   id  target\n",
       "0   0       1\n",
       "1   2       0\n",
       "2   3       0\n",
       "3   9       0\n",
       "4  11       0"
      ]
     },
     "execution_count": 35,
     "metadata": {},
     "output_type": "execute_result"
    }
   ],
   "source": [
    "df_sub.head()"
   ]
  },
  {
   "cell_type": "code",
   "execution_count": 36,
   "metadata": {
    "execution": {
     "iopub.execute_input": "2020-12-23T07:49:16.399815Z",
     "iopub.status.busy": "2020-12-23T07:49:16.399103Z",
     "iopub.status.idle": "2020-12-23T07:49:16.666036Z",
     "shell.execute_reply": "2020-12-23T07:49:16.665321Z"
    },
    "papermill": {
     "duration": 0.31697,
     "end_time": "2020-12-23T07:49:16.666226",
     "exception": false,
     "start_time": "2020-12-23T07:49:16.349256",
     "status": "completed"
    },
    "tags": []
   },
   "outputs": [],
   "source": [
    "df_sub.to_csv('submission.csv',index=False)"
   ]
  },
  {
   "cell_type": "code",
   "execution_count": null,
   "metadata": {
    "papermill": {
     "duration": 0.047547,
     "end_time": "2020-12-23T07:49:16.762276",
     "exception": false,
     "start_time": "2020-12-23T07:49:16.714729",
     "status": "completed"
    },
    "tags": []
   },
   "outputs": [],
   "source": []
  }
 ],
 "metadata": {
  "kernelspec": {
   "display_name": "Python 3",
   "language": "python",
   "name": "python3"
  },
  "language_info": {
   "codemirror_mode": {
    "name": "ipython",
    "version": 3
   },
   "file_extension": ".py",
   "mimetype": "text/x-python",
   "name": "python",
   "nbconvert_exporter": "python",
   "pygments_lexer": "ipython3",
   "version": "3.7.6"
  },
  "papermill": {
   "duration": 121.778214,
   "end_time": "2020-12-23T07:49:16.918960",
   "environment_variables": {},
   "exception": null,
   "input_path": "__notebook__.ipynb",
   "output_path": "__notebook__.ipynb",
   "parameters": {},
   "start_time": "2020-12-23T07:47:15.140746",
   "version": "2.1.0"
  }
 },
 "nbformat": 4,
 "nbformat_minor": 4
}
